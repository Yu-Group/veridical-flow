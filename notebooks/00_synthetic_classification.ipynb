{
 "cells": [
  {
   "cell_type": "code",
   "execution_count": 1,
   "metadata": {
    "scrolled": true
   },
   "outputs": [],
   "source": [
    "% load_ext autoreload\n",
    "% autoreload 2\n",
    "from functools import partial\n",
    "\n",
    "import matplotlib.pyplot as plt\n",
    "import numpy as np\n",
    "import pandas as pd\n",
    "import sklearn.datasets\n",
    "import sklearn.utils\n",
    "from sklearn.ensemble import RandomForestRegressor\n",
    "from sklearn.linear_model import LogisticRegression\n",
    "from sklearn.metrics import accuracy_score, balanced_accuracy_score, r2_score\n",
    "from sklearn.model_selection import train_test_split\n",
    "from sklearn.tree import DecisionTreeClassifier, DecisionTreeRegressor\n",
    "\n",
    "np.set_printoptions(threshold=5)  # to limit printing\n",
    "\n",
    "from vflow import Vset, init_args\n",
    "from vflow.pipeline import build_graph"
   ]
  },
  {
   "cell_type": "markdown",
   "metadata": {},
   "source": [
    "# basic pipeline"
   ]
  },
  {
   "cell_type": "code",
   "execution_count": 2,
   "metadata": {},
   "outputs": [
    {
     "name": "stderr",
     "output_type": "stream",
     "text": [
      "/home/james/Dropbox/repos/pcs-pipeline/vflow/pipeline.py:115: UserWarning: This figure includes Axes that are not compatible with tight_layout, so results might be incorrect.\n",
      "  plt.tight_layout()\n"
     ]
    },
    {
     "data": {
      "image/png": "[encoded data removed]",
      "text/plain": [
       "<Figure size 432x288 with 1 Axes>"
      ]
     },
     "metadata": {},
     "output_type": "display_data"
    }
   ],
   "source": [
    "# initialize data\n",
    "np.random.seed(13)\n",
    "X, y = sklearn.datasets.make_classification(n_samples=50, n_features=5)\n",
    "X_train, X_test, y_train, y_test = train_test_split(X, y, random_state=42)\n",
    "X_train, X_test, y_train, y_test = init_args(\n",
    "    (X_train, X_test, y_train, y_test),\n",
    "    names=['X_train', 'X_test', 'y_train', 'y_test']  # optionally name the args\n",
    ")\n",
    "\n",
    "# subsample data\n",
    "subsampling_funcs = [\n",
    "    partial(sklearn.utils.resample, n_samples=20, random_state=i)\n",
    "    for i in range(3)\n",
    "]\n",
    "subsampling_set = Vset(name='subsampling',\n",
    "                            modules=subsampling_funcs,\n",
    "                            output_matching=True)\n",
    "X_trains, y_trains = subsampling_set(X_train, y_train)\n",
    "\n",
    "# fit models\n",
    "models = [LogisticRegression(max_iter=1000, tol=0.1), DecisionTreeClassifier()]\n",
    "modeling_set = Vset(name='modeling',\n",
    "                         modules=models,\n",
    "                         module_keys=[\"LR\", \"DT\"])\n",
    "\n",
    "modeling_set.fit(X_trains, y_trains)\n",
    "preds_test = modeling_set.predict(X_test)\n",
    "\n",
    "# get metrics\n",
    "binary_metrics_set = Vset(name='binary_metrics',\n",
    "                               modules=[accuracy_score, balanced_accuracy_score],\n",
    "                               module_keys=[\"Acc\", \"Bal_Acc\"])\n",
    "\n",
    "binary_metrics = binary_metrics_set.evaluate(preds_test, y_test)\n",
    "\n",
    "G = build_graph(binary_metrics, draw=True)\n",
    "plt.show()\n",
    "\n",
    "#inspect the pipeline\n",
    "# for k1, v1 in hard_metrics.items():\n",
    "#     print('output', k1)"
   ]
  },
  {
   "cell_type": "code",
   "execution_count": 3,
   "metadata": {},
   "outputs": [
    {
     "data": {
      "text/plain": [
       "{('X_test',\n",
       "  'X_train',\n",
       "  'subsampling_0'-'subsampling',\n",
       "  'y_train',\n",
       "  'LR',\n",
       "  'y_test',\n",
       "  'Acc'): 0.9230769230769231,\n",
       " ('X_test',\n",
       "  'X_train',\n",
       "  'subsampling_1'-'subsampling',\n",
       "  'y_train',\n",
       "  'LR',\n",
       "  'y_test',\n",
       "  'Acc'): 0.9230769230769231,\n",
       " ('X_test',\n",
       "  'X_train',\n",
       "  'subsampling_2'-'subsampling',\n",
       "  'y_train',\n",
       "  'LR',\n",
       "  'y_test',\n",
       "  'Acc'): 0.8461538461538461,\n",
       " ('X_test',\n",
       "  'X_train',\n",
       "  'subsampling_0'-'subsampling',\n",
       "  'y_train',\n",
       "  'DT',\n",
       "  'y_test',\n",
       "  'Acc'): 0.7692307692307693,\n",
       " ('X_test',\n",
       "  'X_train',\n",
       "  'subsampling_1'-'subsampling',\n",
       "  'y_train',\n",
       "  'DT',\n",
       "  'y_test',\n",
       "  'Acc'): 0.8461538461538461,\n",
       " ('X_test',\n",
       "  'X_train',\n",
       "  'subsampling_2'-'subsampling',\n",
       "  'y_train',\n",
       "  'DT',\n",
       "  'y_test',\n",
       "  'Acc'): 0.8461538461538461,\n",
       " ('X_test',\n",
       "  'X_train',\n",
       "  'subsampling_0'-'subsampling',\n",
       "  'y_train',\n",
       "  'LR',\n",
       "  'y_test',\n",
       "  'Bal_Acc'): 0.9444444444444444,\n",
       " ('X_test',\n",
       "  'X_train',\n",
       "  'subsampling_1'-'subsampling',\n",
       "  'y_train',\n",
       "  'LR',\n",
       "  'y_test',\n",
       "  'Bal_Acc'): 0.9444444444444444,\n",
       " ('X_test',\n",
       "  'X_train',\n",
       "  'subsampling_2'-'subsampling',\n",
       "  'y_train',\n",
       "  'LR',\n",
       "  'y_test',\n",
       "  'Bal_Acc'): 0.8375,\n",
       " ('X_test',\n",
       "  'X_train',\n",
       "  'subsampling_0'-'subsampling',\n",
       "  'y_train',\n",
       "  'DT',\n",
       "  'y_test',\n",
       "  'Bal_Acc'): 0.7638888888888888,\n",
       " ('X_test',\n",
       "  'X_train',\n",
       "  'subsampling_1'-'subsampling',\n",
       "  'y_train',\n",
       "  'DT',\n",
       "  'y_test',\n",
       "  'Bal_Acc'): 0.9,\n",
       " ('X_test',\n",
       "  'X_train',\n",
       "  'subsampling_2'-'subsampling',\n",
       "  'y_train',\n",
       "  'DT',\n",
       "  'y_test',\n",
       "  'Bal_Acc'): 0.8375,\n",
       " '__prev__': (<vflow.module_set.ModuleSet at 0x7f985fe8efa0>,)}"
      ]
     },
     "execution_count": 3,
     "metadata": {},
     "output_type": "execute_result"
    }
   ],
   "source": [
    "binary_metrics"
   ]
  },
  {
   "cell_type": "markdown",
   "metadata": {},
   "source": [
    "# feature engineering pipeline\n",
    "**this data set predicts boston house-preices dataset (regression)**"
   ]
  },
  {
   "cell_type": "code",
   "execution_count": 4,
   "metadata": {},
   "outputs": [
    {
     "name": "stderr",
     "output_type": "stream",
     "text": [
      "/home/james/Dropbox/repos/pcs-pipeline/vflow/pipeline.py:115: UserWarning: This figure includes Axes that are not compatible with tight_layout, so results might be incorrect.\n",
      "  plt.tight_layout()\n"
     ]
    },
    {
     "data": {
      "image/png": "[encoded data removed]",
      "text/plain": [
       "<Figure size 432x288 with 1 Axes>"
      ]
     },
     "metadata": {},
     "output_type": "display_data"
    },
    {
     "data": {
      "text/plain": [
       "{('X_train',\n",
       "  'feat_extraction_0'-'feat_extraction',\n",
       "  'X_train',\n",
       "  'y_train',\n",
       "  'DT',\n",
       "  'y_train',\n",
       "  'r2'): 0.998077138036731,\n",
       " ('X_train',\n",
       "  'feat_extraction_1'-'feat_extraction',\n",
       "  'X_train',\n",
       "  'y_train',\n",
       "  'DT',\n",
       "  'y_train',\n",
       "  'r2'): 1.0,\n",
       " ('X_train',\n",
       "  'feat_extraction_0'-'feat_extraction',\n",
       "  'X_train',\n",
       "  'y_train',\n",
       "  'RF',\n",
       "  'y_train',\n",
       "  'r2'): 0.8531972948633552,\n",
       " ('X_train',\n",
       "  'feat_extraction_1'-'feat_extraction',\n",
       "  'X_train',\n",
       "  'y_train',\n",
       "  'RF',\n",
       "  'y_train',\n",
       "  'r2'): 0.9638279339568567,\n",
       " '__prev__': (<vflow.module_set.ModuleSet at 0x7f985f5a5130>,)}"
      ]
     },
     "execution_count": 4,
     "metadata": {},
     "output_type": "execute_result"
    }
   ],
   "source": [
    "# get data as df\n",
    "np.random.seed(13)\n",
    "data = sklearn.datasets.load_boston()\n",
    "df = pd.DataFrame.from_dict(data['data'])\n",
    "df.columns = data['feature_names']\n",
    "y = data['target']\n",
    "X_train, X_test, y_train, y_test = init_args(train_test_split(df, y, random_state=123),\n",
    "                                             names=['X_train', 'X_test', 'y_train', 'y_test'])\n",
    "\n",
    "\n",
    "# feature extraction - extracts two different sets of features from the same data\n",
    "def extract_feats(df: pd.DataFrame, feat_names=['CRIM', 'ZN', 'INDUS', 'CHAS']):\n",
    "    '''extract specific columns from dataframe\n",
    "    '''\n",
    "    return df[feat_names]\n",
    "\n",
    "\n",
    "feat_extraction_funcs = [partial(extract_feats, feat_names=['CRIM', 'ZN', 'INDUS', 'CHAS']),\n",
    "                         partial(extract_feats, feat_names=['CRIM', 'ZN', 'INDUS', 'CHAS', 'NOX', 'RM', 'AGE']),\n",
    "                         ]\n",
    "feat_extraction = Vset(name='feat_extraction', modules=feat_extraction_funcs, output_matching=True)\n",
    "\n",
    "X_feats_train = feat_extraction(X_train)\n",
    "X_feats_test = feat_extraction(X_test)\n",
    "\n",
    "modeling_set = Vset(name='modeling',\n",
    "                         modules=[DecisionTreeRegressor(), RandomForestRegressor()],\n",
    "                         module_keys=[\"DT\", \"RF\"])\n",
    "\n",
    "# how can we properly pass a y here so that it will fit properly?\n",
    "# this runs, but modeling_set.out is empty\n",
    "_ = modeling_set.fit(X_feats_train, y_train)\n",
    "\n",
    "# #get predictions\n",
    "preds_all = modeling_set.predict(X_feats_train)\n",
    "\n",
    "# y_test_dict = {('data_0', 'feat_extraction_0'): y_test['X_test'], ('data_0', 'feat_extraction_1'): y_test['X_test']}\n",
    "\n",
    "#get metrics\n",
    "hard_metrics_set = Vset(name='hard_metrics',\n",
    "                             modules=[r2_score],\n",
    "                             module_keys=[\"r2\"])\n",
    "hard_metrics = hard_metrics_set.evaluate(preds_all, y_train)\n",
    "\n",
    "# inspect the pipeline\n",
    "#for k in hard_metrics:\n",
    "#     print(k, hard_metrics[k])\n",
    "G = build_graph(hard_metrics, draw=True)\n",
    "plt.show()\n",
    "hard_metrics"
   ]
  },
  {
   "cell_type": "code",
   "execution_count": 5,
   "metadata": {},
   "outputs": [
    {
     "data": {
      "text/plain": [
       "dict_keys([('X_train', 'feat_extraction_0'-'feat_extraction'), ('X_train', 'feat_extraction_1'-'feat_extraction'), '__prev__'])"
      ]
     },
     "execution_count": 5,
     "metadata": {},
     "output_type": "execute_result"
    }
   ],
   "source": [
    "X_feats_train.keys()"
   ]
  },
  {
   "cell_type": "code",
   "execution_count": 6,
   "metadata": {},
   "outputs": [
    {
     "data": {
      "text/plain": [
       "dict_keys([('X_test', 'feat_extraction_0'-'feat_extraction'), ('X_test', 'feat_extraction_1'-'feat_extraction'), '__prev__'])"
      ]
     },
     "execution_count": 6,
     "metadata": {},
     "output_type": "execute_result"
    }
   ],
   "source": [
    "X_feats_test.keys()"
   ]
  },
  {
   "cell_type": "code",
   "execution_count": 7,
   "metadata": {},
   "outputs": [
    {
     "name": "stdout",
     "output_type": "stream",
     "text": [
      "('X_train', 'feat_extraction_0'-'feat_extraction', 'X_train', 'y_train', 'DT')\n",
      "('X_train', 'feat_extraction_1'-'feat_extraction', 'X_train', 'y_train', 'DT')\n",
      "('X_train', 'feat_extraction_0'-'feat_extraction', 'X_train', 'y_train', 'RF')\n",
      "('X_train', 'feat_extraction_1'-'feat_extraction', 'X_train', 'y_train', 'RF')\n",
      "__prev__\n"
     ]
    }
   ],
   "source": [
    "for k in preds_all.keys():\n",
    "    print(k)"
   ]
  },
  {
   "cell_type": "code",
   "execution_count": 8,
   "metadata": {
    "pycharm": {
     "name": "#%%\n"
    }
   },
   "outputs": [
    {
     "data": {
      "text/plain": [
       "5"
      ]
     },
     "execution_count": 8,
     "metadata": {},
     "output_type": "execute_result"
    }
   ],
   "source": [
    "len(hard_metrics)"
   ]
  },
  {
   "cell_type": "code",
   "execution_count": null,
   "metadata": {},
   "outputs": [],
   "source": []
  }
 ],
 "metadata": {
  "interpreter": {
   "hash": "b6ea3c5d93b89d45eb8c11b5f7d77c305a994bf9982dea27fab7e95d8eb92fda"
  },
  "kernelspec": {
   "display_name": "Python 3",
   "language": "python",
   "name": "python3"
  },
  "language_info": {
   "codemirror_mode": {
    "name": "ipython",
    "version": 3
   },
   "file_extension": ".py",
   "mimetype": "text/x-python",
   "name": "python",
   "nbconvert_exporter": "python",
   "pygments_lexer": "ipython3",
   "version": "3.8.5"
  }
 },
 "nbformat": 4,
 "nbformat_minor": 4
}
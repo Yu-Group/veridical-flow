{
 "cells": [
  {
   "cell_type": "code",
   "execution_count": 6,
   "source": [
    "% load_ext autoreload\n",
    "% autoreload 2\n",
    "from functools import partial\n",
    "\n",
    "import matplotlib.pyplot as plt\n",
    "import numpy as np\n",
    "import pandas as pd\n",
    "import sklearn.datasets\n",
    "import sklearn.utils\n",
    "from sklearn.ensemble import RandomForestRegressor\n",
    "from sklearn.linear_model import LogisticRegression\n",
    "from sklearn.metrics import accuracy_score, balanced_accuracy_score, r2_score\n",
    "from sklearn.model_selection import train_test_split\n",
    "from sklearn.tree import DecisionTreeClassifier, DecisionTreeRegressor\n",
    "\n",
    "np.set_printoptions(threshold=5)  # to limit printing\n",
    "\n",
    "from vflow import ModuleSet, init_args\n",
    "from vflow.pipeline import build_graph"
   ],
   "outputs": [
    {
     "name": "stdout",
     "output_type": "stream",
     "text": [
      "The autoreload extension is already loaded. To reload it, use:\n",
      "  %reload_ext autoreload\n"
     ]
    }
   ],
   "metadata": {
    "scrolled": true
   }
  },
  {
   "cell_type": "markdown",
   "source": [
    "# basic pipeline"
   ],
   "metadata": {}
  },
  {
   "cell_type": "code",
   "execution_count": 11,
   "source": [
    "# initialize data\n",
    "np.random.seed(13)\n",
    "X, y = sklearn.datasets.make_classification(n_samples=50, n_features=5)\n",
    "X_train, X_test, y_train, y_test = train_test_split(X, y, random_state=42)\n",
    "X_train, X_test, y_train, y_test = init_args(\n",
    "    (X_train, X_test, y_train, y_test),\n",
    "    names=['X_train', 'X_test', 'y_train', 'y_test']  # optionally name the args\n",
    ")\n",
    "\n",
    "# subsample data\n",
    "subsampling_funcs = [\n",
    "    partial(sklearn.utils.resample, n_samples=20, random_state=i)\n",
    "    for i in range(3)\n",
    "]\n",
    "subsampling_set = ModuleSet(name='subsampling',\n",
    "                            modules=subsampling_funcs)\n",
    "X_trains, y_trains = subsampling_set(X_train, y_train)\n",
    "\n",
    "# fit models\n",
    "models = [LogisticRegression(max_iter=1000, tol=0.1), DecisionTreeClassifier()]\n",
    "modeling_set = ModuleSet(name='modeling',\n",
    "                         modules=models,\n",
    "                         module_keys=[\"LR\", \"DT\"])\n",
    "\n",
    "modeling_set.fit(X_trains, y_trains)\n",
    "preds_test = modeling_set.predict(X_test)\n",
    "\n",
    "# get metrics\n",
    "binary_metrics_set = ModuleSet(name='binary_metrics',\n",
    "                               modules=[accuracy_score, balanced_accuracy_score],\n",
    "                               module_keys=[\"Acc\", \"Bal_Acc\"])\n",
    "\n",
    "binary_metrics = binary_metrics_set.evaluate(preds_test, y_test)\n",
    "\n",
    "G = build_graph(binary_metrics, draw=True)\n",
    "plt.show()\n",
    "\n",
    "#inspect the pipeline\n",
    "# for k1, v1 in hard_metrics.items():\n",
    "#     print('output', k1)"
   ],
   "outputs": [
    {
     "name": "stderr",
     "output_type": "stream",
     "text": [
      "/Users/chandan/drive/research/veridical_flow/veridical-flow/vflow/pipeline.py:120: UserWarning: This figure includes Axes that are not compatible with tight_layout, so results might be incorrect.\n",
      "  plt.tight_layout()\n"
     ]
    },
    {
     "data": {
      "text/plain": "<Figure size 432x288 with 1 Axes>",
      "image/png": "[encoded data removed]"
     },
     "metadata": {},
     "output_type": "display_data"
    }
   ],
   "metadata": {}
  },
  {
   "cell_type": "code",
   "execution_count": 12,
   "source": [
    "binary_metrics"
   ],
   "outputs": [
    {
     "data": {
      "text/plain": "{(('X_train', 'y_train', 'subsampling_0', 'LR', 'X_test'),\n  'y_test',\n  'Acc'): 0.9230769230769231,\n (('X_train', 'y_train', 'subsampling_0', 'LR', 'X_test'),\n  'y_test',\n  'Bal_Acc'): 0.9444444444444444,\n (('X_train', 'y_train', 'subsampling_0', 'DT', 'X_test'),\n  'y_test',\n  'Acc'): 0.7692307692307693,\n (('X_train', 'y_train', 'subsampling_0', 'DT', 'X_test'),\n  'y_test',\n  'Bal_Acc'): 0.7638888888888888,\n (('X_train', 'y_train', 'subsampling_1', 'LR', 'X_test'),\n  'y_test',\n  'Acc'): 0.9230769230769231,\n (('X_train', 'y_train', 'subsampling_1', 'LR', 'X_test'),\n  'y_test',\n  'Bal_Acc'): 0.9444444444444444,\n (('X_train', 'y_train', 'subsampling_1', 'DT', 'X_test'),\n  'y_test',\n  'Acc'): 0.8461538461538461,\n (('X_train', 'y_train', 'subsampling_1', 'DT', 'X_test'),\n  'y_test',\n  'Bal_Acc'): 0.9,\n (('X_train', 'y_train', 'subsampling_2', 'LR', 'X_test'),\n  'y_test',\n  'Acc'): 0.8461538461538461,\n (('X_train', 'y_train', 'subsampling_2', 'LR', 'X_test'),\n  'y_test',\n  'Bal_Acc'): 0.8375,\n (('X_train', 'y_train', 'subsampling_2', 'DT', 'X_test'),\n  'y_test',\n  'Acc'): 0.8461538461538461,\n (('X_train', 'y_train', 'subsampling_2', 'DT', 'X_test'),\n  'y_test',\n  'Bal_Acc'): 0.8375,\n '__prev__': <vflow.module_set.ModuleSet at 0x10dbd9358>}"
     },
     "execution_count": 12,
     "metadata": {},
     "output_type": "execute_result"
    }
   ],
   "metadata": {}
  },
  {
   "cell_type": "markdown",
   "source": [
    "# feature engineering pipeline\n",
    "**this data set predicts boston house-preices dataset (regression)**"
   ],
   "metadata": {}
  },
  {
   "cell_type": "code",
   "execution_count": 4,
   "source": [
    "# get data as df\n",
    "np.random.seed(13)\n",
    "data = sklearn.datasets.load_boston()\n",
    "df = pd.DataFrame.from_dict(data['data'])\n",
    "df.columns = data['feature_names']\n",
    "y = data['target']\n",
    "X_train, X_test, y_train, y_test = init_args(train_test_split(df, y, random_state=123),\n",
    "                                             names=['X_train', 'X_test', 'y_train', 'y_test'])\n",
    "\n",
    "\n",
    "# feature extraction - extracts two different sets of features from the same data\n",
    "def extract_feats(df: pd.DataFrame, feat_names=['CRIM', 'ZN', 'INDUS', 'CHAS']):\n",
    "    '''extract specific columns from dataframe\n",
    "    '''\n",
    "    return df[feat_names]\n",
    "\n",
    "\n",
    "feat_extraction_funcs = [partial(extract_feats, feat_names=['CRIM', 'ZN', 'INDUS', 'CHAS']),\n",
    "                         partial(extract_feats, feat_names=['CRIM', 'ZN', 'INDUS', 'CHAS', 'NOX', 'RM', 'AGE']),\n",
    "                         ]\n",
    "feat_extraction = ModuleSet(name='feat_extraction',\n",
    "                            modules=feat_extraction_funcs)\n",
    "\n",
    "X_feats_train = feat_extraction(X_train)\n",
    "X_feats_test = feat_extraction(X_test)\n",
    "\n",
    "modeling_set = ModuleSet(name='modeling',\n",
    "                         modules=[DecisionTreeRegressor(), RandomForestRegressor()],\n",
    "                         module_keys=[\"DT\", \"RF\"])\n",
    "\n",
    "# how can we properly pass a y here so that it will fit properly?\n",
    "# this runs, but modeling_set.out is empty\n",
    "_ = modeling_set.fit(X_feats_train, y_train)\n",
    "\n",
    "# #get predictions\n",
    "preds_all = modeling_set.predict(X_feats_train)\n",
    "\n",
    "# y_test_dict = {('data_0', 'feat_extraction_0'): y_test['X_test'], ('data_0', 'feat_extraction_1'): y_test['X_test']}\n",
    "\n",
    "#get metrics\n",
    "hard_metrics_set = ModuleSet(name='hard_metrics',\n",
    "                             modules=[r2_score],\n",
    "                             module_keys=[\"r2\"])\n",
    "hard_metrics = hard_metrics_set.evaluate(preds_all, y_train)\n",
    "\n",
    "# inspect the pipeline\n",
    "#for k in hard_metrics:\n",
    "#     print(k, hard_metrics[k])\n",
    "G = build_graph(hard_metrics, draw=True)\n",
    "plt.show()\n",
    "hard_metrics"
   ],
   "outputs": [
    {
     "output_type": "stream",
     "name": "stderr",
     "text": [
      "../pcsp/pipeline.py:117: UserWarning: This figure includes Axes that are not compatible with tight_layout, so results might be incorrect.\n",
      "  plt.tight_layout()\n"
     ]
    },
    {
     "output_type": "display_data",
     "data": {
      "text/plain": [
       "<Figure size 432x288 with 1 Axes>"
      ],
      "image/png": "[encoded data removed]"
     },
     "metadata": {}
    },
    {
     "output_type": "execute_result",
     "data": {
      "text/plain": [
       "{(((('X_train', 'feat_extraction_0'), 'y_train', 'DT'),\n",
       "   ('X_train', 'feat_extraction_0')),\n",
       "  'y_train',\n",
       "  'r2'): 0.998077138036731,\n",
       " (((('X_train', 'feat_extraction_0'), 'y_train', 'RF'),\n",
       "   ('X_train', 'feat_extraction_0')),\n",
       "  'y_train',\n",
       "  'r2'): 0.8543945462831081,\n",
       " (((('X_train', 'feat_extraction_1'), 'y_train', 'DT'),\n",
       "   ('X_train', 'feat_extraction_1')),\n",
       "  'y_train',\n",
       "  'r2'): 1.0,\n",
       " (((('X_train', 'feat_extraction_1'), 'y_train', 'RF'),\n",
       "   ('X_train', 'feat_extraction_1')),\n",
       "  'y_train',\n",
       "  'r2'): 0.9638279339568567,\n",
       " '__prev__': <pcsp.module_set.ModuleSet at 0x7fdc9df45f98>}"
      ]
     },
     "metadata": {},
     "execution_count": 4
    }
   ],
   "metadata": {}
  },
  {
   "cell_type": "code",
   "execution_count": 5,
   "source": [
    "X_feats_train.keys()"
   ],
   "outputs": [
    {
     "output_type": "execute_result",
     "data": {
      "text/plain": [
       "dict_keys([('X_train', 'feat_extraction_0'), ('X_train', 'feat_extraction_1'), '__prev__'])"
      ]
     },
     "metadata": {},
     "execution_count": 5
    }
   ],
   "metadata": {}
  },
  {
   "cell_type": "code",
   "execution_count": 6,
   "source": [
    "X_feats_test.keys()"
   ],
   "outputs": [
    {
     "output_type": "execute_result",
     "data": {
      "text/plain": [
       "dict_keys([('X_test', 'feat_extraction_0'), ('X_test', 'feat_extraction_1'), '__prev__'])"
      ]
     },
     "metadata": {},
     "execution_count": 6
    }
   ],
   "metadata": {}
  },
  {
   "cell_type": "code",
   "execution_count": 7,
   "source": [
    "for k in preds_all.keys():\n",
    "    print(k)"
   ],
   "outputs": [
    {
     "output_type": "stream",
     "name": "stdout",
     "text": [
      "((('X_train', 'feat_extraction_0'), 'y_train', 'DT'), ('X_train', 'feat_extraction_0'))\n",
      "((('X_train', 'feat_extraction_0'), 'y_train', 'RF'), ('X_train', 'feat_extraction_0'))\n",
      "((('X_train', 'feat_extraction_1'), 'y_train', 'DT'), ('X_train', 'feat_extraction_1'))\n",
      "((('X_train', 'feat_extraction_1'), 'y_train', 'RF'), ('X_train', 'feat_extraction_1'))\n",
      "__prev__\n"
     ]
    }
   ],
   "metadata": {}
  },
  {
   "cell_type": "code",
   "execution_count": 8,
   "source": [
    "len(hard_metrics)"
   ],
   "outputs": [
    {
     "output_type": "execute_result",
     "data": {
      "text/plain": [
       "5"
      ]
     },
     "metadata": {},
     "execution_count": 8
    }
   ],
   "metadata": {
    "pycharm": {
     "name": "#%%\n"
    }
   }
  }
 ],
 "metadata": {
  "kernelspec": {
   "name": "python3",
   "display_name": "Python 3.6.13 64-bit ('binyugroup': conda)"
  },
  "language_info": {
   "name": "python",
   "version": "3.6.13",
   "mimetype": "text/x-python",
   "codemirror_mode": {
    "name": "ipython",
    "version": 3
   },
   "pygments_lexer": "ipython3",
   "nbconvert_exporter": "python",
   "file_extension": ".py"
  },
  "interpreter": {
   "hash": "b6ea3c5d93b89d45eb8c11b5f7d77c305a994bf9982dea27fab7e95d8eb92fda"
  }
 },
 "nbformat": 4,
 "nbformat_minor": 4
}
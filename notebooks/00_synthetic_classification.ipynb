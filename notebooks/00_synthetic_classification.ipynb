{
 "cells": [
  {
   "cell_type": "code",
   "execution_count": 3,
   "source": [
    "%load_ext autoreload\n",
    "%autoreload 2\n",
    "from functools import partial\n",
    "\n",
    "import matplotlib.pyplot as plt\n",
    "import numpy as np\n",
    "import pandas as pd\n",
    "import sklearn.datasets\n",
    "import sklearn.utils\n",
    "from sklearn.ensemble import RandomForestRegressor\n",
    "from sklearn.linear_model import LogisticRegression\n",
    "from sklearn.metrics import accuracy_score, balanced_accuracy_score, r2_score\n",
    "from sklearn.model_selection import train_test_split\n",
    "from sklearn.tree import DecisionTreeClassifier, DecisionTreeRegressor\n",
    "\n",
    "np.set_printoptions(threshold=5)  # to limit printing\n",
    "\n",
    "from vflow import Vset, init_args, SmartSubkey, dict_to_df, compute_interval\n",
    "from vflow.pipeline import build_graph"
   ],
   "outputs": [
    {
     "output_type": "stream",
     "name": "stdout",
     "text": [
      "The autoreload extension is already loaded. To reload it, use:\n",
      "  %reload_ext autoreload\n"
     ]
    }
   ],
   "metadata": {
    "scrolled": true
   }
  },
  {
   "cell_type": "markdown",
   "source": [
    "# basic pipeline"
   ],
   "metadata": {}
  },
  {
   "cell_type": "code",
   "execution_count": null,
   "source": [
    "# initialize data\n",
    "np.random.seed(13)\n",
    "X, y = sklearn.datasets.make_classification(n_samples=50, n_features=5)\n",
    "X_train, X_test, y_train, y_test = train_test_split(X, y, random_state=42)\n",
    "X_train, X_test, y_train, y_test = init_args(\n",
    "    (X_train, X_test, y_train, y_test),\n",
    "    names=['X_train', 'X_test', 'y_train', 'y_test']  # optionally name the args\n",
    ")\n",
    "\n",
    "# subsample data\n",
    "subsampling_funcs = [\n",
    "    partial(sklearn.utils.resample, n_samples=20, random_state=i)\n",
    "    for i in range(3)\n",
    "]\n",
    "subsampling_set = Vset(name='subsampling',\n",
    "                            modules=subsampling_funcs,\n",
    "                            output_matching=True)\n",
    "X_trains, y_trains = subsampling_set(X_train, y_train)\n",
    "\n",
    "# fit models\n",
    "models = [LogisticRegression(max_iter=1000, tol=0.1), DecisionTreeClassifier()]\n",
    "modeling_set = Vset(name='modeling',\n",
    "                         modules=models,\n",
    "                         module_keys=[\"LR\", \"DT\"])\n",
    "\n",
    "modeling_set.fit(X_trains, y_trains)\n",
    "preds_test = modeling_set.predict(X_test)\n",
    "\n",
    "# get metrics\n",
    "binary_metrics_set = Vset(name='binary_metrics',\n",
    "                               modules=[accuracy_score, balanced_accuracy_score],\n",
    "                               module_keys=[\"Acc\", \"Bal_Acc\"])\n",
    "\n",
    "binary_metrics = binary_metrics_set.evaluate(preds_test, y_test)\n",
    "\n",
    "G = build_graph(binary_metrics, draw=True)\n",
    "plt.show()\n",
    "\n",
    "#inspect the pipeline\n",
    "# for k1, v1 in hard_metrics.items():\n",
    "#     print('output', k1)"
   ],
   "outputs": [],
   "metadata": {}
  },
  {
   "cell_type": "code",
   "execution_count": 39,
   "source": [
    "df = dict_to_df(binary_metrics)\n",
    "df"
   ],
   "outputs": [
    {
     "output_type": "execute_result",
     "data": {
      "text/html": [
       "<div>\n",
       "<style scoped>\n",
       "    .dataframe tbody tr th:only-of-type {\n",
       "        vertical-align: middle;\n",
       "    }\n",
       "\n",
       "    .dataframe tbody tr th {\n",
       "        vertical-align: top;\n",
       "    }\n",
       "\n",
       "    .dataframe thead th {\n",
       "        text-align: right;\n",
       "    }\n",
       "</style>\n",
       "<table border=\"1\" class=\"dataframe\">\n",
       "  <thead>\n",
       "    <tr style=\"text-align: right;\">\n",
       "      <th></th>\n",
       "      <th>init</th>\n",
       "      <th>init</th>\n",
       "      <th>subsampling</th>\n",
       "      <th>init</th>\n",
       "      <th>modeling</th>\n",
       "      <th>init</th>\n",
       "      <th>binary_metrics</th>\n",
       "      <th>out</th>\n",
       "    </tr>\n",
       "  </thead>\n",
       "  <tbody>\n",
       "    <tr>\n",
       "      <th>0</th>\n",
       "      <td>X_test</td>\n",
       "      <td>X_train</td>\n",
       "      <td>subsampling_0</td>\n",
       "      <td>y_train</td>\n",
       "      <td>LR</td>\n",
       "      <td>y_test</td>\n",
       "      <td>Acc</td>\n",
       "      <td>0.923077</td>\n",
       "    </tr>\n",
       "    <tr>\n",
       "      <th>1</th>\n",
       "      <td>X_test</td>\n",
       "      <td>X_train</td>\n",
       "      <td>subsampling_1</td>\n",
       "      <td>y_train</td>\n",
       "      <td>LR</td>\n",
       "      <td>y_test</td>\n",
       "      <td>Acc</td>\n",
       "      <td>0.923077</td>\n",
       "    </tr>\n",
       "    <tr>\n",
       "      <th>2</th>\n",
       "      <td>X_test</td>\n",
       "      <td>X_train</td>\n",
       "      <td>subsampling_2</td>\n",
       "      <td>y_train</td>\n",
       "      <td>LR</td>\n",
       "      <td>y_test</td>\n",
       "      <td>Acc</td>\n",
       "      <td>0.846154</td>\n",
       "    </tr>\n",
       "    <tr>\n",
       "      <th>3</th>\n",
       "      <td>X_test</td>\n",
       "      <td>X_train</td>\n",
       "      <td>subsampling_0</td>\n",
       "      <td>y_train</td>\n",
       "      <td>DT</td>\n",
       "      <td>y_test</td>\n",
       "      <td>Acc</td>\n",
       "      <td>0.769231</td>\n",
       "    </tr>\n",
       "    <tr>\n",
       "      <th>4</th>\n",
       "      <td>X_test</td>\n",
       "      <td>X_train</td>\n",
       "      <td>subsampling_1</td>\n",
       "      <td>y_train</td>\n",
       "      <td>DT</td>\n",
       "      <td>y_test</td>\n",
       "      <td>Acc</td>\n",
       "      <td>0.846154</td>\n",
       "    </tr>\n",
       "    <tr>\n",
       "      <th>5</th>\n",
       "      <td>X_test</td>\n",
       "      <td>X_train</td>\n",
       "      <td>subsampling_2</td>\n",
       "      <td>y_train</td>\n",
       "      <td>DT</td>\n",
       "      <td>y_test</td>\n",
       "      <td>Acc</td>\n",
       "      <td>0.846154</td>\n",
       "    </tr>\n",
       "    <tr>\n",
       "      <th>6</th>\n",
       "      <td>X_test</td>\n",
       "      <td>X_train</td>\n",
       "      <td>subsampling_0</td>\n",
       "      <td>y_train</td>\n",
       "      <td>LR</td>\n",
       "      <td>y_test</td>\n",
       "      <td>Bal_Acc</td>\n",
       "      <td>0.944444</td>\n",
       "    </tr>\n",
       "    <tr>\n",
       "      <th>7</th>\n",
       "      <td>X_test</td>\n",
       "      <td>X_train</td>\n",
       "      <td>subsampling_1</td>\n",
       "      <td>y_train</td>\n",
       "      <td>LR</td>\n",
       "      <td>y_test</td>\n",
       "      <td>Bal_Acc</td>\n",
       "      <td>0.944444</td>\n",
       "    </tr>\n",
       "    <tr>\n",
       "      <th>8</th>\n",
       "      <td>X_test</td>\n",
       "      <td>X_train</td>\n",
       "      <td>subsampling_2</td>\n",
       "      <td>y_train</td>\n",
       "      <td>LR</td>\n",
       "      <td>y_test</td>\n",
       "      <td>Bal_Acc</td>\n",
       "      <td>0.837500</td>\n",
       "    </tr>\n",
       "    <tr>\n",
       "      <th>9</th>\n",
       "      <td>X_test</td>\n",
       "      <td>X_train</td>\n",
       "      <td>subsampling_0</td>\n",
       "      <td>y_train</td>\n",
       "      <td>DT</td>\n",
       "      <td>y_test</td>\n",
       "      <td>Bal_Acc</td>\n",
       "      <td>0.763889</td>\n",
       "    </tr>\n",
       "    <tr>\n",
       "      <th>10</th>\n",
       "      <td>X_test</td>\n",
       "      <td>X_train</td>\n",
       "      <td>subsampling_1</td>\n",
       "      <td>y_train</td>\n",
       "      <td>DT</td>\n",
       "      <td>y_test</td>\n",
       "      <td>Bal_Acc</td>\n",
       "      <td>0.900000</td>\n",
       "    </tr>\n",
       "    <tr>\n",
       "      <th>11</th>\n",
       "      <td>X_test</td>\n",
       "      <td>X_train</td>\n",
       "      <td>subsampling_2</td>\n",
       "      <td>y_train</td>\n",
       "      <td>DT</td>\n",
       "      <td>y_test</td>\n",
       "      <td>Bal_Acc</td>\n",
       "      <td>0.837500</td>\n",
       "    </tr>\n",
       "  </tbody>\n",
       "</table>\n",
       "</div>"
      ],
      "text/plain": [
       "      init     init    subsampling     init modeling    init binary_metrics  \\\n",
       "0   X_test  X_train  subsampling_0  y_train       LR  y_test            Acc   \n",
       "1   X_test  X_train  subsampling_1  y_train       LR  y_test            Acc   \n",
       "2   X_test  X_train  subsampling_2  y_train       LR  y_test            Acc   \n",
       "3   X_test  X_train  subsampling_0  y_train       DT  y_test            Acc   \n",
       "4   X_test  X_train  subsampling_1  y_train       DT  y_test            Acc   \n",
       "5   X_test  X_train  subsampling_2  y_train       DT  y_test            Acc   \n",
       "6   X_test  X_train  subsampling_0  y_train       LR  y_test        Bal_Acc   \n",
       "7   X_test  X_train  subsampling_1  y_train       LR  y_test        Bal_Acc   \n",
       "8   X_test  X_train  subsampling_2  y_train       LR  y_test        Bal_Acc   \n",
       "9   X_test  X_train  subsampling_0  y_train       DT  y_test        Bal_Acc   \n",
       "10  X_test  X_train  subsampling_1  y_train       DT  y_test        Bal_Acc   \n",
       "11  X_test  X_train  subsampling_2  y_train       DT  y_test        Bal_Acc   \n",
       "\n",
       "         out  \n",
       "0   0.923077  \n",
       "1   0.923077  \n",
       "2   0.846154  \n",
       "3   0.769231  \n",
       "4   0.846154  \n",
       "5   0.846154  \n",
       "6   0.944444  \n",
       "7   0.944444  \n",
       "8   0.837500  \n",
       "9   0.763889  \n",
       "10  0.900000  \n",
       "11  0.837500  "
      ]
     },
     "metadata": {},
     "execution_count": 39
    }
   ],
   "metadata": {}
  },
  {
   "cell_type": "code",
   "execution_count": 45,
   "source": [
    "compute_interval(df, 'out', 'subsampling')"
   ],
   "outputs": [
    {
     "output_type": "execute_result",
     "data": {
      "text/html": [
       "<div>\n",
       "<style scoped>\n",
       "    .dataframe tbody tr th:only-of-type {\n",
       "        vertical-align: middle;\n",
       "    }\n",
       "\n",
       "    .dataframe tbody tr th {\n",
       "        vertical-align: top;\n",
       "    }\n",
       "\n",
       "    .dataframe thead tr th {\n",
       "        text-align: left;\n",
       "    }\n",
       "\n",
       "    .dataframe thead tr:last-of-type th {\n",
       "        text-align: right;\n",
       "    }\n",
       "</style>\n",
       "<table border=\"1\" class=\"dataframe\">\n",
       "  <thead>\n",
       "    <tr>\n",
       "      <th></th>\n",
       "      <th>out</th>\n",
       "    </tr>\n",
       "    <tr>\n",
       "      <th></th>\n",
       "      <th>std</th>\n",
       "    </tr>\n",
       "    <tr>\n",
       "      <th>subsampling</th>\n",
       "      <th></th>\n",
       "    </tr>\n",
       "  </thead>\n",
       "  <tbody>\n",
       "    <tr>\n",
       "      <th>subsampling_0</th>\n",
       "      <td>0.096951</td>\n",
       "    </tr>\n",
       "    <tr>\n",
       "      <th>subsampling_1</th>\n",
       "      <td>0.042271</td>\n",
       "    </tr>\n",
       "    <tr>\n",
       "      <th>subsampling_2</th>\n",
       "      <td>0.004996</td>\n",
       "    </tr>\n",
       "  </tbody>\n",
       "</table>\n",
       "</div>"
      ],
      "text/plain": [
       "                    out\n",
       "                    std\n",
       "subsampling            \n",
       "subsampling_0  0.096951\n",
       "subsampling_1  0.042271\n",
       "subsampling_2  0.004996"
      ]
     },
     "metadata": {},
     "execution_count": 45
    }
   ],
   "metadata": {}
  },
  {
   "cell_type": "markdown",
   "source": [
    "# feature engineering pipeline\n",
    "**this data set predicts boston house-preices dataset (regression)**"
   ],
   "metadata": {}
  },
  {
   "cell_type": "code",
   "execution_count": 4,
   "source": [
    "# get data as df\n",
    "np.random.seed(13)\n",
    "data = sklearn.datasets.load_boston()\n",
    "df = pd.DataFrame.from_dict(data['data'])\n",
    "df.columns = data['feature_names']\n",
    "y = data['target']\n",
    "X_train, X_test, y_train, y_test = init_args(train_test_split(df, y, random_state=123),\n",
    "                                             names=['X_train', 'X_test', 'y_train', 'y_test'])\n",
    "\n",
    "\n",
    "# feature extraction - extracts two different sets of features from the same data\n",
    "def extract_feats(df: pd.DataFrame, feat_names=['CRIM', 'ZN', 'INDUS', 'CHAS']):\n",
    "    '''extract specific columns from dataframe\n",
    "    '''\n",
    "    return df[feat_names]\n",
    "feat_extraction_funcs = [partial(extract_feats, feat_names=['CRIM', 'ZN', 'INDUS', 'CHAS']),\n",
    "                         partial(extract_feats, feat_names=['CRIM', 'ZN', 'INDUS', 'CHAS', 'NOX', 'RM', 'AGE']),\n",
    "                        ]\n",
    "feat_extraction = ModuleSet(name='feat_extraction', modules=feat_extraction_funcs, output_matching=True)\n",
    "\n",
    "X_feats_train = feat_extraction(X_train)\n",
    "X_feats_test = feat_extraction(X_test)\n",
    "\n",
    "modeling_set = ModuleSet(name='modeling',\n",
    "                         modules=[DecisionTreeRegressor(), RandomForestRegressor()],\n",
    "                         module_keys=[\"DT\", \"RF\"])\n",
    "\n",
    "# how can we properly pass a y here so that it will fit properly?\n",
    "# this runs, but modeling_set.out is empty\n",
    "_ = modeling_set.fit(X_feats_train, y_train)\n",
    "\n",
    "# #get predictions\n",
    "preds_all = modeling_set.predict(X_feats_train)\n",
    "\n",
    "# y_test_dict = {('data_0', 'feat_extraction_0'): y_test['X_test'], ('data_0', 'feat_extraction_1'): y_test['X_test']}\n",
    "\n",
    "#get metrics\n",
    "hard_metrics_set = ModuleSet(name='hard_metrics',\n",
    "                              modules=[r2_score],\n",
    "                             module_keys=[\"r2\"])\n",
    "hard_metrics = hard_metrics_set.evaluate(preds_all, y_train)\n",
    "\n",
    "\n",
    "\n",
    "# inspect the pipeline\n",
    "#for k in hard_metrics:\n",
    "#     print(k, hard_metrics[k])\n",
    "G = build_graph(hard_metrics, draw=True)\n",
    "plt.show()\n",
    "hard_metrics"
   ],
   "outputs": [
    {
     "output_type": "stream",
     "name": "stderr",
     "text": [
      "/home/james/Dropbox/repos/pcs-pipeline/vflow/pipeline.py:115: UserWarning: This figure includes Axes that are not compatible with tight_layout, so results might be incorrect.\n",
      "  plt.tight_layout()\n"
     ]
    },
    {
     "output_type": "display_data",
     "data": {
      "image/png": "[encoded data removed]",
      "text/plain": [
       "<Figure size 432x288 with 1 Axes>"
      ]
     },
     "metadata": {}
    },
    {
     "output_type": "execute_result",
     "data": {
      "text/plain": [
       "{('X_train',\n",
       "  'feat_extraction_0'-'feat_extraction',\n",
       "  'X_train',\n",
       "  'y_train',\n",
       "  'DT',\n",
       "  'y_train',\n",
       "  'r2'): 0.998077138036731,\n",
       " ('X_train',\n",
       "  'feat_extraction_1'-'feat_extraction',\n",
       "  'X_train',\n",
       "  'y_train',\n",
       "  'DT',\n",
       "  'y_train',\n",
       "  'r2'): 1.0,\n",
       " ('X_train',\n",
       "  'feat_extraction_0'-'feat_extraction',\n",
       "  'X_train',\n",
       "  'y_train',\n",
       "  'RF',\n",
       "  'y_train',\n",
       "  'r2'): 0.8531972948633552,\n",
       " ('X_train',\n",
       "  'feat_extraction_1'-'feat_extraction',\n",
       "  'X_train',\n",
       "  'y_train',\n",
       "  'RF',\n",
       "  'y_train',\n",
       "  'r2'): 0.9638279339568567,\n",
       " '__prev__': (<vflow.module_set.ModuleSet at 0x7f985f5a5130>,)}"
      ]
     },
     "metadata": {},
     "execution_count": 4
    }
   ],
   "metadata": {}
  },
  {
   "cell_type": "code",
   "execution_count": 5,
   "source": [
    "X_feats_train.keys()"
   ],
   "outputs": [
    {
     "output_type": "execute_result",
     "data": {
      "text/plain": [
       "dict_keys([('X_train', 'feat_extraction_0'-'feat_extraction'), ('X_train', 'feat_extraction_1'-'feat_extraction'), '__prev__'])"
      ]
     },
     "metadata": {},
     "execution_count": 5
    }
   ],
   "metadata": {}
  },
  {
   "cell_type": "code",
   "execution_count": 6,
   "source": [
    "X_feats_test.keys()"
   ],
   "outputs": [
    {
     "output_type": "execute_result",
     "data": {
      "text/plain": [
       "dict_keys([('X_test', 'feat_extraction_0'-'feat_extraction'), ('X_test', 'feat_extraction_1'-'feat_extraction'), '__prev__'])"
      ]
     },
     "metadata": {},
     "execution_count": 6
    }
   ],
   "metadata": {}
  },
  {
   "cell_type": "code",
   "execution_count": 7,
   "source": [
    "for k in preds_all.keys():\n",
    "    print(k)"
   ],
   "outputs": [
    {
     "output_type": "stream",
     "name": "stdout",
     "text": [
      "('X_train', 'feat_extraction_0'-'feat_extraction', 'X_train', 'y_train', 'DT')\n",
      "('X_train', 'feat_extraction_1'-'feat_extraction', 'X_train', 'y_train', 'DT')\n",
      "('X_train', 'feat_extraction_0'-'feat_extraction', 'X_train', 'y_train', 'RF')\n",
      "('X_train', 'feat_extraction_1'-'feat_extraction', 'X_train', 'y_train', 'RF')\n",
      "__prev__\n"
     ]
    }
   ],
   "metadata": {}
  },
  {
   "cell_type": "code",
   "execution_count": 8,
   "source": [
    "len(hard_metrics)"
   ],
   "outputs": [
    {
     "output_type": "execute_result",
     "data": {
      "text/plain": [
       "5"
      ]
     },
     "metadata": {},
     "execution_count": 8
    }
   ],
   "metadata": {
    "pycharm": {
     "name": "#%%\n"
    }
   }
  },
  {
   "cell_type": "code",
   "execution_count": null,
   "source": [],
   "outputs": [],
   "metadata": {}
  }
 ],
 "metadata": {
  "interpreter": {
   "hash": "8f8f6c8c542274e94d08ab7f527e50cdad639aaae956f0e01c3d6d70ce8cebe3"
  },
  "kernelspec": {
   "name": "python3",
   "display_name": "Python 3.6.13 64-bit ('vflow': conda)"
  },
  "language_info": {
   "codemirror_mode": {
    "name": "ipython",
    "version": 3
   },
   "file_extension": ".py",
   "mimetype": "text/x-python",
   "name": "python",
   "nbconvert_exporter": "python",
   "pygments_lexer": "ipython3",
   "version": "3.6.13"
  }
 },
 "nbformat": 4,
 "nbformat_minor": 4
}
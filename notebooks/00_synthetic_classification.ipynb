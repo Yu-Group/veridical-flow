{
 "cells": [
  {
   "cell_type": "code",
   "execution_count": 30,
   "metadata": {
    "scrolled": true
   },
   "outputs": [
    {
     "name": "stdout",
     "output_type": "stream",
     "text": [
      "The autoreload extension is already loaded. To reload it, use:\n",
      "  %reload_ext autoreload\n"
     ]
    }
   ],
   "source": [
    "%load_ext autoreload\n",
    "%autoreload 2\n",
    "from functools import partial\n",
    "\n",
    "import matplotlib.pyplot as plt\n",
    "import numpy as np\n",
    "import pandas as pd\n",
    "import sklearn.datasets\n",
    "import sklearn.utils\n",
    "from sklearn.ensemble import RandomForestRegressor\n",
    "from sklearn.linear_model import LogisticRegression\n",
    "from sklearn.metrics import accuracy_score, balanced_accuracy_score, r2_score\n",
    "from sklearn.model_selection import train_test_split\n",
    "from sklearn.tree import DecisionTreeClassifier, DecisionTreeRegressor\n",
    "\n",
    "np.set_printoptions(threshold=5)  # to limit printing\n",
    "\n",
    "from vflow import Vset, init_args, Subkey, dict_to_df, compute_interval\n",
    "from vflow.pipeline import build_graph"
   ]
  },
  {
   "cell_type": "markdown",
   "metadata": {},
   "source": [
    "# basic pipeline"
   ]
  },
  {
   "cell_type": "code",
   "execution_count": 31,
   "metadata": {},
   "outputs": [
    {
     "name": "stderr",
     "output_type": "stream",
     "text": [
      "/Users/rush/Desktop/binyugroup/veridical-flow/vflow/pipeline.py:115: UserWarning: This figure includes Axes that are not compatible with tight_layout, so results might be incorrect.\n",
      "  plt.tight_layout()\n"
     ]
    },
    {
     "data": {
      "image/png": "[encoded data removed]",
      "text/plain": [
       "<Figure size 432x288 with 1 Axes>"
      ]
     },
     "metadata": {},
     "output_type": "display_data"
    }
   ],
   "source": [
    "# initialize data\n",
    "np.random.seed(13)\n",
    "X, y = sklearn.datasets.make_classification(n_samples=50, n_features=5)\n",
    "X_train, X_test, y_train, y_test = train_test_split(X, y, random_state=42)\n",
    "X_train, X_test, y_train, y_test = init_args(\n",
    "    (X_train, X_test, y_train, y_test),\n",
    "    names=['X_train', 'X_test', 'y_train', 'y_test']  # optionally name the args\n",
    ")\n",
    "\n",
    "# subsample data\n",
    "subsampling_funcs = [\n",
    "    partial(sklearn.utils.resample, n_samples=20, random_state=i)\n",
    "    for i in range(3)\n",
    "]\n",
    "subsampling_set = Vset(name='subsampling',\n",
    "                            modules=subsampling_funcs,\n",
    "                            output_matching=True)\n",
    "X_trains, y_trains = subsampling_set(X_train, y_train)\n",
    "\n",
    "# fit models\n",
    "models = [LogisticRegression(max_iter=1000, tol=0.1), DecisionTreeClassifier()]\n",
    "modeling_set = Vset(name='modeling',\n",
    "                         modules=models,\n",
    "                         module_keys=[\"LR\", \"DT\"])\n",
    "\n",
    "modeling_set.fit(X_trains, y_trains)\n",
    "preds_test = modeling_set.predict(X_test)\n",
    "\n",
    "# get metrics\n",
    "binary_metrics_set = Vset(name='binary_metrics',\n",
    "                               modules=[accuracy_score, balanced_accuracy_score],\n",
    "                               module_keys=[\"Acc\", \"Bal_Acc\"])\n",
    "\n",
    "binary_metrics = binary_metrics_set.evaluate(preds_test, y_test)\n",
    "\n",
    "G = build_graph(binary_metrics, draw=True)\n",
    "plt.show()\n",
    "\n",
    "#inspect the pipeline\n",
    "# for k1, v1 in hard_metrics.items():\n",
    "#     print('output', k1)"
   ]
  },
  {
   "cell_type": "code",
   "execution_count": 32,
   "metadata": {},
   "outputs": [
    {
     "data": {
      "text/html": [
       "<div>\n",
       "<style scoped>\n",
       "    .dataframe tbody tr th:only-of-type {\n",
       "        vertical-align: middle;\n",
       "    }\n",
       "\n",
       "    .dataframe tbody tr th {\n",
       "        vertical-align: top;\n",
       "    }\n",
       "\n",
       "    .dataframe thead th {\n",
       "        text-align: right;\n",
       "    }\n",
       "</style>\n",
       "<table border=\"1\" class=\"dataframe\">\n",
       "  <thead>\n",
       "    <tr style=\"text-align: right;\">\n",
       "      <th></th>\n",
       "      <th>init-subsampling</th>\n",
       "      <th>init-subsampling</th>\n",
       "      <th>subsampling</th>\n",
       "      <th>init-modeling</th>\n",
       "      <th>modeling</th>\n",
       "      <th>init-binary_metrics</th>\n",
       "      <th>binary_metrics</th>\n",
       "      <th>out</th>\n",
       "    </tr>\n",
       "  </thead>\n",
       "  <tbody>\n",
       "    <tr>\n",
       "      <th>0</th>\n",
       "      <td>X_test</td>\n",
       "      <td>X_train</td>\n",
       "      <td>subsampling_0</td>\n",
       "      <td>y_train</td>\n",
       "      <td>LR</td>\n",
       "      <td>y_test</td>\n",
       "      <td>Acc</td>\n",
       "      <td>0.923077</td>\n",
       "    </tr>\n",
       "    <tr>\n",
       "      <th>1</th>\n",
       "      <td>X_test</td>\n",
       "      <td>X_train</td>\n",
       "      <td>subsampling_1</td>\n",
       "      <td>y_train</td>\n",
       "      <td>LR</td>\n",
       "      <td>y_test</td>\n",
       "      <td>Acc</td>\n",
       "      <td>0.923077</td>\n",
       "    </tr>\n",
       "    <tr>\n",
       "      <th>2</th>\n",
       "      <td>X_test</td>\n",
       "      <td>X_train</td>\n",
       "      <td>subsampling_2</td>\n",
       "      <td>y_train</td>\n",
       "      <td>LR</td>\n",
       "      <td>y_test</td>\n",
       "      <td>Acc</td>\n",
       "      <td>0.846154</td>\n",
       "    </tr>\n",
       "    <tr>\n",
       "      <th>3</th>\n",
       "      <td>X_test</td>\n",
       "      <td>X_train</td>\n",
       "      <td>subsampling_0</td>\n",
       "      <td>y_train</td>\n",
       "      <td>DT</td>\n",
       "      <td>y_test</td>\n",
       "      <td>Acc</td>\n",
       "      <td>0.769231</td>\n",
       "    </tr>\n",
       "    <tr>\n",
       "      <th>4</th>\n",
       "      <td>X_test</td>\n",
       "      <td>X_train</td>\n",
       "      <td>subsampling_1</td>\n",
       "      <td>y_train</td>\n",
       "      <td>DT</td>\n",
       "      <td>y_test</td>\n",
       "      <td>Acc</td>\n",
       "      <td>0.846154</td>\n",
       "    </tr>\n",
       "    <tr>\n",
       "      <th>5</th>\n",
       "      <td>X_test</td>\n",
       "      <td>X_train</td>\n",
       "      <td>subsampling_2</td>\n",
       "      <td>y_train</td>\n",
       "      <td>DT</td>\n",
       "      <td>y_test</td>\n",
       "      <td>Acc</td>\n",
       "      <td>0.846154</td>\n",
       "    </tr>\n",
       "    <tr>\n",
       "      <th>6</th>\n",
       "      <td>X_test</td>\n",
       "      <td>X_train</td>\n",
       "      <td>subsampling_0</td>\n",
       "      <td>y_train</td>\n",
       "      <td>LR</td>\n",
       "      <td>y_test</td>\n",
       "      <td>Bal_Acc</td>\n",
       "      <td>0.944444</td>\n",
       "    </tr>\n",
       "    <tr>\n",
       "      <th>7</th>\n",
       "      <td>X_test</td>\n",
       "      <td>X_train</td>\n",
       "      <td>subsampling_1</td>\n",
       "      <td>y_train</td>\n",
       "      <td>LR</td>\n",
       "      <td>y_test</td>\n",
       "      <td>Bal_Acc</td>\n",
       "      <td>0.944444</td>\n",
       "    </tr>\n",
       "    <tr>\n",
       "      <th>8</th>\n",
       "      <td>X_test</td>\n",
       "      <td>X_train</td>\n",
       "      <td>subsampling_2</td>\n",
       "      <td>y_train</td>\n",
       "      <td>LR</td>\n",
       "      <td>y_test</td>\n",
       "      <td>Bal_Acc</td>\n",
       "      <td>0.837500</td>\n",
       "    </tr>\n",
       "    <tr>\n",
       "      <th>9</th>\n",
       "      <td>X_test</td>\n",
       "      <td>X_train</td>\n",
       "      <td>subsampling_0</td>\n",
       "      <td>y_train</td>\n",
       "      <td>DT</td>\n",
       "      <td>y_test</td>\n",
       "      <td>Bal_Acc</td>\n",
       "      <td>0.763889</td>\n",
       "    </tr>\n",
       "    <tr>\n",
       "      <th>10</th>\n",
       "      <td>X_test</td>\n",
       "      <td>X_train</td>\n",
       "      <td>subsampling_1</td>\n",
       "      <td>y_train</td>\n",
       "      <td>DT</td>\n",
       "      <td>y_test</td>\n",
       "      <td>Bal_Acc</td>\n",
       "      <td>0.900000</td>\n",
       "    </tr>\n",
       "    <tr>\n",
       "      <th>11</th>\n",
       "      <td>X_test</td>\n",
       "      <td>X_train</td>\n",
       "      <td>subsampling_2</td>\n",
       "      <td>y_train</td>\n",
       "      <td>DT</td>\n",
       "      <td>y_test</td>\n",
       "      <td>Bal_Acc</td>\n",
       "      <td>0.837500</td>\n",
       "    </tr>\n",
       "  </tbody>\n",
       "</table>\n",
       "</div>"
      ],
      "text/plain": [
       "   init-subsampling init-subsampling    subsampling init-modeling modeling  \\\n",
       "0            X_test          X_train  subsampling_0       y_train       LR   \n",
       "1            X_test          X_train  subsampling_1       y_train       LR   \n",
       "2            X_test          X_train  subsampling_2       y_train       LR   \n",
       "3            X_test          X_train  subsampling_0       y_train       DT   \n",
       "4            X_test          X_train  subsampling_1       y_train       DT   \n",
       "5            X_test          X_train  subsampling_2       y_train       DT   \n",
       "6            X_test          X_train  subsampling_0       y_train       LR   \n",
       "7            X_test          X_train  subsampling_1       y_train       LR   \n",
       "8            X_test          X_train  subsampling_2       y_train       LR   \n",
       "9            X_test          X_train  subsampling_0       y_train       DT   \n",
       "10           X_test          X_train  subsampling_1       y_train       DT   \n",
       "11           X_test          X_train  subsampling_2       y_train       DT   \n",
       "\n",
       "   init-binary_metrics binary_metrics       out  \n",
       "0               y_test            Acc  0.923077  \n",
       "1               y_test            Acc  0.923077  \n",
       "2               y_test            Acc  0.846154  \n",
       "3               y_test            Acc  0.769231  \n",
       "4               y_test            Acc  0.846154  \n",
       "5               y_test            Acc  0.846154  \n",
       "6               y_test        Bal_Acc  0.944444  \n",
       "7               y_test        Bal_Acc  0.944444  \n",
       "8               y_test        Bal_Acc  0.837500  \n",
       "9               y_test        Bal_Acc  0.763889  \n",
       "10              y_test        Bal_Acc  0.900000  \n",
       "11              y_test        Bal_Acc  0.837500  "
      ]
     },
     "execution_count": 32,
     "metadata": {},
     "output_type": "execute_result"
    }
   ],
   "source": [
    "df = dict_to_df(binary_metrics)\n",
    "df"
   ]
  },
  {
   "cell_type": "code",
   "execution_count": 29,
   "metadata": {},
   "outputs": [
    {
     "data": {
      "text/html": [
       "<div>\n",
       "<style scoped>\n",
       "    .dataframe tbody tr th:only-of-type {\n",
       "        vertical-align: middle;\n",
       "    }\n",
       "\n",
       "    .dataframe tbody tr th {\n",
       "        vertical-align: top;\n",
       "    }\n",
       "\n",
       "    .dataframe thead tr th {\n",
       "        text-align: left;\n",
       "    }\n",
       "\n",
       "    .dataframe thead tr:last-of-type th {\n",
       "        text-align: right;\n",
       "    }\n",
       "</style>\n",
       "<table border=\"1\" class=\"dataframe\">\n",
       "  <thead>\n",
       "    <tr>\n",
       "      <th></th>\n",
       "      <th>out</th>\n",
       "    </tr>\n",
       "    <tr>\n",
       "      <th></th>\n",
       "      <th>std</th>\n",
       "    </tr>\n",
       "    <tr>\n",
       "      <th>subsampling</th>\n",
       "      <th></th>\n",
       "    </tr>\n",
       "  </thead>\n",
       "  <tbody>\n",
       "    <tr>\n",
       "      <th>subsampling_0</th>\n",
       "      <td>0.096951</td>\n",
       "    </tr>\n",
       "    <tr>\n",
       "      <th>subsampling_1</th>\n",
       "      <td>0.042271</td>\n",
       "    </tr>\n",
       "    <tr>\n",
       "      <th>subsampling_2</th>\n",
       "      <td>0.004996</td>\n",
       "    </tr>\n",
       "  </tbody>\n",
       "</table>\n",
       "</div>"
      ],
      "text/plain": [
       "                    out\n",
       "                    std\n",
       "subsampling            \n",
       "subsampling_0  0.096951\n",
       "subsampling_1  0.042271\n",
       "subsampling_2  0.004996"
      ]
     },
     "execution_count": 29,
     "metadata": {},
     "output_type": "execute_result"
    }
   ],
   "source": [
    "compute_interval(df, 'out', 'subsampling')"
   ]
  },
  {
   "cell_type": "markdown",
   "metadata": {},
   "source": [
    "# feature engineering pipeline\n",
    "**this data set predicts boston house-preices dataset (regression)**"
   ]
  },
  {
   "cell_type": "code",
   "execution_count": 44,
   "metadata": {},
   "outputs": [
    {
     "name": "stdout",
     "output_type": "stream",
     "text": [
      "{(X_train, feat_extraction_0, y_train, DT): DecisionTreeRegressor(), (X_train, feat_extraction_1, y_train, DT): DecisionTreeRegressor(), (X_train, feat_extraction_0, y_train, RF): RandomForestRegressor(), (X_train, feat_extraction_1, y_train, RF): RandomForestRegressor(), '__prev__': (<vflow.vset.Vset object at 0x7fd1fc14bc18>,)}\n",
      "dict_keys([(X_train, feat_extraction_0), (X_train, feat_extraction_1), '__prev__'])\n",
      "dict_keys([(X_train, feat_extraction_0, X_train, y_train, DT), (X_train, feat_extraction_1, X_train, y_train, DT), (X_train, feat_extraction_0, X_train, y_train, RF), (X_train, feat_extraction_1, X_train, y_train, RF), '__prev__'])\n"
     ]
    },
    {
     "name": "stderr",
     "output_type": "stream",
     "text": [
      "/Users/rush/Desktop/binyugroup/veridical-flow/vflow/pipeline.py:115: UserWarning: This figure includes Axes that are not compatible with tight_layout, so results might be incorrect.\n",
      "  plt.tight_layout()\n"
     ]
    },
    {
     "data": {
      "image/png": "[encoded data removed]",
      "text/plain": [
       "<Figure size 432x288 with 1 Axes>"
      ]
     },
     "metadata": {},
     "output_type": "display_data"
    }
   ],
   "source": [
    "# get data as df\n",
    "np.random.seed(13)\n",
    "data = sklearn.datasets.load_boston()\n",
    "df = pd.DataFrame.from_dict(data['data'])\n",
    "df.columns = data['feature_names']\n",
    "y = data['target']\n",
    "X_train, X_test, y_train, y_test = init_args(train_test_split(df, y, random_state=123),\n",
    "                                             names=['X_train', 'X_test', 'y_train', 'y_test'])\n",
    "\n",
    "\n",
    "# feature extraction - extracts two different sets of features from the same data\n",
    "def extract_feats(df: pd.DataFrame, feat_names=['CRIM', 'ZN', 'INDUS', 'CHAS']):\n",
    "    '''extract specific columns from dataframe\n",
    "    '''\n",
    "    return df[feat_names]\n",
    "feat_extraction_funcs = [partial(extract_feats, feat_names=['CRIM', 'ZN', 'INDUS', 'CHAS']),\n",
    "                         partial(extract_feats, feat_names=['CRIM', 'ZN', 'INDUS', 'CHAS', 'NOX', 'RM', 'AGE']),\n",
    "                        ]\n",
    "feat_extraction = Vset(name='feat_extraction', modules=feat_extraction_funcs, output_matching=True)\n",
    "\n",
    "X_feats_train = feat_extraction(X_train)\n",
    "X_feats_test = feat_extraction(X_test)\n",
    "\n",
    "modeling_set = Vset(name='modeling',\n",
    "                         modules=[DecisionTreeRegressor(), RandomForestRegressor()],\n",
    "                         module_keys=[\"DT\", \"RF\"])\n",
    "\n",
    "# how can we properly pass a y here so that it will fit properly?\n",
    "# this runs, but modeling_set.out is empty\n",
    "_ = modeling_set.fit(X_feats_train, y_train)\n",
    "\n",
    "print(modeling_set.out)\n",
    "# #get predictions\n",
    "preds_all = modeling_set.predict(X_feats_train)\n",
    "print(X_feats_train.keys())\n",
    "print(preds_all.keys())\n",
    "\n",
    "# y_test_dict = {('data_0', 'feat_extraction_0'): y_test['X_test'], ('data_0', 'feat_extraction_1'): y_test['X_test']}\n",
    "\n",
    "#get metrics\n",
    "hard_metrics_set = Vset(name='hard_metrics',\n",
    "                              modules=[r2_score],\n",
    "                             module_keys=[\"r2\"])\n",
    "hard_metrics = hard_metrics_set.evaluate(preds_all, y_train)\n",
    "\n",
    "\n",
    "\n",
    "# inspect the pipeline\n",
    "#for k in hard_metrics:\n",
    "#     print(k, hard_metrics[k])\n",
    "G = build_graph(hard_metrics, draw=True)\n",
    "plt.show()"
   ]
  },
  {
   "cell_type": "code",
   "execution_count": 45,
   "metadata": {},
   "outputs": [
    {
     "data": {
      "text/html": [
       "<div>\n",
       "<style scoped>\n",
       "    .dataframe tbody tr th:only-of-type {\n",
       "        vertical-align: middle;\n",
       "    }\n",
       "\n",
       "    .dataframe tbody tr th {\n",
       "        vertical-align: top;\n",
       "    }\n",
       "\n",
       "    .dataframe thead th {\n",
       "        text-align: right;\n",
       "    }\n",
       "</style>\n",
       "<table border=\"1\" class=\"dataframe\">\n",
       "  <thead>\n",
       "    <tr style=\"text-align: right;\">\n",
       "      <th></th>\n",
       "      <th>init-feat_extraction</th>\n",
       "      <th>feat_extraction</th>\n",
       "      <th>init-modeling</th>\n",
       "      <th>init-modeling</th>\n",
       "      <th>modeling</th>\n",
       "      <th>init-hard_metrics</th>\n",
       "      <th>hard_metrics</th>\n",
       "      <th>out</th>\n",
       "    </tr>\n",
       "  </thead>\n",
       "  <tbody>\n",
       "    <tr>\n",
       "      <th>0</th>\n",
       "      <td>X_train</td>\n",
       "      <td>feat_extraction_0</td>\n",
       "      <td>X_train</td>\n",
       "      <td>y_train</td>\n",
       "      <td>DT</td>\n",
       "      <td>y_train</td>\n",
       "      <td>r2</td>\n",
       "      <td>0.998077</td>\n",
       "    </tr>\n",
       "    <tr>\n",
       "      <th>1</th>\n",
       "      <td>X_train</td>\n",
       "      <td>feat_extraction_1</td>\n",
       "      <td>X_train</td>\n",
       "      <td>y_train</td>\n",
       "      <td>DT</td>\n",
       "      <td>y_train</td>\n",
       "      <td>r2</td>\n",
       "      <td>1.000000</td>\n",
       "    </tr>\n",
       "    <tr>\n",
       "      <th>2</th>\n",
       "      <td>X_train</td>\n",
       "      <td>feat_extraction_0</td>\n",
       "      <td>X_train</td>\n",
       "      <td>y_train</td>\n",
       "      <td>RF</td>\n",
       "      <td>y_train</td>\n",
       "      <td>r2</td>\n",
       "      <td>0.853197</td>\n",
       "    </tr>\n",
       "    <tr>\n",
       "      <th>3</th>\n",
       "      <td>X_train</td>\n",
       "      <td>feat_extraction_1</td>\n",
       "      <td>X_train</td>\n",
       "      <td>y_train</td>\n",
       "      <td>RF</td>\n",
       "      <td>y_train</td>\n",
       "      <td>r2</td>\n",
       "      <td>0.963828</td>\n",
       "    </tr>\n",
       "  </tbody>\n",
       "</table>\n",
       "</div>"
      ],
      "text/plain": [
       "  init-feat_extraction    feat_extraction init-modeling init-modeling  \\\n",
       "0              X_train  feat_extraction_0       X_train       y_train   \n",
       "1              X_train  feat_extraction_1       X_train       y_train   \n",
       "2              X_train  feat_extraction_0       X_train       y_train   \n",
       "3              X_train  feat_extraction_1       X_train       y_train   \n",
       "\n",
       "  modeling init-hard_metrics hard_metrics       out  \n",
       "0       DT           y_train           r2  0.998077  \n",
       "1       DT           y_train           r2  1.000000  \n",
       "2       RF           y_train           r2  0.853197  \n",
       "3       RF           y_train           r2  0.963828  "
      ]
     },
     "execution_count": 45,
     "metadata": {},
     "output_type": "execute_result"
    }
   ],
   "source": [
    "df = dict_to_df(hard_metrics)\n",
    "df"
   ]
  },
  {
   "cell_type": "code",
   "execution_count": 37,
   "metadata": {},
   "outputs": [
    {
     "data": {
      "text/plain": [
       "dict_keys([(X_test, feat_extraction_0), (X_test, feat_extraction_1), '__prev__'])"
      ]
     },
     "execution_count": 37,
     "metadata": {},
     "output_type": "execute_result"
    }
   ],
   "source": [
    "X_feats_test.keys()"
   ]
  },
  {
   "cell_type": "code",
   "execution_count": 43,
   "metadata": {},
   "outputs": [
    {
     "name": "stdout",
     "output_type": "stream",
     "text": [
      "(X_train, feat_extraction_0, X_train, y_train, DT)\n",
      "(X_train, feat_extraction_1, X_train, y_train, DT)\n",
      "(X_train, feat_extraction_0, X_train, y_train, RF)\n",
      "(X_train, feat_extraction_1, X_train, y_train, RF)\n",
      "__prev__\n"
     ]
    }
   ],
   "source": [
    "for k in preds_all.keys():\n",
    "    print(k)"
   ]
  },
  {
   "cell_type": "code",
   "execution_count": 42,
   "metadata": {
    "pycharm": {
     "name": "#%%\n"
    }
   },
   "outputs": [
    {
     "data": {
      "text/plain": [
       "5"
      ]
     },
     "execution_count": 42,
     "metadata": {},
     "output_type": "execute_result"
    }
   ],
   "source": [
    "len(hard_metrics)"
   ]
  },
  {
   "cell_type": "code",
   "execution_count": null,
   "metadata": {},
   "outputs": [],
   "source": []
  }
 ],
 "metadata": {
  "interpreter": {
   "hash": "6400b1c82fbb52de267c3764ddd90bc277513f98347ac8a854392edafe83d4db"
  },
  "kernelspec": {
   "display_name": "Python 3.6.13 64-bit ('vflow': conda)",
   "name": "python3"
  },
  "language_info": {
   "codemirror_mode": {
    "name": "ipython",
    "version": 3
   },
   "file_extension": ".py",
   "mimetype": "text/x-python",
   "name": "python",
   "nbconvert_exporter": "python",
   "pygments_lexer": "ipython3",
   "version": "3.6.13"
  }
 },
 "nbformat": 4,
 "nbformat_minor": 4
}

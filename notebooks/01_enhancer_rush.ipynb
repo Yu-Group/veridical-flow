{
 "cells": [
  {
   "cell_type": "code",
   "execution_count": 1,
   "source": [
    "# prepend parent dir to import from local pcsp\n",
    "import sys\n",
    "\n",
    "sys.path.insert(0, '../')"
   ],
   "outputs": [],
   "metadata": {}
  },
  {
   "cell_type": "code",
   "execution_count": 2,
   "source": [
    "% load_ext autoreload\n",
    "% autoreload 2\n",
    "import numpy as np\n",
    "import pandas as pd\n",
    "import matplotlib.pyplot as plt\n",
    "import vflow\n",
    "from vflow import ModuleSet, init_args\n",
    "from vflow.pipeline import build_graph\n",
    "from functools import partial\n",
    "from sklearn.neural_network import MLPClassifier\n",
    "from sklearn.ensemble import RandomForestClassifier\n",
    "import sklearn.utils\n",
    "from sklearn.metrics import accuracy_score, balanced_accuracy_score\n",
    "from sklearn.inspection import permutation_importance"
   ],
   "outputs": [
    {
     "output_type": "stream",
     "name": "stderr",
     "text": [
      "/Users/rush/anaconda3/envs/binyugroup/lib/python3.6/importlib/_bootstrap.py:219: RuntimeWarning: numpy.ufunc size changed, may indicate binary incompatibility. Expected 192 from C header, got 216 from PyObject\n",
      "  return f(*args, **kwds)\n",
      "/Users/rush/anaconda3/envs/binyugroup/lib/python3.6/importlib/_bootstrap.py:219: RuntimeWarning: numpy.ufunc size changed, may indicate binary incompatibility. Expected 192 from C header, got 216 from PyObject\n",
      "  return f(*args, **kwds)\n"
     ]
    }
   ],
   "metadata": {}
  },
  {
   "cell_type": "code",
   "execution_count": null,
   "source": [
    "# load data\n",
    "X_train = np.asarray(pd.read_csv(\"../data/enhancer/01_X_train.csv\", error_bad_lines=False).iloc[:, 1:])\n",
    "X_test = np.asarray(pd.read_csv(\"../data/enhancer/02_X_test.csv\", error_bad_lines=False).iloc[:, 1:])\n",
    "y_train = np.asarray(pd.read_csv(\"../data/enhancer/03_y_train.csv\", error_bad_lines=False).iloc[:, 1])\n",
    "y_test = np.asarray(pd.read_csv(\"../data/enhancer/04_y_test.csv\", error_bad_lines=False).iloc[:, 1])\n",
    "\n",
    "# initialize data\n",
    "np.random.seed(14)\n",
    "X_train, X_test, y_train, y_test = init_args((X_train, X_test, y_train, y_test),\n",
    "                                             names=['X_train', 'X_test', 'y_train', 'y_test'])\n",
    "\n",
    "# subsample\n",
    "subsampling_fns = [partial(sklearn.utils.resample, n_samples=1000, random_state=i) for i in range(3)]\n",
    "\n",
    "subsampling_set = ModuleSet(name='subsampling', modules=subsampling_fns)\n",
    "X_trains, y_trains = subsampling_set(X_train, y_train)\n",
    "\n",
    "modeling_set = ModuleSet(name='modeling',\n",
    "                         modules=[RandomForestClassifier(n_estimators=50, max_depth=5), MLPClassifier()],\n",
    "                         module_keys=[\"RF\", \"MLP\"])\n",
    "\n",
    "# model\n",
    "modeling_set.fit(X_trains, y_trains)\n",
    "preds = modeling_set.predict(X_test)\n",
    "\n",
    "# hard metrics\n",
    "hard_metrics_set = ModuleSet(name='hard_metrics', modules=[accuracy_score, balanced_accuracy_score],\n",
    "                             module_keys=[\"Acc\", \"Bal_Acc\"])\n",
    "hard_metrics = hard_metrics_set.evaluate(preds, y_test)\n",
    "\n",
    "# permutation importance\n",
    "feature_importance_set = ModuleSet(name='feature_importance', modules=[permutation_importance])\n",
    "importances = feature_importance_set.evaluate(modeling_set.out, X_test, y_test)\n",
    "\n",
    "G = build_graph(importances, draw=True)\n",
    "plt.show()"
   ],
   "outputs": [],
   "metadata": {}
  },
  {
   "cell_type": "code",
   "execution_count": null,
   "source": [
    "print(hard_metrics)"
   ],
   "outputs": [],
   "metadata": {
    "tags": []
   }
  },
  {
   "cell_type": "code",
   "execution_count": null,
   "source": [
    "print({k: np.argsort(v.importances_mean)[-5:][::-1] for (k, v) in importances.items() if\n",
    "       type(v) != vflow.module_set.ModuleSet})"
   ],
   "outputs": [],
   "metadata": {
    "tags": []
   }
  }
 ],
 "metadata": {
  "kernelspec": {
   "name": "python3",
   "display_name": "Python 3.6.13 64-bit ('binyugroup': conda)"
  },
  "language_info": {
   "codemirror_mode": {
    "name": "ipython",
    "version": 3
   },
   "file_extension": ".py",
   "mimetype": "text/x-python",
   "name": "python",
   "nbconvert_exporter": "python",
   "pygments_lexer": "ipython3",
   "version": "3.6.13"
  },
  "interpreter": {
   "hash": "b6ea3c5d93b89d45eb8c11b5f7d77c305a994bf9982dea27fab7e95d8eb92fda"
  }
 },
 "nbformat": 4,
 "nbformat_minor": 5
}
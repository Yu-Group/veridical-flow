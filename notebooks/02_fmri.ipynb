{
 "cells": [
  {
   "cell_type": "code",
   "execution_count": 1,
   "id": "dated-action",
   "metadata": {},
   "outputs": [],
   "source": [
    "# prepend parent dir to import from local pcsp\n",
    "import sys\n",
    "\n",
    "sys.path.insert(0, '../')"
   ]
  },
  {
   "cell_type": "code",
   "execution_count": 3,
   "id": "incorporated-initial",
   "metadata": {},
   "outputs": [],
   "source": [
    "# % load_ext autoreload\n",
    "# % autoreload 2\n",
    "import numpy as np\n",
    "import pandas as pd\n",
    "from vflow import Vset, init_args\n",
    "from vflow.vset import PREV_KEY\n",
    "from functools import partial\n",
    "from sklearn.linear_model import LassoCV\n",
    "from sklearn.metrics import r2_score, explained_variance_score\n",
    "from sklearn.model_selection import train_test_split\n",
    "from sklearn.decomposition import PCA"
   ]
  },
  {
   "cell_type": "code",
   "execution_count": 4,
   "id": "engaged-seventh",
   "metadata": {},
   "outputs": [],
   "source": [
    "ind = {}\n",
    "\n",
    "\n",
    "def top_n_features(X, Y, n, i):\n",
    "    if i not in ind:\n",
    "        corr = np.abs(np.apply_along_axis(lambda x: np.corrcoef(x, Y[:, i])[0, 1], 0, X))\n",
    "        ind[i] = np.argsort(corr[~np.isnan(corr)])[::-1][:n]\n",
    "    return X[:, ind[i]]\n",
    "\n",
    "\n",
    "def pca(X, n):\n",
    "    return PCA(n_components=n, copy=True).fit(X).transform(X)\n"
   ]
  },
  {
   "cell_type": "code",
   "execution_count": 5,
   "id": "white-teach",
   "metadata": {},
   "outputs": [
    {
     "ename": "FileNotFoundError",
     "evalue": "[Errno 2] No such file or directory: '../data/fmri/fit_feat.txt'",
     "output_type": "error",
     "traceback": [
      "\u001b[0;31m---------------------------------------------------------------------------\u001b[0m",
      "\u001b[0;31mFileNotFoundError\u001b[0m                         Traceback (most recent call last)",
      "\u001b[0;32m<ipython-input-5-18ec7f438f39>\u001b[0m in \u001b[0;36m<module>\u001b[0;34m\u001b[0m\n\u001b[1;32m      1\u001b[0m \u001b[0;31m# load data\u001b[0m\u001b[0;34m\u001b[0m\u001b[0;34m\u001b[0m\u001b[0;34m\u001b[0m\u001b[0m\n\u001b[0;32m----> 2\u001b[0;31m \u001b[0mX\u001b[0m \u001b[0;34m=\u001b[0m \u001b[0mnp\u001b[0m\u001b[0;34m.\u001b[0m\u001b[0masarray\u001b[0m\u001b[0;34m(\u001b[0m\u001b[0mpd\u001b[0m\u001b[0;34m.\u001b[0m\u001b[0mread_csv\u001b[0m\u001b[0;34m(\u001b[0m\u001b[0;34m\"../data/fmri/fit_feat.txt\"\u001b[0m\u001b[0;34m,\u001b[0m \u001b[0msep\u001b[0m\u001b[0;34m=\u001b[0m\u001b[0;34m\" \"\u001b[0m\u001b[0;34m,\u001b[0m \u001b[0merror_bad_lines\u001b[0m\u001b[0;34m=\u001b[0m\u001b[0;32mFalse\u001b[0m\u001b[0;34m)\u001b[0m\u001b[0;34m)\u001b[0m\u001b[0;34m\u001b[0m\u001b[0;34m\u001b[0m\u001b[0m\n\u001b[0m\u001b[1;32m      3\u001b[0m \u001b[0mY\u001b[0m \u001b[0;34m=\u001b[0m \u001b[0mnp\u001b[0m\u001b[0;34m.\u001b[0m\u001b[0masarray\u001b[0m\u001b[0;34m(\u001b[0m\u001b[0mpd\u001b[0m\u001b[0;34m.\u001b[0m\u001b[0mread_csv\u001b[0m\u001b[0;34m(\u001b[0m\u001b[0;34m\"../data/fmri/resp_dat.txt\"\u001b[0m\u001b[0;34m,\u001b[0m \u001b[0msep\u001b[0m\u001b[0;34m=\u001b[0m\u001b[0;34m\" \"\u001b[0m\u001b[0;34m,\u001b[0m \u001b[0merror_bad_lines\u001b[0m\u001b[0;34m=\u001b[0m\u001b[0;32mFalse\u001b[0m\u001b[0;34m)\u001b[0m\u001b[0;34m)\u001b[0m\u001b[0;34m\u001b[0m\u001b[0;34m\u001b[0m\u001b[0m\n",
      "\u001b[0;32m~/anaconda3/envs/vflow/lib/python3.6/site-packages/pandas/io/parsers.py\u001b[0m in \u001b[0;36mread_csv\u001b[0;34m(filepath_or_buffer, sep, delimiter, header, names, index_col, usecols, squeeze, prefix, mangle_dupe_cols, dtype, engine, converters, true_values, false_values, skipinitialspace, skiprows, skipfooter, nrows, na_values, keep_default_na, na_filter, verbose, skip_blank_lines, parse_dates, infer_datetime_format, keep_date_col, date_parser, dayfirst, cache_dates, iterator, chunksize, compression, thousands, decimal, lineterminator, quotechar, quoting, doublequote, escapechar, comment, encoding, dialect, error_bad_lines, warn_bad_lines, delim_whitespace, low_memory, memory_map, float_precision)\u001b[0m\n\u001b[1;32m    686\u001b[0m     )\n\u001b[1;32m    687\u001b[0m \u001b[0;34m\u001b[0m\u001b[0m\n\u001b[0;32m--> 688\u001b[0;31m     \u001b[0;32mreturn\u001b[0m \u001b[0m_read\u001b[0m\u001b[0;34m(\u001b[0m\u001b[0mfilepath_or_buffer\u001b[0m\u001b[0;34m,\u001b[0m \u001b[0mkwds\u001b[0m\u001b[0;34m)\u001b[0m\u001b[0;34m\u001b[0m\u001b[0;34m\u001b[0m\u001b[0m\n\u001b[0m\u001b[1;32m    689\u001b[0m \u001b[0;34m\u001b[0m\u001b[0m\n\u001b[1;32m    690\u001b[0m \u001b[0;34m\u001b[0m\u001b[0m\n",
      "\u001b[0;32m~/anaconda3/envs/vflow/lib/python3.6/site-packages/pandas/io/parsers.py\u001b[0m in \u001b[0;36m_read\u001b[0;34m(filepath_or_buffer, kwds)\u001b[0m\n\u001b[1;32m    452\u001b[0m \u001b[0;34m\u001b[0m\u001b[0m\n\u001b[1;32m    453\u001b[0m     \u001b[0;31m# Create the parser.\u001b[0m\u001b[0;34m\u001b[0m\u001b[0;34m\u001b[0m\u001b[0;34m\u001b[0m\u001b[0m\n\u001b[0;32m--> 454\u001b[0;31m     \u001b[0mparser\u001b[0m \u001b[0;34m=\u001b[0m \u001b[0mTextFileReader\u001b[0m\u001b[0;34m(\u001b[0m\u001b[0mfp_or_buf\u001b[0m\u001b[0;34m,\u001b[0m \u001b[0;34m**\u001b[0m\u001b[0mkwds\u001b[0m\u001b[0;34m)\u001b[0m\u001b[0;34m\u001b[0m\u001b[0;34m\u001b[0m\u001b[0m\n\u001b[0m\u001b[1;32m    455\u001b[0m \u001b[0;34m\u001b[0m\u001b[0m\n\u001b[1;32m    456\u001b[0m     \u001b[0;32mif\u001b[0m \u001b[0mchunksize\u001b[0m \u001b[0;32mor\u001b[0m \u001b[0miterator\u001b[0m\u001b[0;34m:\u001b[0m\u001b[0;34m\u001b[0m\u001b[0;34m\u001b[0m\u001b[0m\n",
      "\u001b[0;32m~/anaconda3/envs/vflow/lib/python3.6/site-packages/pandas/io/parsers.py\u001b[0m in \u001b[0;36m__init__\u001b[0;34m(self, f, engine, **kwds)\u001b[0m\n\u001b[1;32m    946\u001b[0m             \u001b[0mself\u001b[0m\u001b[0;34m.\u001b[0m\u001b[0moptions\u001b[0m\u001b[0;34m[\u001b[0m\u001b[0;34m\"has_index_names\"\u001b[0m\u001b[0;34m]\u001b[0m \u001b[0;34m=\u001b[0m \u001b[0mkwds\u001b[0m\u001b[0;34m[\u001b[0m\u001b[0;34m\"has_index_names\"\u001b[0m\u001b[0;34m]\u001b[0m\u001b[0;34m\u001b[0m\u001b[0;34m\u001b[0m\u001b[0m\n\u001b[1;32m    947\u001b[0m \u001b[0;34m\u001b[0m\u001b[0m\n\u001b[0;32m--> 948\u001b[0;31m         \u001b[0mself\u001b[0m\u001b[0;34m.\u001b[0m\u001b[0m_make_engine\u001b[0m\u001b[0;34m(\u001b[0m\u001b[0mself\u001b[0m\u001b[0;34m.\u001b[0m\u001b[0mengine\u001b[0m\u001b[0;34m)\u001b[0m\u001b[0;34m\u001b[0m\u001b[0;34m\u001b[0m\u001b[0m\n\u001b[0m\u001b[1;32m    949\u001b[0m \u001b[0;34m\u001b[0m\u001b[0m\n\u001b[1;32m    950\u001b[0m     \u001b[0;32mdef\u001b[0m \u001b[0mclose\u001b[0m\u001b[0;34m(\u001b[0m\u001b[0mself\u001b[0m\u001b[0;34m)\u001b[0m\u001b[0;34m:\u001b[0m\u001b[0;34m\u001b[0m\u001b[0;34m\u001b[0m\u001b[0m\n",
      "\u001b[0;32m~/anaconda3/envs/vflow/lib/python3.6/site-packages/pandas/io/parsers.py\u001b[0m in \u001b[0;36m_make_engine\u001b[0;34m(self, engine)\u001b[0m\n\u001b[1;32m   1178\u001b[0m     \u001b[0;32mdef\u001b[0m \u001b[0m_make_engine\u001b[0m\u001b[0;34m(\u001b[0m\u001b[0mself\u001b[0m\u001b[0;34m,\u001b[0m \u001b[0mengine\u001b[0m\u001b[0;34m=\u001b[0m\u001b[0;34m\"c\"\u001b[0m\u001b[0;34m)\u001b[0m\u001b[0;34m:\u001b[0m\u001b[0;34m\u001b[0m\u001b[0;34m\u001b[0m\u001b[0m\n\u001b[1;32m   1179\u001b[0m         \u001b[0;32mif\u001b[0m \u001b[0mengine\u001b[0m \u001b[0;34m==\u001b[0m \u001b[0;34m\"c\"\u001b[0m\u001b[0;34m:\u001b[0m\u001b[0;34m\u001b[0m\u001b[0;34m\u001b[0m\u001b[0m\n\u001b[0;32m-> 1180\u001b[0;31m             \u001b[0mself\u001b[0m\u001b[0;34m.\u001b[0m\u001b[0m_engine\u001b[0m \u001b[0;34m=\u001b[0m \u001b[0mCParserWrapper\u001b[0m\u001b[0;34m(\u001b[0m\u001b[0mself\u001b[0m\u001b[0;34m.\u001b[0m\u001b[0mf\u001b[0m\u001b[0;34m,\u001b[0m \u001b[0;34m**\u001b[0m\u001b[0mself\u001b[0m\u001b[0;34m.\u001b[0m\u001b[0moptions\u001b[0m\u001b[0;34m)\u001b[0m\u001b[0;34m\u001b[0m\u001b[0;34m\u001b[0m\u001b[0m\n\u001b[0m\u001b[1;32m   1181\u001b[0m         \u001b[0;32melse\u001b[0m\u001b[0;34m:\u001b[0m\u001b[0;34m\u001b[0m\u001b[0;34m\u001b[0m\u001b[0m\n\u001b[1;32m   1182\u001b[0m             \u001b[0;32mif\u001b[0m \u001b[0mengine\u001b[0m \u001b[0;34m==\u001b[0m \u001b[0;34m\"python\"\u001b[0m\u001b[0;34m:\u001b[0m\u001b[0;34m\u001b[0m\u001b[0;34m\u001b[0m\u001b[0m\n",
      "\u001b[0;32m~/anaconda3/envs/vflow/lib/python3.6/site-packages/pandas/io/parsers.py\u001b[0m in \u001b[0;36m__init__\u001b[0;34m(self, src, **kwds)\u001b[0m\n\u001b[1;32m   2008\u001b[0m         \u001b[0mkwds\u001b[0m\u001b[0;34m[\u001b[0m\u001b[0;34m\"usecols\"\u001b[0m\u001b[0;34m]\u001b[0m \u001b[0;34m=\u001b[0m \u001b[0mself\u001b[0m\u001b[0;34m.\u001b[0m\u001b[0musecols\u001b[0m\u001b[0;34m\u001b[0m\u001b[0;34m\u001b[0m\u001b[0m\n\u001b[1;32m   2009\u001b[0m \u001b[0;34m\u001b[0m\u001b[0m\n\u001b[0;32m-> 2010\u001b[0;31m         \u001b[0mself\u001b[0m\u001b[0;34m.\u001b[0m\u001b[0m_reader\u001b[0m \u001b[0;34m=\u001b[0m \u001b[0mparsers\u001b[0m\u001b[0;34m.\u001b[0m\u001b[0mTextReader\u001b[0m\u001b[0;34m(\u001b[0m\u001b[0msrc\u001b[0m\u001b[0;34m,\u001b[0m \u001b[0;34m**\u001b[0m\u001b[0mkwds\u001b[0m\u001b[0;34m)\u001b[0m\u001b[0;34m\u001b[0m\u001b[0;34m\u001b[0m\u001b[0m\n\u001b[0m\u001b[1;32m   2011\u001b[0m         \u001b[0mself\u001b[0m\u001b[0;34m.\u001b[0m\u001b[0munnamed_cols\u001b[0m \u001b[0;34m=\u001b[0m \u001b[0mself\u001b[0m\u001b[0;34m.\u001b[0m\u001b[0m_reader\u001b[0m\u001b[0;34m.\u001b[0m\u001b[0munnamed_cols\u001b[0m\u001b[0;34m\u001b[0m\u001b[0;34m\u001b[0m\u001b[0m\n\u001b[1;32m   2012\u001b[0m \u001b[0;34m\u001b[0m\u001b[0m\n",
      "\u001b[0;32mpandas/_libs/parsers.pyx\u001b[0m in \u001b[0;36mpandas._libs.parsers.TextReader.__cinit__\u001b[0;34m()\u001b[0m\n",
      "\u001b[0;32mpandas/_libs/parsers.pyx\u001b[0m in \u001b[0;36mpandas._libs.parsers.TextReader._setup_parser_source\u001b[0;34m()\u001b[0m\n",
      "\u001b[0;31mFileNotFoundError\u001b[0m: [Errno 2] No such file or directory: '../data/fmri/fit_feat.txt'"
     ]
    }
   ],
   "source": [
    "# load data\n",
    "X = np.asarray(pd.read_csv(\"../data/fmri/fit_feat.txt\", sep=\" \", error_bad_lines=False))\n",
    "Y = np.asarray(pd.read_csv(\"../data/fmri/resp_dat.txt\", sep=\" \", error_bad_lines=False))"
   ]
  },
  {
   "cell_type": "code",
   "execution_count": 5,
   "id": "patient-collins",
   "metadata": {},
   "outputs": [
    {
     "name": "stderr",
     "output_type": "stream",
     "text": [
      "/home/james/miniconda3/envs/pcs-framework/lib/python3.8/site-packages/numpy/lib/function_base.py:2559: RuntimeWarning: invalid value encountered in true_divide\n",
      "  c /= stddev[:, None]\n",
      "/home/james/miniconda3/envs/pcs-framework/lib/python3.8/site-packages/numpy/lib/function_base.py:2560: RuntimeWarning: invalid value encountered in true_divide\n",
      "  c /= stddev[None, :]\n"
     ]
    }
   ],
   "source": [
    "np.random.seed(14)\n",
    "X_train, X_test, y_train, y_test = train_test_split(X, Y, test_size=0.33, random_state=14)\n",
    "X_train, X_test, y_train, y_test = init_args((X_train, X_test, y_train, y_test),\n",
    "                                             names=['X_train', 'X_test', 'y_train', 'y_test'])\n",
    "\n",
    "# split y_train by voxel and extract top 500 correlated features per voxel\n",
    "voxel_extract_funcs = [partial(lambda x, y, i: (top_n_features(x, y, 20, i), y[:, i]), i=i) for i in range(20)]\n",
    "voxel_extract_set = Vset(name='voxel_extract', modules=voxel_extract_funcs, output_matching=True)\n",
    "X_trains, y_trains = voxel_extract_set(X_train, y_train)\n",
    "X_tests, y_tests = voxel_extract_set(X_test, y_test)"
   ]
  },
  {
   "cell_type": "code",
   "execution_count": 6,
   "id": "disciplinary-aircraft",
   "metadata": {},
   "outputs": [
    {
     "data": {
      "text/plain": [
       "{('X_train', 'voxel_extract_0'-'voxel_extract', 'y_train', 'Lasso'): LassoCV(),\n",
       " ('X_train', 'voxel_extract_1'-'voxel_extract', 'y_train', 'Lasso'): LassoCV(),\n",
       " ('X_train', 'voxel_extract_2'-'voxel_extract', 'y_train', 'Lasso'): LassoCV(),\n",
       " ('X_train', 'voxel_extract_3'-'voxel_extract', 'y_train', 'Lasso'): LassoCV(),\n",
       " ('X_train', 'voxel_extract_4'-'voxel_extract', 'y_train', 'Lasso'): LassoCV(),\n",
       " ('X_train', 'voxel_extract_5'-'voxel_extract', 'y_train', 'Lasso'): LassoCV(),\n",
       " ('X_train', 'voxel_extract_6'-'voxel_extract', 'y_train', 'Lasso'): LassoCV(),\n",
       " ('X_train', 'voxel_extract_7'-'voxel_extract', 'y_train', 'Lasso'): LassoCV(),\n",
       " ('X_train', 'voxel_extract_8'-'voxel_extract', 'y_train', 'Lasso'): LassoCV(),\n",
       " ('X_train', 'voxel_extract_9'-'voxel_extract', 'y_train', 'Lasso'): LassoCV(),\n",
       " ('X_train',\n",
       "  'voxel_extract_10'-'voxel_extract',\n",
       "  'y_train',\n",
       "  'Lasso'): LassoCV(),\n",
       " ('X_train',\n",
       "  'voxel_extract_11'-'voxel_extract',\n",
       "  'y_train',\n",
       "  'Lasso'): LassoCV(),\n",
       " ('X_train',\n",
       "  'voxel_extract_12'-'voxel_extract',\n",
       "  'y_train',\n",
       "  'Lasso'): LassoCV(),\n",
       " ('X_train',\n",
       "  'voxel_extract_13'-'voxel_extract',\n",
       "  'y_train',\n",
       "  'Lasso'): LassoCV(),\n",
       " ('X_train',\n",
       "  'voxel_extract_14'-'voxel_extract',\n",
       "  'y_train',\n",
       "  'Lasso'): LassoCV(),\n",
       " ('X_train',\n",
       "  'voxel_extract_15'-'voxel_extract',\n",
       "  'y_train',\n",
       "  'Lasso'): LassoCV(),\n",
       " ('X_train',\n",
       "  'voxel_extract_16'-'voxel_extract',\n",
       "  'y_train',\n",
       "  'Lasso'): LassoCV(),\n",
       " ('X_train',\n",
       "  'voxel_extract_17'-'voxel_extract',\n",
       "  'y_train',\n",
       "  'Lasso'): LassoCV(),\n",
       " ('X_train',\n",
       "  'voxel_extract_18'-'voxel_extract',\n",
       "  'y_train',\n",
       "  'Lasso'): LassoCV(),\n",
       " ('X_train',\n",
       "  'voxel_extract_19'-'voxel_extract',\n",
       "  'y_train',\n",
       "  'Lasso'): LassoCV(),\n",
       " '__prev__': (<vflow.module_set.ModuleSet at 0x7f1b49dfabe0>,)}"
      ]
     },
     "execution_count": 6,
     "metadata": {},
     "output_type": "execute_result"
    }
   ],
   "source": [
    "# modeling\n",
    "modeling_set = Vset(name='modeling', modules=[LassoCV()], module_keys=[\"Lasso\"])\n",
    "modeling_set.fit(X_trains, y_trains)\n",
    "modeling_set.out"
   ]
  },
  {
   "cell_type": "code",
   "execution_count": 7,
   "id": "criminal-teaching",
   "metadata": {},
   "outputs": [
    {
     "name": "stdout",
     "output_type": "stream",
     "text": [
      "('X_train', 'voxel_extract_0'-'voxel_extract', 'X_train', 'y_train', 'Lasso')\n",
      "('X_train', 'voxel_extract_1'-'voxel_extract', 'X_train', 'y_train', 'Lasso')\n",
      "('X_train', 'voxel_extract_2'-'voxel_extract', 'X_train', 'y_train', 'Lasso')\n",
      "('X_train', 'voxel_extract_3'-'voxel_extract', 'X_train', 'y_train', 'Lasso')\n",
      "('X_train', 'voxel_extract_4'-'voxel_extract', 'X_train', 'y_train', 'Lasso')\n",
      "('X_train', 'voxel_extract_5'-'voxel_extract', 'X_train', 'y_train', 'Lasso')\n",
      "('X_train', 'voxel_extract_6'-'voxel_extract', 'X_train', 'y_train', 'Lasso')\n",
      "('X_train', 'voxel_extract_7'-'voxel_extract', 'X_train', 'y_train', 'Lasso')\n",
      "('X_train', 'voxel_extract_8'-'voxel_extract', 'X_train', 'y_train', 'Lasso')\n",
      "('X_train', 'voxel_extract_9'-'voxel_extract', 'X_train', 'y_train', 'Lasso')\n",
      "('X_train', 'voxel_extract_10'-'voxel_extract', 'X_train', 'y_train', 'Lasso')\n",
      "('X_train', 'voxel_extract_11'-'voxel_extract', 'X_train', 'y_train', 'Lasso')\n",
      "('X_train', 'voxel_extract_12'-'voxel_extract', 'X_train', 'y_train', 'Lasso')\n",
      "('X_train', 'voxel_extract_13'-'voxel_extract', 'X_train', 'y_train', 'Lasso')\n",
      "('X_train', 'voxel_extract_14'-'voxel_extract', 'X_train', 'y_train', 'Lasso')\n",
      "('X_train', 'voxel_extract_15'-'voxel_extract', 'X_train', 'y_train', 'Lasso')\n",
      "('X_train', 'voxel_extract_16'-'voxel_extract', 'X_train', 'y_train', 'Lasso')\n",
      "('X_train', 'voxel_extract_17'-'voxel_extract', 'X_train', 'y_train', 'Lasso')\n",
      "('X_train', 'voxel_extract_18'-'voxel_extract', 'X_train', 'y_train', 'Lasso')\n",
      "('X_train', 'voxel_extract_19'-'voxel_extract', 'X_train', 'y_train', 'Lasso')\n",
      "__prev__\n"
     ]
    }
   ],
   "source": [
    "preds = modeling_set.predict(X_trains)\n",
    "for k in preds.keys():\n",
    "    print(k)"
   ]
  },
  {
   "cell_type": "code",
   "execution_count": 8,
   "id": "verbal-helicopter",
   "metadata": {},
   "outputs": [
    {
     "name": "stdout",
     "output_type": "stream",
     "text": [
      "('y_train', 'voxel_extract_0'-'voxel_extract', 'X_train', 'X_train', 'y_train', 'Lasso', 'R2'): 0.171\n",
      "('y_train', 'voxel_extract_1'-'voxel_extract', 'X_train', 'X_train', 'y_train', 'Lasso', 'R2'): 0.216\n",
      "('y_train', 'voxel_extract_2'-'voxel_extract', 'X_train', 'X_train', 'y_train', 'Lasso', 'R2'): 0.148\n",
      "('y_train', 'voxel_extract_3'-'voxel_extract', 'X_train', 'X_train', 'y_train', 'Lasso', 'R2'): 0.167\n",
      "('y_train', 'voxel_extract_4'-'voxel_extract', 'X_train', 'X_train', 'y_train', 'Lasso', 'R2'): 0.162\n",
      "('y_train', 'voxel_extract_5'-'voxel_extract', 'X_train', 'X_train', 'y_train', 'Lasso', 'R2'): 0.191\n",
      "('y_train', 'voxel_extract_6'-'voxel_extract', 'X_train', 'X_train', 'y_train', 'Lasso', 'R2'): 0.213\n",
      "('y_train', 'voxel_extract_7'-'voxel_extract', 'X_train', 'X_train', 'y_train', 'Lasso', 'R2'): 0.215\n",
      "('y_train', 'voxel_extract_8'-'voxel_extract', 'X_train', 'X_train', 'y_train', 'Lasso', 'R2'): 0.235\n",
      "('y_train', 'voxel_extract_9'-'voxel_extract', 'X_train', 'X_train', 'y_train', 'Lasso', 'R2'): 0.039\n",
      "('y_train', 'voxel_extract_10'-'voxel_extract', 'X_train', 'X_train', 'y_train', 'Lasso', 'R2'): 0.056\n",
      "('y_train', 'voxel_extract_11'-'voxel_extract', 'X_train', 'X_train', 'y_train', 'Lasso', 'R2'): 0.145\n",
      "('y_train', 'voxel_extract_12'-'voxel_extract', 'X_train', 'X_train', 'y_train', 'Lasso', 'R2'): 0.083\n",
      "('y_train', 'voxel_extract_13'-'voxel_extract', 'X_train', 'X_train', 'y_train', 'Lasso', 'R2'): 0.060\n",
      "('y_train', 'voxel_extract_14'-'voxel_extract', 'X_train', 'X_train', 'y_train', 'Lasso', 'R2'): 0.171\n",
      "('y_train', 'voxel_extract_15'-'voxel_extract', 'X_train', 'X_train', 'y_train', 'Lasso', 'R2'): 0.014\n",
      "('y_train', 'voxel_extract_16'-'voxel_extract', 'X_train', 'X_train', 'y_train', 'Lasso', 'R2'): 0.089\n",
      "('y_train', 'voxel_extract_17'-'voxel_extract', 'X_train', 'X_train', 'y_train', 'Lasso', 'R2'): 0.187\n",
      "('y_train', 'voxel_extract_18'-'voxel_extract', 'X_train', 'X_train', 'y_train', 'Lasso', 'R2'): 0.112\n",
      "('y_train', 'voxel_extract_19'-'voxel_extract', 'X_train', 'X_train', 'y_train', 'Lasso', 'R2'): 0.026\n",
      "('y_train', 'voxel_extract_0'-'voxel_extract', 'X_train', 'X_train', 'y_train', 'Lasso', 'EV'): 0.171\n",
      "('y_train', 'voxel_extract_1'-'voxel_extract', 'X_train', 'X_train', 'y_train', 'Lasso', 'EV'): 0.216\n",
      "('y_train', 'voxel_extract_2'-'voxel_extract', 'X_train', 'X_train', 'y_train', 'Lasso', 'EV'): 0.148\n",
      "('y_train', 'voxel_extract_3'-'voxel_extract', 'X_train', 'X_train', 'y_train', 'Lasso', 'EV'): 0.167\n",
      "('y_train', 'voxel_extract_4'-'voxel_extract', 'X_train', 'X_train', 'y_train', 'Lasso', 'EV'): 0.162\n",
      "('y_train', 'voxel_extract_5'-'voxel_extract', 'X_train', 'X_train', 'y_train', 'Lasso', 'EV'): 0.191\n",
      "('y_train', 'voxel_extract_6'-'voxel_extract', 'X_train', 'X_train', 'y_train', 'Lasso', 'EV'): 0.213\n",
      "('y_train', 'voxel_extract_7'-'voxel_extract', 'X_train', 'X_train', 'y_train', 'Lasso', 'EV'): 0.215\n",
      "('y_train', 'voxel_extract_8'-'voxel_extract', 'X_train', 'X_train', 'y_train', 'Lasso', 'EV'): 0.235\n",
      "('y_train', 'voxel_extract_9'-'voxel_extract', 'X_train', 'X_train', 'y_train', 'Lasso', 'EV'): 0.039\n",
      "('y_train', 'voxel_extract_10'-'voxel_extract', 'X_train', 'X_train', 'y_train', 'Lasso', 'EV'): 0.056\n",
      "('y_train', 'voxel_extract_11'-'voxel_extract', 'X_train', 'X_train', 'y_train', 'Lasso', 'EV'): 0.145\n",
      "('y_train', 'voxel_extract_12'-'voxel_extract', 'X_train', 'X_train', 'y_train', 'Lasso', 'EV'): 0.083\n",
      "('y_train', 'voxel_extract_13'-'voxel_extract', 'X_train', 'X_train', 'y_train', 'Lasso', 'EV'): 0.060\n",
      "('y_train', 'voxel_extract_14'-'voxel_extract', 'X_train', 'X_train', 'y_train', 'Lasso', 'EV'): 0.171\n",
      "('y_train', 'voxel_extract_15'-'voxel_extract', 'X_train', 'X_train', 'y_train', 'Lasso', 'EV'): 0.014\n",
      "('y_train', 'voxel_extract_16'-'voxel_extract', 'X_train', 'X_train', 'y_train', 'Lasso', 'EV'): 0.089\n",
      "('y_train', 'voxel_extract_17'-'voxel_extract', 'X_train', 'X_train', 'y_train', 'Lasso', 'EV'): 0.187\n",
      "('y_train', 'voxel_extract_18'-'voxel_extract', 'X_train', 'X_train', 'y_train', 'Lasso', 'EV'): 0.112\n",
      "('y_train', 'voxel_extract_19'-'voxel_extract', 'X_train', 'X_train', 'y_train', 'Lasso', 'EV'): 0.026\n"
     ]
    }
   ],
   "source": [
    "# evaluate fails to match y_tests key ('X_test', 'y_test', 'voxel_extract_i') with preds key \n",
    "# (('X_train', 'y_train', 'voxel_extract_i', 'Lasso'), ('X_test', 'y_test', 'voxel_extract_i'))\n",
    "hard_metrics_set = Vset(name='hard_metrics', modules=[r2_score, explained_variance_score],\n",
    "                             module_keys=[\"R2\", \"EV\"])\n",
    "hard_metrics = hard_metrics_set.evaluate(y_trains, preds)\n",
    "\n",
    "for k, v in hard_metrics.items():\n",
    "    if k != PREV_KEY:\n",
    "        print(f'{k}: {v:.3f}')"
   ]
  },
  {
   "cell_type": "code",
   "execution_count": null,
   "id": "eight-notification",
   "metadata": {},
   "outputs": [],
   "source": []
  }
 ],
 "metadata": {
  "interpreter": {
   "hash": "6400b1c82fbb52de267c3764ddd90bc277513f98347ac8a854392edafe83d4db"
  },
  "kernelspec": {
   "display_name": "Python 3.6.13 64-bit ('vflow': conda)",
   "name": "python3"
  },
  "language_info": {
   "codemirror_mode": {
    "name": "ipython",
    "version": 3
   },
   "file_extension": ".py",
   "mimetype": "text/x-python",
   "name": "python",
   "nbconvert_exporter": "python",
   "pygments_lexer": "ipython3",
   "version": "3.6.13"
  }
 },
 "nbformat": 4,
 "nbformat_minor": 5
}

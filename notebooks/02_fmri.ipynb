{
 "cells": [
  {
   "cell_type": "code",
   "execution_count": 13,
   "id": "incorporated-initial",
   "metadata": {},
   "outputs": [
    {
     "name": "stdout",
     "output_type": "stream",
     "text": [
      "The autoreload extension is already loaded. To reload it, use:\n",
      "  %reload_ext autoreload\n"
     ]
    }
   ],
   "source": [
    "%load_ext autoreload\n",
    "%autoreload 2\n",
    "import numpy as np\n",
    "from vflow import Vset, init_args, dict_to_df, perturbation_stats\n",
    "from functools import partial\n",
    "from sklearn.linear_model import LassoCV\n",
    "from sklearn.metrics import r2_score, explained_variance_score\n",
    "from sklearn.model_selection import train_test_split\n",
    "from sklearn.decomposition import PCA"
   ]
  },
  {
   "cell_type": "code",
   "execution_count": 14,
   "id": "engaged-seventh",
   "metadata": {},
   "outputs": [],
   "source": [
    "ind = {}\n",
    "\n",
    "\n",
    "def top_n_features(X, Y, n, i):\n",
    "    if i not in ind:\n",
    "        corr = np.abs(np.apply_along_axis(lambda x: np.corrcoef(x, Y[:, i])[0, 1], 0, X))\n",
    "        ind[i] = np.argsort(corr[~np.isnan(corr)])[::-1][:n]\n",
    "    return X[:, ind[i]]\n",
    "\n",
    "\n",
    "def pca(X, n):\n",
    "    return PCA(n_components=n, copy=True).fit(X).transform(X)\n"
   ]
  },
  {
   "cell_type": "code",
   "execution_count": 4,
   "id": "white-teach",
   "metadata": {},
   "outputs": [],
   "source": [
    "# load data\n",
    "data_dir = \"./data/fmri/\"\n",
    "X = np.load(data_dir + \"fit_feat.npy\")\n",
    "Y = np.load(data_dir + \"resp_dat.npy\")"
   ]
  },
  {
   "cell_type": "code",
   "execution_count": 5,
   "id": "patient-collins",
   "metadata": {},
   "outputs": [
    {
     "name": "stderr",
     "output_type": "stream",
     "text": [
      "/Users/rush/anaconda3/envs/vflow/lib/python3.6/site-packages/numpy/lib/function_base.py:2534: RuntimeWarning: invalid value encountered in true_divide\n",
      "  c /= stddev[:, None]\n",
      "/Users/rush/anaconda3/envs/vflow/lib/python3.6/site-packages/numpy/lib/function_base.py:2535: RuntimeWarning: invalid value encountered in true_divide\n",
      "  c /= stddev[None, :]\n"
     ]
    }
   ],
   "source": [
    "np.random.seed(14)\n",
    "X_train, X_test, y_train, y_test = train_test_split(X, Y, test_size=0.33, random_state=14)\n",
    "X_train, X_test, y_train, y_test = init_args((X_train, X_test, y_train, y_test),\n",
    "                                             names=['X_train', 'X_test', 'y_train', 'y_test'])\n",
    "\n",
    "# split y_train by voxel and extract top 500 correlated features per voxel\n",
    "voxel_extract_funcs = [partial(lambda x, y, i: (top_n_features(x, y, 20, i), y[:, i]), i=i) for i in range(20)]\n",
    "voxel_extract_set = Vset(name='voxel_extract', modules=voxel_extract_funcs, output_matching=True)\n",
    "X_trains, y_trains = voxel_extract_set(X_train, y_train)\n",
    "X_tests, y_tests = voxel_extract_set(X_test, y_test)"
   ]
  },
  {
   "cell_type": "code",
   "execution_count": 6,
   "id": "disciplinary-aircraft",
   "metadata": {},
   "outputs": [
    {
     "data": {
      "text/plain": [
       "<vflow.vset.Vset at 0x7fb244ce92b0>"
      ]
     },
     "execution_count": 6,
     "metadata": {},
     "output_type": "execute_result"
    }
   ],
   "source": [
    "# modeling\n",
    "modeling_set = Vset(name='modeling', modules=[LassoCV()], module_keys=[\"Lasso\"])\n",
    "modeling_set.fit(X_trains, y_trains)"
   ]
  },
  {
   "cell_type": "code",
   "execution_count": 7,
   "id": "verbal-helicopter",
   "metadata": {},
   "outputs": [],
   "source": [
    "preds = modeling_set.predict(X_trains)\n",
    "\n",
    "hard_metrics_set = Vset(name='hard_metrics', modules=[r2_score, explained_variance_score],\n",
    "                             module_keys=[\"R2\", \"EV\"])\n",
    "hard_metrics = hard_metrics_set.evaluate(y_trains, preds)"
   ]
  },
  {
   "cell_type": "code",
   "execution_count": 12,
   "id": "eight-notification",
   "metadata": {},
   "outputs": [
    {
     "data": {
      "text/html": [
       "<div>\n",
       "<style scoped>\n",
       "    .dataframe tbody tr th:only-of-type {\n",
       "        vertical-align: middle;\n",
       "    }\n",
       "\n",
       "    .dataframe tbody tr th {\n",
       "        vertical-align: top;\n",
       "    }\n",
       "\n",
       "    .dataframe thead th {\n",
       "        text-align: right;\n",
       "    }\n",
       "</style>\n",
       "<table border=\"1\" class=\"dataframe\">\n",
       "  <thead>\n",
       "    <tr style=\"text-align: right;\">\n",
       "      <th></th>\n",
       "      <th>voxel_extract</th>\n",
       "      <th>mean</th>\n",
       "    </tr>\n",
       "  </thead>\n",
       "  <tbody>\n",
       "    <tr>\n",
       "      <th>0</th>\n",
       "      <td>voxel_extract_0</td>\n",
       "      <td>0.158618</td>\n",
       "    </tr>\n",
       "    <tr>\n",
       "      <th>1</th>\n",
       "      <td>voxel_extract_1</td>\n",
       "      <td>0.132072</td>\n",
       "    </tr>\n",
       "    <tr>\n",
       "      <th>2</th>\n",
       "      <td>voxel_extract_10</td>\n",
       "      <td>0.054496</td>\n",
       "    </tr>\n",
       "    <tr>\n",
       "      <th>3</th>\n",
       "      <td>voxel_extract_11</td>\n",
       "      <td>0.156664</td>\n",
       "    </tr>\n",
       "    <tr>\n",
       "      <th>4</th>\n",
       "      <td>voxel_extract_12</td>\n",
       "      <td>0.000000</td>\n",
       "    </tr>\n",
       "    <tr>\n",
       "      <th>5</th>\n",
       "      <td>voxel_extract_13</td>\n",
       "      <td>0.069849</td>\n",
       "    </tr>\n",
       "    <tr>\n",
       "      <th>6</th>\n",
       "      <td>voxel_extract_14</td>\n",
       "      <td>0.232675</td>\n",
       "    </tr>\n",
       "    <tr>\n",
       "      <th>7</th>\n",
       "      <td>voxel_extract_15</td>\n",
       "      <td>0.000000</td>\n",
       "    </tr>\n",
       "    <tr>\n",
       "      <th>8</th>\n",
       "      <td>voxel_extract_16</td>\n",
       "      <td>0.057368</td>\n",
       "    </tr>\n",
       "    <tr>\n",
       "      <th>9</th>\n",
       "      <td>voxel_extract_17</td>\n",
       "      <td>0.139997</td>\n",
       "    </tr>\n",
       "    <tr>\n",
       "      <th>10</th>\n",
       "      <td>voxel_extract_18</td>\n",
       "      <td>0.091578</td>\n",
       "    </tr>\n",
       "    <tr>\n",
       "      <th>11</th>\n",
       "      <td>voxel_extract_19</td>\n",
       "      <td>0.022671</td>\n",
       "    </tr>\n",
       "    <tr>\n",
       "      <th>12</th>\n",
       "      <td>voxel_extract_2</td>\n",
       "      <td>0.171751</td>\n",
       "    </tr>\n",
       "    <tr>\n",
       "      <th>13</th>\n",
       "      <td>voxel_extract_3</td>\n",
       "      <td>0.227377</td>\n",
       "    </tr>\n",
       "    <tr>\n",
       "      <th>14</th>\n",
       "      <td>voxel_extract_4</td>\n",
       "      <td>0.125934</td>\n",
       "    </tr>\n",
       "    <tr>\n",
       "      <th>15</th>\n",
       "      <td>voxel_extract_5</td>\n",
       "      <td>0.158302</td>\n",
       "    </tr>\n",
       "    <tr>\n",
       "      <th>16</th>\n",
       "      <td>voxel_extract_6</td>\n",
       "      <td>0.177568</td>\n",
       "    </tr>\n",
       "    <tr>\n",
       "      <th>17</th>\n",
       "      <td>voxel_extract_7</td>\n",
       "      <td>0.117296</td>\n",
       "    </tr>\n",
       "    <tr>\n",
       "      <th>18</th>\n",
       "      <td>voxel_extract_8</td>\n",
       "      <td>0.194947</td>\n",
       "    </tr>\n",
       "    <tr>\n",
       "      <th>19</th>\n",
       "      <td>voxel_extract_9</td>\n",
       "      <td>0.058193</td>\n",
       "    </tr>\n",
       "  </tbody>\n",
       "</table>\n",
       "</div>"
      ],
      "text/plain": [
       "       voxel_extract      mean\n",
       "0    voxel_extract_0  0.158618\n",
       "1    voxel_extract_1  0.132072\n",
       "2   voxel_extract_10  0.054496\n",
       "3   voxel_extract_11  0.156664\n",
       "4   voxel_extract_12  0.000000\n",
       "5   voxel_extract_13  0.069849\n",
       "6   voxel_extract_14  0.232675\n",
       "7   voxel_extract_15  0.000000\n",
       "8   voxel_extract_16  0.057368\n",
       "9   voxel_extract_17  0.139997\n",
       "10  voxel_extract_18  0.091578\n",
       "11  voxel_extract_19  0.022671\n",
       "12   voxel_extract_2  0.171751\n",
       "13   voxel_extract_3  0.227377\n",
       "14   voxel_extract_4  0.125934\n",
       "15   voxel_extract_5  0.158302\n",
       "16   voxel_extract_6  0.177568\n",
       "17   voxel_extract_7  0.117296\n",
       "18   voxel_extract_8  0.194947\n",
       "19   voxel_extract_9  0.058193"
      ]
     },
     "execution_count": 12,
     "metadata": {},
     "output_type": "execute_result"
    }
   ],
   "source": [
    "df = dict_to_df(hard_metrics)\n",
    "mean_metrics = perturbation_stats(df, 'voxel_extract', func=['mean'])\n",
    "\n",
    "mean_metrics"
   ]
  }
 ],
 "metadata": {
  "interpreter": {
   "hash": "6400b1c82fbb52de267c3764ddd90bc277513f98347ac8a854392edafe83d4db"
  },
  "kernelspec": {
   "display_name": "Python 3.6.13 64-bit ('vflow': conda)",
   "name": "python3"
  },
  "language_info": {
   "codemirror_mode": {
    "name": "ipython",
    "version": 3
   },
   "file_extension": ".py",
   "mimetype": "text/x-python",
   "name": "python",
   "nbconvert_exporter": "python",
   "pygments_lexer": "ipython3",
   "version": "3.6.13"
  }
 },
 "nbformat": 4,
 "nbformat_minor": 5
}

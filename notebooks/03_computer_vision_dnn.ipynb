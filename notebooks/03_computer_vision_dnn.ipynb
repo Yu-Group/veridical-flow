{
 "cells": [
  {
   "cell_type": "markdown",
   "metadata": {
    "collapsed": false
   },
   "source": [
    "This notebooks shows an example of using vflow on the Fashion-MNIST dataset using deep neural networks. It requires installing pytorch and torchvision (`pip install torch torchvision`)."
   ]
  },
  {
   "cell_type": "code",
   "execution_count": 1,
   "metadata": {},
   "outputs": [],
   "source": [
    "%load_ext autoreload\n",
    "%autoreload 2\n",
    "from vflow import Vset, init_args, build_vset, dict_to_df\n",
    "import torch\n",
    "from torch import nn\n",
    "from torch.utils.data import DataLoader\n",
    "from torchvision import datasets\n",
    "from torchvision.transforms import ToTensor\n",
    "from functools import partial"
   ]
  },
  {
   "cell_type": "code",
   "execution_count": 2,
   "metadata": {},
   "outputs": [],
   "source": [
    "# load data\n",
    "training_data = datasets.FashionMNIST(\n",
    "    root=\"data\",\n",
    "    train=True,\n",
    "    download=True,\n",
    "    transform=ToTensor(),\n",
    ")\n",
    "test_data = datasets.FashionMNIST(\n",
    "    root=\"data\",\n",
    "    train=False,\n",
    "    download=True,\n",
    "    transform=ToTensor(),\n",
    ")"
   ]
  },
  {
   "cell_type": "code",
   "execution_count": 3,
   "metadata": {},
   "outputs": [],
   "source": [
    "# Define model\n",
    "class NeuralNetwork(nn.Module):\n",
    "    def __init__(self, fc1=512, fc2=512):\n",
    "        super(NeuralNetwork, self).__init__()\n",
    "        self.flatten = nn.Flatten()\n",
    "        self.linear_relu_stack = nn.Sequential(\n",
    "            nn.Linear(28 * 28, fc1),\n",
    "            nn.ReLU(),\n",
    "            nn.Linear(fc1, fc2),\n",
    "            nn.ReLU(),\n",
    "            nn.Linear(fc2, 10),\n",
    "            nn.ReLU()\n",
    "        )\n",
    "\n",
    "    def forward(self, x):\n",
    "        x = self.flatten(x)\n",
    "        logits = self.linear_relu_stack(x)\n",
    "        return logits"
   ]
  },
  {
   "cell_type": "code",
   "execution_count": 4,
   "metadata": {},
   "outputs": [
    {
     "name": "stdout",
     "output_type": "stream",
     "text": [
      "Using cpu device\n"
     ]
    }
   ],
   "source": [
    "# Get cpu or gpu device for training.\n",
    "device = \"cuda\" if torch.cuda.is_available() else \"cpu\"\n",
    "print(\"Using {} device\".format(device))\n",
    "\n",
    "def train(model, dataloader, loss_fn, epochs, **kwargs):\n",
    "    # initialize model with **kwargs\n",
    "    if isinstance(model, type):\n",
    "        model = model(**kwargs)\n",
    "    optimizer = torch.optim.SGD(model.parameters(), lr=1e-3)\n",
    "    size = len(dataloader.dataset)\n",
    "    for t in range(epochs):\n",
    "        # print(f\"Epoch {t+1}\\n-------------------------------\")\n",
    "        for batch, (X, y) in enumerate(dataloader):\n",
    "            X, y = X.to(device), y.to(device)\n",
    "\n",
    "            # Compute prediction error\n",
    "            pred = model(X)\n",
    "            loss = loss_fn(pred, y)\n",
    "\n",
    "            # Backpropagation\n",
    "            optimizer.zero_grad()\n",
    "            loss.backward()\n",
    "            optimizer.step()\n",
    "\n",
    "            if batch % 100 == 0:\n",
    "                loss, current = loss.item(), batch * len(X)\n",
    "                # print(f\"loss: {loss:>7f}  [{current:>5d}/{size:>5d}]\")\n",
    "    return model\n",
    "\n",
    "\n",
    "def test(dataloader, model, loss_fn):\n",
    "    size = len(dataloader.dataset)\n",
    "    num_batches = len(dataloader)\n",
    "    model.eval()\n",
    "    test_loss, correct = 0, 0\n",
    "    with torch.no_grad():\n",
    "        for X, y in dataloader:\n",
    "            X, y = X.to(device), y.to(device)\n",
    "            pred = model(X)\n",
    "            test_loss += loss_fn(pred, y).item()\n",
    "            correct += (pred.argmax(1) == y).type(torch.float).sum().item()\n",
    "    test_loss /= num_batches\n",
    "    correct /= size\n",
    "    return correct"
   ]
  },
  {
   "cell_type": "code",
   "execution_count": 5,
   "metadata": {},
   "outputs": [
    {
     "data": {
      "text/plain": [
       "<vflow.vset.Vset at 0x7f8c26ab00f0>"
      ]
     },
     "execution_count": 5,
     "metadata": {},
     "output_type": "execute_result"
    }
   ],
   "source": [
    "batch_size = 64\n",
    "loss_fn = nn.CrossEntropyLoss()\n",
    "\n",
    "# Create data loaders.\n",
    "train_dataloader = DataLoader(training_data, batch_size=batch_size)\n",
    "test_dataloader = DataLoader(test_data, batch_size=batch_size)\n",
    "train_data, test_data = init_args((train_dataloader, test_dataloader), names=['train_data', 'test_data'])\n",
    "\n",
    "# fit neural network\n",
    "modeling_set = build_vset('modeling', train, {'fc1': [256, 512], 'fc2': [256, 512]}, NeuralNetwork, loss_fn=loss_fn, epochs=5)\n",
    "modeling_set.fit(train_data)"
   ]
  },
  {
   "cell_type": "code",
   "execution_count": 6,
   "metadata": {},
   "outputs": [
    {
     "data": {
      "text/html": [
       "<div>\n",
       "<style scoped>\n",
       "    .dataframe tbody tr th:only-of-type {\n",
       "        vertical-align: middle;\n",
       "    }\n",
       "\n",
       "    .dataframe tbody tr th {\n",
       "        vertical-align: top;\n",
       "    }\n",
       "\n",
       "    .dataframe thead th {\n",
       "        text-align: right;\n",
       "    }\n",
       "</style>\n",
       "<table border=\"1\" class=\"dataframe\">\n",
       "  <thead>\n",
       "    <tr style=\"text-align: right;\">\n",
       "      <th></th>\n",
       "      <th>init-modeling</th>\n",
       "      <th>init-modeling</th>\n",
       "      <th>fc1-modeling</th>\n",
       "      <th>fc2-modeling</th>\n",
       "      <th>hard_metrics</th>\n",
       "      <th>out</th>\n",
       "    </tr>\n",
       "  </thead>\n",
       "  <tbody>\n",
       "    <tr>\n",
       "      <th>0</th>\n",
       "      <td>test_data</td>\n",
       "      <td>train_data</td>\n",
       "      <td>256</td>\n",
       "      <td>256</td>\n",
       "      <td>acc</td>\n",
       "      <td>0.5108</td>\n",
       "    </tr>\n",
       "    <tr>\n",
       "      <th>1</th>\n",
       "      <td>test_data</td>\n",
       "      <td>train_data</td>\n",
       "      <td>256</td>\n",
       "      <td>512</td>\n",
       "      <td>acc</td>\n",
       "      <td>0.5581</td>\n",
       "    </tr>\n",
       "    <tr>\n",
       "      <th>2</th>\n",
       "      <td>test_data</td>\n",
       "      <td>train_data</td>\n",
       "      <td>512</td>\n",
       "      <td>256</td>\n",
       "      <td>acc</td>\n",
       "      <td>0.5523</td>\n",
       "    </tr>\n",
       "    <tr>\n",
       "      <th>3</th>\n",
       "      <td>test_data</td>\n",
       "      <td>train_data</td>\n",
       "      <td>512</td>\n",
       "      <td>512</td>\n",
       "      <td>acc</td>\n",
       "      <td>0.5708</td>\n",
       "    </tr>\n",
       "  </tbody>\n",
       "</table>\n",
       "</div>"
      ],
      "text/plain": [
       "  init-modeling init-modeling fc1-modeling fc2-modeling hard_metrics     out\n",
       "0     test_data    train_data          256          256          acc  0.5108\n",
       "1     test_data    train_data          256          512          acc  0.5581\n",
       "2     test_data    train_data          512          256          acc  0.5523\n",
       "3     test_data    train_data          512          512          acc  0.5708"
      ]
     },
     "execution_count": 6,
     "metadata": {},
     "output_type": "execute_result"
    }
   ],
   "source": [
    "test_nn = partial(test, loss_fn=loss_fn)\n",
    "hard_metrics_set = Vset(name='hard_metrics', modules=[test_nn], module_keys=[\"acc\"])\n",
    "hard_metrics = hard_metrics_set.evaluate(test_data, modeling_set.out)\n",
    "\n",
    "df = dict_to_df(hard_metrics, param_key='modeling')\n",
    "df"
   ]
  }
 ],
 "metadata": {
  "interpreter": {
   "hash": "b6ea3c5d93b89d45eb8c11b5f7d77c305a994bf9982dea27fab7e95d8eb92fda"
  },
  "kernelspec": {
   "display_name": "Python 3.6.13 64-bit ('binyugroup': conda)",
   "name": "python3"
  },
  "language_info": {
   "codemirror_mode": {
    "name": "ipython",
    "version": 3
   },
   "file_extension": ".py",
   "mimetype": "text/x-python",
   "name": "python",
   "nbconvert_exporter": "python",
   "pygments_lexer": "ipython3",
   "version": "3.6.13"
  },
  "orig_nbformat": 4
 },
 "nbformat": 4,
 "nbformat_minor": 2
}

{
 "cells": [
  {
   "cell_type": "code",
   "execution_count": 1,
   "id": "correct-russian",
   "metadata": {},
   "outputs": [],
   "source": [
    "%load_ext autoreload\n",
    "%autoreload 2\n",
    "\n",
    "from vflow import Vset, build_vset, init_args, dict_to_df, perturbation_stats\n",
    "from vflow.pipeline import build_graph\n",
    "\n",
    "from sklearn.datasets import make_regression\n",
    "from sklearn.model_selection import train_test_split\n",
    "from sklearn.utils import resample\n",
    "\n",
    "from sklearn.impute import KNNImputer, SimpleImputer\n",
    "\n",
    "import numpy as np\n",
    "import pandas as pd\n",
    "\n",
    "import ray\n",
    "\n",
    "pd.options.display.max_rows = 8\n",
    "np.random.seed(31415)"
   ]
  },
  {
   "cell_type": "markdown",
   "id": "fde466a3",
   "metadata": {},
   "source": [
    "# Feature Importance Stability"
   ]
  },
  {
   "cell_type": "markdown",
   "id": "a5d3e373",
   "metadata": {},
   "source": [
    "In this example, we will probe the the stability of the permutation feature importance metric for random forest relative to data resampling, data preprocessing, and model hyperparameter perturbations."
   ]
  },
  {
   "cell_type": "markdown",
   "id": "4cd40726",
   "metadata": {},
   "source": [
    "`vflow` supports automatic parallelization using `ray`. We can use `ray` to compute downstream results by setting `is_async=True` when constructing a `Vset`:"
   ]
  },
  {
   "cell_type": "code",
   "execution_count": 2,
   "id": "parental-package",
   "metadata": {},
   "outputs": [
    {
     "name": "stderr",
     "output_type": "stream",
     "text": [
      "2022-02-02 12:38:37,888\tINFO services.py:1338 -- View the Ray dashboard at \u001b[1m\u001b[32mhttp://127.0.0.1:8265\u001b[39m\u001b[22m\n"
     ]
    },
    {
     "data": {
      "text/plain": [
       "{'node_ip_address': '128.32.135.109',\n",
       " 'raylet_ip_address': '128.32.135.109',\n",
       " 'redis_address': '128.32.135.109:6379',\n",
       " 'object_store_address': '/tmp/ray/session_2022-02-02_12-38-30_816305_1237494/sockets/plasma_store',\n",
       " 'raylet_socket_name': '/tmp/ray/session_2022-02-02_12-38-30_816305_1237494/sockets/raylet',\n",
       " 'webui_url': '127.0.0.1:8265',\n",
       " 'session_dir': '/tmp/ray/session_2022-02-02_12-38-30_816305_1237494',\n",
       " 'metrics_export_port': 63711,\n",
       " 'node_id': '817c1d988db8fe518e744cdd8f05455f54aac22febf80552c4ba9655'}"
      ]
     },
     "execution_count": 2,
     "metadata": {},
     "output_type": "execute_result"
    }
   ],
   "source": [
    "ray.init(num_cpus=4)"
   ]
  },
  {
   "cell_type": "markdown",
   "id": "ed11fcf3",
   "metadata": {},
   "source": [
    "### Define stability target\n",
    "\n",
    "Below, we create a `Vset` which applies three custom data preprocessing functions and another that calculates the permutation importance metric via the function `sklearn.inspection.permutation_importance`."
   ]
  },
  {
   "cell_type": "code",
   "execution_count": 3,
   "id": "complimentary-mathematics",
   "metadata": {},
   "outputs": [],
   "source": [
    "from vflow import Vset\n",
    "from sklearn.impute import KNNImputer, SimpleImputer\n",
    "from sklearn.inspection import permutation_importance\n",
    "\n",
    "preproc_list = [SimpleImputer(strategy='mean'),\n",
    "                SimpleImputer(strategy='median'),\n",
    "                KNNImputer()]\n",
    "\n",
    "# create a Vset which varies over the list of preprocessing methods\n",
    "preproc_set = Vset(\"preproc\", preproc_list, ['mean', 'med', 'knn'], output_matching=True, lazy=True)\n",
    "\n",
    "# create the feature importance Vset\n",
    "feat_imp_set = build_vset('feat_imp', permutation_importance, n_repeats=3, is_async=True)"
   ]
  },
  {
   "cell_type": "markdown",
   "id": "31b17b11",
   "metadata": {},
   "source": [
    "### Define model hyperparameter perturbations\n",
    "\n",
    "We can also specify modeling perturbations, both within a single class of models (hyperparameter perturbations) and across different classes. Here we'll use the helper `build_vset` to create hyperparameter perturbations for random forest."
   ]
  },
  {
   "cell_type": "code",
   "execution_count": 12,
   "id": "spare-pickup",
   "metadata": {},
   "outputs": [
    {
     "data": {
      "text/plain": [
       "1"
      ]
     },
     "execution_count": 12,
     "metadata": {},
     "output_type": "execute_result"
    }
   ],
   "source": [
    "from sklearn.ensemble import RandomForestRegressor as RF\n",
    "from vflow import build_vset\n",
    "\n",
    "# hyperparameters to try\n",
    "RF_params = {\n",
    "    'n_estimators': [100, 300],\n",
    "    'min_samples_split': [2, 10]\n",
    "}\n",
    "\n",
    "# we could instead pass a list of distinct models and corresponding param dicts\n",
    "RF_set = build_vset('RF', RF, RF_params, is_async=True)"
   ]
  },
  {
   "cell_type": "markdown",
   "id": "15d44cfb",
   "metadata": {},
   "source": [
    "### Define data perturbations\n",
    "\n",
    "For stability analysis, it is often useful to add data perturbations such as the bootstrap in order to assess stability over resampling variability in the data. We can lazily compute the bootstrap, such that data will not be resampled until needed, by setting `lazy=True` when constructing a `Vset`:"
   ]
  },
  {
   "cell_type": "code",
   "execution_count": 5,
   "id": "finnish-drinking",
   "metadata": {},
   "outputs": [],
   "source": [
    "from sklearn.utils import resample\n",
    "\n",
    "# create a Vset for bootstrapping from data 10 times\n",
    "# we use lazy=True so that the data will not be resampled until needed\n",
    "boot_set = build_vset('boot', resample, reps=10, lazy=True)"
   ]
  },
  {
   "cell_type": "markdown",
   "id": "e55dd36e",
   "metadata": {},
   "source": [
    "### Fit all models for all combinations of resampling and preprocessing\n",
    "\n",
    "Now we can load in our data and fit each of the four random forest models to the 300 combinations of resampled training data and preprocessing functions."
   ]
  },
  {
   "cell_type": "code",
   "execution_count": 6,
   "id": "compound-coral",
   "metadata": {},
   "outputs": [
    {
     "name": "stderr",
     "output_type": "stream",
     "text": [
      "\u001b[2m\u001b[33m(raylet)\u001b[0m /accounts/campus/sahilsaxena18/.conda/envs/vflow/lib/python3.9/site-packages/ray/dashboard/agent.py:152: DeprecationWarning: distutils Version classes are deprecated. Use packaging.version instead.\n",
      "\u001b[2m\u001b[33m(raylet)\u001b[0m   if LooseVersion(aiohttp.__version__) < LooseVersion(\"4.0.0\"):\n"
     ]
    }
   ],
   "source": [
    "X, y = make_regression(n_samples=1000, n_features=3, n_informative=1)\n",
    "\n",
    "# 20% of X entries missing\n",
    "i = np.random.randint(X.shape[0], size=round(X.shape[0]*X.shape[1] * 0.2))\n",
    "j = np.random.randint(X.shape[1], size=i.size)\n",
    "X[i, j] = np.nan\n",
    "\n",
    "X_trainval, X_test, y_trainval, y_test = train_test_split(X, y)\n",
    "X_train, X_val, y_train, y_val = train_test_split(X_trainval, y_trainval)\n",
    "\n",
    "X_train, y_train = init_args([X_train, y_train], names=['X_train', 'y_train'])\n",
    "X_val, y_val = init_args([X_val, y_val], names=['X_val', 'y_val'])"
   ]
  },
  {
   "cell_type": "code",
   "execution_count": 7,
   "id": "peripheral-pierre",
   "metadata": {},
   "outputs": [],
   "source": [
    "# bootstrap from training data by calling boot_fun\n",
    "X_trains, y_trains = boot_set(X_train, y_train)\n",
    "\n",
    "# apply three preprocessing methods to each bootstrap sample\n",
    "X_trains = preproc_set.fit_transform(X_trains)"
   ]
  },
  {
   "cell_type": "code",
   "execution_count": 8,
   "id": "continent-repeat",
   "metadata": {},
   "outputs": [
    {
     "ename": "RayTaskError(ValueError)",
     "evalue": "\u001b[36mray::_remote_fun()\u001b[39m (pid=1237637, ip=128.32.135.109)\n  File \"/accounts/campus/sahilsaxena18/yugroup/veridical-flow/vflow/vfunc.py\", line 41, in _remote_fun\n    return module(*args, **kwargs)\n  File \"/accounts/campus/sahilsaxena18/.conda/envs/vflow/lib/python3.9/site-packages/sklearn/ensemble/_forest.py\", line 392, in fit\n    self._validate_estimator()\n  File \"/accounts/campus/sahilsaxena18/.conda/envs/vflow/lib/python3.9/site-packages/sklearn/ensemble/_base.py\", line 131, in _validate_estimator\n    raise ValueError(\nValueError: n_estimators must be an integer, got <class 'dict'>.",
     "output_type": "error",
     "traceback": [
      "\u001b[0;31m---------------------------------------------------------------------------\u001b[0m",
      "\u001b[0;31mRayTaskError(ValueError)\u001b[0m                  Traceback (most recent call last)",
      "File \u001b[0;32m<timed eval>:2\u001b[0m, in \u001b[0;36m<module>\u001b[0;34m\u001b[0m\n",
      "File \u001b[0;32m~/yugroup/veridical-flow/vflow/vset.py:170\u001b[0m, in \u001b[0;36mVset.fit\u001b[0;34m(self, *args)\u001b[0m\n\u001b[1;32m    168\u001b[0m \u001b[38;5;28;01mfor\u001b[39;00m k, v \u001b[38;5;129;01min\u001b[39;00m \u001b[38;5;28mself\u001b[39m\u001b[38;5;241m.\u001b[39mvfuncs\u001b[38;5;241m.\u001b[39mitems():\n\u001b[1;32m    169\u001b[0m     out_dict[k] \u001b[38;5;241m=\u001b[39m v\u001b[38;5;241m.\u001b[39mfit\n\u001b[0;32m--> 170\u001b[0m \u001b[38;5;28mself\u001b[39m\u001b[38;5;241m.\u001b[39mfitted_vfuncs \u001b[38;5;241m=\u001b[39m \u001b[38;5;28;43mself\u001b[39;49m\u001b[38;5;241;43m.\u001b[39;49m\u001b[43m_apply_func\u001b[49m\u001b[43m(\u001b[49m\u001b[38;5;241;43m*\u001b[39;49m\u001b[43margs\u001b[49m\u001b[43m,\u001b[49m\u001b[43m \u001b[49m\u001b[43mout_dict\u001b[49m\u001b[38;5;241;43m=\u001b[39;49m\u001b[43mout_dict\u001b[49m\u001b[43m)\u001b[49m\n\u001b[1;32m    171\u001b[0m prev \u001b[38;5;241m=\u001b[39m \u001b[38;5;28mself\u001b[39m\u001b[38;5;241m.\u001b[39mfitted_vfuncs[PREV_KEY][\u001b[38;5;241m1\u001b[39m:]\n\u001b[1;32m    172\u001b[0m \u001b[38;5;28;01mif\u001b[39;00m \u001b[38;5;28mhasattr\u001b[39m(\u001b[38;5;28mself\u001b[39m, FILTER_PREV_KEY):\n",
      "File \u001b[0;32m~/yugroup/veridical-flow/vflow/vset.py:123\u001b[0m, in \u001b[0;36mVset._apply_func\u001b[0;34m(self, out_dict, *args)\u001b[0m\n\u001b[1;32m    120\u001b[0m     out_dict \u001b[38;5;241m=\u001b[39m deepcopy(\u001b[38;5;28mself\u001b[39m\u001b[38;5;241m.\u001b[39mvfuncs)\n\u001b[1;32m    122\u001b[0m apply_func_cached \u001b[38;5;241m=\u001b[39m \u001b[38;5;28mself\u001b[39m\u001b[38;5;241m.\u001b[39m_memory\u001b[38;5;241m.\u001b[39mcache(_apply_func_cached)\n\u001b[0;32m--> 123\u001b[0m out_dict \u001b[38;5;241m=\u001b[39m \u001b[43mapply_func_cached\u001b[49m\u001b[43m(\u001b[49m\u001b[43mout_dict\u001b[49m\u001b[43m,\u001b[49m\u001b[43m \u001b[49m\u001b[38;5;28;43mself\u001b[39;49m\u001b[38;5;241;43m.\u001b[39;49m\u001b[43m_async\u001b[49m\u001b[43m,\u001b[49m\u001b[43m \u001b[49m\u001b[38;5;28;43mself\u001b[39;49m\u001b[38;5;241;43m.\u001b[39;49m\u001b[43m_lazy\u001b[49m\u001b[43m,\u001b[49m\u001b[43m \u001b[49m\u001b[38;5;241;43m*\u001b[39;49m\u001b[43margs\u001b[49m\u001b[43m)\u001b[49m\n\u001b[1;32m    125\u001b[0m prev \u001b[38;5;241m=\u001b[39m \u001b[38;5;28mtuple\u001b[39m()\n\u001b[1;32m    126\u001b[0m \u001b[38;5;28;01mfor\u001b[39;00m arg \u001b[38;5;129;01min\u001b[39;00m args:\n",
      "File \u001b[0;32m~/.conda/envs/vflow/lib/python3.9/site-packages/joblib/memory.py:349\u001b[0m, in \u001b[0;36mNotMemorizedFunc.__call__\u001b[0;34m(self, *args, **kwargs)\u001b[0m\n\u001b[1;32m    348\u001b[0m \u001b[38;5;28;01mdef\u001b[39;00m \u001b[38;5;21m__call__\u001b[39m(\u001b[38;5;28mself\u001b[39m, \u001b[38;5;241m*\u001b[39margs, \u001b[38;5;241m*\u001b[39m\u001b[38;5;241m*\u001b[39mkwargs):\n\u001b[0;32m--> 349\u001b[0m     \u001b[38;5;28;01mreturn\u001b[39;00m \u001b[38;5;28;43mself\u001b[39;49m\u001b[38;5;241;43m.\u001b[39;49m\u001b[43mfunc\u001b[49m\u001b[43m(\u001b[49m\u001b[38;5;241;43m*\u001b[39;49m\u001b[43margs\u001b[49m\u001b[43m,\u001b[49m\u001b[43m \u001b[49m\u001b[38;5;241;43m*\u001b[39;49m\u001b[38;5;241;43m*\u001b[39;49m\u001b[43mkwargs\u001b[49m\u001b[43m)\u001b[49m\n",
      "File \u001b[0;32m~/yugroup/veridical-flow/vflow/vset.py:309\u001b[0m, in \u001b[0;36m_apply_func_cached\u001b[0;34m(out_dict, is_async, lazy, *args)\u001b[0m\n\u001b[1;32m    307\u001b[0m \u001b[38;5;28;01mif\u001b[39;00m is_async \u001b[38;5;129;01mand\u001b[39;00m \u001b[38;5;129;01mnot\u001b[39;00m lazy:\n\u001b[1;32m    308\u001b[0m     out_keys \u001b[38;5;241m=\u001b[39m \u001b[38;5;28mlist\u001b[39m(out_dict\u001b[38;5;241m.\u001b[39mkeys())\n\u001b[0;32m--> 309\u001b[0m     out_vals \u001b[38;5;241m=\u001b[39m \u001b[43mray\u001b[49m\u001b[38;5;241;43m.\u001b[39;49m\u001b[43mget\u001b[49m\u001b[43m(\u001b[49m\u001b[38;5;28;43mlist\u001b[39;49m\u001b[43m(\u001b[49m\u001b[43mout_dict\u001b[49m\u001b[38;5;241;43m.\u001b[39;49m\u001b[43mvalues\u001b[49m\u001b[43m(\u001b[49m\u001b[43m)\u001b[49m\u001b[43m)\u001b[49m\u001b[43m)\u001b[49m\n\u001b[1;32m    310\u001b[0m     out_dict \u001b[38;5;241m=\u001b[39m \u001b[38;5;28mdict\u001b[39m(\u001b[38;5;28mzip\u001b[39m(out_keys, out_vals))\n\u001b[1;32m    312\u001b[0m \u001b[38;5;28;01mreturn\u001b[39;00m out_dict\n",
      "File \u001b[0;32m~/.conda/envs/vflow/lib/python3.9/site-packages/ray/_private/client_mode_hook.py:105\u001b[0m, in \u001b[0;36mclient_mode_hook.<locals>.wrapper\u001b[0;34m(*args, **kwargs)\u001b[0m\n\u001b[1;32m    103\u001b[0m     \u001b[38;5;28;01mif\u001b[39;00m func\u001b[38;5;241m.\u001b[39m\u001b[38;5;18m__name__\u001b[39m \u001b[38;5;241m!=\u001b[39m \u001b[38;5;124m\"\u001b[39m\u001b[38;5;124minit\u001b[39m\u001b[38;5;124m\"\u001b[39m \u001b[38;5;129;01mor\u001b[39;00m is_client_mode_enabled_by_default:\n\u001b[1;32m    104\u001b[0m         \u001b[38;5;28;01mreturn\u001b[39;00m \u001b[38;5;28mgetattr\u001b[39m(ray, func\u001b[38;5;241m.\u001b[39m\u001b[38;5;18m__name__\u001b[39m)(\u001b[38;5;241m*\u001b[39margs, \u001b[38;5;241m*\u001b[39m\u001b[38;5;241m*\u001b[39mkwargs)\n\u001b[0;32m--> 105\u001b[0m \u001b[38;5;28;01mreturn\u001b[39;00m \u001b[43mfunc\u001b[49m\u001b[43m(\u001b[49m\u001b[38;5;241;43m*\u001b[39;49m\u001b[43margs\u001b[49m\u001b[43m,\u001b[49m\u001b[43m \u001b[49m\u001b[38;5;241;43m*\u001b[39;49m\u001b[38;5;241;43m*\u001b[39;49m\u001b[43mkwargs\u001b[49m\u001b[43m)\u001b[49m\n",
      "File \u001b[0;32m~/.conda/envs/vflow/lib/python3.9/site-packages/ray/worker.py:1713\u001b[0m, in \u001b[0;36mget\u001b[0;34m(object_refs, timeout)\u001b[0m\n\u001b[1;32m   1711\u001b[0m     worker\u001b[38;5;241m.\u001b[39mcore_worker\u001b[38;5;241m.\u001b[39mdump_object_store_memory_usage()\n\u001b[1;32m   1712\u001b[0m \u001b[38;5;28;01mif\u001b[39;00m \u001b[38;5;28misinstance\u001b[39m(value, RayTaskError):\n\u001b[0;32m-> 1713\u001b[0m     \u001b[38;5;28;01mraise\u001b[39;00m value\u001b[38;5;241m.\u001b[39mas_instanceof_cause()\n\u001b[1;32m   1714\u001b[0m \u001b[38;5;28;01melse\u001b[39;00m:\n\u001b[1;32m   1715\u001b[0m     \u001b[38;5;28;01mraise\u001b[39;00m value\n",
      "\u001b[0;31mRayTaskError(ValueError)\u001b[0m: \u001b[36mray::_remote_fun()\u001b[39m (pid=1237637, ip=128.32.135.109)\n  File \"/accounts/campus/sahilsaxena18/yugroup/veridical-flow/vflow/vfunc.py\", line 41, in _remote_fun\n    return module(*args, **kwargs)\n  File \"/accounts/campus/sahilsaxena18/.conda/envs/vflow/lib/python3.9/site-packages/sklearn/ensemble/_forest.py\", line 392, in fit\n    self._validate_estimator()\n  File \"/accounts/campus/sahilsaxena18/.conda/envs/vflow/lib/python3.9/site-packages/sklearn/ensemble/_base.py\", line 131, in _validate_estimator\n    raise ValueError(\nValueError: n_estimators must be an integer, got <class 'dict'>."
     ]
    }
   ],
   "source": [
    "%%time\n",
    "\n",
    "# this results in fitting all 4 RF models to each of the 30 boot/preproc combos\n",
    "RF_set.fit(X_trains, y_trains)"
   ]
  },
  {
   "cell_type": "markdown",
   "id": "2a7faf2c",
   "metadata": {},
   "source": [
    "We can examine the pipeline graph to see what happened so far using the utility function `build_graph`:"
   ]
  },
  {
   "cell_type": "code",
   "execution_count": 9,
   "id": "governmental-flooring",
   "metadata": {},
   "outputs": [
    {
     "data": {
      "text/plain": [
       "<networkx.classes.digraph.DiGraph at 0x7f6ccd90e250>"
      ]
     },
     "execution_count": 9,
     "metadata": {},
     "output_type": "execute_result"
    },
    {
     "data": {
      "image/png": "[encoded data removed]",
      "text/plain": [
       "<Figure size 432x288 with 1 Axes>"
      ]
     },
     "metadata": {},
     "output_type": "display_data"
    }
   ],
   "source": [
    "from vflow import build_graph\n",
    "\n",
    "# examine the pipeline graph\n",
    "build_graph(RF_set)"
   ]
  },
  {
   "cell_type": "markdown",
   "id": "92d468ec",
   "metadata": {},
   "source": [
    "### Calculate feature importances and perturbation statistics\n",
    "\n",
    "Finally, we calculate the importance metric and examine its mean and standard deviation across bootstrap perturbations for each combination of data preprocessing and modeling hyperparameters. This allows us to assess the stability of the feature importances conditioned on different pipeline paths:"
   ]
  },
  {
   "cell_type": "code",
   "execution_count": 10,
   "id": "proprietary-nudist",
   "metadata": {},
   "outputs": [
    {
     "name": "stderr",
     "output_type": "stream",
     "text": [
      "2022-02-02 12:38:45,604\tERROR worker.py:84 -- Unhandled error (suppress with RAY_IGNORE_UNHANDLED_ERRORS=1): \u001b[36mray::_remote_fun()\u001b[39m (pid=1237636, ip=128.32.135.109)\n",
      "  File \"/accounts/campus/sahilsaxena18/yugroup/veridical-flow/vflow/vfunc.py\", line 41, in _remote_fun\n",
      "    return module(*args, **kwargs)\n",
      "  File \"/accounts/campus/sahilsaxena18/.conda/envs/vflow/lib/python3.9/site-packages/sklearn/ensemble/_forest.py\", line 392, in fit\n",
      "    self._validate_estimator()\n",
      "  File \"/accounts/campus/sahilsaxena18/.conda/envs/vflow/lib/python3.9/site-packages/sklearn/ensemble/_base.py\", line 131, in _validate_estimator\n",
      "    raise ValueError(\n",
      "ValueError: n_estimators must be an integer, got <class 'dict'>.\n",
      "2022-02-02 12:38:45,605\tERROR worker.py:84 -- Unhandled error (suppress with RAY_IGNORE_UNHANDLED_ERRORS=1): \u001b[36mray::_remote_fun()\u001b[39m (pid=1237635, ip=128.32.135.109)\n",
      "  File \"/accounts/campus/sahilsaxena18/yugroup/veridical-flow/vflow/vfunc.py\", line 41, in _remote_fun\n",
      "    return module(*args, **kwargs)\n",
      "  File \"/accounts/campus/sahilsaxena18/.conda/envs/vflow/lib/python3.9/site-packages/sklearn/ensemble/_forest.py\", line 392, in fit\n",
      "    self._validate_estimator()\n",
      "  File \"/accounts/campus/sahilsaxena18/.conda/envs/vflow/lib/python3.9/site-packages/sklearn/ensemble/_base.py\", line 131, in _validate_estimator\n",
      "    raise ValueError(\n",
      "ValueError: n_estimators must be an integer, got <class 'dict'>.\n",
      "2022-02-02 12:38:45,607\tERROR worker.py:84 -- Unhandled error (suppress with RAY_IGNORE_UNHANDLED_ERRORS=1): \u001b[36mray::_remote_fun()\u001b[39m (pid=1237634, ip=128.32.135.109)\n",
      "  File \"/accounts/campus/sahilsaxena18/yugroup/veridical-flow/vflow/vfunc.py\", line 41, in _remote_fun\n",
      "    return module(*args, **kwargs)\n",
      "  File \"/accounts/campus/sahilsaxena18/.conda/envs/vflow/lib/python3.9/site-packages/sklearn/ensemble/_forest.py\", line 392, in fit\n",
      "    self._validate_estimator()\n",
      "  File \"/accounts/campus/sahilsaxena18/.conda/envs/vflow/lib/python3.9/site-packages/sklearn/ensemble/_base.py\", line 131, in _validate_estimator\n",
      "    raise ValueError(\n",
      "ValueError: n_estimators must be an integer, got <class 'dict'>.\n",
      "2022-02-02 12:38:45,608\tERROR worker.py:84 -- Unhandled error (suppress with RAY_IGNORE_UNHANDLED_ERRORS=1): \u001b[36mray::_remote_fun()\u001b[39m (pid=1237637, ip=128.32.135.109)\n",
      "  File \"/accounts/campus/sahilsaxena18/yugroup/veridical-flow/vflow/vfunc.py\", line 41, in _remote_fun\n",
      "    return module(*args, **kwargs)\n",
      "  File \"/accounts/campus/sahilsaxena18/.conda/envs/vflow/lib/python3.9/site-packages/sklearn/ensemble/_forest.py\", line 392, in fit\n",
      "    self._validate_estimator()\n",
      "  File \"/accounts/campus/sahilsaxena18/.conda/envs/vflow/lib/python3.9/site-packages/sklearn/ensemble/_base.py\", line 131, in _validate_estimator\n",
      "    raise ValueError(\n",
      "ValueError: n_estimators must be an integer, got <class 'dict'>.\n",
      "2022-02-02 12:38:45,609\tERROR worker.py:84 -- Unhandled error (suppress with RAY_IGNORE_UNHANDLED_ERRORS=1): \u001b[36mray::_remote_fun()\u001b[39m (pid=1237637, ip=128.32.135.109)\n",
      "  File \"/accounts/campus/sahilsaxena18/yugroup/veridical-flow/vflow/vfunc.py\", line 41, in _remote_fun\n",
      "    return module(*args, **kwargs)\n",
      "  File \"/accounts/campus/sahilsaxena18/.conda/envs/vflow/lib/python3.9/site-packages/sklearn/ensemble/_forest.py\", line 392, in fit\n",
      "    self._validate_estimator()\n",
      "  File \"/accounts/campus/sahilsaxena18/.conda/envs/vflow/lib/python3.9/site-packages/sklearn/ensemble/_base.py\", line 131, in _validate_estimator\n",
      "    raise ValueError(\n",
      "ValueError: n_estimators must be an integer, got <class 'dict'>.\n",
      "2022-02-02 12:38:45,611\tERROR worker.py:84 -- Unhandled error (suppress with RAY_IGNORE_UNHANDLED_ERRORS=1): \u001b[36mray::_remote_fun()\u001b[39m (pid=1237637, ip=128.32.135.109)\n",
      "  File \"/accounts/campus/sahilsaxena18/yugroup/veridical-flow/vflow/vfunc.py\", line 41, in _remote_fun\n",
      "    return module(*args, **kwargs)\n",
      "  File \"/accounts/campus/sahilsaxena18/.conda/envs/vflow/lib/python3.9/site-packages/sklearn/ensemble/_forest.py\", line 392, in fit\n",
      "    self._validate_estimator()\n",
      "  File \"/accounts/campus/sahilsaxena18/.conda/envs/vflow/lib/python3.9/site-packages/sklearn/ensemble/_base.py\", line 131, in _validate_estimator\n",
      "    raise ValueError(\n",
      "ValueError: n_estimators must be an integer, got <class 'dict'>.\n",
      "2022-02-02 12:38:45,612\tERROR worker.py:84 -- Unhandled error (suppress with RAY_IGNORE_UNHANDLED_ERRORS=1): \u001b[36mray::_remote_fun()\u001b[39m (pid=1237637, ip=128.32.135.109)\n",
      "  File \"/accounts/campus/sahilsaxena18/yugroup/veridical-flow/vflow/vfunc.py\", line 41, in _remote_fun\n",
      "    return module(*args, **kwargs)\n",
      "  File \"/accounts/campus/sahilsaxena18/.conda/envs/vflow/lib/python3.9/site-packages/sklearn/ensemble/_forest.py\", line 392, in fit\n",
      "    self._validate_estimator()\n",
      "  File \"/accounts/campus/sahilsaxena18/.conda/envs/vflow/lib/python3.9/site-packages/sklearn/ensemble/_base.py\", line 131, in _validate_estimator\n",
      "    raise ValueError(\n",
      "ValueError: n_estimators must be an integer, got <class 'dict'>.\n",
      "2022-02-02 12:38:45,614\tERROR worker.py:84 -- Unhandled error (suppress with RAY_IGNORE_UNHANDLED_ERRORS=1): \u001b[36mray::_remote_fun()\u001b[39m (pid=1237637, ip=128.32.135.109)\n",
      "  File \"/accounts/campus/sahilsaxena18/yugroup/veridical-flow/vflow/vfunc.py\", line 41, in _remote_fun\n",
      "    return module(*args, **kwargs)\n",
      "  File \"/accounts/campus/sahilsaxena18/.conda/envs/vflow/lib/python3.9/site-packages/sklearn/ensemble/_forest.py\", line 392, in fit\n",
      "    self._validate_estimator()\n",
      "  File \"/accounts/campus/sahilsaxena18/.conda/envs/vflow/lib/python3.9/site-packages/sklearn/ensemble/_base.py\", line 131, in _validate_estimator\n",
      "    raise ValueError(\n",
      "ValueError: n_estimators must be an integer, got <class 'dict'>.\n",
      "2022-02-02 12:38:45,615\tERROR worker.py:84 -- Unhandled error (suppress with RAY_IGNORE_UNHANDLED_ERRORS=1): \u001b[36mray::_remote_fun()\u001b[39m (pid=1237637, ip=128.32.135.109)\n",
      "  File \"/accounts/campus/sahilsaxena18/yugroup/veridical-flow/vflow/vfunc.py\", line 41, in _remote_fun\n",
      "    return module(*args, **kwargs)\n",
      "  File \"/accounts/campus/sahilsaxena18/.conda/envs/vflow/lib/python3.9/site-packages/sklearn/ensemble/_forest.py\", line 392, in fit\n",
      "    self._validate_estimator()\n",
      "  File \"/accounts/campus/sahilsaxena18/.conda/envs/vflow/lib/python3.9/site-packages/sklearn/ensemble/_base.py\", line 131, in _validate_estimator\n",
      "    raise ValueError(\n",
      "ValueError: n_estimators must be an integer, got <class 'dict'>.\n",
      "2022-02-02 12:38:45,617\tERROR worker.py:84 -- Unhandled error (suppress with RAY_IGNORE_UNHANDLED_ERRORS=1): \u001b[36mray::_remote_fun()\u001b[39m (pid=1237637, ip=128.32.135.109)\n",
      "  File \"/accounts/campus/sahilsaxena18/yugroup/veridical-flow/vflow/vfunc.py\", line 41, in _remote_fun\n",
      "    return module(*args, **kwargs)\n",
      "  File \"/accounts/campus/sahilsaxena18/.conda/envs/vflow/lib/python3.9/site-packages/sklearn/ensemble/_forest.py\", line 392, in fit\n",
      "    self._validate_estimator()\n",
      "  File \"/accounts/campus/sahilsaxena18/.conda/envs/vflow/lib/python3.9/site-packages/sklearn/ensemble/_base.py\", line 131, in _validate_estimator\n",
      "    raise ValueError(\n",
      "ValueError: n_estimators must be an integer, got <class 'dict'>.\n",
      "2022-02-02 12:38:45,618\tERROR worker.py:84 -- Unhandled error (suppress with RAY_IGNORE_UNHANDLED_ERRORS=1): \u001b[36mray::_remote_fun()\u001b[39m (pid=1237637, ip=128.32.135.109)\n",
      "  File \"/accounts/campus/sahilsaxena18/yugroup/veridical-flow/vflow/vfunc.py\", line 41, in _remote_fun\n",
      "    return module(*args, **kwargs)\n",
      "  File \"/accounts/campus/sahilsaxena18/.conda/envs/vflow/lib/python3.9/site-packages/sklearn/ensemble/_forest.py\", line 392, in fit\n",
      "    self._validate_estimator()\n",
      "  File \"/accounts/campus/sahilsaxena18/.conda/envs/vflow/lib/python3.9/site-packages/sklearn/ensemble/_base.py\", line 131, in _validate_estimator\n",
      "    raise ValueError(\n",
      "ValueError: n_estimators must be an integer, got <class 'dict'>.\n",
      "2022-02-02 12:38:45,619\tERROR worker.py:84 -- Unhandled error (suppress with RAY_IGNORE_UNHANDLED_ERRORS=1): \u001b[36mray::_remote_fun()\u001b[39m (pid=1237634, ip=128.32.135.109)\n",
      "  File \"/accounts/campus/sahilsaxena18/yugroup/veridical-flow/vflow/vfunc.py\", line 41, in _remote_fun\n",
      "    return module(*args, **kwargs)\n",
      "  File \"/accounts/campus/sahilsaxena18/.conda/envs/vflow/lib/python3.9/site-packages/sklearn/ensemble/_forest.py\", line 392, in fit\n",
      "    self._validate_estimator()\n",
      "  File \"/accounts/campus/sahilsaxena18/.conda/envs/vflow/lib/python3.9/site-packages/sklearn/ensemble/_base.py\", line 131, in _validate_estimator\n",
      "    raise ValueError(\n",
      "ValueError: n_estimators must be an integer, got <class 'dict'>.\n"
     ]
    },
    {
     "name": "stderr",
     "output_type": "stream",
     "text": [
      "2022-02-02 12:38:45,620\tERROR worker.py:84 -- Unhandled error (suppress with RAY_IGNORE_UNHANDLED_ERRORS=1): \u001b[36mray::_remote_fun()\u001b[39m (pid=1237636, ip=128.32.135.109)\n",
      "  File \"/accounts/campus/sahilsaxena18/yugroup/veridical-flow/vflow/vfunc.py\", line 41, in _remote_fun\n",
      "    return module(*args, **kwargs)\n",
      "  File \"/accounts/campus/sahilsaxena18/.conda/envs/vflow/lib/python3.9/site-packages/sklearn/ensemble/_forest.py\", line 392, in fit\n",
      "    self._validate_estimator()\n",
      "  File \"/accounts/campus/sahilsaxena18/.conda/envs/vflow/lib/python3.9/site-packages/sklearn/ensemble/_base.py\", line 131, in _validate_estimator\n",
      "    raise ValueError(\n",
      "ValueError: n_estimators must be an integer, got <class 'dict'>.\n",
      "2022-02-02 12:38:45,621\tERROR worker.py:84 -- Unhandled error (suppress with RAY_IGNORE_UNHANDLED_ERRORS=1): \u001b[36mray::_remote_fun()\u001b[39m (pid=1237635, ip=128.32.135.109)\n",
      "  File \"/accounts/campus/sahilsaxena18/yugroup/veridical-flow/vflow/vfunc.py\", line 41, in _remote_fun\n",
      "    return module(*args, **kwargs)\n",
      "  File \"/accounts/campus/sahilsaxena18/.conda/envs/vflow/lib/python3.9/site-packages/sklearn/ensemble/_forest.py\", line 392, in fit\n",
      "    self._validate_estimator()\n",
      "  File \"/accounts/campus/sahilsaxena18/.conda/envs/vflow/lib/python3.9/site-packages/sklearn/ensemble/_base.py\", line 131, in _validate_estimator\n",
      "    raise ValueError(\n",
      "ValueError: n_estimators must be an integer, got <class 'dict'>.\n",
      "2022-02-02 12:38:45,622\tERROR worker.py:84 -- Unhandled error (suppress with RAY_IGNORE_UNHANDLED_ERRORS=1): \u001b[36mray::_remote_fun()\u001b[39m (pid=1237637, ip=128.32.135.109)\n",
      "  File \"/accounts/campus/sahilsaxena18/yugroup/veridical-flow/vflow/vfunc.py\", line 41, in _remote_fun\n",
      "    return module(*args, **kwargs)\n",
      "  File \"/accounts/campus/sahilsaxena18/.conda/envs/vflow/lib/python3.9/site-packages/sklearn/ensemble/_forest.py\", line 392, in fit\n",
      "    self._validate_estimator()\n",
      "  File \"/accounts/campus/sahilsaxena18/.conda/envs/vflow/lib/python3.9/site-packages/sklearn/ensemble/_base.py\", line 131, in _validate_estimator\n",
      "    raise ValueError(\n",
      "ValueError: n_estimators must be an integer, got <class 'dict'>.\n",
      "2022-02-02 12:38:45,623\tERROR worker.py:84 -- Unhandled error (suppress with RAY_IGNORE_UNHANDLED_ERRORS=1): \u001b[36mray::_remote_fun()\u001b[39m (pid=1237635, ip=128.32.135.109)\n",
      "  File \"/accounts/campus/sahilsaxena18/yugroup/veridical-flow/vflow/vfunc.py\", line 41, in _remote_fun\n",
      "    return module(*args, **kwargs)\n",
      "  File \"/accounts/campus/sahilsaxena18/.conda/envs/vflow/lib/python3.9/site-packages/sklearn/ensemble/_forest.py\", line 392, in fit\n",
      "    self._validate_estimator()\n",
      "  File \"/accounts/campus/sahilsaxena18/.conda/envs/vflow/lib/python3.9/site-packages/sklearn/ensemble/_base.py\", line 131, in _validate_estimator\n",
      "    raise ValueError(\n",
      "ValueError: n_estimators must be an integer, got <class 'dict'>.\n",
      "2022-02-02 12:38:45,625\tERROR worker.py:84 -- Unhandled error (suppress with RAY_IGNORE_UNHANDLED_ERRORS=1): \u001b[36mray::_remote_fun()\u001b[39m (pid=1237634, ip=128.32.135.109)\n",
      "  File \"/accounts/campus/sahilsaxena18/yugroup/veridical-flow/vflow/vfunc.py\", line 41, in _remote_fun\n",
      "    return module(*args, **kwargs)\n",
      "  File \"/accounts/campus/sahilsaxena18/.conda/envs/vflow/lib/python3.9/site-packages/sklearn/ensemble/_forest.py\", line 392, in fit\n",
      "    self._validate_estimator()\n",
      "  File \"/accounts/campus/sahilsaxena18/.conda/envs/vflow/lib/python3.9/site-packages/sklearn/ensemble/_base.py\", line 131, in _validate_estimator\n",
      "    raise ValueError(\n",
      "ValueError: n_estimators must be an integer, got <class 'dict'>.\n",
      "2022-02-02 12:38:45,626\tERROR worker.py:84 -- Unhandled error (suppress with RAY_IGNORE_UNHANDLED_ERRORS=1): \u001b[36mray::_remote_fun()\u001b[39m (pid=1237636, ip=128.32.135.109)\n",
      "  File \"/accounts/campus/sahilsaxena18/yugroup/veridical-flow/vflow/vfunc.py\", line 41, in _remote_fun\n",
      "    return module(*args, **kwargs)\n",
      "  File \"/accounts/campus/sahilsaxena18/.conda/envs/vflow/lib/python3.9/site-packages/sklearn/ensemble/_forest.py\", line 392, in fit\n",
      "    self._validate_estimator()\n",
      "  File \"/accounts/campus/sahilsaxena18/.conda/envs/vflow/lib/python3.9/site-packages/sklearn/ensemble/_base.py\", line 131, in _validate_estimator\n",
      "    raise ValueError(\n",
      "ValueError: n_estimators must be an integer, got <class 'dict'>.\n",
      "2022-02-02 12:38:45,627\tERROR worker.py:84 -- Unhandled error (suppress with RAY_IGNORE_UNHANDLED_ERRORS=1): \u001b[36mray::_remote_fun()\u001b[39m (pid=1237637, ip=128.32.135.109)\n",
      "  File \"/accounts/campus/sahilsaxena18/yugroup/veridical-flow/vflow/vfunc.py\", line 41, in _remote_fun\n",
      "    return module(*args, **kwargs)\n",
      "  File \"/accounts/campus/sahilsaxena18/.conda/envs/vflow/lib/python3.9/site-packages/sklearn/ensemble/_forest.py\", line 392, in fit\n",
      "    self._validate_estimator()\n",
      "  File \"/accounts/campus/sahilsaxena18/.conda/envs/vflow/lib/python3.9/site-packages/sklearn/ensemble/_base.py\", line 131, in _validate_estimator\n",
      "    raise ValueError(\n",
      "ValueError: n_estimators must be an integer, got <class 'dict'>.\n",
      "2022-02-02 12:38:45,628\tERROR worker.py:84 -- Unhandled error (suppress with RAY_IGNORE_UNHANDLED_ERRORS=1): \u001b[36mray::_remote_fun()\u001b[39m (pid=1237635, ip=128.32.135.109)\n",
      "  File \"/accounts/campus/sahilsaxena18/yugroup/veridical-flow/vflow/vfunc.py\", line 41, in _remote_fun\n",
      "    return module(*args, **kwargs)\n",
      "  File \"/accounts/campus/sahilsaxena18/.conda/envs/vflow/lib/python3.9/site-packages/sklearn/ensemble/_forest.py\", line 392, in fit\n",
      "    self._validate_estimator()\n",
      "  File \"/accounts/campus/sahilsaxena18/.conda/envs/vflow/lib/python3.9/site-packages/sklearn/ensemble/_base.py\", line 131, in _validate_estimator\n",
      "    raise ValueError(\n",
      "ValueError: n_estimators must be an integer, got <class 'dict'>.\n",
      "2022-02-02 12:38:45,629\tERROR worker.py:84 -- Unhandled error (suppress with RAY_IGNORE_UNHANDLED_ERRORS=1): \u001b[36mray::_remote_fun()\u001b[39m (pid=1237634, ip=128.32.135.109)\n",
      "  File \"/accounts/campus/sahilsaxena18/yugroup/veridical-flow/vflow/vfunc.py\", line 41, in _remote_fun\n",
      "    return module(*args, **kwargs)\n",
      "  File \"/accounts/campus/sahilsaxena18/.conda/envs/vflow/lib/python3.9/site-packages/sklearn/ensemble/_forest.py\", line 392, in fit\n",
      "    self._validate_estimator()\n",
      "  File \"/accounts/campus/sahilsaxena18/.conda/envs/vflow/lib/python3.9/site-packages/sklearn/ensemble/_base.py\", line 131, in _validate_estimator\n",
      "    raise ValueError(\n",
      "ValueError: n_estimators must be an integer, got <class 'dict'>.\n",
      "2022-02-02 12:38:45,631\tERROR worker.py:84 -- Unhandled error (suppress with RAY_IGNORE_UNHANDLED_ERRORS=1): \u001b[36mray::_remote_fun()\u001b[39m (pid=1237636, ip=128.32.135.109)\n",
      "  File \"/accounts/campus/sahilsaxena18/yugroup/veridical-flow/vflow/vfunc.py\", line 41, in _remote_fun\n",
      "    return module(*args, **kwargs)\n",
      "  File \"/accounts/campus/sahilsaxena18/.conda/envs/vflow/lib/python3.9/site-packages/sklearn/ensemble/_forest.py\", line 392, in fit\n",
      "    self._validate_estimator()\n",
      "  File \"/accounts/campus/sahilsaxena18/.conda/envs/vflow/lib/python3.9/site-packages/sklearn/ensemble/_base.py\", line 131, in _validate_estimator\n",
      "    raise ValueError(\n",
      "ValueError: n_estimators must be an integer, got <class 'dict'>.\n",
      "2022-02-02 12:38:45,632\tERROR worker.py:84 -- Unhandled error (suppress with RAY_IGNORE_UNHANDLED_ERRORS=1): \u001b[36mray::_remote_fun()\u001b[39m (pid=1237637, ip=128.32.135.109)\n",
      "  File \"/accounts/campus/sahilsaxena18/yugroup/veridical-flow/vflow/vfunc.py\", line 41, in _remote_fun\n",
      "    return module(*args, **kwargs)\n",
      "  File \"/accounts/campus/sahilsaxena18/.conda/envs/vflow/lib/python3.9/site-packages/sklearn/ensemble/_forest.py\", line 392, in fit\n",
      "    self._validate_estimator()\n",
      "  File \"/accounts/campus/sahilsaxena18/.conda/envs/vflow/lib/python3.9/site-packages/sklearn/ensemble/_base.py\", line 131, in _validate_estimator\n",
      "    raise ValueError(\n",
      "ValueError: n_estimators must be an integer, got <class 'dict'>.\n",
      "2022-02-02 12:38:45,633\tERROR worker.py:84 -- Unhandled error (suppress with RAY_IGNORE_UNHANDLED_ERRORS=1): \u001b[36mray::_remote_fun()\u001b[39m (pid=1237636, ip=128.32.135.109)\n",
      "  File \"/accounts/campus/sahilsaxena18/yugroup/veridical-flow/vflow/vfunc.py\", line 41, in _remote_fun\n",
      "    return module(*args, **kwargs)\n",
      "  File \"/accounts/campus/sahilsaxena18/.conda/envs/vflow/lib/python3.9/site-packages/sklearn/ensemble/_forest.py\", line 392, in fit\n",
      "    self._validate_estimator()\n",
      "  File \"/accounts/campus/sahilsaxena18/.conda/envs/vflow/lib/python3.9/site-packages/sklearn/ensemble/_base.py\", line 131, in _validate_estimator\n",
      "    raise ValueError(\n",
      "ValueError: n_estimators must be an integer, got <class 'dict'>.\n"
     ]
    },
    {
     "name": "stderr",
     "output_type": "stream",
     "text": [
      "2022-02-02 12:38:45,645\tERROR worker.py:84 -- Unhandled error (suppress with RAY_IGNORE_UNHANDLED_ERRORS=1): \u001b[36mray::_remote_fun()\u001b[39m (pid=1237635, ip=128.32.135.109)\n",
      "  File \"/accounts/campus/sahilsaxena18/yugroup/veridical-flow/vflow/vfunc.py\", line 41, in _remote_fun\n",
      "    return module(*args, **kwargs)\n",
      "  File \"/accounts/campus/sahilsaxena18/.conda/envs/vflow/lib/python3.9/site-packages/sklearn/ensemble/_forest.py\", line 392, in fit\n",
      "    self._validate_estimator()\n",
      "  File \"/accounts/campus/sahilsaxena18/.conda/envs/vflow/lib/python3.9/site-packages/sklearn/ensemble/_base.py\", line 131, in _validate_estimator\n",
      "    raise ValueError(\n",
      "ValueError: n_estimators must be an integer, got <class 'dict'>.\n",
      "2022-02-02 12:38:45,645\tERROR worker.py:84 -- Unhandled error (suppress with RAY_IGNORE_UNHANDLED_ERRORS=1): \u001b[36mray::_remote_fun()\u001b[39m (pid=1237634, ip=128.32.135.109)\n",
      "  File \"/accounts/campus/sahilsaxena18/yugroup/veridical-flow/vflow/vfunc.py\", line 41, in _remote_fun\n",
      "    return module(*args, **kwargs)\n",
      "  File \"/accounts/campus/sahilsaxena18/.conda/envs/vflow/lib/python3.9/site-packages/sklearn/ensemble/_forest.py\", line 392, in fit\n",
      "    self._validate_estimator()\n",
      "  File \"/accounts/campus/sahilsaxena18/.conda/envs/vflow/lib/python3.9/site-packages/sklearn/ensemble/_base.py\", line 131, in _validate_estimator\n",
      "    raise ValueError(\n",
      "ValueError: n_estimators must be an integer, got <class 'dict'>.\n",
      "2022-02-02 12:38:45,652\tERROR worker.py:84 -- Unhandled error (suppress with RAY_IGNORE_UNHANDLED_ERRORS=1): \u001b[36mray::_remote_fun()\u001b[39m (pid=1237637, ip=128.32.135.109)\n",
      "  File \"/accounts/campus/sahilsaxena18/yugroup/veridical-flow/vflow/vfunc.py\", line 41, in _remote_fun\n",
      "    return module(*args, **kwargs)\n",
      "  File \"/accounts/campus/sahilsaxena18/.conda/envs/vflow/lib/python3.9/site-packages/sklearn/ensemble/_forest.py\", line 392, in fit\n",
      "    self._validate_estimator()\n",
      "  File \"/accounts/campus/sahilsaxena18/.conda/envs/vflow/lib/python3.9/site-packages/sklearn/ensemble/_base.py\", line 131, in _validate_estimator\n",
      "    raise ValueError(\n",
      "ValueError: n_estimators must be an integer, got <class 'dict'>.\n",
      "2022-02-02 12:38:45,653\tERROR worker.py:84 -- Unhandled error (suppress with RAY_IGNORE_UNHANDLED_ERRORS=1): \u001b[36mray::_remote_fun()\u001b[39m (pid=1237635, ip=128.32.135.109)\n",
      "  File \"/accounts/campus/sahilsaxena18/yugroup/veridical-flow/vflow/vfunc.py\", line 41, in _remote_fun\n",
      "    return module(*args, **kwargs)\n",
      "  File \"/accounts/campus/sahilsaxena18/.conda/envs/vflow/lib/python3.9/site-packages/sklearn/ensemble/_forest.py\", line 392, in fit\n",
      "    self._validate_estimator()\n",
      "  File \"/accounts/campus/sahilsaxena18/.conda/envs/vflow/lib/python3.9/site-packages/sklearn/ensemble/_base.py\", line 131, in _validate_estimator\n",
      "    raise ValueError(\n",
      "ValueError: n_estimators must be an integer, got <class 'dict'>.\n",
      "2022-02-02 12:38:45,654\tERROR worker.py:84 -- Unhandled error (suppress with RAY_IGNORE_UNHANDLED_ERRORS=1): \u001b[36mray::_remote_fun()\u001b[39m (pid=1237636, ip=128.32.135.109)\n",
      "  File \"/accounts/campus/sahilsaxena18/yugroup/veridical-flow/vflow/vfunc.py\", line 41, in _remote_fun\n",
      "    return module(*args, **kwargs)\n",
      "  File \"/accounts/campus/sahilsaxena18/.conda/envs/vflow/lib/python3.9/site-packages/sklearn/ensemble/_forest.py\", line 392, in fit\n",
      "    self._validate_estimator()\n",
      "  File \"/accounts/campus/sahilsaxena18/.conda/envs/vflow/lib/python3.9/site-packages/sklearn/ensemble/_base.py\", line 131, in _validate_estimator\n",
      "    raise ValueError(\n",
      "ValueError: n_estimators must be an integer, got <class 'dict'>.\n"
     ]
    },
    {
     "ename": "Exception",
     "evalue": "Need to run init_args before calling module_set!",
     "output_type": "error",
     "traceback": [
      "\u001b[0;31m---------------------------------------------------------------------------\u001b[0m",
      "\u001b[0;31mException\u001b[0m                                 Traceback (most recent call last)",
      "File \u001b[0;32m<timed exec>:4\u001b[0m, in \u001b[0;36m<module>\u001b[0;34m\u001b[0m\n",
      "File \u001b[0;32m~/yugroup/veridical-flow/vflow/vset.py:225\u001b[0m, in \u001b[0;36mVset.evaluate\u001b[0;34m(self, *args)\u001b[0m\n\u001b[1;32m    222\u001b[0m \u001b[38;5;28;01mdef\u001b[39;00m \u001b[38;5;21mevaluate\u001b[39m(\u001b[38;5;28mself\u001b[39m, \u001b[38;5;241m*\u001b[39margs):\n\u001b[1;32m    223\u001b[0m     \u001b[38;5;124;03m\"\"\"Combines dicts before calling `_apply_func`\u001b[39;00m\n\u001b[1;32m    224\u001b[0m \u001b[38;5;124;03m    \"\"\"\u001b[39;00m\n\u001b[0;32m--> 225\u001b[0m     \u001b[38;5;28;01mreturn\u001b[39;00m \u001b[38;5;28;43mself\u001b[39;49m\u001b[38;5;241;43m.\u001b[39;49m\u001b[43m_apply_func\u001b[49m\u001b[43m(\u001b[49m\u001b[38;5;241;43m*\u001b[39;49m\u001b[43margs\u001b[49m\u001b[43m)\u001b[49m\n",
      "File \u001b[0;32m~/yugroup/veridical-flow/vflow/vset.py:123\u001b[0m, in \u001b[0;36mVset._apply_func\u001b[0;34m(self, out_dict, *args)\u001b[0m\n\u001b[1;32m    120\u001b[0m     out_dict \u001b[38;5;241m=\u001b[39m deepcopy(\u001b[38;5;28mself\u001b[39m\u001b[38;5;241m.\u001b[39mvfuncs)\n\u001b[1;32m    122\u001b[0m apply_func_cached \u001b[38;5;241m=\u001b[39m \u001b[38;5;28mself\u001b[39m\u001b[38;5;241m.\u001b[39m_memory\u001b[38;5;241m.\u001b[39mcache(_apply_func_cached)\n\u001b[0;32m--> 123\u001b[0m out_dict \u001b[38;5;241m=\u001b[39m \u001b[43mapply_func_cached\u001b[49m\u001b[43m(\u001b[49m\u001b[43mout_dict\u001b[49m\u001b[43m,\u001b[49m\u001b[43m \u001b[49m\u001b[38;5;28;43mself\u001b[39;49m\u001b[38;5;241;43m.\u001b[39;49m\u001b[43m_async\u001b[49m\u001b[43m,\u001b[49m\u001b[43m \u001b[49m\u001b[38;5;28;43mself\u001b[39;49m\u001b[38;5;241;43m.\u001b[39;49m\u001b[43m_lazy\u001b[49m\u001b[43m,\u001b[49m\u001b[43m \u001b[49m\u001b[38;5;241;43m*\u001b[39;49m\u001b[43margs\u001b[49m\u001b[43m)\u001b[49m\n\u001b[1;32m    125\u001b[0m prev \u001b[38;5;241m=\u001b[39m \u001b[38;5;28mtuple\u001b[39m()\n\u001b[1;32m    126\u001b[0m \u001b[38;5;28;01mfor\u001b[39;00m arg \u001b[38;5;129;01min\u001b[39;00m args:\n",
      "File \u001b[0;32m~/.conda/envs/vflow/lib/python3.9/site-packages/joblib/memory.py:349\u001b[0m, in \u001b[0;36mNotMemorizedFunc.__call__\u001b[0;34m(self, *args, **kwargs)\u001b[0m\n\u001b[1;32m    348\u001b[0m \u001b[38;5;28;01mdef\u001b[39;00m \u001b[38;5;21m__call__\u001b[39m(\u001b[38;5;28mself\u001b[39m, \u001b[38;5;241m*\u001b[39margs, \u001b[38;5;241m*\u001b[39m\u001b[38;5;241m*\u001b[39mkwargs):\n\u001b[0;32m--> 349\u001b[0m     \u001b[38;5;28;01mreturn\u001b[39;00m \u001b[38;5;28;43mself\u001b[39;49m\u001b[38;5;241;43m.\u001b[39;49m\u001b[43mfunc\u001b[49m\u001b[43m(\u001b[49m\u001b[38;5;241;43m*\u001b[39;49m\u001b[43margs\u001b[49m\u001b[43m,\u001b[49m\u001b[43m \u001b[49m\u001b[38;5;241;43m*\u001b[39;49m\u001b[38;5;241;43m*\u001b[39;49m\u001b[43mkwargs\u001b[49m\u001b[43m)\u001b[49m\n",
      "File \u001b[0;32m~/yugroup/veridical-flow/vflow/vset.py:302\u001b[0m, in \u001b[0;36m_apply_func_cached\u001b[0;34m(out_dict, is_async, lazy, *args)\u001b[0m\n\u001b[1;32m    300\u001b[0m \u001b[38;5;28;01mfor\u001b[39;00m in_dict \u001b[38;5;129;01min\u001b[39;00m args:\n\u001b[1;32m    301\u001b[0m     \u001b[38;5;28;01mif\u001b[39;00m \u001b[38;5;129;01mnot\u001b[39;00m \u001b[38;5;28misinstance\u001b[39m(in_dict, \u001b[38;5;28mdict\u001b[39m):\n\u001b[0;32m--> 302\u001b[0m         \u001b[38;5;28;01mraise\u001b[39;00m \u001b[38;5;167;01mException\u001b[39;00m(\u001b[38;5;124m'\u001b[39m\u001b[38;5;124mNeed to run init_args before calling module_set!\u001b[39m\u001b[38;5;124m'\u001b[39m)\n\u001b[1;32m    304\u001b[0m data_dict \u001b[38;5;241m=\u001b[39m combine_dicts(\u001b[38;5;241m*\u001b[39margs)\n\u001b[1;32m    305\u001b[0m out_dict \u001b[38;5;241m=\u001b[39m apply_modules(out_dict, data_dict, lazy)\n",
      "\u001b[0;31mException\u001b[0m: Need to run init_args before calling module_set!"
     ]
    }
   ],
   "source": [
    "%%time\n",
    "\n",
    "from vflow import dict_to_df, perturbation_stats\n",
    "\n",
    "# calculate importances\n",
    "importances = feat_imp_set.evaluate(RF_set.fitted_vfuncs, preproc_set.fit_transform(X_val), y_val)"
   ]
  },
  {
   "cell_type": "markdown",
   "id": "d80d9a9e",
   "metadata": {},
   "source": [
    "Multiple outputs can be split with `dict_to_df` using `param_key='out'`. We use it below to split feature importances into mean and std:"
   ]
  },
  {
   "cell_type": "code",
   "execution_count": 11,
   "id": "upset-south",
   "metadata": {},
   "outputs": [
    {
     "ename": "NameError",
     "evalue": "name 'importances' is not defined",
     "output_type": "error",
     "traceback": [
      "\u001b[0;31m---------------------------------------------------------------------------\u001b[0m",
      "\u001b[0;31mNameError\u001b[0m                                 Traceback (most recent call last)",
      "Input \u001b[0;32mIn [11]\u001b[0m, in \u001b[0;36m<module>\u001b[0;34m\u001b[0m\n\u001b[1;32m      1\u001b[0m \u001b[38;5;66;03m# the helper dict_to_df converts the output to a pandas.DataFrame\u001b[39;00m\n\u001b[1;32m      2\u001b[0m \u001b[38;5;66;03m# using param_key='out' separates the importance dict into multiple cols\u001b[39;00m\n\u001b[0;32m----> 3\u001b[0m importances_df \u001b[38;5;241m=\u001b[39m dict_to_df(\u001b[43mimportances\u001b[49m, param_key\u001b[38;5;241m=\u001b[39m\u001b[38;5;124m'\u001b[39m\u001b[38;5;124mout\u001b[39m\u001b[38;5;124m'\u001b[39m)\n\u001b[1;32m      4\u001b[0m importances_df\n",
      "\u001b[0;31mNameError\u001b[0m: name 'importances' is not defined"
     ]
    }
   ],
   "source": [
    "# the helper dict_to_df converts the output to a pandas.DataFrame\n",
    "# using param_key='out' separates the importance dict into multiple cols\n",
    "importances_df = dict_to_df(importances, param_key='out')\n",
    "importances_df"
   ]
  },
  {
   "cell_type": "markdown",
   "id": "ba076236",
   "metadata": {},
   "source": [
    "We can compute statistics on a single iterable item of the output by passing `wrt=out-col` and `split=True`:"
   ]
  },
  {
   "cell_type": "code",
   "execution_count": null,
   "id": "duplicate-longer",
   "metadata": {},
   "outputs": [],
   "source": [
    "# get count, mean, and std of importances\n",
    "perturbation_stats(importances_df, 'preproc', 'RF', wrt='out-importances_mean', prefix='X', split=True)"
   ]
  },
  {
   "cell_type": "markdown",
   "id": "ec9c70f7",
   "metadata": {},
   "source": [
    "From here, we can (optionally) filter over the data preprocessing and modeling perturbations via the helper `filter_vset_by_metric` to select the top combinations in terms of stability (or another metric of interest) and continue our analysis on a held-out test set."
   ]
  },
  {
   "cell_type": "code",
   "execution_count": null,
   "id": "serious-greenhouse",
   "metadata": {},
   "outputs": [],
   "source": [
    "ray.shutdown()"
   ]
  }
 ],
 "metadata": {
  "kernelspec": {
   "display_name": "vflow",
   "language": "python",
   "name": "vflow"
  },
  "language_info": {
   "codemirror_mode": {
    "name": "ipython",
    "version": 3
   },
   "file_extension": ".py",
   "mimetype": "text/x-python",
   "name": "python",
   "nbconvert_exporter": "python",
   "pygments_lexer": "ipython3",
   "version": "3.9.9"
  }
 },
 "nbformat": 4,
 "nbformat_minor": 5
}

{
 "cells": [
  {
   "cell_type": "code",
   "execution_count": 10,
   "id": "correct-russian",
   "metadata": {},
   "outputs": [
    {
     "name": "stdout",
     "output_type": "stream",
     "text": [
      "The autoreload extension is already loaded. To reload it, use:\n",
      "  %reload_ext autoreload\n"
     ]
    }
   ],
   "source": [
    "%load_ext autoreload\n",
    "%autoreload 2\n",
    "\n",
    "from vflow import Vset, build_vset, init_args, dict_to_df, perturbation_stats\n",
    "from vflow.pipeline import build_graph\n",
    "\n",
    "from sklearn.datasets import make_regression\n",
    "from sklearn.model_selection import train_test_split\n",
    "from sklearn.utils import resample\n",
    "\n",
    "from sklearn.impute import KNNImputer, SimpleImputer\n",
    "\n",
    "import numpy as np\n",
    "import pandas as pd\n",
    "\n",
    "import ray\n",
    "\n",
    "pd.options.display.max_rows = 8\n",
    "np.random.seed(31415)"
   ]
  },
  {
   "cell_type": "markdown",
   "id": "fde466a3",
   "metadata": {},
   "source": [
    "# Feature Importance Stability"
   ]
  },
  {
   "cell_type": "markdown",
   "id": "a5d3e373",
   "metadata": {},
   "source": [
    "In this example, we will probe the the stability of the permutation feature importance metric for random forest relative to data resampling, data preprocessing, and model hyperparameter perturbations."
   ]
  },
  {
   "cell_type": "markdown",
   "id": "4cd40726",
   "metadata": {},
   "source": [
    "`vflow` supports automatic parallelization using `ray`. We can use `ray` to compute downstream results by setting `is_async=True` when constructing a `Vset`:"
   ]
  },
  {
   "cell_type": "code",
   "execution_count": 11,
   "id": "parental-package",
   "metadata": {},
   "outputs": [
    {
     "name": "stderr",
     "output_type": "stream",
     "text": [
      "2022-11-15 12:59:28,038\tINFO worker.py:1528 -- Started a local Ray instance.\n"
     ]
    },
    {
     "data": {
      "text/html": [
       "<div>\n",
       "    <div style=\"margin-left: 50px;display: flex;flex-direction: row;align-items: center\">\n",
       "        <h3 style=\"color: var(--jp-ui-font-color0)\">Ray</h3>\n",
       "        <svg version=\"1.1\" id=\"ray\" width=\"3em\" viewBox=\"0 0 144.5 144.6\" style=\"margin-left: 3em;margin-right: 3em\">\n",
       "            <g id=\"layer-1\">\n",
       "                <path fill=\"#00a2e9\" class=\"st0\" d=\"M97.3,77.2c-3.8-1.1-6.2,0.9-8.3,5.1c-3.5,6.8-9.9,9.9-17.4,9.6S58,88.1,54.8,81.2c-1.4-3-3-4-6.3-4.1\n",
       "                    c-5.6-0.1-9.9,0.1-13.1,6.4c-3.8,7.6-13.6,10.2-21.8,7.6C5.2,88.4-0.4,80.5,0,71.7c0.1-8.4,5.7-15.8,13.8-18.2\n",
       "                    c8.4-2.6,17.5,0.7,22.3,8c1.3,1.9,1.3,5.2,3.6,5.6c3.9,0.6,8,0.2,12,0.2c1.8,0,1.9-1.6,2.4-2.8c3.5-7.8,9.7-11.8,18-11.9\n",
       "                    c8.2-0.1,14.4,3.9,17.8,11.4c1.3,2.8,2.9,3.6,5.7,3.3c1-0.1,2,0.1,3,0c2.8-0.5,6.4,1.7,8.1-2.7s-2.3-5.5-4.1-7.5\n",
       "                    c-5.1-5.7-10.9-10.8-16.1-16.3C84,38,81.9,37.1,78,38.3C66.7,42,56.2,35.7,53,24.1C50.3,14,57.3,2.8,67.7,0.5\n",
       "                    C78.4-2,89,4.7,91.5,15.3c0.1,0.3,0.1,0.5,0.2,0.8c0.7,3.4,0.7,6.9-0.8,9.8c-1.7,3.2-0.8,5,1.5,7.2c6.7,6.5,13.3,13,19.8,19.7\n",
       "                    c1.8,1.8,3,2.1,5.5,1.2c9.1-3.4,17.9-0.6,23.4,7c4.8,6.9,4.6,16.1-0.4,22.9c-5.4,7.2-14.2,9.9-23.1,6.5c-2.3-0.9-3.5-0.6-5.1,1.1\n",
       "                    c-6.7,6.9-13.6,13.7-20.5,20.4c-1.8,1.8-2.5,3.2-1.4,5.9c3.5,8.7,0.3,18.6-7.7,23.6c-7.9,5-18.2,3.8-24.8-2.9\n",
       "                    c-6.4-6.4-7.4-16.2-2.5-24.3c4.9-7.8,14.5-11,23.1-7.8c3,1.1,4.7,0.5,6.9-1.7C91.7,98.4,98,92.3,104.2,86c1.6-1.6,4.1-2.7,2.6-6.2\n",
       "                    c-1.4-3.3-3.8-2.5-6.2-2.6C99.8,77.2,98.9,77.2,97.3,77.2z M72.1,29.7c5.5,0.1,9.9-4.3,10-9.8c0-0.1,0-0.2,0-0.3\n",
       "                    C81.8,14,77,9.8,71.5,10.2c-5,0.3-9,4.2-9.3,9.2c-0.2,5.5,4,10.1,9.5,10.3C71.8,29.7,72,29.7,72.1,29.7z M72.3,62.3\n",
       "                    c-5.4-0.1-9.9,4.2-10.1,9.7c0,0.2,0,0.3,0,0.5c0.2,5.4,4.5,9.7,9.9,10c5.1,0.1,9.9-4.7,10.1-9.8c0.2-5.5-4-10-9.5-10.3\n",
       "                    C72.6,62.3,72.4,62.3,72.3,62.3z M115,72.5c0.1,5.4,4.5,9.7,9.8,9.9c5.6-0.2,10-4.8,10-10.4c-0.2-5.4-4.6-9.7-10-9.7\n",
       "                    c-5.3-0.1-9.8,4.2-9.9,9.5C115,72.1,115,72.3,115,72.5z M19.5,62.3c-5.4,0.1-9.8,4.4-10,9.8c-0.1,5.1,5.2,10.4,10.2,10.3\n",
       "                    c5.6-0.2,10-4.9,9.8-10.5c-0.1-5.4-4.5-9.7-9.9-9.6C19.6,62.3,19.5,62.3,19.5,62.3z M71.8,134.6c5.9,0.2,10.3-3.9,10.4-9.6\n",
       "                    c0.5-5.5-3.6-10.4-9.1-10.8c-5.5-0.5-10.4,3.6-10.8,9.1c0,0.5,0,0.9,0,1.4c-0.2,5.3,4,9.8,9.3,10\n",
       "                    C71.6,134.6,71.7,134.6,71.8,134.6z\"/>\n",
       "            </g>\n",
       "        </svg>\n",
       "        <table>\n",
       "            <tr>\n",
       "                <td style=\"text-align: left\"><b>Python version:</b></td>\n",
       "                <td style=\"text-align: left\"><b>3.10.6</b></td>\n",
       "            </tr>\n",
       "            <tr>\n",
       "                <td style=\"text-align: left\"><b>Ray version:</b></td>\n",
       "                <td style=\"text-align: left\"><b> 2.1.0</b></td>\n",
       "            </tr>\n",
       "            \n",
       "        </table>\n",
       "    </div>\n",
       "</div>\n"
      ],
      "text/plain": [
       "RayContext(dashboard_url='', python_version='3.10.6', ray_version='2.1.0', ray_commit='be49bde7ee4f6adb3f8710aee0665c27f9f0bb62', address_info={'node_ip_address': '10.142.158.201', 'raylet_ip_address': '10.142.158.201', 'redis_address': None, 'object_store_address': '/tmp/ray/session_2022-11-15_12-59-26_339398_64943/sockets/plasma_store', 'raylet_socket_name': '/tmp/ray/session_2022-11-15_12-59-26_339398_64943/sockets/raylet', 'webui_url': '', 'session_dir': '/tmp/ray/session_2022-11-15_12-59-26_339398_64943', 'metrics_export_port': 64139, 'gcs_address': '10.142.158.201:59353', 'address': '10.142.158.201:59353', 'dashboard_agent_listen_port': 52365, 'node_id': 'eb3314489a9fcf42dbb1d604da40fccca77d6a3378da04c7891c6c9c'})"
      ]
     },
     "execution_count": 11,
     "metadata": {},
     "output_type": "execute_result"
    }
   ],
   "source": [
    "ray.init(num_cpus=4)"
   ]
  },
  {
   "cell_type": "markdown",
   "id": "ed11fcf3",
   "metadata": {},
   "source": [
    "### Define stability target\n",
    "\n",
    "Below, we create a `Vset` which applies three custom data preprocessing functions and another that calculates the permutation importance metric via the function `sklearn.inspection.permutation_importance`."
   ]
  },
  {
   "cell_type": "code",
   "execution_count": 12,
   "id": "complimentary-mathematics",
   "metadata": {},
   "outputs": [],
   "source": [
    "from vflow import Vset\n",
    "from sklearn.impute import KNNImputer, SimpleImputer\n",
    "from sklearn.inspection import permutation_importance\n",
    "\n",
    "preproc_list = [SimpleImputer(strategy='mean'),\n",
    "                SimpleImputer(strategy='median'),\n",
    "                KNNImputer()]\n",
    "\n",
    "# create a Vset which varies over the list of preprocessing methods\n",
    "preproc_set = Vset(\"preproc\", preproc_list, ['mean', 'med', 'knn'], \n",
    "                   output_matching=True, lazy=True)\n",
    "\n",
    "# create the feature importance Vset\n",
    "feat_imp_set = build_vset('feat_imp', permutation_importance, \n",
    "                          n_repeats=3, is_async=True)"
   ]
  },
  {
   "cell_type": "markdown",
   "id": "31b17b11",
   "metadata": {},
   "source": [
    "### Define model hyperparameter perturbations\n",
    "\n",
    "We can also specify modeling perturbations, both within a single class of models (hyperparameter perturbations) and across different classes. Here we'll use the helper `build_vset` to create hyperparameter perturbations for random forest."
   ]
  },
  {
   "cell_type": "code",
   "execution_count": 13,
   "id": "spare-pickup",
   "metadata": {},
   "outputs": [],
   "source": [
    "from sklearn.ensemble import RandomForestRegressor as RF\n",
    "from vflow import build_vset\n",
    "\n",
    "# hyperparameters to try\n",
    "RF_params = {\n",
    "    'n_estimators': [100, 300],\n",
    "    'min_samples_split': [2, 10]\n",
    "}\n",
    "\n",
    "# we could instead pass a list of distinct models and corresponding param dicts\n",
    "RF_set = build_vset('RF', RF, RF_params, is_async=True)"
   ]
  },
  {
   "cell_type": "markdown",
   "id": "15d44cfb",
   "metadata": {},
   "source": [
    "### Define data perturbations\n",
    "\n",
    "For stability analysis, it is often useful to add data perturbations such as the bootstrap in order to assess stability over resampling variability in the data. We can lazily compute the bootstrap, such that data will not be resampled until needed, by setting `lazy=True` when constructing a `Vset`:"
   ]
  },
  {
   "cell_type": "code",
   "execution_count": 14,
   "id": "finnish-drinking",
   "metadata": {},
   "outputs": [],
   "source": [
    "from sklearn.utils import resample\n",
    "\n",
    "# create a Vset for bootstrapping from data 10 times\n",
    "# we use lazy=True so that the data will not be resampled until needed\n",
    "boot_set = build_vset('boot', resample, reps=10, lazy=True)"
   ]
  },
  {
   "cell_type": "markdown",
   "id": "e55dd36e",
   "metadata": {},
   "source": [
    "### Fit all models for all combinations of resampling and preprocessing\n",
    "\n",
    "Now we can load in our data and fit each of the four random forest models to the 300 combinations of resampled training data and preprocessing functions."
   ]
  },
  {
   "cell_type": "code",
   "execution_count": 15,
   "id": "compound-coral",
   "metadata": {},
   "outputs": [],
   "source": [
    "X, y = make_regression(n_samples=1000, n_features=3, n_informative=1)\n",
    "\n",
    "# 20% of X entries missing\n",
    "i = np.random.randint(X.shape[0], size=round(X.shape[0]*X.shape[1] * 0.2))\n",
    "j = np.random.randint(X.shape[1], size=i.size)\n",
    "X[i, j] = np.nan\n",
    "\n",
    "X_trainval, X_test, y_trainval, y_test = train_test_split(X, y)\n",
    "X_train, X_val, y_train, y_val = train_test_split(X_trainval, y_trainval)\n",
    "\n",
    "X_train, y_train = init_args([X_train, y_train], names=['X_train', 'y_train'])\n",
    "X_val, y_val = init_args([X_val, y_val], names=['X_val', 'y_val'])"
   ]
  },
  {
   "cell_type": "code",
   "execution_count": 16,
   "id": "peripheral-pierre",
   "metadata": {},
   "outputs": [],
   "source": [
    "# bootstrap from training data by calling boot_fun\n",
    "X_trains, y_trains = boot_set(X_train, y_train)\n",
    "\n",
    "# apply three preprocessing methods to each bootstrap sample\n",
    "X_trains = preproc_set.fit_transform(X_trains)"
   ]
  },
  {
   "cell_type": "code",
   "execution_count": 17,
   "id": "continent-repeat",
   "metadata": {},
   "outputs": [
    {
     "name": "stdout",
     "output_type": "stream",
     "text": [
      "CPU times: user 1.19 s, sys: 230 ms, total: 1.42 s\n",
      "Wall time: 8.57 s\n"
     ]
    },
    {
     "data": {
      "text/plain": [
       "<vflow.vset.Vset at 0x7f2cd8267040>"
      ]
     },
     "execution_count": 17,
     "metadata": {},
     "output_type": "execute_result"
    }
   ],
   "source": [
    "%%time\n",
    "\n",
    "# this results in fitting all 4 RF models to each of the 30 boot/preproc combos\n",
    "RF_set.fit(X_trains, y_trains)"
   ]
  },
  {
   "cell_type": "markdown",
   "id": "2a7faf2c",
   "metadata": {},
   "source": [
    "We can examine the pipeline graph to see what happened so far using the utility function `build_graph`:"
   ]
  },
  {
   "cell_type": "code",
   "execution_count": 18,
   "id": "governmental-flooring",
   "metadata": {},
   "outputs": [
    {
     "data": {
      "text/plain": [
       "<networkx.classes.digraph.DiGraph at 0x7f2d223866b0>"
      ]
     },
     "execution_count": 18,
     "metadata": {},
     "output_type": "execute_result"
    },
    {
     "data": {
      "image/png": "[encoded data removed]",
      "text/plain": [
       "<Figure size 640x480 with 1 Axes>"
      ]
     },
     "metadata": {},
     "output_type": "display_data"
    }
   ],
   "source": [
    "from vflow import build_graph\n",
    "\n",
    "# examine the pipeline graph\n",
    "build_graph(RF_set)"
   ]
  },
  {
   "cell_type": "markdown",
   "id": "92d468ec",
   "metadata": {},
   "source": [
    "### Calculate feature importances and perturbation statistics\n",
    "\n",
    "Finally, we calculate the importance metric and examine its mean and standard deviation across bootstrap perturbations for each combination of data preprocessing and modeling hyperparameters. This allows us to assess the stability of the feature importances conditioned on different pipeline paths:"
   ]
  },
  {
   "cell_type": "code",
   "execution_count": 19,
   "id": "proprietary-nudist",
   "metadata": {},
   "outputs": [
    {
     "name": "stdout",
     "output_type": "stream",
     "text": [
      "CPU times: user 1.58 s, sys: 0 ns, total: 1.58 s\n",
      "Wall time: 4.52 s\n"
     ]
    }
   ],
   "source": [
    "%%time\n",
    "\n",
    "from vflow import dict_to_df, perturbation_stats\n",
    "\n",
    "# calculate importances\n",
    "importances = feat_imp_set.evaluate(RF_set.fitted_vfuncs, preproc_set.fit_transform(X_val), y_val)"
   ]
  },
  {
   "cell_type": "markdown",
   "id": "d80d9a9e",
   "metadata": {},
   "source": [
    "Multiple outputs can be split with `dict_to_df` using `param_key='out'`. We use it below to split feature importances into mean and std:"
   ]
  },
  {
   "cell_type": "code",
   "execution_count": 20,
   "id": "upset-south",
   "metadata": {},
   "outputs": [
    {
     "name": "stderr",
     "output_type": "stream",
     "text": [
      "/home/james/repos/Yu-Group/veridical-flow/vflow/utils.py:225: FutureWarning: DataFrame.set_axis 'inplace' keyword is deprecated and will be removed in a future version. Use `obj = obj.set_axis(..., copy=False)` instead\n",
      "  df.set_axis(cols, axis=1, inplace=True)\n"
     ]
    },
    {
     "data": {
      "text/html": [
       "<div>\n",
       "<style scoped>\n",
       "    .dataframe tbody tr th:only-of-type {\n",
       "        vertical-align: middle;\n",
       "    }\n",
       "\n",
       "    .dataframe tbody tr th {\n",
       "        vertical-align: top;\n",
       "    }\n",
       "\n",
       "    .dataframe thead th {\n",
       "        text-align: right;\n",
       "    }\n",
       "</style>\n",
       "<table border=\"1\" class=\"dataframe\">\n",
       "  <thead>\n",
       "    <tr style=\"text-align: right;\">\n",
       "      <th></th>\n",
       "      <th>init-boot</th>\n",
       "      <th>boot</th>\n",
       "      <th>init-preproc</th>\n",
       "      <th>preproc</th>\n",
       "      <th>init-RF</th>\n",
       "      <th>RF</th>\n",
       "      <th>init-feat_imp</th>\n",
       "      <th>init-feat_imp</th>\n",
       "      <th>init-feat_imp</th>\n",
       "      <th>feat_imp</th>\n",
       "      <th>out</th>\n",
       "      <th>out-importances_mean</th>\n",
       "      <th>out-importances_std</th>\n",
       "      <th>out-importances</th>\n",
       "    </tr>\n",
       "  </thead>\n",
       "  <tbody>\n",
       "    <tr>\n",
       "      <th>0</th>\n",
       "      <td>X_train</td>\n",
       "      <td>(rep=0, func=resample)</td>\n",
       "      <td>X_train</td>\n",
       "      <td>mean</td>\n",
       "      <td>y_train</td>\n",
       "      <td>(func=RandomForestRegressor, n_estimators=100,...</td>\n",
       "      <td>X_val</td>\n",
       "      <td>X_val</td>\n",
       "      <td>y_val</td>\n",
       "      <td>feat_imp_0</td>\n",
       "      <td>{'importances_mean': [-0.009932776917497721, -...</td>\n",
       "      <td>[-0.009932776917497721, -0.04070469572987978, ...</td>\n",
       "      <td>[0.02807632315272223, 0.0207214174976573, 0.17...</td>\n",
       "      <td>[[-0.043482796313648375, -0.011548445063171542...</td>\n",
       "    </tr>\n",
       "    <tr>\n",
       "      <th>1</th>\n",
       "      <td>X_train</td>\n",
       "      <td>(rep=1, func=resample)</td>\n",
       "      <td>X_train</td>\n",
       "      <td>mean</td>\n",
       "      <td>y_train</td>\n",
       "      <td>(func=RandomForestRegressor, n_estimators=100,...</td>\n",
       "      <td>X_val</td>\n",
       "      <td>X_val</td>\n",
       "      <td>y_val</td>\n",
       "      <td>feat_imp_0</td>\n",
       "      <td>{'importances_mean': [0.00160611171388166, -0....</td>\n",
       "      <td>[0.00160611171388166, -0.008456642182130492, 1...</td>\n",
       "      <td>[0.006726329191110503, 0.0022083045870299653, ...</td>\n",
       "      <td>[[0.000407542364921909, -0.0059669857746053045...</td>\n",
       "    </tr>\n",
       "    <tr>\n",
       "      <th>2</th>\n",
       "      <td>X_train</td>\n",
       "      <td>(rep=2, func=resample)</td>\n",
       "      <td>X_train</td>\n",
       "      <td>mean</td>\n",
       "      <td>y_train</td>\n",
       "      <td>(func=RandomForestRegressor, n_estimators=100,...</td>\n",
       "      <td>X_val</td>\n",
       "      <td>X_val</td>\n",
       "      <td>y_val</td>\n",
       "      <td>feat_imp_0</td>\n",
       "      <td>{'importances_mean': [0.055381280590333426, 0....</td>\n",
       "      <td>[0.055381280590333426, 0.02134881478117941, 1....</td>\n",
       "      <td>[0.040643441849098585, 0.012224976089989572, 0...</td>\n",
       "      <td>[[0.04922666330000902, 0.10795025078083897, 0....</td>\n",
       "    </tr>\n",
       "    <tr>\n",
       "      <th>3</th>\n",
       "      <td>X_train</td>\n",
       "      <td>(rep=3, func=resample)</td>\n",
       "      <td>X_train</td>\n",
       "      <td>mean</td>\n",
       "      <td>y_train</td>\n",
       "      <td>(func=RandomForestRegressor, n_estimators=100,...</td>\n",
       "      <td>X_val</td>\n",
       "      <td>X_val</td>\n",
       "      <td>y_val</td>\n",
       "      <td>feat_imp_0</td>\n",
       "      <td>{'importances_mean': [0.011021345773666757, 0....</td>\n",
       "      <td>[0.011021345773666757, 0.00853453502359014, 1....</td>\n",
       "      <td>[0.016820928151262623, 0.021516585395633524, 0...</td>\n",
       "      <td>[[-0.012280288405732698, 0.02681834414642581, ...</td>\n",
       "    </tr>\n",
       "    <tr>\n",
       "      <th>...</th>\n",
       "      <td>...</td>\n",
       "      <td>...</td>\n",
       "      <td>...</td>\n",
       "      <td>...</td>\n",
       "      <td>...</td>\n",
       "      <td>...</td>\n",
       "      <td>...</td>\n",
       "      <td>...</td>\n",
       "      <td>...</td>\n",
       "      <td>...</td>\n",
       "      <td>...</td>\n",
       "      <td>...</td>\n",
       "      <td>...</td>\n",
       "      <td>...</td>\n",
       "    </tr>\n",
       "    <tr>\n",
       "      <th>116</th>\n",
       "      <td>X_train</td>\n",
       "      <td>(rep=6, func=resample)</td>\n",
       "      <td>X_train</td>\n",
       "      <td>knn</td>\n",
       "      <td>y_train</td>\n",
       "      <td>(func=RandomForestRegressor, n_estimators=300,...</td>\n",
       "      <td>X_val</td>\n",
       "      <td>X_val</td>\n",
       "      <td>y_val</td>\n",
       "      <td>feat_imp_0</td>\n",
       "      <td>{'importances_mean': [0.007412483189494686, -0...</td>\n",
       "      <td>[0.007412483189494686, -0.007532937920816736, ...</td>\n",
       "      <td>[0.01412085232161868, 0.023437001839893418, 0....</td>\n",
       "      <td>[[-0.002858726987412852, 0.027379621798113818,...</td>\n",
       "    </tr>\n",
       "    <tr>\n",
       "      <th>117</th>\n",
       "      <td>X_train</td>\n",
       "      <td>(rep=7, func=resample)</td>\n",
       "      <td>X_train</td>\n",
       "      <td>knn</td>\n",
       "      <td>y_train</td>\n",
       "      <td>(func=RandomForestRegressor, n_estimators=300,...</td>\n",
       "      <td>X_val</td>\n",
       "      <td>X_val</td>\n",
       "      <td>y_val</td>\n",
       "      <td>feat_imp_0</td>\n",
       "      <td>{'importances_mean': [-0.011173182297858797, 0...</td>\n",
       "      <td>[-0.011173182297858797, 0.0028564120945974527,...</td>\n",
       "      <td>[0.02007232767747927, 0.0018915591706521987, 0...</td>\n",
       "      <td>[[-0.014608678746148351, 0.014947343036760374,...</td>\n",
       "    </tr>\n",
       "    <tr>\n",
       "      <th>118</th>\n",
       "      <td>X_train</td>\n",
       "      <td>(rep=8, func=resample)</td>\n",
       "      <td>X_train</td>\n",
       "      <td>knn</td>\n",
       "      <td>y_train</td>\n",
       "      <td>(func=RandomForestRegressor, n_estimators=300,...</td>\n",
       "      <td>X_val</td>\n",
       "      <td>X_val</td>\n",
       "      <td>y_val</td>\n",
       "      <td>feat_imp_0</td>\n",
       "      <td>{'importances_mean': [0.004123171923337147, -0...</td>\n",
       "      <td>[0.004123171923337147, -0.03592749164760323, 1...</td>\n",
       "      <td>[0.008854347365617389, 0.0032036541951960813, ...</td>\n",
       "      <td>[[0.015223634066613423, 0.0035913077235798507,...</td>\n",
       "    </tr>\n",
       "    <tr>\n",
       "      <th>119</th>\n",
       "      <td>X_train</td>\n",
       "      <td>(rep=9, func=resample)</td>\n",
       "      <td>X_train</td>\n",
       "      <td>knn</td>\n",
       "      <td>y_train</td>\n",
       "      <td>(func=RandomForestRegressor, n_estimators=300,...</td>\n",
       "      <td>X_val</td>\n",
       "      <td>X_val</td>\n",
       "      <td>y_val</td>\n",
       "      <td>feat_imp_0</td>\n",
       "      <td>{'importances_mean': [0.0185297391983702, -0.0...</td>\n",
       "      <td>[0.0185297391983702, -0.015749514121496316, 1....</td>\n",
       "      <td>[0.012357649757708106, 0.010695031046462512, 0...</td>\n",
       "      <td>[[0.0265756397455037, 0.027942371330881066, 0....</td>\n",
       "    </tr>\n",
       "  </tbody>\n",
       "</table>\n",
       "<p>120 rows × 14 columns</p>\n",
       "</div>"
      ],
      "text/plain": [
       "    init-boot                    boot init-preproc preproc  init-RF  \\\n",
       "0     X_train  (rep=0, func=resample)      X_train    mean  y_train   \n",
       "1     X_train  (rep=1, func=resample)      X_train    mean  y_train   \n",
       "2     X_train  (rep=2, func=resample)      X_train    mean  y_train   \n",
       "3     X_train  (rep=3, func=resample)      X_train    mean  y_train   \n",
       "..        ...                     ...          ...     ...      ...   \n",
       "116   X_train  (rep=6, func=resample)      X_train     knn  y_train   \n",
       "117   X_train  (rep=7, func=resample)      X_train     knn  y_train   \n",
       "118   X_train  (rep=8, func=resample)      X_train     knn  y_train   \n",
       "119   X_train  (rep=9, func=resample)      X_train     knn  y_train   \n",
       "\n",
       "                                                    RF init-feat_imp  \\\n",
       "0    (func=RandomForestRegressor, n_estimators=100,...         X_val   \n",
       "1    (func=RandomForestRegressor, n_estimators=100,...         X_val   \n",
       "2    (func=RandomForestRegressor, n_estimators=100,...         X_val   \n",
       "3    (func=RandomForestRegressor, n_estimators=100,...         X_val   \n",
       "..                                                 ...           ...   \n",
       "116  (func=RandomForestRegressor, n_estimators=300,...         X_val   \n",
       "117  (func=RandomForestRegressor, n_estimators=300,...         X_val   \n",
       "118  (func=RandomForestRegressor, n_estimators=300,...         X_val   \n",
       "119  (func=RandomForestRegressor, n_estimators=300,...         X_val   \n",
       "\n",
       "    init-feat_imp init-feat_imp    feat_imp  \\\n",
       "0           X_val         y_val  feat_imp_0   \n",
       "1           X_val         y_val  feat_imp_0   \n",
       "2           X_val         y_val  feat_imp_0   \n",
       "3           X_val         y_val  feat_imp_0   \n",
       "..            ...           ...         ...   \n",
       "116         X_val         y_val  feat_imp_0   \n",
       "117         X_val         y_val  feat_imp_0   \n",
       "118         X_val         y_val  feat_imp_0   \n",
       "119         X_val         y_val  feat_imp_0   \n",
       "\n",
       "                                                   out  \\\n",
       "0    {'importances_mean': [-0.009932776917497721, -...   \n",
       "1    {'importances_mean': [0.00160611171388166, -0....   \n",
       "2    {'importances_mean': [0.055381280590333426, 0....   \n",
       "3    {'importances_mean': [0.011021345773666757, 0....   \n",
       "..                                                 ...   \n",
       "116  {'importances_mean': [0.007412483189494686, -0...   \n",
       "117  {'importances_mean': [-0.011173182297858797, 0...   \n",
       "118  {'importances_mean': [0.004123171923337147, -0...   \n",
       "119  {'importances_mean': [0.0185297391983702, -0.0...   \n",
       "\n",
       "                                  out-importances_mean  \\\n",
       "0    [-0.009932776917497721, -0.04070469572987978, ...   \n",
       "1    [0.00160611171388166, -0.008456642182130492, 1...   \n",
       "2    [0.055381280590333426, 0.02134881478117941, 1....   \n",
       "3    [0.011021345773666757, 0.00853453502359014, 1....   \n",
       "..                                                 ...   \n",
       "116  [0.007412483189494686, -0.007532937920816736, ...   \n",
       "117  [-0.011173182297858797, 0.0028564120945974527,...   \n",
       "118  [0.004123171923337147, -0.03592749164760323, 1...   \n",
       "119  [0.0185297391983702, -0.015749514121496316, 1....   \n",
       "\n",
       "                                   out-importances_std  \\\n",
       "0    [0.02807632315272223, 0.0207214174976573, 0.17...   \n",
       "1    [0.006726329191110503, 0.0022083045870299653, ...   \n",
       "2    [0.040643441849098585, 0.012224976089989572, 0...   \n",
       "3    [0.016820928151262623, 0.021516585395633524, 0...   \n",
       "..                                                 ...   \n",
       "116  [0.01412085232161868, 0.023437001839893418, 0....   \n",
       "117  [0.02007232767747927, 0.0018915591706521987, 0...   \n",
       "118  [0.008854347365617389, 0.0032036541951960813, ...   \n",
       "119  [0.012357649757708106, 0.010695031046462512, 0...   \n",
       "\n",
       "                                       out-importances  \n",
       "0    [[-0.043482796313648375, -0.011548445063171542...  \n",
       "1    [[0.000407542364921909, -0.0059669857746053045...  \n",
       "2    [[0.04922666330000902, 0.10795025078083897, 0....  \n",
       "3    [[-0.012280288405732698, 0.02681834414642581, ...  \n",
       "..                                                 ...  \n",
       "116  [[-0.002858726987412852, 0.027379621798113818,...  \n",
       "117  [[-0.014608678746148351, 0.014947343036760374,...  \n",
       "118  [[0.015223634066613423, 0.0035913077235798507,...  \n",
       "119  [[0.0265756397455037, 0.027942371330881066, 0....  \n",
       "\n",
       "[120 rows x 14 columns]"
      ]
     },
     "execution_count": 20,
     "metadata": {},
     "output_type": "execute_result"
    }
   ],
   "source": [
    "# the helper dict_to_df converts the output to a pandas.DataFrame\n",
    "# using param_key='out' separates the importance dict into multiple cols\n",
    "importances_df = dict_to_df(importances, param_key='out')\n",
    "importances_df"
   ]
  },
  {
   "cell_type": "markdown",
   "id": "ba076236",
   "metadata": {},
   "source": [
    "We can compute statistics on a single iterable item of the output by passing `wrt=out-col` and `split=True`:"
   ]
  },
  {
   "cell_type": "code",
   "execution_count": 21,
   "id": "duplicate-longer",
   "metadata": {},
   "outputs": [
    {
     "data": {
      "text/html": [
       "<div>\n",
       "<style scoped>\n",
       "    .dataframe tbody tr th:only-of-type {\n",
       "        vertical-align: middle;\n",
       "    }\n",
       "\n",
       "    .dataframe tbody tr th {\n",
       "        vertical-align: top;\n",
       "    }\n",
       "\n",
       "    .dataframe thead th {\n",
       "        text-align: right;\n",
       "    }\n",
       "</style>\n",
       "<table border=\"1\" class=\"dataframe\">\n",
       "  <thead>\n",
       "    <tr style=\"text-align: right;\">\n",
       "      <th></th>\n",
       "      <th>preproc</th>\n",
       "      <th>RF</th>\n",
       "      <th>X-count</th>\n",
       "      <th>X0-mean</th>\n",
       "      <th>X0-std</th>\n",
       "      <th>X1-mean</th>\n",
       "      <th>X1-std</th>\n",
       "      <th>X2-mean</th>\n",
       "      <th>X2-std</th>\n",
       "    </tr>\n",
       "  </thead>\n",
       "  <tbody>\n",
       "    <tr>\n",
       "      <th>0</th>\n",
       "      <td>knn</td>\n",
       "      <td>(func=RandomForestRegressor, n_estimators=100,...</td>\n",
       "      <td>10</td>\n",
       "      <td>0.004863</td>\n",
       "      <td>0.010259</td>\n",
       "      <td>-0.018839</td>\n",
       "      <td>0.026793</td>\n",
       "      <td>1.354068</td>\n",
       "      <td>0.080347</td>\n",
       "    </tr>\n",
       "    <tr>\n",
       "      <th>1</th>\n",
       "      <td>knn</td>\n",
       "      <td>(func=RandomForestRegressor, n_estimators=100,...</td>\n",
       "      <td>10</td>\n",
       "      <td>0.007366</td>\n",
       "      <td>0.012449</td>\n",
       "      <td>-0.022356</td>\n",
       "      <td>0.031232</td>\n",
       "      <td>1.382703</td>\n",
       "      <td>0.125563</td>\n",
       "    </tr>\n",
       "    <tr>\n",
       "      <th>2</th>\n",
       "      <td>knn</td>\n",
       "      <td>(func=RandomForestRegressor, n_estimators=300,...</td>\n",
       "      <td>10</td>\n",
       "      <td>0.002487</td>\n",
       "      <td>0.013445</td>\n",
       "      <td>-0.017375</td>\n",
       "      <td>0.021144</td>\n",
       "      <td>1.366897</td>\n",
       "      <td>0.054302</td>\n",
       "    </tr>\n",
       "    <tr>\n",
       "      <th>3</th>\n",
       "      <td>knn</td>\n",
       "      <td>(func=RandomForestRegressor, n_estimators=300,...</td>\n",
       "      <td>10</td>\n",
       "      <td>0.002941</td>\n",
       "      <td>0.009406</td>\n",
       "      <td>-0.023427</td>\n",
       "      <td>0.026766</td>\n",
       "      <td>1.408808</td>\n",
       "      <td>0.098899</td>\n",
       "    </tr>\n",
       "    <tr>\n",
       "      <th>...</th>\n",
       "      <td>...</td>\n",
       "      <td>...</td>\n",
       "      <td>...</td>\n",
       "      <td>...</td>\n",
       "      <td>...</td>\n",
       "      <td>...</td>\n",
       "      <td>...</td>\n",
       "      <td>...</td>\n",
       "      <td>...</td>\n",
       "    </tr>\n",
       "    <tr>\n",
       "      <th>8</th>\n",
       "      <td>med</td>\n",
       "      <td>(func=RandomForestRegressor, n_estimators=100,...</td>\n",
       "      <td>10</td>\n",
       "      <td>-0.000721</td>\n",
       "      <td>0.018412</td>\n",
       "      <td>-0.008172</td>\n",
       "      <td>0.025700</td>\n",
       "      <td>1.483120</td>\n",
       "      <td>0.074220</td>\n",
       "    </tr>\n",
       "    <tr>\n",
       "      <th>9</th>\n",
       "      <td>med</td>\n",
       "      <td>(func=RandomForestRegressor, n_estimators=100,...</td>\n",
       "      <td>10</td>\n",
       "      <td>0.001824</td>\n",
       "      <td>0.017672</td>\n",
       "      <td>-0.008696</td>\n",
       "      <td>0.028163</td>\n",
       "      <td>1.496330</td>\n",
       "      <td>0.081837</td>\n",
       "    </tr>\n",
       "    <tr>\n",
       "      <th>10</th>\n",
       "      <td>med</td>\n",
       "      <td>(func=RandomForestRegressor, n_estimators=300,...</td>\n",
       "      <td>10</td>\n",
       "      <td>-0.000831</td>\n",
       "      <td>0.018208</td>\n",
       "      <td>-0.006548</td>\n",
       "      <td>0.018171</td>\n",
       "      <td>1.493522</td>\n",
       "      <td>0.100362</td>\n",
       "    </tr>\n",
       "    <tr>\n",
       "      <th>11</th>\n",
       "      <td>med</td>\n",
       "      <td>(func=RandomForestRegressor, n_estimators=300,...</td>\n",
       "      <td>10</td>\n",
       "      <td>0.005192</td>\n",
       "      <td>0.011888</td>\n",
       "      <td>-0.008944</td>\n",
       "      <td>0.017066</td>\n",
       "      <td>1.492519</td>\n",
       "      <td>0.075081</td>\n",
       "    </tr>\n",
       "  </tbody>\n",
       "</table>\n",
       "<p>12 rows × 9 columns</p>\n",
       "</div>"
      ],
      "text/plain": [
       "   preproc                                                 RF  X-count  \\\n",
       "0      knn  (func=RandomForestRegressor, n_estimators=100,...       10   \n",
       "1      knn  (func=RandomForestRegressor, n_estimators=100,...       10   \n",
       "2      knn  (func=RandomForestRegressor, n_estimators=300,...       10   \n",
       "3      knn  (func=RandomForestRegressor, n_estimators=300,...       10   \n",
       "..     ...                                                ...      ...   \n",
       "8      med  (func=RandomForestRegressor, n_estimators=100,...       10   \n",
       "9      med  (func=RandomForestRegressor, n_estimators=100,...       10   \n",
       "10     med  (func=RandomForestRegressor, n_estimators=300,...       10   \n",
       "11     med  (func=RandomForestRegressor, n_estimators=300,...       10   \n",
       "\n",
       "     X0-mean    X0-std   X1-mean    X1-std   X2-mean    X2-std  \n",
       "0   0.004863  0.010259 -0.018839  0.026793  1.354068  0.080347  \n",
       "1   0.007366  0.012449 -0.022356  0.031232  1.382703  0.125563  \n",
       "2   0.002487  0.013445 -0.017375  0.021144  1.366897  0.054302  \n",
       "3   0.002941  0.009406 -0.023427  0.026766  1.408808  0.098899  \n",
       "..       ...       ...       ...       ...       ...       ...  \n",
       "8  -0.000721  0.018412 -0.008172  0.025700  1.483120  0.074220  \n",
       "9   0.001824  0.017672 -0.008696  0.028163  1.496330  0.081837  \n",
       "10 -0.000831  0.018208 -0.006548  0.018171  1.493522  0.100362  \n",
       "11  0.005192  0.011888 -0.008944  0.017066  1.492519  0.075081  \n",
       "\n",
       "[12 rows x 9 columns]"
      ]
     },
     "execution_count": 21,
     "metadata": {},
     "output_type": "execute_result"
    }
   ],
   "source": [
    "# get count, mean, and std of importances\n",
    "perturbation_stats(importances_df, 'preproc', 'RF', wrt='out-importances_mean', prefix='X', split=True)"
   ]
  },
  {
   "cell_type": "markdown",
   "id": "ec9c70f7",
   "metadata": {},
   "source": [
    "From here, we can (optionally) filter over the data preprocessing and modeling perturbations via the helper `filter_vset_by_metric` to select the top combinations in terms of stability (or another metric of interest) and continue our analysis on a held-out test set."
   ]
  },
  {
   "cell_type": "code",
   "execution_count": 22,
   "id": "serious-greenhouse",
   "metadata": {},
   "outputs": [],
   "source": [
    "ray.shutdown()"
   ]
  },
  {
   "cell_type": "code",
   "execution_count": null,
   "id": "c28e5e3d-8152-42c5-afac-764b100a09dc",
   "metadata": {},
   "outputs": [],
   "source": []
  }
 ],
 "metadata": {
  "kernelspec": {
   "display_name": "Python 3 (ipykernel)",
   "language": "python",
   "name": "python3"
  },
  "language_info": {
   "codemirror_mode": {
    "name": "ipython",
    "version": 3
   },
   "file_extension": ".py",
   "mimetype": "text/x-python",
   "name": "python",
   "nbconvert_exporter": "python",
   "pygments_lexer": "ipython3",
   "version": "3.10.6"
  }
 },
 "nbformat": 4,
 "nbformat_minor": 5
}

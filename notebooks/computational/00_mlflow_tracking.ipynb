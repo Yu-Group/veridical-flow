{
 "cells": [
  {
   "cell_type": "code",
   "execution_count": 1,
   "id": "monthly-relay",
   "metadata": {},
   "outputs": [],
   "source": [
    "%load_ext autoreload\n",
    "%autoreload 2\n",
    "from functools import partial\n",
    "\n",
    "import numpy as np\n",
    "from sklearn.datasets import make_classification\n",
    "from sklearn.linear_model import LogisticRegression\n",
    "from sklearn.metrics import accuracy_score, balanced_accuracy_score\n",
    "from sklearn.model_selection import train_test_split\n",
    "from sklearn.tree import DecisionTreeClassifier\n",
    "from sklearn.utils import resample\n",
    "\n",
    "from vflow import Vset, init_args  # must install pcsp first (pip install pcsp)\n",
    "\n",
    "np.set_printoptions(threshold=5)  # to limit printing"
   ]
  },
  {
   "cell_type": "code",
   "execution_count": 2,
   "id": "arbitrary-month",
   "metadata": {},
   "outputs": [],
   "source": [
    "np.random.seed(13)\n",
    "\n",
    "X, y = make_classification(n_samples=50, n_features=5)\n",
    "X_train, X_test, y_train, y_test = init_args(train_test_split(X, y, random_state=42),\n",
    "                                             names=['X_train', 'X_test', 'X_train',\n",
    "                                                    'X_test'])\n",
    "\n",
    "subsampling_funcs = [partial(resample,\n",
    "                             n_samples=20,\n",
    "                             random_state=i)\n",
    "                     for i in range(3)]\n",
    "\n",
    "subsampling_set = Vset(name='subsampling', vfuncs=subsampling_funcs)\n",
    "X_trains, y_trains = subsampling_set(X_train, y_train)\n",
    "\n",
    "# fit models\n",
    "modeling_set = Vset(name='modeling',\n",
    "                    vfuncs=[LogisticRegression(C=1, max_iter=1000, tol=0.1),\n",
    "                             DecisionTreeClassifier(min_samples_leaf=1)],\n",
    "                    vfunc_keys=[\"LR\", \"DT\"])\n",
    "\n",
    "_ = modeling_set.fit(X_trains, y_trains)\n",
    "\n",
    "# predict now returns modeling_set.output rather than the result of sep_dicts(output_dict)\n",
    "preds_test = modeling_set.predict(X_test)\n",
    "\n",
    "hard_metrics_set = Vset(name='hard_metrics',\n",
    "                        vfuncs=[accuracy_score, balanced_accuracy_score],\n",
    "                        vfunc_keys=[\"Acc\", \"Bal_Acc\"],\n",
    "                        tracking_dir='./mlruns')\n",
    "\n",
    "hard_metrics = hard_metrics_set.evaluate(y_test, preds_test)"
   ]
  },
  {
   "cell_type": "code",
   "execution_count": null,
   "id": "mental-entry",
   "metadata": {},
   "outputs": [
    {
     "name": "stdout",
     "output_type": "stream",
     "text": [
      "[2023-01-23 17:20:48 -0800] [136070] [INFO] Starting gunicorn 20.1.0\n",
      "[2023-01-23 17:20:48 -0800] [136070] [INFO] Listening at: http://127.0.0.1:5000 (136070)\n",
      "[2023-01-23 17:20:48 -0800] [136070] [INFO] Using worker: sync\n",
      "[2023-01-23 17:20:48 -0800] [136071] [INFO] Booting worker with pid: 136071\n",
      "[2023-01-23 17:20:48 -0800] [136072] [INFO] Booting worker with pid: 136072\n",
      "[2023-01-23 17:20:48 -0800] [136073] [INFO] Booting worker with pid: 136073\n",
      "[2023-01-23 17:20:48 -0800] [136074] [INFO] Booting worker with pid: 136074\n"
     ]
    }
   ],
   "source": [
    "!mlflow ui"
   ]
  },
  {
   "cell_type": "code",
   "execution_count": null,
   "id": "universal-jenny",
   "metadata": {},
   "outputs": [],
   "source": []
  }
 ],
 "metadata": {
  "kernelspec": {
   "display_name": "Python 3 (ipykernel)",
   "language": "python",
   "name": "python3"
  },
  "language_info": {
   "codemirror_mode": {
    "name": "ipython",
    "version": 3
   },
   "file_extension": ".py",
   "mimetype": "text/x-python",
   "name": "python",
   "nbconvert_exporter": "python",
   "pygments_lexer": "ipython3",
   "version": "3.10.6"
  }
 },
 "nbformat": 4,
 "nbformat_minor": 5
}

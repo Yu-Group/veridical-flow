{
 "cells": [
  {
   "cell_type": "code",
   "execution_count": 1,
   "id": "armed-proportion",
   "metadata": {},
   "outputs": [],
   "source": [
    "%load_ext autoreload\n",
    "%autoreload 2\n",
    "\n",
    "import sys\n",
    "import time\n",
    "from functools import partial\n",
    "\n",
    "# to get the ray dashboard, use `pip install 'ray[default]'`\n",
    "import ray\n",
    "\n",
    "from vflow import Vset, Vfunc, AsyncVfunc, init_args"
   ]
  },
  {
   "cell_type": "code",
   "execution_count": 2,
   "id": "returning-olive",
   "metadata": {},
   "outputs": [
    {
     "name": "stderr",
     "output_type": "stream",
     "text": [
      "2022-02-08 14:26:18,298\tINFO services.py:1338 -- View the Ray dashboard at \u001b[1m\u001b[32mhttp://127.0.0.1:8265\u001b[39m\u001b[22m\n"
     ]
    },
    {
     "data": {
      "text/plain": [
       "{'node_ip_address': '192.168.1.83',\n",
       " 'raylet_ip_address': '192.168.1.83',\n",
       " 'redis_address': '192.168.1.83:6379',\n",
       " 'object_store_address': '/tmp/ray/session_2022-02-08_14-26-15_892908_257684/sockets/plasma_store',\n",
       " 'raylet_socket_name': '/tmp/ray/session_2022-02-08_14-26-15_892908_257684/sockets/raylet',\n",
       " 'webui_url': '127.0.0.1:8265',\n",
       " 'session_dir': '/tmp/ray/session_2022-02-08_14-26-15_892908_257684',\n",
       " 'metrics_export_port': 53843,\n",
       " 'node_id': 'd6ba1be97c5d3422a9dc200916f6c6a14a154cb21a6d1cb122ae5cbd'}"
      ]
     },
     "execution_count": 2,
     "metadata": {},
     "output_type": "execute_result"
    }
   ],
   "source": [
    "# initialize ray\n",
    "ray.init(num_cpus=2) # optionally might add _temp_dir='tmp'"
   ]
  },
  {
   "cell_type": "code",
   "execution_count": 3,
   "id": "ongoing-graph",
   "metadata": {},
   "outputs": [
   ],
   "source": [
    "def slow_fun(a, b=1):\n",
    "    time.sleep(1)\n",
    "    return a + b\n",
    "\n",
    "\n",
    "# create 4 vfuncs using partials of slow_fun\n",
    "# the 'vfunc' arg to Vfunc.__init__ must either have a .fit method or be callable\n",
    "vfuncs = [Vfunc(f'fun{i}', partial(slow_fun, b=i)) for i in range(4)]\n",
    "\n",
    "slow_set = Vset('slow_set', vfuncs)\n",
    "\n",
    "# if there's only one arg, it comes wrapped in a list and I can't pass the result of init_args directly to .fit\n",
    "args = init_args([1], ['a'])[0]"
   ]
  },
  {
   "cell_type": "code",
   "execution_count": 4,
   "id": "changed-extra",
   "metadata": {},
   "outputs": [
    {
     "name": "stdout",
     "output_type": "stream",
     "text": [
      "CPU times: user 204 ms, sys: 32.1 ms, total: 236 ms\n",
      "Wall time: 4 s\n"
     ]
    },
    {
     "data": {
      "text/plain": [
       "{(a, slow_set_0): 1,\n",
       " (a, slow_set_1): 2,\n",
       " (a, slow_set_2): 3,\n",
       " (a, slow_set_3): 4,\n",
       " '__prev__': (<vflow.vset.Vset at 0x7f9dffbf7af0>, ('init',))}"
      ]
     },
     "execution_count": 4,
     "metadata": {},
     "output_type": "execute_result"
    }
   ],
   "source": [
    "%%time\n",
    "\n",
    "slow_set(args)"
   ]
  },
  {
   "cell_type": "code",
   "execution_count": 5,
   "id": "owned-mileage",
   "metadata": {},
   "outputs": [],
   "source": [
    "# 1st option to use parallelism is to just use is_async=True when initializing VfuncSet\n",
    "fast_set = Vset('fast_set', vfuncs, is_async=True)"
   ]
  },
  {
   "cell_type": "code",
   "execution_count": 6,
   "id": "experimental-taxation",
   "metadata": {},
   "outputs": [
    {
     "name": "stdout",
     "output_type": "stream",
     "text": [
      "CPU times: user 114 ms, sys: 25.5 ms, total: 140 ms\n",
      "Wall time: 2.05 s\n"
     ]
    },
    {
     "data": {
      "text/plain": [
       "{(a, fast_set_0): 1,\n",
       " (a, fast_set_1): 2,\n",
       " (a, fast_set_2): 3,\n",
       " (a, fast_set_3): 4,\n",
       " '__prev__': (<vflow.vset.Vset at 0x7f9dffbf7580>, ('init',))}"
      ]
     },
     "execution_count": 6,
     "metadata": {},
     "output_type": "execute_result"
    }
   ],
   "source": [
    "%%time\n",
    "\n",
    "fast_set(args)"
   ]
  },
  {
   "cell_type": "code",
   "execution_count": 7,
   "id": "prompt-soundtrack",
   "metadata": {},
   "outputs": [],
   "source": [
    "# 2nd option is to use AsyncVfuncs directly\n",
    "async_vfuncs = [AsyncVfunc(f'fun{i}', partial(slow_fun, b=i)) for i in range(4)]\n",
    "fast_set = Vset('fast_set', async_vfuncs)"
   ]
  },
  {
   "cell_type": "code",
   "execution_count": 8,
   "id": "modified-damages",
   "metadata": {},
   "outputs": [
    {
     "name": "stdout",
     "output_type": "stream",
     "text": [
      "CPU times: user 95.8 ms, sys: 19.4 ms, total: 115 ms\n",
      "Wall time: 2.01 s\n"
     ]
    },
    {
     "data": {
      "text/plain": [
       "{(a, fast_set_0): 1,\n",
       " (a, fast_set_1): 2,\n",
       " (a, fast_set_2): 3,\n",
       " (a, fast_set_3): 4,\n",
       " '__prev__': (<vflow.vset.Vset at 0x7f9dfdb525b0>, ('init',))}"
      ]
     },
     "execution_count": 8,
     "metadata": {},
     "output_type": "execute_result"
    }
   ],
   "source": [
    "%%time\n",
    "\n",
    "fast_set(args)"
   ]
  },
  {
   "cell_type": "code",
   "execution_count": 9,
   "id": "9fd90bc4-3ce4-43b5-a9bd-591151738f16",
   "metadata": {},
   "outputs": [],
   "source": [
    "ray.shutdown()"
   ]
  }
 ],
 "metadata": {
  "kernelspec": {
   "display_name": "Python 3",
   "language": "python",
   "name": "python3"
  },
  "language_info": {
   "codemirror_mode": {
    "name": "ipython",
    "version": 3
   },
   "file_extension": ".py",
   "mimetype": "text/x-python",
   "name": "python",
   "nbconvert_exporter": "python",
   "pygments_lexer": "ipython3",
   "version": "3.9.10"
  }
 },
 "nbformat": 4,
 "nbformat_minor": 5
}

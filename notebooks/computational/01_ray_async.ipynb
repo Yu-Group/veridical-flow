{
 "cells": [
  {
   "cell_type": "code",
   "execution_count": 1,
   "id": "armed-proportion",
   "metadata": {},
   "outputs": [],
   "source": [
    "%load_ext autoreload\n",
    "%autoreload 2\n",
    "\n",
    "import sys\n",
    "import time\n",
    "from functools import partial\n",
    "\n",
    "# to get the ray dashboard, use `pip install 'ray[default]'`\n",
    "import ray\n",
    "\n",
    "sys.path.append('../')\n",
    "from vflow import Vset, Vfunc, AsyncVfunc, init_args"
   ]
  },
  {
   "cell_type": "code",
   "execution_count": 2,
   "id": "returning-olive",
   "metadata": {
    "scrolled": false
   },
   "outputs": [
    {
     "output_type": "stream",
     "name": "stderr",
     "text": "2022-02-08 01:43:57,242\tINFO services.py:1338 -- View the Ray dashboard at \u001b[1m\u001b[32mhttp://127.0.0.1:8265\u001b[39m\u001b[22m\n"
    },
    {
     "output_type": "execute_result",
     "data": {
      "text/plain": "{'node_ip_address': '128.32.135.109',\n 'raylet_ip_address': '128.32.135.109',\n 'redis_address': '128.32.135.109:6379',\n 'object_store_address': '/tmp/ray/session_2022-02-08_01-43-48_443597_1809522/sockets/plasma_store',\n 'raylet_socket_name': '/tmp/ray/session_2022-02-08_01-43-48_443597_1809522/sockets/raylet',\n 'webui_url': '127.0.0.1:8265',\n 'session_dir': '/tmp/ray/session_2022-02-08_01-43-48_443597_1809522',\n 'metrics_export_port': 54998,\n 'node_id': '424cd56963cf8d269d8d1d186a9ddb07e1578a1dfe17815fca69c337'}"
     },
     "metadata": {},
     "execution_count": 2
    }
   ],
   "source": [
    "# initialize ray\n",
    "ray.init(num_cpus=2) # optionally might add _temp_dir='tmp'"
   ]
  },
  {
   "cell_type": "code",
   "execution_count": 3,
   "id": "ongoing-graph",
   "metadata": {},
   "outputs": [],
   "source": [
    "def slow_fun(a, b=1):\n",
    "    time.sleep(1)\n",
    "    return a + b\n",
    "\n",
    "\n",
    "# create 4 vfuncs using partials of slow_fun\n",
    "# the 'vfunc' arg to Vfunc.__init__ must either have a .fit method or be callable\n",
    "vfuncs = [Vfunc(f'fun{i}', partial(slow_fun, b=i)) for i in range(4)]\n",
    "\n",
    "slow_set = Vset('slow_set', vfuncs)\n",
    "\n",
    "# if there's only one arg, it comes wrapped in a list and I can't pass the result of init_args directly to .fit\n",
    "args = init_args([1], ['a'])[0]"
   ]
  },
  {
   "cell_type": "code",
   "execution_count": 4,
   "id": "changed-extra",
   "metadata": {},
   "outputs": [
    {
     "output_type": "stream",
     "name": "stderr",
     "text": "UsageError: Cell magic `%%` not found.\n"
    }
   ],
   "source": [
    "%% time\n",
    "\n",
    "slow_set(args)"
   ]
  },
  {
   "cell_type": "code",
   "execution_count": 5,
   "id": "owned-mileage",
   "metadata": {},
   "outputs": [],
   "source": [
    "# 1st option to use parallelism is to just use is_async=True when initializing VfuncSet\n",
    "fast_set = Vset('fast_set', vfuncs, is_async=True)"
   ]
  },
  {
   "cell_type": "code",
   "execution_count": 6,
   "id": "experimental-taxation",
   "metadata": {},
   "outputs": [
    {
     "output_type": "stream",
     "name": "stderr",
     "text": "UsageError: Cell magic `%%` not found.\n"
    }
   ],
   "source": [
    "%% time\n",
    "\n",
    "fast_set(args)"
   ]
  },
  {
   "cell_type": "code",
   "execution_count": 7,
   "id": "prompt-soundtrack",
   "metadata": {},
   "outputs": [],
   "source": [
    "# 2nd option is to use AsyncVfuncs directly\n",
    "async_vfuncs = [AsyncVfunc(f'fun{i}', partial(slow_fun, b=i)) for i in range(4)]\n",
    "fast_set = Vset('fast_set', async_vfuncs)"
   ]
  },
  {
   "cell_type": "code",
   "execution_count": 8,
   "id": "modified-damages",
   "metadata": {},
   "outputs": [
    {
     "output_type": "stream",
     "name": "stderr",
     "text": "UsageError: Cell magic `%%` not found.\n"
    }
   ],
   "source": [
    "%% time\n",
    "\n",
    "fast_set(args)"
   ]
  }
 ],
 "metadata": {
  "kernelspec": {
   "display_name": "vflow",
   "language": "python",
   "name": "vflow"
  },
  "language_info": {
   "codemirror_mode": {
    "name": "ipython",
    "version": 3
   },
   "file_extension": ".py",
   "mimetype": "text/x-python",
   "name": "python",
   "nbconvert_exporter": "python",
   "pygments_lexer": "ipython3",
   "version": "3.9.9-final"
  }
 },
 "nbformat": 4,
 "nbformat_minor": 5
}
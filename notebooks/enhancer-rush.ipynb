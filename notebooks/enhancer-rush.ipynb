{
 "cells": [
  {
   "cell_type": "code",
   "execution_count": 1,
   "source": [
    "# prepend parent dir to import from local pcsp\n",
    "import sys\n",
    "sys.path.insert(0, '../')"
   ],
   "outputs": [],
   "metadata": {}
  },
  {
   "cell_type": "code",
   "execution_count": 2,
   "source": [
    "%load_ext autoreload\n",
    "%autoreload 2\n",
    "import numpy as np\n",
    "import pandas as pd\n",
    "import matplotlib.pyplot as plt\n",
    "import pcsp\n",
    "from pcsp import PCSPipeline, ModuleSet, Module, init_args, convert\n",
    "from pcsp.pipeline import build_graph\n",
    "from functools import partial\n",
    "from sklearn.linear_model import LogisticRegression\n",
    "from sklearn.naive_bayes import GaussianNB\n",
    "from sklearn.ensemble import RandomForestRegressor, RandomForestClassifier\n",
    "import sklearn.utils\n",
    "from sklearn.metrics import accuracy_score, balanced_accuracy_score\n",
    "from irf import irf_utils, irf_jupyter_utils\n",
    "from irf.irf_utils import run_iRF\n",
    "from irf.ensemble import RandomForestClassifierWithWeights\n",
    "from sklearn.inspection import permutation_importance"
   ],
   "outputs": [],
   "metadata": {}
  },
  {
   "cell_type": "code",
   "execution_count": 5,
   "source": [
    "# load data\n",
    "X_train = np.asarray(pd.read_csv(\"../data/01_X_train.csv\",error_bad_lines=False).iloc[:,1:])\n",
    "X_test = np.asarray(pd.read_csv(\"../data/02_X_test.csv\",error_bad_lines=False).iloc[:,1:])\n",
    "y_train = np.asarray(pd.read_csv(\"../data/03_y_train.csv\",error_bad_lines=False).iloc[:,1])\n",
    "y_test = np.asarray(pd.read_csv(\"../data/04_y_test.csv\",error_bad_lines=False).iloc[:,1])\n",
    "\n",
    "# initialize data\n",
    "np.random.seed(14)\n",
    "X_train, X_test, y_train, y_test = init_args((X_train, X_test, y_train, y_test), names=['X_train', 'X_test', 'y_train', 'y_test'])\n",
    "\n",
    "# subsample\n",
    "subsampling_fns = [partial(sklearn.utils.resample, n_samples=1000, random_state=i) for i in range(3)]\n",
    "\n",
    "subsampling_set = ModuleSet(name='subsampling', modules=subsampling_fns)\n",
    "X_trains, y_trains = subsampling_set(X_train, y_train)\n",
    "\n",
    "modeling_set = ModuleSet(name='modeling', modules=[RandomForestClassifier(n_estimators=50, max_depth=5), GaussianNB()], module_keys=[\"RF\", \"NB\"])\n",
    "\n",
    "# model\n",
    "modeling_set.fit(X_trains, y_trains)\n",
    "preds = modeling_set.predict(X_test)\n",
    "\n",
    "# hard metrics\n",
    "hard_metrics_set = ModuleSet(name='hard_metrics', modules=[accuracy_score, balanced_accuracy_score], module_keys=[\"Acc\", \"Bal_Acc\"])\n",
    "hard_metrics = hard_metrics_set.evaluate(preds, y_test)\n",
    "\n",
    "# permutation importance\n",
    "feature_importance_set = ModuleSet(name='feature_importance', modules=[permutation_importance])\n",
    "importances = feature_importance_set.evaluate(modeling_set.out, X_test, y_test)\n",
    "\n",
    "G = build_graph(importances, draw=True)\n",
    "plt.show()"
   ],
   "outputs": [
    {
     "output_type": "stream",
     "name": "stderr",
     "text": [
      "../pcsp/pipeline.py:117: UserWarning: This figure includes Axes that are not compatible with tight_layout, so results might be incorrect.\n",
      "  plt.tight_layout()\n"
     ]
    },
    {
     "output_type": "display_data",
     "data": {
      "text/plain": [
       "<Figure size 432x288 with 1 Axes>"
      ],
      "image/png": "[encoded data removed]"
     },
     "metadata": {}
    }
   ],
   "metadata": {}
  },
  {
   "cell_type": "code",
   "execution_count": 4,
   "source": [
    "print(hard_metrics)"
   ],
   "outputs": [
    {
     "output_type": "error",
     "ename": "NameError",
     "evalue": "name 'hard_metrics' is not defined",
     "traceback": [
      "\u001b[0;31m---------------------------------------------------------------------------\u001b[0m",
      "\u001b[0;31mNameError\u001b[0m                                 Traceback (most recent call last)",
      "\u001b[0;32m<ipython-input-4-5e2c05974895>\u001b[0m in \u001b[0;36m<module>\u001b[0;34m\u001b[0m\n\u001b[0;32m----> 1\u001b[0;31m \u001b[0mprint\u001b[0m\u001b[0;34m(\u001b[0m\u001b[0mhard_metrics\u001b[0m\u001b[0;34m)\u001b[0m\u001b[0;34m\u001b[0m\u001b[0;34m\u001b[0m\u001b[0m\n\u001b[0m",
      "\u001b[0;31mNameError\u001b[0m: name 'hard_metrics' is not defined"
     ]
    }
   ],
   "metadata": {
    "tags": []
   }
  },
  {
   "cell_type": "code",
   "execution_count": 5,
   "source": [
    "print({k:np.argsort(v.importances_mean)[-5:][::-1] for (k, v) in importances.items() if type(v) != pcsp.module_set.ModuleSet})"
   ],
   "outputs": [
    {
     "output_type": "stream",
     "name": "stdout",
     "text": [
      "{(('X_train', 'y_train', 'subsampling_0', 'RF'), 'X_test', 'y_test', 'feature_importance_0'): array([49, 56, 57, 78, 12]), (('X_train', 'y_train', 'subsampling_0', 'NB'), 'X_test', 'y_test', 'feature_importance_0'): array([72, 61, 45, 57, 76]), (('X_train', 'y_train', 'subsampling_1', 'RF'), 'X_test', 'y_test', 'feature_importance_0'): array([47, 68, 20, 13,  6]), (('X_train', 'y_train', 'subsampling_1', 'NB'), 'X_test', 'y_test', 'feature_importance_0'): array([61, 45, 72, 76, 27]), (('X_train', 'y_train', 'subsampling_2', 'RF'), 'X_test', 'y_test', 'feature_importance_0'): array([66, 53,  7, 67, 62]), (('X_train', 'y_train', 'subsampling_2', 'NB'), 'X_test', 'y_test', 'feature_importance_0'): array([45, 61, 72, 27, 23])}\n"
     ]
    }
   ],
   "metadata": {
    "tags": []
   }
  },
  {
   "cell_type": "code",
   "execution_count": null,
   "source": [],
   "outputs": [],
   "metadata": {}
  }
 ],
 "metadata": {
  "kernelspec": {
   "name": "python3",
   "display_name": "Python 3.6.13 64-bit ('binyugroup': conda)"
  },
  "language_info": {
   "codemirror_mode": {
    "name": "ipython",
    "version": 3
   },
   "file_extension": ".py",
   "mimetype": "text/x-python",
   "name": "python",
   "nbconvert_exporter": "python",
   "pygments_lexer": "ipython3",
   "version": "3.6.13"
  },
  "interpreter": {
   "hash": "b6ea3c5d93b89d45eb8c11b5f7d77c305a994bf9982dea27fab7e95d8eb92fda"
  }
 },
 "nbformat": 4,
 "nbformat_minor": 5
}
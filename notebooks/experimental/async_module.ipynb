{
 "cells": [
  {
   "cell_type": "code",
   "execution_count": 1,
   "id": "armed-proportion",
   "metadata": {},
   "outputs": [],
   "source": [
    "% load_ext autoreload\n",
    "% autoreload 2\n",
    "\n",
    "import sys\n",
    "import time\n",
    "from functools import partial\n",
    "\n",
    "# to get the ray dashboard, use `pip install 'ray[default]'`\n",
    "import ray\n",
    "\n",
    "sys.path.append('../')\n",
    "from vflow import ModuleSet, Vfunc, AsyncModule, init_args"
   ]
  },
  {
   "cell_type": "code",
   "execution_count": 2,
   "id": "returning-olive",
   "metadata": {},
   "outputs": [
    {
     "name": "stderr",
     "output_type": "stream",
     "text": [
      "2021-07-07 11:19:33,413\tINFO services.py:1272 -- View the Ray dashboard at \u001B[1m\u001B[32mhttp://127.0.0.1:8265\u001B[39m\u001B[22m\n"
     ]
    },
    {
     "data": {
      "text/plain": [
       "{'node_ip_address': '10.142.89.30',\n",
       " 'raylet_ip_address': '10.142.89.30',\n",
       " 'redis_address': '10.142.89.30:6379',\n",
       " 'object_store_address': '/tmp/ray/session_2021-07-07_11-19-32_116158_131831/sockets/plasma_store',\n",
       " 'raylet_socket_name': '/tmp/ray/session_2021-07-07_11-19-32_116158_131831/sockets/raylet',\n",
       " 'webui_url': '127.0.0.1:8265',\n",
       " 'session_dir': '/tmp/ray/session_2021-07-07_11-19-32_116158_131831',\n",
       " 'metrics_export_port': 62380,\n",
       " 'node_id': 'd6429e9a49e736165af0f486aaa2f891bd5cb22befefb3102b12d30a'}"
      ]
     },
     "execution_count": 2,
     "metadata": {},
     "output_type": "execute_result"
    }
   ],
   "source": [
    "# for now, the user has to init ray, but we could choose to do it for them in the package\n",
    "ray.init(num_cpus=4)"
   ]
  },
  {
   "cell_type": "code",
   "execution_count": 3,
   "id": "ongoing-graph",
   "metadata": {},
   "outputs": [],
   "source": [
    "def slow_fun(a, b=1):\n",
    "    time.sleep(1)\n",
    "    return a + b\n",
    "\n",
    "\n",
    "# create 4 modules using partials of slow_fun\n",
    "# the 'module' arg to Vfunc.__init__ must either have a .fit method or be callable\n",
    "modules = [Vfunc(f'fun{i}', partial(slow_fun, b=i)) for i in range(4)]\n",
    "\n",
    "slow_set = ModuleSet('slow_set', modules)\n",
    "\n",
    "# if there's only one arg, it comes wrapped in a list and I can't pass the result of init_args directly to .fit\n",
    "args = init_args([1], ['a'])[0]"
   ]
  },
  {
   "cell_type": "code",
   "execution_count": 4,
   "id": "changed-extra",
   "metadata": {},
   "outputs": [
    {
     "name": "stdout",
     "output_type": "stream",
     "text": [
      "CPU times: user 229 ms, sys: 24.8 ms, total: 254 ms\n",
      "Wall time: 4 s\n"
     ]
    },
    {
     "data": {
      "text/plain": [
       "{('a', 'slow_set_0'): 1,\n",
       " ('a', 'slow_set_1'): 2,\n",
       " ('a', 'slow_set_2'): 3,\n",
       " ('a', 'slow_set_3'): 4,\n",
       " '__prev__': <vflow.module_set.ModuleSet at 0x7f85105ee190>}"
      ]
     },
     "execution_count": 4,
     "metadata": {},
     "output_type": "execute_result"
    }
   ],
   "source": [
    "% % time\n",
    "\n",
    "slow_set(args)"
   ]
  },
  {
   "cell_type": "code",
   "execution_count": 5,
   "id": "owned-mileage",
   "metadata": {},
   "outputs": [],
   "source": [
    "# 1st option to use parallelism is to just use is_async=True when initializing ModuleSet\n",
    "fast_set = ModuleSet('fast_set', modules, is_async=True)"
   ]
  },
  {
   "cell_type": "code",
   "execution_count": 6,
   "id": "experimental-taxation",
   "metadata": {},
   "outputs": [
    {
     "name": "stdout",
     "output_type": "stream",
     "text": [
      "CPU times: user 96.1 ms, sys: 31.8 ms, total: 128 ms\n",
      "Wall time: 1.12 s\n"
     ]
    },
    {
     "data": {
      "text/plain": [
       "{('a', 'fast_set_0'): 1,\n",
       " ('a', 'fast_set_1'): 2,\n",
       " ('a', 'fast_set_2'): 3,\n",
       " ('a', 'fast_set_3'): 4,\n",
       " '__prev__': <vflow.module_set.ModuleSet at 0x7f85105d6af0>}"
      ]
     },
     "execution_count": 6,
     "metadata": {},
     "output_type": "execute_result"
    }
   ],
   "source": [
    "% % time\n",
    "\n",
    "fast_set(args)"
   ]
  },
  {
   "cell_type": "code",
   "execution_count": 7,
   "id": "prompt-soundtrack",
   "metadata": {},
   "outputs": [],
   "source": [
    "# 2nd option is to use AsyncModules directly\n",
    "async_modules = [AsyncModule(f'fun{i}', partial(slow_fun, b=i)) for i in range(4)]\n",
    "fast_set = ModuleSet('fast_set', async_modules)"
   ]
  },
  {
   "cell_type": "code",
   "execution_count": 8,
   "id": "modified-damages",
   "metadata": {},
   "outputs": [
    {
     "name": "stdout",
     "output_type": "stream",
     "text": [
      "CPU times: user 44 ms, sys: 20 ms, total: 64 ms\n",
      "Wall time: 1.01 s\n"
     ]
    },
    {
     "data": {
      "text/plain": [
       "{('a', 'fast_set_0'): 1,\n",
       " ('a', 'fast_set_1'): 2,\n",
       " ('a', 'fast_set_2'): 3,\n",
       " ('a', 'fast_set_3'): 4,\n",
       " '__prev__': <vflow.module_set.ModuleSet at 0x7f85102a3d90>}"
      ]
     },
     "execution_count": 8,
     "metadata": {},
     "output_type": "execute_result"
    }
   ],
   "source": [
    "% % time\n",
    "\n",
    "fast_set(args)"
   ]
  }
 ],
 "metadata": {
  "kernelspec": {
   "display_name": "Python 3",
   "language": "python",
   "name": "python3"
  },
  "language_info": {
   "codemirror_mode": {
    "name": "ipython",
    "version": 3
   },
   "file_extension": ".py",
   "mimetype": "text/x-python",
   "name": "python",
   "nbconvert_exporter": "python",
   "pygments_lexer": "ipython3",
   "version": "3.8.5"
  }
 },
 "nbformat": 4,
 "nbformat_minor": 5
}
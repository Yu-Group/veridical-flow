{
 "cells": [
  {
   "cell_type": "code",
   "execution_count": 1,
   "id": "toxic-albuquerque",
   "metadata": {},
   "outputs": [],
   "source": [
    "%load_ext autoreload\n",
    "%autoreload 2\n",
    "import time\n",
    "from functools import partial\n",
    "\n",
    "import numpy as np\n",
    "from sklearn.datasets import make_classification\n",
    "from sklearn.model_selection import train_test_split\n",
    "\n",
    "from sklearn.ensemble import RandomForestRegressor\n",
    "from sklearn.utils import resample\n",
    "\n",
    "from vflow import Vset, init_args, build_vset"
   ]
  },
  {
   "cell_type": "code",
   "execution_count": 14,
   "id": "indirect-power",
   "metadata": {},
   "outputs": [
    {
     "ename": "AssertionError",
     "evalue": "",
     "output_type": "error",
     "traceback": [
      "\u001b[0;31m---------------------------------------------------------------------------\u001b[0m",
      "\u001b[0;31mAssertionError\u001b[0m                            Traceback (most recent call last)",
      "Input \u001b[0;32mIn [14]\u001b[0m, in \u001b[0;36m<module>\u001b[0;34m\u001b[0m\n\u001b[1;32m      1\u001b[0m param_dict \u001b[38;5;241m=\u001b[39m {\n\u001b[1;32m      2\u001b[0m     \u001b[38;5;124m'\u001b[39m\u001b[38;5;124mn_estimators\u001b[39m\u001b[38;5;124m'\u001b[39m: [\u001b[38;5;241m100\u001b[39m, \u001b[38;5;241m200\u001b[39m, \u001b[38;5;241m300\u001b[39m],\n\u001b[1;32m      3\u001b[0m     \u001b[38;5;124m'\u001b[39m\u001b[38;5;124mmin_samples_split\u001b[39m\u001b[38;5;124m'\u001b[39m: [\u001b[38;5;241m2\u001b[39m, \u001b[38;5;241m10\u001b[39m],  \u001b[38;5;66;03m# default value comes first\u001b[39;00m\n\u001b[1;32m      4\u001b[0m     \u001b[38;5;124m'\u001b[39m\u001b[38;5;124mmax_features\u001b[39m\u001b[38;5;124m'\u001b[39m: [\u001b[38;5;124m'\u001b[39m\u001b[38;5;124msqrt\u001b[39m\u001b[38;5;124m'\u001b[39m, \u001b[38;5;124m'\u001b[39m\u001b[38;5;124mlog2\u001b[39m\u001b[38;5;124m'\u001b[39m]\n\u001b[1;32m      5\u001b[0m }\n\u001b[1;32m      6\u001b[0m rf_set \u001b[38;5;241m=\u001b[39m build_vset(\u001b[38;5;124m'\u001b[39m\u001b[38;5;124mRF\u001b[39m\u001b[38;5;124m'\u001b[39m, RandomForestRegressor, param_dict, criterion \u001b[38;5;241m=\u001b[39m \u001b[38;5;124m'\u001b[39m\u001b[38;5;124mabsolute_error\u001b[39m\u001b[38;5;124m'\u001b[39m)\n\u001b[0;32m----> 7\u001b[0m \u001b[38;5;28;01massert\u001b[39;00m \u001b[38;5;28mlen\u001b[39m(rf_set\u001b[38;5;241m.\u001b[39mvfuncs) \u001b[38;5;241m==\u001b[39m \u001b[38;5;241m3\u001b[39m\u001b[38;5;241m*\u001b[39m\u001b[38;5;241m2\u001b[39m\u001b[38;5;241m*\u001b[39m\u001b[38;5;241m2\u001b[39m\n",
      "\u001b[0;31mAssertionError\u001b[0m: "
     ]
    }
   ],
   "source": [
    "param_dict = {\n",
    "    'n_estimators': [100, 200, 300],\n",
    "    'min_samples_split': [2, 10],  # default value comes first\n",
    "    'max_features': ['sqrt', 'log2']\n",
    "}\n",
    "rf_set = build_vset('RF', RandomForestRegressor, param_dict, criterion = 'absolute_error')\n",
    "assert len(rf_set.vfuncs) == 3*2*2"
   ]
  },
  {
   "cell_type": "code",
   "execution_count": 12,
   "id": "mineral-edwards",
   "metadata": {},
   "outputs": [
    {
     "name": "stdout",
     "output_type": "stream",
     "text": [
      "RandomForestRegressor(criterion='absolute_error',\n",
      "                      n_estimators={'max_features': ['sqrt', 'log2'],\n",
      "                                    'min_samples_split': [2, 10],\n",
      "                                    'n_estimators': [100, 200, 300]})\n",
      "()\n",
      "\n"
     ]
    }
   ],
   "source": [
    "for vfunc in rf_set.vfuncs.values():\n",
    "    print(vfunc.module)\n",
    "    print(vfunc.name)\n",
    "    print()"
   ]
  },
  {
   "cell_type": "code",
   "execution_count": 13,
   "id": "pregnant-inside",
   "metadata": {},
   "outputs": [
    {
     "ename": "AssertionError",
     "evalue": "",
     "output_type": "error",
     "traceback": [
      "\u001b[0;31m---------------------------------------------------------------------------\u001b[0m",
      "\u001b[0;31mAssertionError\u001b[0m                            Traceback (most recent call last)",
      "Input \u001b[0;32mIn [13]\u001b[0m, in \u001b[0;36m<module>\u001b[0;34m\u001b[0m\n\u001b[1;32m      2\u001b[0m param_dict \u001b[38;5;241m=\u001b[39m {\n\u001b[1;32m      3\u001b[0m     \u001b[38;5;124m'\u001b[39m\u001b[38;5;124mn_samples\u001b[39m\u001b[38;5;124m'\u001b[39m: [\u001b[38;5;241m20\u001b[39m, \u001b[38;5;241m30\u001b[39m, \u001b[38;5;241m40\u001b[39m, \u001b[38;5;241m50\u001b[39m],\n\u001b[1;32m      4\u001b[0m     \u001b[38;5;124m'\u001b[39m\u001b[38;5;124mrandom_state\u001b[39m\u001b[38;5;124m'\u001b[39m: [\u001b[38;5;241m1\u001b[39m, \u001b[38;5;241m2\u001b[39m, \u001b[38;5;241m3\u001b[39m],  \u001b[38;5;66;03m# default value comes first\u001b[39;00m\n\u001b[1;32m      5\u001b[0m     \u001b[38;5;124m'\u001b[39m\u001b[38;5;124mreplace\u001b[39m\u001b[38;5;124m'\u001b[39m: [\u001b[38;5;28;01mFalse\u001b[39;00m, \u001b[38;5;28;01mTrue\u001b[39;00m]\n\u001b[1;32m      6\u001b[0m }\n\u001b[1;32m      7\u001b[0m subsampling_set \u001b[38;5;241m=\u001b[39m build_vset(\u001b[38;5;124m'\u001b[39m\u001b[38;5;124msubsampling\u001b[39m\u001b[38;5;124m'\u001b[39m, resample, param_dict)\n\u001b[0;32m----> 8\u001b[0m \u001b[38;5;28;01massert\u001b[39;00m \u001b[38;5;28mlen\u001b[39m(subsampling_set\u001b[38;5;241m.\u001b[39mvfuncs) \u001b[38;5;241m==\u001b[39m \u001b[38;5;241m4\u001b[39m\u001b[38;5;241m*\u001b[39m\u001b[38;5;241m3\u001b[39m\u001b[38;5;241m*\u001b[39m\u001b[38;5;241m2\u001b[39m\n",
      "\u001b[0;31mAssertionError\u001b[0m: "
     ]
    }
   ],
   "source": [
    "# build subsampling Vset\n",
    "param_dict = {\n",
    "    'n_samples': [20, 30, 40, 50],\n",
    "    'random_state': [1, 2, 3],  # default value comes first\n",
    "    'replace': [False, True]\n",
    "}\n",
    "subsampling_set = build_vset('subsampling', resample, param_dict)\n",
    "assert len(subsampling_set.vfuncs) == 4*3*2"
   ]
  },
  {
   "cell_type": "code",
   "execution_count": 15,
   "id": "operating-trash",
   "metadata": {},
   "outputs": [
    {
     "name": "stdout",
     "output_type": "stream",
     "text": [
      "functools.partial(<function resample at 0x7efe667dd310>, {'n_samples': [20, 30, 40, 50], 'random_state': [1, 2, 3], 'replace': [False, True]})\n",
      "()\n",
      "\n"
     ]
    }
   ],
   "source": [
    "for vfunc in subsampling_set.vfuncs.values():\n",
    "    print(vfunc.module)\n",
    "    print(vfunc.name)\n",
    "    print()"
   ]
  }
 ],
 "metadata": {
  "kernelspec": {
   "display_name": "vflow",
   "language": "python",
   "name": "vflow"
  },
  "language_info": {
   "codemirror_mode": {
    "name": "ipython",
    "version": 3
   },
   "file_extension": ".py",
   "mimetype": "text/x-python",
   "name": "python",
   "nbconvert_exporter": "python",
   "pygments_lexer": "ipython3",
   "version": "3.9.9"
  }
 },
 "nbformat": 4,
 "nbformat_minor": 5
}

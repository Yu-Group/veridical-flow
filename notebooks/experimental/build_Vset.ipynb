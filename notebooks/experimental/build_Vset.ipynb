{
 "cells": [
  {
   "cell_type": "code",
   "execution_count": 1,
   "id": "toxic-albuquerque",
   "metadata": {},
   "outputs": [],
   "source": [
    "%load_ext autoreload\n",
    "%autoreload 2\n",
    "import time\n",
    "from functools import partial\n",
    "\n",
    "import numpy as np\n",
    "from sklearn.datasets import make_classification\n",
    "from sklearn.model_selection import train_test_split\n",
    "\n",
    "from sklearn.ensemble import RandomForestRegressor\n",
    "from sklearn.utils import resample\n",
    "\n",
    "from vflow import Vset, init_args, build_Vset"
   ]
  },
  {
   "cell_type": "code",
   "execution_count": 2,
   "id": "indirect-power",
   "metadata": {},
   "outputs": [],
   "source": [
    "param_dict = {\n",
    "    'n_estimators': [100, 200, 300],\n",
    "    'min_samples_split': [2, 10],  # default value comes first\n",
    "    'max_features': ['sqrt', 'log2']\n",
    "}\n",
    "rf_set = build_Vset('RF', RandomForestRegressor, param_dict, criterion = 'absolute_error')\n",
    "assert len(rf_set.modules) == 3*2*2"
   ]
  },
  {
   "cell_type": "code",
   "execution_count": 3,
   "id": "mineral-edwards",
   "metadata": {},
   "outputs": [
    {
     "name": "stdout",
     "output_type": "stream",
     "text": [
      "RandomForestRegressor(criterion='absolute_error', max_features='sqrt')\n",
      "\n",
      "RandomForestRegressor(criterion='absolute_error', max_features='log2')\n",
      "\n",
      "RandomForestRegressor(criterion='absolute_error', max_features='sqrt',\n",
      "                      min_samples_split=10)\n",
      "\n",
      "RandomForestRegressor(criterion='absolute_error', max_features='log2',\n",
      "                      min_samples_split=10)\n",
      "\n",
      "RandomForestRegressor(criterion='absolute_error', max_features='sqrt',\n",
      "                      n_estimators=200)\n",
      "\n",
      "RandomForestRegressor(criterion='absolute_error', max_features='log2',\n",
      "                      n_estimators=200)\n",
      "\n",
      "RandomForestRegressor(criterion='absolute_error', max_features='sqrt',\n",
      "                      min_samples_split=10, n_estimators=200)\n",
      "\n",
      "RandomForestRegressor(criterion='absolute_error', max_features='log2',\n",
      "                      min_samples_split=10, n_estimators=200)\n",
      "\n",
      "RandomForestRegressor(criterion='absolute_error', max_features='sqrt',\n",
      "                      n_estimators=300)\n",
      "\n",
      "RandomForestRegressor(criterion='absolute_error', max_features='log2',\n",
      "                      n_estimators=300)\n",
      "\n",
      "RandomForestRegressor(criterion='absolute_error', max_features='sqrt',\n",
      "                      min_samples_split=10, n_estimators=300)\n",
      "\n",
      "RandomForestRegressor(criterion='absolute_error', max_features='log2',\n",
      "                      min_samples_split=10, n_estimators=300)\n",
      "\n"
     ]
    }
   ],
   "source": [
    "for vfunc in rf_set.modules.values():\n",
    "    print(vfunc.module)\n",
    "    print()"
   ]
  },
  {
   "cell_type": "code",
   "execution_count": 4,
   "id": "pregnant-inside",
   "metadata": {},
   "outputs": [],
   "source": [
    "# build subsampling Vset\n",
    "param_dict = {\n",
    "    'n_samples': [20, 30, 40, 50],\n",
    "    'random_state': [1, 2, 3],  # default value comes first\n",
    "    'replace': [False, True]\n",
    "}\n",
    "subsampling_set = build_Vset('subsampling', resample, param_dict)\n",
    "assert len(subsampling_set.modules) == 4*3*2"
   ]
  },
  {
   "cell_type": "code",
   "execution_count": 5,
   "id": "operating-trash",
   "metadata": {},
   "outputs": [
    {
     "name": "stdout",
     "output_type": "stream",
     "text": [
      "functools.partial(<function resample at 0x7fec2804bd30>, n_samples=20, random_state=1, replace=False)\n",
      "\n",
      "functools.partial(<function resample at 0x7fec2804bd30>, n_samples=20, random_state=1, replace=True)\n",
      "\n",
      "functools.partial(<function resample at 0x7fec2804bd30>, n_samples=20, random_state=2, replace=False)\n",
      "\n",
      "functools.partial(<function resample at 0x7fec2804bd30>, n_samples=20, random_state=2, replace=True)\n",
      "\n",
      "functools.partial(<function resample at 0x7fec2804bd30>, n_samples=20, random_state=3, replace=False)\n",
      "\n",
      "functools.partial(<function resample at 0x7fec2804bd30>, n_samples=20, random_state=3, replace=True)\n",
      "\n",
      "functools.partial(<function resample at 0x7fec2804bd30>, n_samples=30, random_state=1, replace=False)\n",
      "\n",
      "functools.partial(<function resample at 0x7fec2804bd30>, n_samples=30, random_state=1, replace=True)\n",
      "\n",
      "functools.partial(<function resample at 0x7fec2804bd30>, n_samples=30, random_state=2, replace=False)\n",
      "\n",
      "functools.partial(<function resample at 0x7fec2804bd30>, n_samples=30, random_state=2, replace=True)\n",
      "\n",
      "functools.partial(<function resample at 0x7fec2804bd30>, n_samples=30, random_state=3, replace=False)\n",
      "\n",
      "functools.partial(<function resample at 0x7fec2804bd30>, n_samples=30, random_state=3, replace=True)\n",
      "\n",
      "functools.partial(<function resample at 0x7fec2804bd30>, n_samples=40, random_state=1, replace=False)\n",
      "\n",
      "functools.partial(<function resample at 0x7fec2804bd30>, n_samples=40, random_state=1, replace=True)\n",
      "\n",
      "functools.partial(<function resample at 0x7fec2804bd30>, n_samples=40, random_state=2, replace=False)\n",
      "\n",
      "functools.partial(<function resample at 0x7fec2804bd30>, n_samples=40, random_state=2, replace=True)\n",
      "\n",
      "functools.partial(<function resample at 0x7fec2804bd30>, n_samples=40, random_state=3, replace=False)\n",
      "\n",
      "functools.partial(<function resample at 0x7fec2804bd30>, n_samples=40, random_state=3, replace=True)\n",
      "\n",
      "functools.partial(<function resample at 0x7fec2804bd30>, n_samples=50, random_state=1, replace=False)\n",
      "\n",
      "functools.partial(<function resample at 0x7fec2804bd30>, n_samples=50, random_state=1, replace=True)\n",
      "\n",
      "functools.partial(<function resample at 0x7fec2804bd30>, n_samples=50, random_state=2, replace=False)\n",
      "\n",
      "functools.partial(<function resample at 0x7fec2804bd30>, n_samples=50, random_state=2, replace=True)\n",
      "\n",
      "functools.partial(<function resample at 0x7fec2804bd30>, n_samples=50, random_state=3, replace=False)\n",
      "\n",
      "functools.partial(<function resample at 0x7fec2804bd30>, n_samples=50, random_state=3, replace=True)\n",
      "\n"
     ]
    }
   ],
   "source": [
    "for vfunc in subsampling_set.modules.values():\n",
    "    print(vfunc.module)\n",
    "    print()"
   ]
  },
  {
   "cell_type": "code",
   "execution_count": null,
   "id": "partial-registration",
   "metadata": {},
   "outputs": [],
   "source": []
  }
 ],
 "metadata": {
  "kernelspec": {
   "display_name": "Python 3",
   "language": "python",
   "name": "python3"
  },
  "language_info": {
   "codemirror_mode": {
    "name": "ipython",
    "version": 3
   },
   "file_extension": ".py",
   "mimetype": "text/x-python",
   "name": "python",
   "nbconvert_exporter": "python",
   "pygments_lexer": "ipython3",
   "version": "3.8.5"
  }
 },
 "nbformat": 4,
 "nbformat_minor": 5
}

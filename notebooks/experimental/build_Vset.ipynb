{
 "cells": [
  {
   "cell_type": "code",
   "execution_count": 2,
   "id": "toxic-albuquerque",
   "metadata": {},
   "outputs": [
    {
     "output_type": "stream",
     "name": "stdout",
     "text": "The autoreload extension is already loaded. To reload it, use:\n  %reload_ext autoreload\n"
    }
   ],
   "source": [
    "%load_ext autoreload\n",
    "%autoreload 2\n",
    "import time\n",
    "from functools import partial\n",
    "\n",
    "import numpy as np\n",
    "from sklearn.datasets import make_classification\n",
    "from sklearn.model_selection import train_test_split\n",
    "\n",
    "from sklearn.ensemble import RandomForestRegressor\n",
    "from sklearn.utils import resample\n",
    "\n",
    "from vflow import Vset, init_args, build_vset"
   ]
  },
  {
   "cell_type": "code",
   "execution_count": 3,
   "id": "indirect-power",
   "metadata": {},
   "outputs": [],
   "source": [
    "param_dict = {\n",
    "    'n_estimators': [100, 200, 300],\n",
    "    'min_samples_split': [2, 10],  # default value comes first\n",
    "    'max_features': ['sqrt', 'log2']\n",
    "}\n",
    "rf_set = build_vset('RF', RandomForestRegressor, param_dict, criterion = 'absolute_error')\n",
    "assert len(rf_set.vfuncs) == 3*2*2"
   ]
  },
  {
   "cell_type": "code",
   "execution_count": 4,
   "id": "mineral-edwards",
   "metadata": {},
   "outputs": [
    {
     "output_type": "stream",
     "name": "stdout",
     "text": "RandomForestRegressor(criterion='absolute_error', max_features='sqrt')\n('n_estimators=100', 'min_samples_split=2', 'max_features=sqrt')\n\nRandomForestRegressor(criterion='absolute_error', max_features='log2')\n('n_estimators=100', 'min_samples_split=2', 'max_features=log2')\n\nRandomForestRegressor(criterion='absolute_error', max_features='sqrt',\n                      min_samples_split=10)\n('n_estimators=100', 'min_samples_split=10', 'max_features=sqrt')\n\nRandomForestRegressor(criterion='absolute_error', max_features='log2',\n                      min_samples_split=10)\n('n_estimators=100', 'min_samples_split=10', 'max_features=log2')\n\nRandomForestRegressor(criterion='absolute_error', max_features='sqrt',\n                      n_estimators=200)\n('n_estimators=200', 'min_samples_split=2', 'max_features=sqrt')\n\nRandomForestRegressor(criterion='absolute_error', max_features='log2',\n                      n_estimators=200)\n('n_estimators=200', 'min_samples_split=2', 'max_features=log2')\n\nRandomForestRegressor(criterion='absolute_error', max_features='sqrt',\n                      min_samples_split=10, n_estimators=200)\n('n_estimators=200', 'min_samples_split=10', 'max_features=sqrt')\n\nRandomForestRegressor(criterion='absolute_error', max_features='log2',\n                      min_samples_split=10, n_estimators=200)\n('n_estimators=200', 'min_samples_split=10', 'max_features=log2')\n\nRandomForestRegressor(criterion='absolute_error', max_features='sqrt',\n                      n_estimators=300)\n('n_estimators=300', 'min_samples_split=2', 'max_features=sqrt')\n\nRandomForestRegressor(criterion='absolute_error', max_features='log2',\n                      n_estimators=300)\n('n_estimators=300', 'min_samples_split=2', 'max_features=log2')\n\nRandomForestRegressor(criterion='absolute_error', max_features='sqrt',\n                      min_samples_split=10, n_estimators=300)\n('n_estimators=300', 'min_samples_split=10', 'max_features=sqrt')\n\nRandomForestRegressor(criterion='absolute_error', max_features='log2',\n                      min_samples_split=10, n_estimators=300)\n('n_estimators=300', 'min_samples_split=10', 'max_features=log2')\n\n"
    }
   ],
   "source": [
    "for vfunc in rf_set.vfuncs.values():\n",
    "    print(vfunc.vfunc)\n",
    "    print(vfunc.name)\n",
    "    print()"
   ]
  },
  {
   "cell_type": "code",
   "execution_count": 5,
   "id": "pregnant-inside",
   "metadata": {},
   "outputs": [],
   "source": [
    "# build subsampling Vset\n",
    "param_dict = {\n",
    "    'n_samples': [20, 30, 40, 50],\n",
    "    'random_state': [1, 2, 3],  # default value comes first\n",
    "    'replace': [False, True]\n",
    "}\n",
    "subsampling_set = build_vset('subsampling', resample, param_dict)\n",
    "assert len(subsampling_set.vfuncs) == 4*3*2"
   ]
  },
  {
   "cell_type": "code",
   "execution_count": 6,
   "id": "operating-trash",
   "metadata": {},
   "outputs": [
    {
     "output_type": "stream",
     "name": "stdout",
     "text": "functools.partial(<function resample at 0x7fc5b3770dc0>, n_samples=20, random_state=1, replace=False)\n('n_samples=20', 'random_state=1', 'replace=False')\n\nfunctools.partial(<function resample at 0x7fc5b3770dc0>, n_samples=20, random_state=1, replace=True)\n('n_samples=20', 'random_state=1', 'replace=True')\n\nfunctools.partial(<function resample at 0x7fc5b3770dc0>, n_samples=20, random_state=2, replace=False)\n('n_samples=20', 'random_state=2', 'replace=False')\n\nfunctools.partial(<function resample at 0x7fc5b3770dc0>, n_samples=20, random_state=2, replace=True)\n('n_samples=20', 'random_state=2', 'replace=True')\n\nfunctools.partial(<function resample at 0x7fc5b3770dc0>, n_samples=20, random_state=3, replace=False)\n('n_samples=20', 'random_state=3', 'replace=False')\n\nfunctools.partial(<function resample at 0x7fc5b3770dc0>, n_samples=20, random_state=3, replace=True)\n('n_samples=20', 'random_state=3', 'replace=True')\n\nfunctools.partial(<function resample at 0x7fc5b3770dc0>, n_samples=30, random_state=1, replace=False)\n('n_samples=30', 'random_state=1', 'replace=False')\n\nfunctools.partial(<function resample at 0x7fc5b3770dc0>, n_samples=30, random_state=1, replace=True)\n('n_samples=30', 'random_state=1', 'replace=True')\n\nfunctools.partial(<function resample at 0x7fc5b3770dc0>, n_samples=30, random_state=2, replace=False)\n('n_samples=30', 'random_state=2', 'replace=False')\n\nfunctools.partial(<function resample at 0x7fc5b3770dc0>, n_samples=30, random_state=2, replace=True)\n('n_samples=30', 'random_state=2', 'replace=True')\n\nfunctools.partial(<function resample at 0x7fc5b3770dc0>, n_samples=30, random_state=3, replace=False)\n('n_samples=30', 'random_state=3', 'replace=False')\n\nfunctools.partial(<function resample at 0x7fc5b3770dc0>, n_samples=30, random_state=3, replace=True)\n('n_samples=30', 'random_state=3', 'replace=True')\n\nfunctools.partial(<function resample at 0x7fc5b3770dc0>, n_samples=40, random_state=1, replace=False)\n('n_samples=40', 'random_state=1', 'replace=False')\n\nfunctools.partial(<function resample at 0x7fc5b3770dc0>, n_samples=40, random_state=1, replace=True)\n('n_samples=40', 'random_state=1', 'replace=True')\n\nfunctools.partial(<function resample at 0x7fc5b3770dc0>, n_samples=40, random_state=2, replace=False)\n('n_samples=40', 'random_state=2', 'replace=False')\n\nfunctools.partial(<function resample at 0x7fc5b3770dc0>, n_samples=40, random_state=2, replace=True)\n('n_samples=40', 'random_state=2', 'replace=True')\n\nfunctools.partial(<function resample at 0x7fc5b3770dc0>, n_samples=40, random_state=3, replace=False)\n('n_samples=40', 'random_state=3', 'replace=False')\n\nfunctools.partial(<function resample at 0x7fc5b3770dc0>, n_samples=40, random_state=3, replace=True)\n('n_samples=40', 'random_state=3', 'replace=True')\n\nfunctools.partial(<function resample at 0x7fc5b3770dc0>, n_samples=50, random_state=1, replace=False)\n('n_samples=50', 'random_state=1', 'replace=False')\n\nfunctools.partial(<function resample at 0x7fc5b3770dc0>, n_samples=50, random_state=1, replace=True)\n('n_samples=50', 'random_state=1', 'replace=True')\n\nfunctools.partial(<function resample at 0x7fc5b3770dc0>, n_samples=50, random_state=2, replace=False)\n('n_samples=50', 'random_state=2', 'replace=False')\n\nfunctools.partial(<function resample at 0x7fc5b3770dc0>, n_samples=50, random_state=2, replace=True)\n('n_samples=50', 'random_state=2', 'replace=True')\n\nfunctools.partial(<function resample at 0x7fc5b3770dc0>, n_samples=50, random_state=3, replace=False)\n('n_samples=50', 'random_state=3', 'replace=False')\n\nfunctools.partial(<function resample at 0x7fc5b3770dc0>, n_samples=50, random_state=3, replace=True)\n('n_samples=50', 'random_state=3', 'replace=True')\n\n"
    }
   ],
   "source": [
    "for vfunc in subsampling_set.vfuncs.values():\n",
    "    print(vfunc.vfunc)\n",
    "    print(vfunc.name)\n",
    "    print()"
   ]
  }
 ],
 "metadata": {
  "kernelspec": {
   "display_name": "vflow",
   "language": "python",
   "name": "vflow"
  },
  "language_info": {
   "codemirror_mode": {
    "name": "ipython",
    "version": 3
   },
   "file_extension": ".py",
   "mimetype": "text/x-python",
   "name": "python",
   "nbconvert_exporter": "python",
   "pygments_lexer": "ipython3",
   "version": "3.9.9-final"
  }
 },
 "nbformat": 4,
 "nbformat_minor": 5
}
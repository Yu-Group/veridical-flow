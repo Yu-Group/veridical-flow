{
 "cells": [
  {
   "cell_type": "code",
   "execution_count": 9,
   "id": "e17e9895",
   "metadata": {},
   "outputs": [
    {
     "name": "stdout",
     "output_type": "stream",
     "text": [
      "# packages in environment at /Users/rush/anaconda3/envs/binyugroup:\n",
      "#\n",
      "# Name                    Version                   Build  Channel\n",
      "appnope                   0.1.2           py36hecd8cb5_1001  \n",
      "argon2-cffi               20.1.0                   pypi_0    pypi\n",
      "async-generator           1.10                     pypi_0    pypi\n",
      "attrs                     21.2.0                   pypi_0    pypi\n",
      "backcall                  0.2.0              pyhd3eb1b0_0  \n",
      "bleach                    3.3.0                    pypi_0    pypi\n",
      "ca-certificates           2021.5.25            hecd8cb5_1  \n",
      "certifi                   2021.5.30        py36hecd8cb5_0  \n",
      "cffi                      1.14.5                   pypi_0    pypi\n",
      "cycler                    0.10.0                   pypi_0    pypi\n",
      "decorator                 4.4.2                    pypi_0    pypi\n",
      "defusedxml                0.7.1                    pypi_0    pypi\n",
      "entrypoints               0.3                      pypi_0    pypi\n",
      "importlib-metadata        4.5.0                    pypi_0    pypi\n",
      "iniconfig                 1.1.1                    pypi_0    pypi\n",
      "ipykernel                 5.3.4            py36h5ca1d4c_0  \n",
      "ipython                   7.16.1           py36h5ca1d4c_0  \n",
      "ipython_genutils          0.2.0              pyhd3eb1b0_1  \n",
      "jedi                      0.17.0                   py36_0  \n",
      "jinja2                    3.0.1                    pypi_0    pypi\n",
      "joblib                    1.0.1                    pypi_0    pypi\n",
      "jsonschema                3.2.0                    pypi_0    pypi\n",
      "jupyter_client            6.1.12             pyhd3eb1b0_0  \n",
      "jupyter_core              4.7.1            py36hecd8cb5_0  \n",
      "jupyterlab-pygments       0.1.2                    pypi_0    pypi\n",
      "kiwisolver                1.3.1                    pypi_0    pypi\n",
      "libcxx                    10.0.0                        1  \n",
      "libffi                    3.3                  hb1e8313_2  \n",
      "libsodium                 1.0.18               h1de35cc_0  \n",
      "markupsafe                2.0.1                    pypi_0    pypi\n",
      "matplotlib                3.3.4                    pypi_0    pypi\n",
      "mistune                   0.8.4                    pypi_0    pypi\n",
      "nbclient                  0.5.3                    pypi_0    pypi\n",
      "nbconvert                 6.0.7                    pypi_0    pypi\n",
      "nbformat                  5.1.3                    pypi_0    pypi\n",
      "ncurses                   6.2                  h0a44026_1  \n",
      "nest-asyncio              1.5.1                    pypi_0    pypi\n",
      "networkx                  2.5.1                    pypi_0    pypi\n",
      "notebook                  6.4.0                    pypi_0    pypi\n",
      "numpy                     1.19.5                   pypi_0    pypi\n",
      "openssl                   1.1.1k               h9ed2024_0  \n",
      "packaging                 20.9                     pypi_0    pypi\n",
      "pandas                    1.1.5                    pypi_0    pypi\n",
      "pandocfilters             1.4.3                    pypi_0    pypi\n",
      "parso                     0.8.2              pyhd3eb1b0_0  \n",
      "pcsp                      0.0.0                    pypi_0    pypi\n",
      "pexpect                   4.8.0              pyhd3eb1b0_3  \n",
      "pickleshare               0.7.5           pyhd3eb1b0_1003  \n",
      "pillow                    8.2.0                    pypi_0    pypi\n",
      "pip                       21.1.2           py36hecd8cb5_0  \n",
      "pluggy                    0.13.1                   pypi_0    pypi\n",
      "prometheus-client         0.11.0                   pypi_0    pypi\n",
      "prompt-toolkit            3.0.17             pyh06a4308_0  \n",
      "ptyprocess                0.7.0              pyhd3eb1b0_2  \n",
      "py                        1.10.0                   pypi_0    pypi\n",
      "pycparser                 2.20                     pypi_0    pypi\n",
      "pygments                  2.9.0              pyhd3eb1b0_0  \n",
      "pyparsing                 2.4.7                    pypi_0    pypi\n",
      "pyrsistent                0.17.3                   pypi_0    pypi\n",
      "pytest                    6.2.4                    pypi_0    pypi\n",
      "python                    3.6.13               h88f2d9e_0  \n",
      "python-dateutil           2.8.1              pyhd3eb1b0_0  \n",
      "pytz                      2021.1                   pypi_0    pypi\n",
      "pyzmq                     20.0.0           py36h23ab428_1  \n",
      "readline                  8.1                  h9ed2024_0  \n",
      "scikit-learn              0.24.2                   pypi_0    pypi\n",
      "scipy                     1.5.4                    pypi_0    pypi\n",
      "send2trash                1.7.1                    pypi_0    pypi\n",
      "setuptools                52.0.0           py36hecd8cb5_0  \n",
      "six                       1.16.0             pyhd3eb1b0_0  \n",
      "sqlite                    3.35.4               hce871da_0  \n",
      "terminado                 0.10.1                   pypi_0    pypi\n",
      "testpath                  0.5.0                    pypi_0    pypi\n",
      "threadpoolctl             2.1.0                    pypi_0    pypi\n",
      "tk                        8.6.10               hb0a8c7a_0  \n",
      "toml                      0.10.2                   pypi_0    pypi\n",
      "tornado                   6.1              py36h9ed2024_0  \n",
      "traitlets                 4.3.3                    py36_0  \n",
      "typing-extensions         3.10.0.0                 pypi_0    pypi\n",
      "wcwidth                   0.2.5                      py_0  \n",
      "webencodings              0.5.1                    pypi_0    pypi\n",
      "wheel                     0.36.2             pyhd3eb1b0_0  \n",
      "xz                        5.2.5                h1de35cc_0  \n",
      "zeromq                    4.3.4                h23ab428_0  \n",
      "zipp                      3.4.1                    pypi_0    pypi\n",
      "zlib                      1.2.11               h1de35cc_3  \n"
     ]
    }
   ],
   "source": [
    "!conda list"
   ]
  },
  {
   "cell_type": "code",
   "execution_count": 4,
   "id": "fffe8aae",
   "metadata": {},
   "outputs": [
    {
     "name": "stdout",
     "output_type": "stream",
     "text": [
      "The autoreload extension is already loaded. To reload it, use:\n",
      "  %reload_ext autoreload\n"
     ]
    },
    {
     "ename": "ModuleNotFoundError",
     "evalue": "No module named 'pcsp'",
     "output_type": "error",
     "traceback": [
      "\u001B[0;31m---------------------------------------------------------------------------\u001B[0m",
      "\u001B[0;31mModuleNotFoundError\u001B[0m                       Traceback (most recent call last)",
      "\u001B[0;32m<ipython-input-4-19ec10fd93ea>\u001B[0m in \u001B[0;36m<module>\u001B[0;34m\u001B[0m\n\u001B[1;32m     13\u001B[0m \u001B[0;32mfrom\u001B[0m \u001B[0mfunctools\u001B[0m \u001B[0;32mimport\u001B[0m \u001B[0mpartial\u001B[0m\u001B[0;34m\u001B[0m\u001B[0;34m\u001B[0m\u001B[0m\n\u001B[1;32m     14\u001B[0m \u001B[0;34m\u001B[0m\u001B[0m\n\u001B[0;32m---> 15\u001B[0;31m \u001B[0;32mfrom\u001B[0m \u001B[0mpcsp\u001B[0m \u001B[0;32mimport\u001B[0m \u001B[0mPCSPipeline\u001B[0m\u001B[0;34m,\u001B[0m \u001B[0mModuleSet\u001B[0m\u001B[0;34m,\u001B[0m \u001B[0mModule\u001B[0m \u001B[0;31m# must install pcsp first (pip install pcsp)\u001B[0m\u001B[0;34m\u001B[0m\u001B[0;34m\u001B[0m\u001B[0m\n\u001B[0m",
      "\u001B[0;31mModuleNotFoundError\u001B[0m: No module named 'pcsp'"
     ]
    }
   ],
   "source": [
    "'''Modified from joblib documentation: https://joblib.readthedocs.io/en/latest/auto_examples/memory_basic_usage.html\n",
    "'''\n",
    "% load_ext autoreload\n",
    "% autoreload 2\n",
    "import time\n",
    "from functools import partial\n",
    "\n",
    "import numpy as np\n",
    "from vflow import vflowipeline, ModuleSet  # must install pcsp first (pip install pcsp)\n",
    "from sklearn.datasets import make_classification\n",
    "from sklearn.model_selection import train_test_split"
   ]
  },
  {
   "cell_type": "code",
   "execution_count": 5,
   "id": "requested-proportion",
   "metadata": {},
   "outputs": [
    {
     "ename": "NameError",
     "evalue": "name 'PCSPipeline' is not defined",
     "output_type": "error",
     "traceback": [
      "\u001B[0;31m---------------------------------------------------------------------------\u001B[0m",
      "\u001B[0;31mNameError\u001B[0m                                 Traceback (most recent call last)",
      "\u001B[0;32m<ipython-input-5-9601b407b609>\u001B[0m in \u001B[0;36m<module>\u001B[0;34m\u001B[0m\n\u001B[0;32m----> 1\u001B[0;31m \u001B[0mpipeline_uncached\u001B[0m \u001B[0;34m=\u001B[0m \u001B[0mPCSPipeline\u001B[0m\u001B[0;34m(\u001B[0m\u001B[0;34m)\u001B[0m\u001B[0;34m\u001B[0m\u001B[0;34m\u001B[0m\u001B[0m\n\u001B[0m\u001B[1;32m      2\u001B[0m \u001B[0mpipeline_cached\u001B[0m \u001B[0;34m=\u001B[0m \u001B[0mPCSPipeline\u001B[0m\u001B[0;34m(\u001B[0m\u001B[0mcache_dir\u001B[0m\u001B[0;34m=\u001B[0m\u001B[0;34m\"./\"\u001B[0m\u001B[0;34m)\u001B[0m\u001B[0;34m\u001B[0m\u001B[0;34m\u001B[0m\u001B[0m\n",
      "\u001B[0;31mNameError\u001B[0m: name 'PCSPipeline' is not defined"
     ]
    }
   ],
   "source": [
    "pipeline_uncached = PCSPipeline()\n",
    "pipeline_cached = PCSPipeline(cache_dir=\"./\")"
   ]
  },
  {
   "cell_type": "code",
   "execution_count": 6,
   "id": "whole-fault",
   "metadata": {},
   "outputs": [
    {
     "ename": "NameError",
     "evalue": "name 'ModuleSet' is not defined",
     "output_type": "error",
     "traceback": [
      "\u001B[0;31m---------------------------------------------------------------------------\u001B[0m",
      "\u001B[0;31mNameError\u001B[0m                                 Traceback (most recent call last)",
      "\u001B[0;32m<ipython-input-6-fbe8c8dd6869>\u001B[0m in \u001B[0;36m<module>\u001B[0;34m\u001B[0m\n\u001B[1;32m      9\u001B[0m \u001B[0;34m\u001B[0m\u001B[0m\n\u001B[1;32m     10\u001B[0m \u001B[0msubsampling_funcs\u001B[0m \u001B[0;34m=\u001B[0m \u001B[0;34m[\u001B[0m\u001B[0mpartial\u001B[0m\u001B[0;34m(\u001B[0m\u001B[0mcostly_compute\u001B[0m\u001B[0;34m,\u001B[0m \u001B[0mrow_index\u001B[0m\u001B[0;34m=\u001B[0m\u001B[0mnp\u001B[0m\u001B[0;34m.\u001B[0m\u001B[0marange\u001B[0m\u001B[0;34m(\u001B[0m\u001B[0;36m25\u001B[0m\u001B[0;34m)\u001B[0m\u001B[0;34m)\u001B[0m\u001B[0;34m]\u001B[0m\u001B[0;34m\u001B[0m\u001B[0;34m\u001B[0m\u001B[0m\n\u001B[0;32m---> 11\u001B[0;31m \u001B[0msubsampling_set1\u001B[0m \u001B[0;34m=\u001B[0m \u001B[0mModuleSet\u001B[0m\u001B[0;34m(\u001B[0m\u001B[0mname\u001B[0m\u001B[0;34m=\u001B[0m\u001B[0;34m'subsampling1'\u001B[0m\u001B[0;34m,\u001B[0m \u001B[0mmodules\u001B[0m\u001B[0;34m=\u001B[0m\u001B[0msubsampling_funcs\u001B[0m\u001B[0;34m)\u001B[0m\u001B[0;34m\u001B[0m\u001B[0;34m\u001B[0m\u001B[0m\n\u001B[0m\u001B[1;32m     12\u001B[0m \u001B[0msubsampling_set2\u001B[0m \u001B[0;34m=\u001B[0m \u001B[0mModuleSet\u001B[0m\u001B[0;34m(\u001B[0m\u001B[0mname\u001B[0m\u001B[0;34m=\u001B[0m\u001B[0;34m'subsampling2'\u001B[0m\u001B[0;34m,\u001B[0m \u001B[0mmodules\u001B[0m\u001B[0;34m=\u001B[0m\u001B[0msubsampling_funcs\u001B[0m\u001B[0;34m)\u001B[0m\u001B[0;34m\u001B[0m\u001B[0;34m\u001B[0m\u001B[0m\n\u001B[1;32m     13\u001B[0m \u001B[0;34m\u001B[0m\u001B[0m\n",
      "\u001B[0;31mNameError\u001B[0m: name 'ModuleSet' is not defined"
     ]
    }
   ],
   "source": [
    "np.random.seed(13)\n",
    "X, y = make_classification(n_samples=50, n_features=5)\n",
    "X_train, X_test, y_train, y_test = train_test_split(X, y, random_state=42)\n",
    "\n",
    "\n",
    "def costly_compute(data, row_index=0):\n",
    "    \"\"\"Simulate an expensive computation\"\"\"\n",
    "    time.sleep(5)\n",
    "    return data[row_index,]\n",
    "\n",
    "\n",
    "subsampling_funcs = [partial(costly_compute, row_index=np.arange(25))]\n",
    "subsampling_set1 = ModuleSet(name='subsampling1', modules=subsampling_funcs)\n",
    "subsampling_set2 = ModuleSet(name='subsampling2', modules=subsampling_funcs)\n",
    "\n",
    "pipeline_uncached.steps = [subsampling_set1]\n",
    "pipeline_cached.steps = [subsampling_set2]"
   ]
  },
  {
   "cell_type": "code",
   "execution_count": 7,
   "id": "raising-canal",
   "metadata": {},
   "outputs": [
    {
     "ename": "NameError",
     "evalue": "name 'pipeline_uncached' is not defined",
     "output_type": "error",
     "traceback": [
      "\u001B[0;31m---------------------------------------------------------------------------\u001B[0m",
      "\u001B[0;31mNameError\u001B[0m                                 Traceback (most recent call last)",
      "\u001B[0;32m<timed eval>\u001B[0m in \u001B[0;36m<module>\u001B[0;34m\u001B[0m\n",
      "\u001B[0;31mNameError\u001B[0m: name 'pipeline_uncached' is not defined"
     ]
    }
   ],
   "source": [
    "% % time\n",
    "\n",
    "# this always takes about 5 seconds\n",
    "pipeline_uncached.run(X_train)"
   ]
  },
  {
   "cell_type": "code",
   "execution_count": 8,
   "id": "retained-explorer",
   "metadata": {},
   "outputs": [
    {
     "ename": "NameError",
     "evalue": "name 'pipeline_cached' is not defined",
     "output_type": "error",
     "traceback": [
      "\u001B[0;31m---------------------------------------------------------------------------\u001B[0m",
      "\u001B[0;31mNameError\u001B[0m                                 Traceback (most recent call last)",
      "\u001B[0;32m<timed exec>\u001B[0m in \u001B[0;36m<module>\u001B[0;34m\u001B[0m\n",
      "\u001B[0;31mNameError\u001B[0m: name 'pipeline_cached' is not defined"
     ]
    }
   ],
   "source": [
    "% % time\n",
    "\n",
    "# the first time this runs it takes 5 seconds, but the next time you run the notebook it's very fast\n",
    "pipeline_cached.run(X_train)\n",
    "print('123')\n",
    "\n",
    "print('ABC')"
   ]
  },
  {
   "cell_type": "code",
   "execution_count": null,
   "id": "8f41cdb1",
   "metadata": {},
   "outputs": [],
   "source": []
  }
 ],
 "metadata": {
  "kernelspec": {
   "display_name": "binyugroup",
   "language": "python",
   "name": "binyugroup"
  },
  "language_info": {
   "codemirror_mode": {
    "name": "ipython",
    "version": 3
   },
   "file_extension": ".py",
   "mimetype": "text/x-python",
   "name": "python",
   "nbconvert_exporter": "python",
   "pygments_lexer": "ipython3",
   "version": "3.6.13"
  }
 },
 "nbformat": 4,
 "nbformat_minor": 5
}
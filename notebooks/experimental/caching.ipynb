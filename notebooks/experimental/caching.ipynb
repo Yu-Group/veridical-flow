{
 "cells": [
  {
   "cell_type": "code",
   "execution_count": 1,
   "id": "objective-insert",
   "metadata": {},
   "outputs": [],
   "source": [
    "'''Modified from joblib documentation: https://joblib.readthedocs.io/en/latest/auto_examples/memory_basic_usage.html\n",
    "'''\n",
    "%load_ext autoreload\n",
    "%autoreload 2\n",
    "import time\n",
    "from functools import partial\n",
    "\n",
    "import numpy as np\n",
    "from sklearn.datasets import make_classification\n",
    "from sklearn.model_selection import train_test_split\n",
    "\n",
    "from vflow import Vset, init_args"
   ]
  },
  {
   "cell_type": "code",
   "execution_count": 2,
   "id": "electronic-report",
   "metadata": {},
   "outputs": [],
   "source": [
    "np.random.seed(13)\n",
    "X, y = make_classification(n_samples=50, n_features=5)\n",
    "X, y = init_args([X, y], names=['X', 'y'])\n",
    "\n",
    "def costly_compute(data, row_index=0):\n",
    "    \"\"\"Simulate an expensive computation\"\"\"\n",
    "    time.sleep(5)\n",
    "    return data[row_index,]\n",
    "\n",
    "subsampling_funcs = [partial(costly_compute, row_index=np.arange(25))]\n",
    "\n",
    "uncached_set = Vset(name='subsampling_uncached', modules=subsampling_funcs)\n",
    "cached_set = Vset(name='subsampling_cached', modules=subsampling_funcs, cache_dir='./')"
   ]
  },
  {
   "cell_type": "code",
   "execution_count": 3,
   "id": "viral-cardiff",
   "metadata": {},
   "outputs": [
    {
     "name": "stdout",
     "output_type": "stream",
     "text": [
      "CPU times: user 1.55 ms, sys: 219 µs, total: 1.76 ms\n",
      "Wall time: 5 s\n"
     ]
    },
    {
     "data": {
      "text/plain": [
       "{('X',\n",
       "  'subsampling_uncached_0'): array([[-1.48243722,  0.76640114, -1.1897997 , -0.3226144 ,  0.35136153],\n",
       "        [-0.06355468,  3.14932047,  2.45990218,  3.51847552,  0.27783616],\n",
       "        [-1.47232803,  1.09490649, -0.91280101,  0.05784853,  0.78857048],\n",
       "        [-1.22242099,  0.8517753 , -0.80402087, -0.01690056,  0.2283352 ],\n",
       "        [ 2.03442739, -1.18542833,  1.52514029,  0.29125138, -0.6606325 ],\n",
       "        [ 0.9401976 , -0.83174787,  0.4760899 , -0.18719308,  0.13679032],\n",
       "        [-1.61601535,  0.49442318, -1.57177933, -0.73822631, -0.51644285],\n",
       "        [ 3.28036648, -1.68208958,  2.64394545,  0.72954939, -1.53906412],\n",
       "        [-0.30582021, -0.97541273, -1.15871714, -1.35132194, -0.54657674],\n",
       "        [-1.70489766,  1.13784372, -1.16173936, -0.08037683, -0.403129  ],\n",
       "        [-0.41226723, -1.02438726, -1.32794826, -1.49237167,  0.40865865],\n",
       "        [ 2.17363048, -1.28033281,  1.61838309,  0.29554635, -1.2368377 ],\n",
       "        [ 0.43301793, -0.457755  ,  0.1590953 , -0.170864  , -0.97769901],\n",
       "        [ 2.38332452, -1.31515633,  1.84597027,  0.42458533,  0.31287872],\n",
       "        [ 0.33619823,  0.50332566,  0.81539492,  0.84065391,  0.75470501],\n",
       "        [-0.20317177, -0.50101282, -0.65135496, -0.73113299, -0.93235926],\n",
       "        [-0.1629447 , -1.15701078, -1.13084551, -1.44233728,  0.40067367],\n",
       "        [-0.30557211, -1.15656244, -1.30436561, -1.55644385,  0.29202649],\n",
       "        [ 0.06323364, -1.00202171, -0.73023127, -1.08491149, -0.86779981],\n",
       "        [-1.27897123,  1.18886887, -0.60136922,  0.31972934, -0.43820144],\n",
       "        [-0.03122652, -1.25384759, -1.04828466, -1.44624733,  0.14375578],\n",
       "        [-0.91015634,  1.17107093, -0.16607569,  0.59593449, -0.94663646],\n",
       "        [-0.11906892,  1.93190004,  1.41135673,  2.09399849, -0.41926032],\n",
       "        [-0.29881148, -0.29472443, -0.60174719, -0.5741743 ,  0.99294913],\n",
       "        [ 1.07469058, -0.93785005,  0.55456857, -0.19937499, -0.88249039]]),\n",
       " '__prev__': (<vflow.vset.Vset at 0x7efce9caa250>,)}"
      ]
     },
     "execution_count": 3,
     "metadata": {},
     "output_type": "execute_result"
    }
   ],
   "source": [
    "%%time\n",
    "\n",
    "# this always takes about 5 seconds\n",
    "uncached_set.fit(X)\n",
    "uncached_set.out"
   ]
  },
  {
   "cell_type": "code",
   "execution_count": 4,
   "id": "novel-upset",
   "metadata": {},
   "outputs": [
    {
     "name": "stdout",
     "output_type": "stream",
     "text": [
      "CPU times: user 3.74 ms, sys: 0 ns, total: 3.74 ms\n",
      "Wall time: 3.23 ms\n"
     ]
    },
    {
     "data": {
      "text/plain": [
       "{('X',\n",
       "  'subsampling_cached_0'): array([[-1.48243722,  0.76640114, -1.1897997 , -0.3226144 ,  0.35136153],\n",
       "        [-0.06355468,  3.14932047,  2.45990218,  3.51847552,  0.27783616],\n",
       "        [-1.47232803,  1.09490649, -0.91280101,  0.05784853,  0.78857048],\n",
       "        [-1.22242099,  0.8517753 , -0.80402087, -0.01690056,  0.2283352 ],\n",
       "        [ 2.03442739, -1.18542833,  1.52514029,  0.29125138, -0.6606325 ],\n",
       "        [ 0.9401976 , -0.83174787,  0.4760899 , -0.18719308,  0.13679032],\n",
       "        [-1.61601535,  0.49442318, -1.57177933, -0.73822631, -0.51644285],\n",
       "        [ 3.28036648, -1.68208958,  2.64394545,  0.72954939, -1.53906412],\n",
       "        [-0.30582021, -0.97541273, -1.15871714, -1.35132194, -0.54657674],\n",
       "        [-1.70489766,  1.13784372, -1.16173936, -0.08037683, -0.403129  ],\n",
       "        [-0.41226723, -1.02438726, -1.32794826, -1.49237167,  0.40865865],\n",
       "        [ 2.17363048, -1.28033281,  1.61838309,  0.29554635, -1.2368377 ],\n",
       "        [ 0.43301793, -0.457755  ,  0.1590953 , -0.170864  , -0.97769901],\n",
       "        [ 2.38332452, -1.31515633,  1.84597027,  0.42458533,  0.31287872],\n",
       "        [ 0.33619823,  0.50332566,  0.81539492,  0.84065391,  0.75470501],\n",
       "        [-0.20317177, -0.50101282, -0.65135496, -0.73113299, -0.93235926],\n",
       "        [-0.1629447 , -1.15701078, -1.13084551, -1.44233728,  0.40067367],\n",
       "        [-0.30557211, -1.15656244, -1.30436561, -1.55644385,  0.29202649],\n",
       "        [ 0.06323364, -1.00202171, -0.73023127, -1.08491149, -0.86779981],\n",
       "        [-1.27897123,  1.18886887, -0.60136922,  0.31972934, -0.43820144],\n",
       "        [-0.03122652, -1.25384759, -1.04828466, -1.44624733,  0.14375578],\n",
       "        [-0.91015634,  1.17107093, -0.16607569,  0.59593449, -0.94663646],\n",
       "        [-0.11906892,  1.93190004,  1.41135673,  2.09399849, -0.41926032],\n",
       "        [-0.29881148, -0.29472443, -0.60174719, -0.5741743 ,  0.99294913],\n",
       "        [ 1.07469058, -0.93785005,  0.55456857, -0.19937499, -0.88249039]]),\n",
       " '__prev__': (<vflow.vset.Vset at 0x7efcfbffc760>,)}"
      ]
     },
     "execution_count": 4,
     "metadata": {},
     "output_type": "execute_result"
    }
   ],
   "source": [
    "%%time\n",
    "\n",
    "# the first time this runs it takes 5 seconds, but the next time you run the notebook it's very fast\n",
    "cached_set.fit(X)\n",
    "cached_set.out"
   ]
  },
  {
   "cell_type": "code",
   "execution_count": null,
   "id": "revised-dietary",
   "metadata": {},
   "outputs": [],
   "source": []
  }
 ],
 "metadata": {
  "kernelspec": {
   "display_name": "Python 3",
   "language": "python",
   "name": "python3"
  },
  "language_info": {
   "codemirror_mode": {
    "name": "ipython",
    "version": 3
   },
   "file_extension": ".py",
   "mimetype": "text/x-python",
   "name": "python",
   "nbconvert_exporter": "python",
   "pygments_lexer": "ipython3",
   "version": "3.8.5"
  }
 },
 "nbformat": 4,
 "nbformat_minor": 5
}

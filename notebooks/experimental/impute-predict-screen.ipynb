{
 "cells": [
  {
   "cell_type": "code",
   "execution_count": 4,
   "id": "veterinary-relationship",
   "metadata": {},
   "outputs": [
    {
     "name": "stdout",
     "output_type": "stream",
     "text": [
      "The autoreload extension is already loaded. To reload it, use:\n",
      "  %reload_ext autoreload\n"
     ]
    }
   ],
   "source": [
    "%load_ext autoreload\n",
    "%autoreload 2\n",
    "\n",
    "from vflow import Vset, build_vset, filter_vset_by_metric, init_args, dict_to_df, perturbation_stats\n",
    "\n",
    "from vflow.pipeline import build_graph\n",
    "\n",
    "from sklearn.datasets import make_classification\n",
    "from sklearn.model_selection import train_test_split\n",
    "from sklearn.utils import resample\n",
    "from sklearn.impute import SimpleImputer\n",
    "from sklearn.ensemble import RandomForestClassifier\n",
    "from sklearn.linear_model import LogisticRegression\n",
    "from sklearn.neural_network import MLPClassifier\n",
    "from sklearn.tree import DecisionTreeClassifier\n",
    "from sklearn.metrics import accuracy_score, roc_auc_score\n",
    "\n",
    "from functools import partial\n",
    "\n",
    "import numpy as np\n",
    "import pandas as pd\n",
    "\n",
    "import matplotlib.pyplot as plt\n",
    "\n",
    "pd.options.display.max_rows = 15\n",
    "np.random.seed(31415)"
   ]
  },
  {
   "cell_type": "code",
   "execution_count": 5,
   "id": "entitled-affiliate",
   "metadata": {},
   "outputs": [],
   "source": [
    "X, y = make_classification(n_samples=1000, n_informative=10)\n",
    "\n",
    "# 20% of X entries missing\n",
    "i = np.random.randint(X.shape[0], size=round(X.shape[0]*X.shape[1] * 0.2))\n",
    "j = np.random.randint(X.shape[1], size=i.size)\n",
    "X[i, j] = np.nan\n",
    "\n",
    "# 2% outliers\n",
    "i = np.random.randint(X.shape[0], size=round(X.shape[0]*X.shape[1] * 0.02))\n",
    "j = np.random.randint(X.shape[1], size=i.size)\n",
    "X[i, j] = X[i, j]*75\n",
    "\n",
    "X_trainval, X_test, y_trainval, y_test = train_test_split(X, y)\n",
    "X_train, X_val, y_train, y_val = train_test_split(X_trainval, y_trainval)\n",
    "\n",
    "X_train, y_train = init_args([X_train, y_train], names=['X_train', 'y_train'])\n",
    "X_val, y_val = init_args([X_val, y_val], names=['X_val', 'y_val'])\n",
    "X_trainval, y_trainval = init_args([X_trainval, y_trainval], names=['X_trainval', 'y_trainval'])\n",
    "X_test, y_test = init_args([X_test, y_test], names=['X_test', 'y_test'])"
   ]
  },
  {
   "cell_type": "code",
   "execution_count": 6,
   "id": "dental-community",
   "metadata": {},
   "outputs": [],
   "source": [
    "rf = RandomForestClassifier()\n",
    "lr = LogisticRegression()\n",
    "mlp = MLPClassifier()\n",
    "dt = DecisionTreeClassifier()"
   ]
  },
  {
   "cell_type": "code",
   "execution_count": 7,
   "id": "spatial-peter",
   "metadata": {},
   "outputs": [],
   "source": [
    "resample_set = Vset('resample', [partial(resample, n_samples=50) for i in range(10)])\n",
    "impute_set = Vset('impute', [SimpleImputer(), SimpleImputer(strategy='median')], module_keys=['mean', 'median'], output_matching=True)\n",
    "model_set = Vset('model', [rf, lr, dt], module_keys=['rf', 'lr', 'dt'])\n",
    "\n",
    "def accuracy_score_proba(y_true, y_pred_proba):\n",
    "    ''' like accuracy_score, but y_pred is output from predict_proba\n",
    "    '''\n",
    "    return accuracy_score(y_true, np.argmax(y_pred_proba, axis=1))\n",
    "\n",
    "def my_roc_auc_score(y_true, y_pred_proba):\n",
    "    ''' like roc_auc_score, but y_pred is output from predict_proba\n",
    "    '''\n",
    "    return roc_auc_score(y_true, y_pred_proba[:, -1])\n",
    "\n",
    "eval_set = Vset('eval', [accuracy_score_proba, my_roc_auc_score], module_keys=['acc', 'auroc'])"
   ]
  },
  {
   "cell_type": "code",
   "execution_count": 8,
   "id": "realistic-destination",
   "metadata": {},
   "outputs": [],
   "source": [
    "X_trains, y_trains = resample_set(X_train, y_train)\n",
    "X_trains = impute_set.fit(X_trains).transform(X_trains)"
   ]
  },
  {
   "cell_type": "code",
   "execution_count": 9,
   "id": "wound-newton",
   "metadata": {
    "scrolled": true
   },
   "outputs": [
    {
     "name": "stderr",
     "output_type": "stream",
     "text": [
      "/accounts/campus/sahilsaxena18/.conda/envs/vflow/lib/python3.9/site-packages/sklearn/linear_model/_logistic.py:814: ConvergenceWarning: lbfgs failed to converge (status=1):\n",
      "STOP: TOTAL NO. of ITERATIONS REACHED LIMIT.\n",
      "\n",
      "Increase the number of iterations (max_iter) or scale the data as shown in:\n",
      "    https://scikit-learn.org/stable/modules/preprocessing.html\n",
      "Please also refer to the documentation for alternative solver options:\n",
      "    https://scikit-learn.org/stable/modules/linear_model.html#logistic-regression\n",
      "  n_iter_i = _check_optimize_result(\n",
      "/accounts/campus/sahilsaxena18/.conda/envs/vflow/lib/python3.9/site-packages/sklearn/linear_model/_logistic.py:814: ConvergenceWarning: lbfgs failed to converge (status=1):\n",
      "STOP: TOTAL NO. of ITERATIONS REACHED LIMIT.\n",
      "\n",
      "Increase the number of iterations (max_iter) or scale the data as shown in:\n",
      "    https://scikit-learn.org/stable/modules/preprocessing.html\n",
      "Please also refer to the documentation for alternative solver options:\n",
      "    https://scikit-learn.org/stable/modules/linear_model.html#logistic-regression\n",
      "  n_iter_i = _check_optimize_result(\n",
      "/accounts/campus/sahilsaxena18/.conda/envs/vflow/lib/python3.9/site-packages/sklearn/linear_model/_logistic.py:814: ConvergenceWarning: lbfgs failed to converge (status=1):\n",
      "STOP: TOTAL NO. of ITERATIONS REACHED LIMIT.\n",
      "\n",
      "Increase the number of iterations (max_iter) or scale the data as shown in:\n",
      "    https://scikit-learn.org/stable/modules/preprocessing.html\n",
      "Please also refer to the documentation for alternative solver options:\n",
      "    https://scikit-learn.org/stable/modules/linear_model.html#logistic-regression\n",
      "  n_iter_i = _check_optimize_result(\n",
      "/accounts/campus/sahilsaxena18/.conda/envs/vflow/lib/python3.9/site-packages/sklearn/linear_model/_logistic.py:814: ConvergenceWarning: lbfgs failed to converge (status=1):\n",
      "STOP: TOTAL NO. of ITERATIONS REACHED LIMIT.\n",
      "\n",
      "Increase the number of iterations (max_iter) or scale the data as shown in:\n",
      "    https://scikit-learn.org/stable/modules/preprocessing.html\n",
      "Please also refer to the documentation for alternative solver options:\n",
      "    https://scikit-learn.org/stable/modules/linear_model.html#logistic-regression\n",
      "  n_iter_i = _check_optimize_result(\n",
      "/accounts/campus/sahilsaxena18/.conda/envs/vflow/lib/python3.9/site-packages/sklearn/linear_model/_logistic.py:814: ConvergenceWarning: lbfgs failed to converge (status=1):\n",
      "STOP: TOTAL NO. of ITERATIONS REACHED LIMIT.\n",
      "\n",
      "Increase the number of iterations (max_iter) or scale the data as shown in:\n",
      "    https://scikit-learn.org/stable/modules/preprocessing.html\n",
      "Please also refer to the documentation for alternative solver options:\n",
      "    https://scikit-learn.org/stable/modules/linear_model.html#logistic-regression\n",
      "  n_iter_i = _check_optimize_result(\n",
      "/accounts/campus/sahilsaxena18/.conda/envs/vflow/lib/python3.9/site-packages/sklearn/linear_model/_logistic.py:814: ConvergenceWarning: lbfgs failed to converge (status=1):\n",
      "STOP: TOTAL NO. of ITERATIONS REACHED LIMIT.\n",
      "\n",
      "Increase the number of iterations (max_iter) or scale the data as shown in:\n",
      "    https://scikit-learn.org/stable/modules/preprocessing.html\n",
      "Please also refer to the documentation for alternative solver options:\n",
      "    https://scikit-learn.org/stable/modules/linear_model.html#logistic-regression\n",
      "  n_iter_i = _check_optimize_result(\n",
      "/accounts/campus/sahilsaxena18/.conda/envs/vflow/lib/python3.9/site-packages/sklearn/linear_model/_logistic.py:814: ConvergenceWarning: lbfgs failed to converge (status=1):\n",
      "STOP: TOTAL NO. of ITERATIONS REACHED LIMIT.\n",
      "\n",
      "Increase the number of iterations (max_iter) or scale the data as shown in:\n",
      "    https://scikit-learn.org/stable/modules/preprocessing.html\n",
      "Please also refer to the documentation for alternative solver options:\n",
      "    https://scikit-learn.org/stable/modules/linear_model.html#logistic-regression\n",
      "  n_iter_i = _check_optimize_result(\n",
      "/accounts/campus/sahilsaxena18/.conda/envs/vflow/lib/python3.9/site-packages/sklearn/linear_model/_logistic.py:814: ConvergenceWarning: lbfgs failed to converge (status=1):\n",
      "STOP: TOTAL NO. of ITERATIONS REACHED LIMIT.\n",
      "\n",
      "Increase the number of iterations (max_iter) or scale the data as shown in:\n",
      "    https://scikit-learn.org/stable/modules/preprocessing.html\n",
      "Please also refer to the documentation for alternative solver options:\n",
      "    https://scikit-learn.org/stable/modules/linear_model.html#logistic-regression\n",
      "  n_iter_i = _check_optimize_result(\n",
      "/accounts/campus/sahilsaxena18/.conda/envs/vflow/lib/python3.9/site-packages/sklearn/linear_model/_logistic.py:814: ConvergenceWarning: lbfgs failed to converge (status=1):\n",
      "STOP: TOTAL NO. of ITERATIONS REACHED LIMIT.\n",
      "\n",
      "Increase the number of iterations (max_iter) or scale the data as shown in:\n",
      "    https://scikit-learn.org/stable/modules/preprocessing.html\n",
      "Please also refer to the documentation for alternative solver options:\n",
      "    https://scikit-learn.org/stable/modules/linear_model.html#logistic-regression\n",
      "  n_iter_i = _check_optimize_result(\n",
      "/accounts/campus/sahilsaxena18/.conda/envs/vflow/lib/python3.9/site-packages/sklearn/linear_model/_logistic.py:814: ConvergenceWarning: lbfgs failed to converge (status=1):\n",
      "STOP: TOTAL NO. of ITERATIONS REACHED LIMIT.\n",
      "\n",
      "Increase the number of iterations (max_iter) or scale the data as shown in:\n",
      "    https://scikit-learn.org/stable/modules/preprocessing.html\n",
      "Please also refer to the documentation for alternative solver options:\n",
      "    https://scikit-learn.org/stable/modules/linear_model.html#logistic-regression\n",
      "  n_iter_i = _check_optimize_result(\n",
      "/accounts/campus/sahilsaxena18/.conda/envs/vflow/lib/python3.9/site-packages/sklearn/linear_model/_logistic.py:814: ConvergenceWarning: lbfgs failed to converge (status=1):\n",
      "STOP: TOTAL NO. of ITERATIONS REACHED LIMIT.\n",
      "\n",
      "Increase the number of iterations (max_iter) or scale the data as shown in:\n",
      "    https://scikit-learn.org/stable/modules/preprocessing.html\n",
      "Please also refer to the documentation for alternative solver options:\n",
      "    https://scikit-learn.org/stable/modules/linear_model.html#logistic-regression\n",
      "  n_iter_i = _check_optimize_result(\n",
      "/accounts/campus/sahilsaxena18/.conda/envs/vflow/lib/python3.9/site-packages/sklearn/linear_model/_logistic.py:814: ConvergenceWarning: lbfgs failed to converge (status=1):\n",
      "STOP: TOTAL NO. of ITERATIONS REACHED LIMIT.\n",
      "\n",
      "Increase the number of iterations (max_iter) or scale the data as shown in:\n",
      "    https://scikit-learn.org/stable/modules/preprocessing.html\n",
      "Please also refer to the documentation for alternative solver options:\n",
      "    https://scikit-learn.org/stable/modules/linear_model.html#logistic-regression\n",
      "  n_iter_i = _check_optimize_result(\n",
      "/accounts/campus/sahilsaxena18/.conda/envs/vflow/lib/python3.9/site-packages/sklearn/linear_model/_logistic.py:814: ConvergenceWarning: lbfgs failed to converge (status=1):\n",
      "STOP: TOTAL NO. of ITERATIONS REACHED LIMIT.\n",
      "\n",
      "Increase the number of iterations (max_iter) or scale the data as shown in:\n",
      "    https://scikit-learn.org/stable/modules/preprocessing.html\n",
      "Please also refer to the documentation for alternative solver options:\n",
      "    https://scikit-learn.org/stable/modules/linear_model.html#logistic-regression\n",
      "  n_iter_i = _check_optimize_result(\n"
     ]
    },
    {
     "data": {
      "text/plain": [
       "<vflow.vset.Vset at 0x7f146442c970>"
      ]
     },
     "execution_count": 9,
     "metadata": {},
     "output_type": "execute_result"
    }
   ],
   "source": [
    "model_set.fit(X_trains, y_trains)"
   ]
  },
  {
   "cell_type": "code",
   "execution_count": 10,
   "id": "about-exploration",
   "metadata": {},
   "outputs": [],
   "source": [
    "preds = model_set.predict_proba(impute_set.transform(X_val))\n",
    "metrics = eval_set.evaluate(y_val, preds)"
   ]
  },
  {
   "cell_type": "code",
   "execution_count": 11,
   "id": "crude-pittsburgh",
   "metadata": {},
   "outputs": [
    {
     "data": {
      "text/html": [
       "<div>\n",
       "<style scoped>\n",
       "    .dataframe tbody tr th:only-of-type {\n",
       "        vertical-align: middle;\n",
       "    }\n",
       "\n",
       "    .dataframe tbody tr th {\n",
       "        vertical-align: top;\n",
       "    }\n",
       "\n",
       "    .dataframe thead th {\n",
       "        text-align: right;\n",
       "    }\n",
       "</style>\n",
       "<table border=\"1\" class=\"dataframe\">\n",
       "  <thead>\n",
       "    <tr style=\"text-align: right;\">\n",
       "      <th></th>\n",
       "      <th>init-resample</th>\n",
       "      <th>init-resample</th>\n",
       "      <th>init-resample</th>\n",
       "      <th>resample</th>\n",
       "      <th>impute</th>\n",
       "      <th>init-model</th>\n",
       "      <th>init-model</th>\n",
       "      <th>init-model</th>\n",
       "      <th>model</th>\n",
       "      <th>eval</th>\n",
       "      <th>out</th>\n",
       "    </tr>\n",
       "  </thead>\n",
       "  <tbody>\n",
       "    <tr>\n",
       "      <th>0</th>\n",
       "      <td>y_val</td>\n",
       "      <td>X_val</td>\n",
       "      <td>X_train</td>\n",
       "      <td>resample_0</td>\n",
       "      <td>mean</td>\n",
       "      <td>X_train</td>\n",
       "      <td>X_train</td>\n",
       "      <td>y_train</td>\n",
       "      <td>rf</td>\n",
       "      <td>acc</td>\n",
       "      <td>0.744681</td>\n",
       "    </tr>\n",
       "    <tr>\n",
       "      <th>1</th>\n",
       "      <td>y_val</td>\n",
       "      <td>X_val</td>\n",
       "      <td>X_train</td>\n",
       "      <td>resample_1</td>\n",
       "      <td>mean</td>\n",
       "      <td>X_train</td>\n",
       "      <td>X_train</td>\n",
       "      <td>y_train</td>\n",
       "      <td>rf</td>\n",
       "      <td>acc</td>\n",
       "      <td>0.617021</td>\n",
       "    </tr>\n",
       "    <tr>\n",
       "      <th>2</th>\n",
       "      <td>y_val</td>\n",
       "      <td>X_val</td>\n",
       "      <td>X_train</td>\n",
       "      <td>resample_2</td>\n",
       "      <td>mean</td>\n",
       "      <td>X_train</td>\n",
       "      <td>X_train</td>\n",
       "      <td>y_train</td>\n",
       "      <td>rf</td>\n",
       "      <td>acc</td>\n",
       "      <td>0.734043</td>\n",
       "    </tr>\n",
       "    <tr>\n",
       "      <th>3</th>\n",
       "      <td>y_val</td>\n",
       "      <td>X_val</td>\n",
       "      <td>X_train</td>\n",
       "      <td>resample_3</td>\n",
       "      <td>mean</td>\n",
       "      <td>X_train</td>\n",
       "      <td>X_train</td>\n",
       "      <td>y_train</td>\n",
       "      <td>rf</td>\n",
       "      <td>acc</td>\n",
       "      <td>0.648936</td>\n",
       "    </tr>\n",
       "    <tr>\n",
       "      <th>4</th>\n",
       "      <td>y_val</td>\n",
       "      <td>X_val</td>\n",
       "      <td>X_train</td>\n",
       "      <td>resample_4</td>\n",
       "      <td>mean</td>\n",
       "      <td>X_train</td>\n",
       "      <td>X_train</td>\n",
       "      <td>y_train</td>\n",
       "      <td>rf</td>\n",
       "      <td>acc</td>\n",
       "      <td>0.680851</td>\n",
       "    </tr>\n",
       "    <tr>\n",
       "      <th>...</th>\n",
       "      <td>...</td>\n",
       "      <td>...</td>\n",
       "      <td>...</td>\n",
       "      <td>...</td>\n",
       "      <td>...</td>\n",
       "      <td>...</td>\n",
       "      <td>...</td>\n",
       "      <td>...</td>\n",
       "      <td>...</td>\n",
       "      <td>...</td>\n",
       "      <td>...</td>\n",
       "    </tr>\n",
       "    <tr>\n",
       "      <th>115</th>\n",
       "      <td>y_val</td>\n",
       "      <td>X_val</td>\n",
       "      <td>X_train</td>\n",
       "      <td>resample_5</td>\n",
       "      <td>median</td>\n",
       "      <td>X_train</td>\n",
       "      <td>X_train</td>\n",
       "      <td>y_train</td>\n",
       "      <td>dt</td>\n",
       "      <td>auroc</td>\n",
       "      <td>0.543488</td>\n",
       "    </tr>\n",
       "    <tr>\n",
       "      <th>116</th>\n",
       "      <td>y_val</td>\n",
       "      <td>X_val</td>\n",
       "      <td>X_train</td>\n",
       "      <td>resample_6</td>\n",
       "      <td>median</td>\n",
       "      <td>X_train</td>\n",
       "      <td>X_train</td>\n",
       "      <td>y_train</td>\n",
       "      <td>dt</td>\n",
       "      <td>auroc</td>\n",
       "      <td>0.676139</td>\n",
       "    </tr>\n",
       "    <tr>\n",
       "      <th>117</th>\n",
       "      <td>y_val</td>\n",
       "      <td>X_val</td>\n",
       "      <td>X_train</td>\n",
       "      <td>resample_7</td>\n",
       "      <td>median</td>\n",
       "      <td>X_train</td>\n",
       "      <td>X_train</td>\n",
       "      <td>y_train</td>\n",
       "      <td>dt</td>\n",
       "      <td>auroc</td>\n",
       "      <td>0.590083</td>\n",
       "    </tr>\n",
       "    <tr>\n",
       "      <th>118</th>\n",
       "      <td>y_val</td>\n",
       "      <td>X_val</td>\n",
       "      <td>X_train</td>\n",
       "      <td>resample_8</td>\n",
       "      <td>median</td>\n",
       "      <td>X_train</td>\n",
       "      <td>X_train</td>\n",
       "      <td>y_train</td>\n",
       "      <td>dt</td>\n",
       "      <td>auroc</td>\n",
       "      <td>0.669121</td>\n",
       "    </tr>\n",
       "    <tr>\n",
       "      <th>119</th>\n",
       "      <td>y_val</td>\n",
       "      <td>X_val</td>\n",
       "      <td>X_train</td>\n",
       "      <td>resample_9</td>\n",
       "      <td>median</td>\n",
       "      <td>X_train</td>\n",
       "      <td>X_train</td>\n",
       "      <td>y_train</td>\n",
       "      <td>dt</td>\n",
       "      <td>auroc</td>\n",
       "      <td>0.682467</td>\n",
       "    </tr>\n",
       "  </tbody>\n",
       "</table>\n",
       "<p>120 rows × 11 columns</p>\n",
       "</div>"
      ],
      "text/plain": [
       "    init-resample init-resample init-resample    resample  impute init-model  \\\n",
       "0           y_val         X_val       X_train  resample_0    mean    X_train   \n",
       "1           y_val         X_val       X_train  resample_1    mean    X_train   \n",
       "2           y_val         X_val       X_train  resample_2    mean    X_train   \n",
       "3           y_val         X_val       X_train  resample_3    mean    X_train   \n",
       "4           y_val         X_val       X_train  resample_4    mean    X_train   \n",
       "..            ...           ...           ...         ...     ...        ...   \n",
       "115         y_val         X_val       X_train  resample_5  median    X_train   \n",
       "116         y_val         X_val       X_train  resample_6  median    X_train   \n",
       "117         y_val         X_val       X_train  resample_7  median    X_train   \n",
       "118         y_val         X_val       X_train  resample_8  median    X_train   \n",
       "119         y_val         X_val       X_train  resample_9  median    X_train   \n",
       "\n",
       "    init-model init-model model   eval       out  \n",
       "0      X_train    y_train    rf    acc  0.744681  \n",
       "1      X_train    y_train    rf    acc  0.617021  \n",
       "2      X_train    y_train    rf    acc  0.734043  \n",
       "3      X_train    y_train    rf    acc  0.648936  \n",
       "4      X_train    y_train    rf    acc  0.680851  \n",
       "..         ...        ...   ...    ...       ...  \n",
       "115    X_train    y_train    dt  auroc  0.543488  \n",
       "116    X_train    y_train    dt  auroc  0.676139  \n",
       "117    X_train    y_train    dt  auroc  0.590083  \n",
       "118    X_train    y_train    dt  auroc  0.669121  \n",
       "119    X_train    y_train    dt  auroc  0.682467  \n",
       "\n",
       "[120 rows x 11 columns]"
      ]
     },
     "execution_count": 11,
     "metadata": {},
     "output_type": "execute_result"
    }
   ],
   "source": [
    "df_metrics = dict_to_df(metrics)\n",
    "df_metrics"
   ]
  },
  {
   "cell_type": "code",
   "execution_count": 12,
   "id": "prospective-legislature",
   "metadata": {},
   "outputs": [
    {
     "data": {
      "text/plain": [
       "<networkx.classes.digraph.DiGraph at 0x7f146444d460>"
      ]
     },
     "execution_count": 12,
     "metadata": {},
     "output_type": "execute_result"
    },
    {
     "data": {
      "image/png": "[encoded data removed]",
      "text/plain": [
       "<Figure size 432x288 with 1 Axes>"
      ]
     },
     "metadata": {},
     "output_type": "display_data"
    }
   ],
   "source": [
    "build_graph(metrics)"
   ]
  },
  {
   "cell_type": "code",
   "execution_count": 13,
   "id": "incident-belle",
   "metadata": {},
   "outputs": [
    {
     "data": {
      "text/html": [
       "<div>\n",
       "<style scoped>\n",
       "    .dataframe tbody tr th:only-of-type {\n",
       "        vertical-align: middle;\n",
       "    }\n",
       "\n",
       "    .dataframe tbody tr th {\n",
       "        vertical-align: top;\n",
       "    }\n",
       "\n",
       "    .dataframe thead th {\n",
       "        text-align: right;\n",
       "    }\n",
       "</style>\n",
       "<table border=\"1\" class=\"dataframe\">\n",
       "  <thead>\n",
       "    <tr style=\"text-align: right;\">\n",
       "      <th></th>\n",
       "      <th>eval</th>\n",
       "      <th>impute</th>\n",
       "      <th>count</th>\n",
       "      <th>mean</th>\n",
       "      <th>std</th>\n",
       "    </tr>\n",
       "  </thead>\n",
       "  <tbody>\n",
       "    <tr>\n",
       "      <th>0</th>\n",
       "      <td>acc</td>\n",
       "      <td>mean</td>\n",
       "      <td>30</td>\n",
       "      <td>0.643794</td>\n",
       "      <td>0.064808</td>\n",
       "    </tr>\n",
       "    <tr>\n",
       "      <th>1</th>\n",
       "      <td>acc</td>\n",
       "      <td>median</td>\n",
       "      <td>30</td>\n",
       "      <td>0.660816</td>\n",
       "      <td>0.056079</td>\n",
       "    </tr>\n",
       "    <tr>\n",
       "      <th>2</th>\n",
       "      <td>auroc</td>\n",
       "      <td>mean</td>\n",
       "      <td>30</td>\n",
       "      <td>0.687251</td>\n",
       "      <td>0.081875</td>\n",
       "    </tr>\n",
       "    <tr>\n",
       "      <th>3</th>\n",
       "      <td>auroc</td>\n",
       "      <td>median</td>\n",
       "      <td>30</td>\n",
       "      <td>0.705123</td>\n",
       "      <td>0.079892</td>\n",
       "    </tr>\n",
       "  </tbody>\n",
       "</table>\n",
       "</div>"
      ],
      "text/plain": [
       "    eval  impute  count      mean       std\n",
       "0    acc    mean     30  0.643794  0.064808\n",
       "1    acc  median     30  0.660816  0.056079\n",
       "2  auroc    mean     30  0.687251  0.081875\n",
       "3  auroc  median     30  0.705123  0.079892"
      ]
     },
     "execution_count": 13,
     "metadata": {},
     "output_type": "execute_result"
    }
   ],
   "source": [
    "df_impute = perturbation_stats(metrics, 'eval', 'impute')\n",
    "df_impute"
   ]
  },
  {
   "cell_type": "code",
   "execution_count": 14,
   "id": "municipal-pregnancy",
   "metadata": {},
   "outputs": [],
   "source": [
    "mean_means = df_impute[df_impute['impute'] == 'mean']['mean'].to_numpy()\n",
    "mean_stds = df_impute[df_impute['impute'] == 'mean']['std'].to_numpy()\n",
    "median_means = df_impute[df_impute['impute'] == 'median']['mean'].to_numpy()\n",
    "median_stds = df_impute[df_impute['impute'] == 'median']['std'].to_numpy()"
   ]
  },
  {
   "cell_type": "code",
   "execution_count": 15,
   "id": "roman-syracuse",
   "metadata": {},
   "outputs": [
    {
     "data": {
      "image/png": "[encoded data removed]",
      "text/plain": [
       "<Figure size 432x288 with 1 Axes>"
      ]
     },
     "metadata": {
      "needs_background": "light"
     },
     "output_type": "display_data"
    }
   ],
   "source": [
    "import matplotlib.pyplot as plt\n",
    "\n",
    "fig, ax = plt.subplots()\n",
    "\n",
    "ind = np.arange(2)    # the x locations for the groups\n",
    "width = 0.35         # the width of the bars\n",
    "\n",
    "ax.bar(ind, mean_means, width, bottom=0, yerr=mean_stds, label='mean')\n",
    "ax.bar(ind + width, median_means, width, bottom=0, yerr=median_stds, label='median')\n",
    "\n",
    "ax.set_title('Accuracy and AUROC by Imputation Strategy')\n",
    "ax.set_xticks(ind + width / 2)\n",
    "ax.set_xticklabels(['Accuracy', 'AUROC'])\n",
    "\n",
    "ax.legend(loc='lower right', title='Imputation')\n",
    "ax.autoscale_view()\n",
    "\n",
    "plt.show()"
   ]
  },
  {
   "cell_type": "code",
   "execution_count": 16,
   "id": "pleased-purple",
   "metadata": {},
   "outputs": [
    {
     "data": {
      "text/html": [
       "<div>\n",
       "<style scoped>\n",
       "    .dataframe tbody tr th:only-of-type {\n",
       "        vertical-align: middle;\n",
       "    }\n",
       "\n",
       "    .dataframe tbody tr th {\n",
       "        vertical-align: top;\n",
       "    }\n",
       "\n",
       "    .dataframe thead th {\n",
       "        text-align: right;\n",
       "    }\n",
       "</style>\n",
       "<table border=\"1\" class=\"dataframe\">\n",
       "  <thead>\n",
       "    <tr style=\"text-align: right;\">\n",
       "      <th></th>\n",
       "      <th>model</th>\n",
       "      <th>eval</th>\n",
       "      <th>impute</th>\n",
       "      <th>count</th>\n",
       "      <th>mean</th>\n",
       "      <th>std</th>\n",
       "    </tr>\n",
       "  </thead>\n",
       "  <tbody>\n",
       "    <tr>\n",
       "      <th>0</th>\n",
       "      <td>dt</td>\n",
       "      <td>acc</td>\n",
       "      <td>mean</td>\n",
       "      <td>10</td>\n",
       "      <td>0.596277</td>\n",
       "      <td>0.054962</td>\n",
       "    </tr>\n",
       "    <tr>\n",
       "      <th>1</th>\n",
       "      <td>dt</td>\n",
       "      <td>acc</td>\n",
       "      <td>median</td>\n",
       "      <td>10</td>\n",
       "      <td>0.624468</td>\n",
       "      <td>0.059612</td>\n",
       "    </tr>\n",
       "    <tr>\n",
       "      <th>2</th>\n",
       "      <td>dt</td>\n",
       "      <td>auroc</td>\n",
       "      <td>mean</td>\n",
       "      <td>10</td>\n",
       "      <td>0.602911</td>\n",
       "      <td>0.047092</td>\n",
       "    </tr>\n",
       "    <tr>\n",
       "      <th>3</th>\n",
       "      <td>dt</td>\n",
       "      <td>auroc</td>\n",
       "      <td>median</td>\n",
       "      <td>10</td>\n",
       "      <td>0.630672</td>\n",
       "      <td>0.054265</td>\n",
       "    </tr>\n",
       "    <tr>\n",
       "      <th>4</th>\n",
       "      <td>lr</td>\n",
       "      <td>acc</td>\n",
       "      <td>mean</td>\n",
       "      <td>10</td>\n",
       "      <td>0.654255</td>\n",
       "      <td>0.046910</td>\n",
       "    </tr>\n",
       "    <tr>\n",
       "      <th>5</th>\n",
       "      <td>lr</td>\n",
       "      <td>acc</td>\n",
       "      <td>median</td>\n",
       "      <td>10</td>\n",
       "      <td>0.668617</td>\n",
       "      <td>0.038279</td>\n",
       "    </tr>\n",
       "    <tr>\n",
       "      <th>6</th>\n",
       "      <td>lr</td>\n",
       "      <td>auroc</td>\n",
       "      <td>mean</td>\n",
       "      <td>10</td>\n",
       "      <td>0.681374</td>\n",
       "      <td>0.030784</td>\n",
       "    </tr>\n",
       "    <tr>\n",
       "      <th>7</th>\n",
       "      <td>lr</td>\n",
       "      <td>auroc</td>\n",
       "      <td>median</td>\n",
       "      <td>10</td>\n",
       "      <td>0.691889</td>\n",
       "      <td>0.032176</td>\n",
       "    </tr>\n",
       "    <tr>\n",
       "      <th>8</th>\n",
       "      <td>rf</td>\n",
       "      <td>acc</td>\n",
       "      <td>mean</td>\n",
       "      <td>10</td>\n",
       "      <td>0.680851</td>\n",
       "      <td>0.064467</td>\n",
       "    </tr>\n",
       "    <tr>\n",
       "      <th>9</th>\n",
       "      <td>rf</td>\n",
       "      <td>acc</td>\n",
       "      <td>median</td>\n",
       "      <td>10</td>\n",
       "      <td>0.689362</td>\n",
       "      <td>0.051705</td>\n",
       "    </tr>\n",
       "    <tr>\n",
       "      <th>10</th>\n",
       "      <td>rf</td>\n",
       "      <td>auroc</td>\n",
       "      <td>mean</td>\n",
       "      <td>10</td>\n",
       "      <td>0.777468</td>\n",
       "      <td>0.038073</td>\n",
       "    </tr>\n",
       "    <tr>\n",
       "      <th>11</th>\n",
       "      <td>rf</td>\n",
       "      <td>auroc</td>\n",
       "      <td>median</td>\n",
       "      <td>10</td>\n",
       "      <td>0.792809</td>\n",
       "      <td>0.041106</td>\n",
       "    </tr>\n",
       "  </tbody>\n",
       "</table>\n",
       "</div>"
      ],
      "text/plain": [
       "   model   eval  impute  count      mean       std\n",
       "0     dt    acc    mean     10  0.596277  0.054962\n",
       "1     dt    acc  median     10  0.624468  0.059612\n",
       "2     dt  auroc    mean     10  0.602911  0.047092\n",
       "3     dt  auroc  median     10  0.630672  0.054265\n",
       "4     lr    acc    mean     10  0.654255  0.046910\n",
       "5     lr    acc  median     10  0.668617  0.038279\n",
       "6     lr  auroc    mean     10  0.681374  0.030784\n",
       "7     lr  auroc  median     10  0.691889  0.032176\n",
       "8     rf    acc    mean     10  0.680851  0.064467\n",
       "9     rf    acc  median     10  0.689362  0.051705\n",
       "10    rf  auroc    mean     10  0.777468  0.038073\n",
       "11    rf  auroc  median     10  0.792809  0.041106"
      ]
     },
     "execution_count": 16,
     "metadata": {},
     "output_type": "execute_result"
    }
   ],
   "source": [
    "df_impute_model = perturbation_stats(metrics, 'model', 'eval', 'impute')\n",
    "df_impute_model"
   ]
  },
  {
   "cell_type": "code",
   "execution_count": 17,
   "id": "shaped-korea",
   "metadata": {},
   "outputs": [],
   "source": [
    "dt_mean_means = df_impute_model[(df_impute_model['impute'] == 'mean') & (df_impute_model['model'] == 'dt')]['mean'].to_numpy()\n",
    "dt_mean_stds = df_impute_model[(df_impute_model['impute'] == 'mean') & (df_impute_model['model'] == 'dt')]['std'].to_numpy()\n",
    "dt_median_means = df_impute_model[(df_impute_model['impute'] == 'median') & (df_impute_model['model'] == 'dt')]['mean'].to_numpy()\n",
    "dt_median_stds = df_impute_model[(df_impute_model['impute'] == 'median') & (df_impute_model['model'] == 'dt')]['std'].to_numpy()\n",
    "\n",
    "rf_mean_means = df_impute_model[(df_impute_model['impute'] == 'mean') & (df_impute_model['model'] == 'rf')]['mean'].to_numpy()\n",
    "rf_mean_stds = df_impute_model[(df_impute_model['impute'] == 'mean') & (df_impute_model['model'] == 'rf')]['std'].to_numpy()\n",
    "rf_median_means = df_impute_model[(df_impute_model['impute'] == 'median') & (df_impute_model['model'] == 'rf')]['mean'].to_numpy()\n",
    "rf_median_stds = df_impute_model[(df_impute_model['impute'] == 'median') & (df_impute_model['model'] == 'rf')]['std'].to_numpy()\n",
    "\n",
    "lr_mean_means = df_impute_model[(df_impute_model['impute'] == 'mean') & (df_impute_model['model'] == 'lr')]['mean'].to_numpy()\n",
    "lr_mean_stds = df_impute_model[(df_impute_model['impute'] == 'mean') & (df_impute_model['model'] == 'lr')]['std'].to_numpy()\n",
    "lr_median_means = df_impute_model[(df_impute_model['impute'] == 'median') & (df_impute_model['model'] == 'lr')]['mean'].to_numpy()\n",
    "lr_median_stds = df_impute_model[(df_impute_model['impute'] == 'median') & (df_impute_model['model'] == 'lr')]['std'].to_numpy()"
   ]
  },
  {
   "cell_type": "code",
   "execution_count": 18,
   "id": "qualified-wallet",
   "metadata": {},
   "outputs": [
    {
     "data": {
      "image/png": "[encoded data removed]",
      "text/plain": [
       "<Figure size 720x216 with 3 Axes>"
      ]
     },
     "metadata": {
      "needs_background": "light"
     },
     "output_type": "display_data"
    }
   ],
   "source": [
    "import matplotlib.pyplot as plt\n",
    "\n",
    "fig, axs = plt.subplots(1, 3)\n",
    "\n",
    "fig.subplots_adjust(top=0.8)\n",
    "\n",
    "fig.set_figheight(3)\n",
    "fig.set_figwidth(10)\n",
    "\n",
    "fig.suptitle('Accuracy and AUROC by Imputation Strategy', fontsize=14)\n",
    "\n",
    "ind = np.arange(2)    # the x locations for the groups\n",
    "width = 0.35         # the width of the bars\n",
    "\n",
    "axs[0].bar(ind, lr_mean_means, width, bottom=0, yerr=lr_mean_stds, label='mean')\n",
    "axs[0].bar(ind + width, lr_median_means, width, bottom=0, yerr=lr_median_stds, label='median')\n",
    "axs[0].set_title('Logistic Regression')\n",
    "\n",
    "axs[1].bar(ind, dt_mean_means, width, bottom=0, yerr=dt_mean_stds, label='mean')\n",
    "axs[1].bar(ind + width, dt_median_means, width, bottom=0, yerr=dt_median_stds, label='median')\n",
    "axs[1].set_title('Decision Tree')\n",
    "axs[1].get_yaxis().set_visible(False)\n",
    "\n",
    "axs[2].bar(ind, rf_mean_means, width, bottom=0, yerr=rf_mean_stds, label='mean')\n",
    "axs[2].bar(ind + width, rf_median_means, width, bottom=0, yerr=rf_median_stds, label='median')\n",
    "axs[2].set_title('Random Forest')\n",
    "axs[2].get_yaxis().set_visible(False)\n",
    "axs[2].legend(loc='lower right', title='Imputation')\n",
    "\n",
    "for ax in axs:\n",
    "    ax.set_xticks(ind + width / 2)\n",
    "    ax.set_xticklabels(['Accuracy', 'AUROC'])\n",
    "    ax.set_ylim([0.5, 0.85])\n",
    "\n",
    "plt.show()"
   ]
  },
  {
   "cell_type": "code",
   "execution_count": 19,
   "id": "naughty-tuition",
   "metadata": {},
   "outputs": [
    {
     "data": {
      "text/html": [
       "<div>\n",
       "<style scoped>\n",
       "    .dataframe tbody tr th:only-of-type {\n",
       "        vertical-align: middle;\n",
       "    }\n",
       "\n",
       "    .dataframe tbody tr th {\n",
       "        vertical-align: top;\n",
       "    }\n",
       "\n",
       "    .dataframe thead th {\n",
       "        text-align: right;\n",
       "    }\n",
       "</style>\n",
       "<table border=\"1\" class=\"dataframe\">\n",
       "  <thead>\n",
       "    <tr style=\"text-align: right;\">\n",
       "      <th></th>\n",
       "      <th>model</th>\n",
       "      <th>eval</th>\n",
       "      <th>impute</th>\n",
       "      <th>count</th>\n",
       "      <th>mean</th>\n",
       "      <th>std</th>\n",
       "    </tr>\n",
       "  </thead>\n",
       "  <tbody>\n",
       "    <tr>\n",
       "      <th>5</th>\n",
       "      <td>rf</td>\n",
       "      <td>acc</td>\n",
       "      <td>median</td>\n",
       "      <td>10</td>\n",
       "      <td>0.689362</td>\n",
       "      <td>0.051705</td>\n",
       "    </tr>\n",
       "    <tr>\n",
       "      <th>4</th>\n",
       "      <td>rf</td>\n",
       "      <td>acc</td>\n",
       "      <td>mean</td>\n",
       "      <td>10</td>\n",
       "      <td>0.680851</td>\n",
       "      <td>0.064467</td>\n",
       "    </tr>\n",
       "    <tr>\n",
       "      <th>3</th>\n",
       "      <td>lr</td>\n",
       "      <td>acc</td>\n",
       "      <td>median</td>\n",
       "      <td>10</td>\n",
       "      <td>0.668617</td>\n",
       "      <td>0.038279</td>\n",
       "    </tr>\n",
       "    <tr>\n",
       "      <th>2</th>\n",
       "      <td>lr</td>\n",
       "      <td>acc</td>\n",
       "      <td>mean</td>\n",
       "      <td>10</td>\n",
       "      <td>0.654255</td>\n",
       "      <td>0.046910</td>\n",
       "    </tr>\n",
       "    <tr>\n",
       "      <th>1</th>\n",
       "      <td>dt</td>\n",
       "      <td>acc</td>\n",
       "      <td>median</td>\n",
       "      <td>10</td>\n",
       "      <td>0.624468</td>\n",
       "      <td>0.059612</td>\n",
       "    </tr>\n",
       "    <tr>\n",
       "      <th>0</th>\n",
       "      <td>dt</td>\n",
       "      <td>acc</td>\n",
       "      <td>mean</td>\n",
       "      <td>10</td>\n",
       "      <td>0.596277</td>\n",
       "      <td>0.054962</td>\n",
       "    </tr>\n",
       "  </tbody>\n",
       "</table>\n",
       "</div>"
      ],
      "text/plain": [
       "  model eval  impute  count      mean       std\n",
       "5    rf  acc  median     10  0.689362  0.051705\n",
       "4    rf  acc    mean     10  0.680851  0.064467\n",
       "3    lr  acc  median     10  0.668617  0.038279\n",
       "2    lr  acc    mean     10  0.654255  0.046910\n",
       "1    dt  acc  median     10  0.624468  0.059612\n",
       "0    dt  acc    mean     10  0.596277  0.054962"
      ]
     },
     "execution_count": 19,
     "metadata": {},
     "output_type": "execute_result"
    }
   ],
   "source": [
    "perturbation_stats(df_metrics[df_metrics['eval'].isin(['acc'])], 'model', 'eval', 'impute').sort_values('mean', ascending=False)"
   ]
  },
  {
   "cell_type": "code",
   "execution_count": 20,
   "id": "asian-price",
   "metadata": {},
   "outputs": [
    {
     "name": "stdout",
     "output_type": "stream",
     "text": [
      "{(mean,): <vflow.vfunc.Vfunc object at 0x7f14255e19d0>, (median,): <vflow.vfunc.Vfunc object at 0x7f14255e1610>}\n",
      "{(rf,): <vflow.vfunc.Vfunc object at 0x7f142560f850>}\n"
     ]
    }
   ],
   "source": [
    "best_impute_set, best_model_set = \\\n",
    "    filter_vset_by_metric(metrics, impute_set, model_set, n_keep=2, filter_on=['acc'], group=True)\n",
    "print(best_impute_set.vfuncs)\n",
    "print(best_model_set.vfuncs)"
   ]
  },
  {
   "cell_type": "code",
   "execution_count": 21,
   "id": "another-puzzle",
   "metadata": {},
   "outputs": [
    {
     "data": {
      "text/plain": [
       "((<vflow.vset.Vset at 0x7f14255e1940>,\n",
       "  ('init',),\n",
       "  (<vflow.vset.Vset at 0x7f146442c970>,\n",
       "   (<vflow.vset.Vset at 0x7f14255e1be0>, ('init',)))),\n",
       " <vflow.vset.Vset at 0x7f14255e1be0>)"
      ]
     },
     "execution_count": 21,
     "metadata": {},
     "output_type": "execute_result"
    }
   ],
   "source": [
    "best_impute_set.__prev__"
   ]
  },
  {
   "cell_type": "code",
   "execution_count": 22,
   "id": "international-place",
   "metadata": {},
   "outputs": [
    {
     "data": {
      "text/plain": [
       "<networkx.classes.digraph.DiGraph at 0x7f1466cd4d60>"
      ]
     },
     "execution_count": 22,
     "metadata": {},
     "output_type": "execute_result"
    },
    {
     "data": {
      "image/png": "[encoded data removed]",
      "text/plain": [
       "<Figure size 432x288 with 1 Axes>"
      ]
     },
     "metadata": {},
     "output_type": "display_data"
    }
   ],
   "source": [
    "build_graph(best_impute_set)"
   ]
  },
  {
   "cell_type": "code",
   "execution_count": 23,
   "id": "elementary-syndicate",
   "metadata": {},
   "outputs": [
    {
     "data": {
      "text/plain": [
       "<networkx.classes.digraph.DiGraph at 0x7f14253ac2b0>"
      ]
     },
     "execution_count": 23,
     "metadata": {},
     "output_type": "execute_result"
    },
    {
     "data": {
      "image/png": "[encoded data removed]",
      "text/plain": [
       "<Figure size 432x288 with 1 Axes>"
      ]
     },
     "metadata": {},
     "output_type": "display_data"
    }
   ],
   "source": [
    "build_graph(best_model_set)"
   ]
  },
  {
   "cell_type": "code",
   "execution_count": 24,
   "id": "noted-young",
   "metadata": {},
   "outputs": [
    {
     "data": {
      "text/plain": [
       "((<vflow.vset.Vset at 0x7f14255e1940>,\n",
       "  ('init',),\n",
       "  (<vflow.vset.Vset at 0x7f146442c970>,\n",
       "   (<vflow.vset.Vset at 0x7f14255e1be0>, ('init',)))),\n",
       " <vflow.vset.Vset at 0x7f14255e1be0>,\n",
       " ('init',))"
      ]
     },
     "execution_count": 24,
     "metadata": {},
     "output_type": "execute_result"
    }
   ],
   "source": [
    "X_trainval = best_impute_set.fit(X_trainval).transform(X_trainval)\n",
    "best_impute_set.__prev__"
   ]
  },
  {
   "cell_type": "code",
   "execution_count": 25,
   "id": "rough-washington",
   "metadata": {},
   "outputs": [
    {
     "data": {
      "text/plain": [
       "<vflow.vset.Vset at 0x7f142516a550>"
      ]
     },
     "execution_count": 25,
     "metadata": {},
     "output_type": "execute_result"
    }
   ],
   "source": [
    "best_model_set.fit(X_trainval, y_trainval)"
   ]
  },
  {
   "cell_type": "code",
   "execution_count": 26,
   "id": "coordinated-contact",
   "metadata": {},
   "outputs": [
    {
     "data": {
      "text/plain": [
       "<networkx.classes.digraph.DiGraph at 0x7f1424f37fd0>"
      ]
     },
     "execution_count": 26,
     "metadata": {},
     "output_type": "execute_result"
    },
    {
     "data": {
      "image/png": "[encoded data removed]",
      "text/plain": [
       "<Figure size 432x288 with 1 Axes>"
      ]
     },
     "metadata": {},
     "output_type": "display_data"
    }
   ],
   "source": [
    "test_preds = best_model_set.predict_proba(best_impute_set.transform(X_test))\n",
    "build_graph(test_preds)"
   ]
  },
  {
   "cell_type": "code",
   "execution_count": 27,
   "id": "spiritual-looking",
   "metadata": {},
   "outputs": [
    {
     "data": {
      "text/html": [
       "<div>\n",
       "<style scoped>\n",
       "    .dataframe tbody tr th:only-of-type {\n",
       "        vertical-align: middle;\n",
       "    }\n",
       "\n",
       "    .dataframe tbody tr th {\n",
       "        vertical-align: top;\n",
       "    }\n",
       "\n",
       "    .dataframe thead th {\n",
       "        text-align: right;\n",
       "    }\n",
       "</style>\n",
       "<table border=\"1\" class=\"dataframe\">\n",
       "  <thead>\n",
       "    <tr style=\"text-align: right;\">\n",
       "      <th></th>\n",
       "      <th>impute</th>\n",
       "      <th>model</th>\n",
       "      <th>eval</th>\n",
       "      <th>out</th>\n",
       "    </tr>\n",
       "  </thead>\n",
       "  <tbody>\n",
       "    <tr>\n",
       "      <th>3</th>\n",
       "      <td>median</td>\n",
       "      <td>rf</td>\n",
       "      <td>auroc</td>\n",
       "      <td>0.925339</td>\n",
       "    </tr>\n",
       "    <tr>\n",
       "      <th>2</th>\n",
       "      <td>mean</td>\n",
       "      <td>rf</td>\n",
       "      <td>auroc</td>\n",
       "      <td>0.923163</td>\n",
       "    </tr>\n",
       "    <tr>\n",
       "      <th>1</th>\n",
       "      <td>median</td>\n",
       "      <td>rf</td>\n",
       "      <td>acc</td>\n",
       "      <td>0.860000</td>\n",
       "    </tr>\n",
       "    <tr>\n",
       "      <th>0</th>\n",
       "      <td>mean</td>\n",
       "      <td>rf</td>\n",
       "      <td>acc</td>\n",
       "      <td>0.848000</td>\n",
       "    </tr>\n",
       "  </tbody>\n",
       "</table>\n",
       "</div>"
      ],
      "text/plain": [
       "   impute model   eval       out\n",
       "3  median    rf  auroc  0.925339\n",
       "2    mean    rf  auroc  0.923163\n",
       "1  median    rf    acc  0.860000\n",
       "0    mean    rf    acc  0.848000"
      ]
     },
     "execution_count": 27,
     "metadata": {},
     "output_type": "execute_result"
    }
   ],
   "source": [
    "test_metrics = eval_set.evaluate(y_test, test_preds)\n",
    "dict_to_df(test_metrics)[['impute', 'model', 'eval', 'out']].sort_values(['eval', 'out'], ascending=False)"
   ]
  },
  {
   "cell_type": "code",
   "execution_count": 28,
   "id": "million-variety",
   "metadata": {},
   "outputs": [
    {
     "data": {
      "text/html": [
       "<div>\n",
       "<style scoped>\n",
       "    .dataframe tbody tr th:only-of-type {\n",
       "        vertical-align: middle;\n",
       "    }\n",
       "\n",
       "    .dataframe tbody tr th {\n",
       "        vertical-align: top;\n",
       "    }\n",
       "\n",
       "    .dataframe thead th {\n",
       "        text-align: right;\n",
       "    }\n",
       "</style>\n",
       "<table border=\"1\" class=\"dataframe\">\n",
       "  <thead>\n",
       "    <tr style=\"text-align: right;\">\n",
       "      <th></th>\n",
       "      <th>init-impute</th>\n",
       "      <th>init-impute</th>\n",
       "      <th>init-impute</th>\n",
       "      <th>impute</th>\n",
       "      <th>init-model</th>\n",
       "      <th>init-model</th>\n",
       "      <th>init-model</th>\n",
       "      <th>model</th>\n",
       "      <th>eval</th>\n",
       "      <th>out</th>\n",
       "    </tr>\n",
       "  </thead>\n",
       "  <tbody>\n",
       "    <tr>\n",
       "      <th>0</th>\n",
       "      <td>y_test</td>\n",
       "      <td>X_test</td>\n",
       "      <td>X_trainval</td>\n",
       "      <td>mean</td>\n",
       "      <td>X_trainval</td>\n",
       "      <td>X_trainval</td>\n",
       "      <td>y_trainval</td>\n",
       "      <td>rf</td>\n",
       "      <td>acc</td>\n",
       "      <td>0.848000</td>\n",
       "    </tr>\n",
       "    <tr>\n",
       "      <th>1</th>\n",
       "      <td>y_test</td>\n",
       "      <td>X_test</td>\n",
       "      <td>X_trainval</td>\n",
       "      <td>median</td>\n",
       "      <td>X_trainval</td>\n",
       "      <td>X_trainval</td>\n",
       "      <td>y_trainval</td>\n",
       "      <td>rf</td>\n",
       "      <td>acc</td>\n",
       "      <td>0.860000</td>\n",
       "    </tr>\n",
       "    <tr>\n",
       "      <th>2</th>\n",
       "      <td>y_test</td>\n",
       "      <td>X_test</td>\n",
       "      <td>X_trainval</td>\n",
       "      <td>mean</td>\n",
       "      <td>X_trainval</td>\n",
       "      <td>X_trainval</td>\n",
       "      <td>y_trainval</td>\n",
       "      <td>rf</td>\n",
       "      <td>auroc</td>\n",
       "      <td>0.923163</td>\n",
       "    </tr>\n",
       "    <tr>\n",
       "      <th>3</th>\n",
       "      <td>y_test</td>\n",
       "      <td>X_test</td>\n",
       "      <td>X_trainval</td>\n",
       "      <td>median</td>\n",
       "      <td>X_trainval</td>\n",
       "      <td>X_trainval</td>\n",
       "      <td>y_trainval</td>\n",
       "      <td>rf</td>\n",
       "      <td>auroc</td>\n",
       "      <td>0.925339</td>\n",
       "    </tr>\n",
       "  </tbody>\n",
       "</table>\n",
       "</div>"
      ],
      "text/plain": [
       "  init-impute init-impute init-impute  impute  init-model  init-model  \\\n",
       "0      y_test      X_test  X_trainval    mean  X_trainval  X_trainval   \n",
       "1      y_test      X_test  X_trainval  median  X_trainval  X_trainval   \n",
       "2      y_test      X_test  X_trainval    mean  X_trainval  X_trainval   \n",
       "3      y_test      X_test  X_trainval  median  X_trainval  X_trainval   \n",
       "\n",
       "   init-model model   eval       out  \n",
       "0  y_trainval    rf    acc  0.848000  \n",
       "1  y_trainval    rf    acc  0.860000  \n",
       "2  y_trainval    rf  auroc  0.923163  \n",
       "3  y_trainval    rf  auroc  0.925339  "
      ]
     },
     "execution_count": 28,
     "metadata": {},
     "output_type": "execute_result"
    }
   ],
   "source": [
    "dict_to_df(test_metrics)"
   ]
  },
  {
   "cell_type": "code",
   "execution_count": 29,
   "id": "chief-celebration",
   "metadata": {},
   "outputs": [
    {
     "data": {
      "text/plain": [
       "<networkx.classes.digraph.DiGraph at 0x7f1424f853d0>"
      ]
     },
     "execution_count": 29,
     "metadata": {},
     "output_type": "execute_result"
    },
    {
     "data": {
      "image/png": "[encoded data removed]",
      "text/plain": [
       "<Figure size 432x288 with 1 Axes>"
      ]
     },
     "metadata": {},
     "output_type": "display_data"
    }
   ],
   "source": [
    "build_graph(test_metrics)"
   ]
  }
 ],
 "metadata": {
  "kernelspec": {
   "display_name": "vflow",
   "language": "python",
   "name": "vflow"
  },
  "language_info": {
   "codemirror_mode": {
    "name": "ipython",
    "version": 3
   },
   "file_extension": ".py",
   "mimetype": "text/x-python",
   "name": "python",
   "nbconvert_exporter": "python",
   "pygments_lexer": "ipython3",
   "version": "3.9.9"
  }
 },
 "nbformat": 4,
 "nbformat_minor": 5
}

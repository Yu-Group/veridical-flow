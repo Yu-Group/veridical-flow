{
 "cells": [
  {
   "cell_type": "code",
   "execution_count": 1,
   "id": "olympic-participant",
   "metadata": {},
   "outputs": [],
   "source": [
    "%load_ext autoreload\n",
    "%autoreload 2\n",
    "\n",
    "%load_ext memory_profiler\n",
    "\n",
    "from vflow import Vset\n",
    "import numpy as np\n",
    "\n",
    "from sklearn.datasets import make_classification\n",
    "from sklearn.model_selection import train_test_split\n",
    "\n",
    "from functools import partial\n",
    "\n",
    "from numpy.testing import assert_equal"
   ]
  },
  {
   "cell_type": "code",
   "execution_count": 2,
   "id": "fluid-korea",
   "metadata": {},
   "outputs": [
    {
     "name": "stdout",
     "output_type": "stream",
     "text": [
      "11\n",
      "(750, 5)\n",
      "[[-0.63524937  0.29493964  1.25421327  1.18495117 -0.30429865]\n",
      " [ 0.00523872 -0.05364611 -0.04702398  0.34761006  0.05584788]\n",
      " [ 1.10305511  0.99288669 -1.09989011 -1.010795   -1.03907118]\n",
      " ...\n",
      " [ 1.08805599  0.99101525 -1.07660455 -1.2709289  -1.03705419]\n",
      " [-1.0971558  -1.18993289  0.94907423  1.35401415  1.24426509]\n",
      " [ 0.02391642  1.02703137  0.69632321  0.83419414 -1.06974586]]\n"
     ]
    }
   ],
   "source": [
    "def make_train_test():\n",
    "    X, y = make_classification(n_samples=1000, n_features=5)\n",
    "    X_train, X_test, y_train, y_test = train_test_split(X, y)\n",
    "    return(X_train, X_test, y_train, y_test)\n",
    "\n",
    "train_test_vset = Vset(name = 'train_test', modules=[make_train_test for i in range(10)])\n",
    "train_test_vset_lazy = Vset(name = 'train_test', modules=[make_train_test for i in range(10)], lazy=True)\n",
    "\n",
    "# non-lazy eval\n",
    "X_train, _, _, _ = train_test_vset(n_out=4, keys=['X_train', 'X_test', 'y_train', 'y_test'])\n",
    "\n",
    "X_trains = list(X_train.values())\n",
    "print(len(X_trains)) # 10 datasets + 1 for __prev__\n",
    "print(X_trains[0].shape)\n",
    "print(X_trains[0])"
   ]
  },
  {
   "cell_type": "code",
   "execution_count": 3,
   "id": "furnished-commander",
   "metadata": {},
   "outputs": [
    {
     "name": "stdout",
     "output_type": "stream",
     "text": [
      "11\n",
      "Unfulfilled VfuncPromise(func=<function sep_dicts.<locals>.<lambda> at 0x7f58e8232e50>, args=(Unfulfilled VfuncPromise(func=<vflow.vfunc.Vfunc object at 0x7f58e81cbc10>, args=()), 0))\n",
      "<function make_train_test at 0x7f58ea27f430>\n"
     ]
    }
   ],
   "source": [
    "# lazy eval\n",
    "X_train, _, y_train, _ = train_test_vset_lazy(n_out=4, keys=['X_train', 'X_test', 'y_train', 'y_test'])\n",
    "\n",
    "X_trains = list(X_train.values())\n",
    "print(len(X_trains)) # 10 promises + 1 for __prev__\n",
    "promise_X = X_trains[0]\n",
    "print(promise_X) # the values are (unfulfilled) promises to call sep_dicts since n_out > 1\n",
    "\n",
    "inner_promise_X = promise_X.args[0]\n",
    "print(inner_promise_X.vfunc.module) # the arg passed to sep_dicts is itself a promise to call make_train_test"
   ]
  },
  {
   "cell_type": "code",
   "execution_count": 4,
   "id": "improving-contemporary",
   "metadata": {},
   "outputs": [
    {
     "name": "stdout",
     "output_type": "stream",
     "text": [
      "Unfulfilled VfuncPromise(func=<function sep_dicts.<locals>.<lambda> at 0x7f58b7bc5700>, args=(Unfulfilled VfuncPromise(func=<vflow.vfunc.Vfunc object at 0x7f58e81cbc10>, args=()), 2))\n"
     ]
    }
   ],
   "source": [
    "y_trains = list(y_train.values()) # y_train is also a dict of unfulfilled promises\n",
    "promise_y = y_trains[0]\n",
    "inner_promise_y = promise_y.args[0]\n",
    "print(promise_y)"
   ]
  },
  {
   "cell_type": "code",
   "execution_count": 5,
   "id": "unavailable-highlight",
   "metadata": {},
   "outputs": [
    {
     "name": "stdout",
     "output_type": "stream",
     "text": [
      "promise_X called: True\n",
      "promise_X call cached: True\n",
      "Fulfilled VfuncPromise([[-1.64889302 -1.30893666  0.59661737  0.62349007 -0.96004256]\n",
      " [ 0.27919194  0.21933693 -0.35384222  1.01857151  0.62203611]\n",
      " [-0.71801475 -2.21257881  0.03788361  1.25821568 -0.01474358]\n",
      " ...\n",
      " [-0.7329976   0.39132694  0.14760971  0.80010344 -0.21303132]\n",
      " [-0.8935196   1.0730619   0.55590024 -0.69635661 -0.94296452]\n",
      " [-1.68258172 -0.29375056  0.58786955  0.72932386 -0.94160562]])\n"
     ]
    }
   ],
   "source": [
    "# calling the promise fulfills it and caches the value for future calls\n",
    "promise_X()\n",
    "print(f'promise_X called: {promise_X.called}')\n",
    "print(f'promise_X call cached: {id(promise_X.value) == id(promise_X())}')\n",
    "print(promise_X)"
   ]
  },
  {
   "cell_type": "code",
   "execution_count": 6,
   "id": "worthy-monte",
   "metadata": {},
   "outputs": [
    {
     "name": "stdout",
     "output_type": "stream",
     "text": [
      "promise_y called: True\n",
      "Unfulfilled VfuncPromise(func=<function sep_dicts.<locals>.<lambda> at 0x7f58b7bc5700>, args=(Fulfilled VfuncPromise((array([[-1.64889302, -1.30893666,  0.59661737,  0.62349007, -0.96004256],\n",
      "       [ 0.27919194,  0.21933693, -0.35384222,  1.01857151,  0.62203611],\n",
      "       [-0.71801475, -2.21257881,  0.03788361,  1.25821568, -0.01474358],\n",
      "       ...,\n",
      "       [-0.7329976 ,  0.39132694,  0.14760971,  0.80010344, -0.21303132],\n",
      "       [-0.8935196 ,  1.0730619 ,  0.55590024, -0.69635661, -0.94296452],\n",
      "       [-1.68258172, -0.29375056,  0.58786955,  0.72932386, -0.94160562]]), array([[ 0.95855558, -0.12763018, -0.60009688,  0.76364776,  1.01838691],\n",
      "       [ 1.02007544, -1.0342346 , -0.25673459, -0.88530377,  0.3897226 ],\n",
      "       [-2.75198493, -0.04946848,  1.52083956, -1.29415106, -2.55660497],\n",
      "       ...,\n",
      "       [ 2.28372423,  0.8521438 , -1.26194616,  1.07342713,  2.12137669],\n",
      "       [-2.16087708, -2.19574847,  1.29761027, -1.4760941 , -2.19545003],\n",
      "       [ 0.32107512, -1.20609455, -0.03388363, -0.48730151,  0.03738553]]), array([0, 1, 0, 1, 1, 1, 0, 1, 1, 1, 0, 1, 0, 1, 0, 0, 1, 1, 1, 1, 1, 1,\n",
      "       1, 0, 0, 1, 0, 0, 0, 1, 1, 0, 1, 1, 1, 0, 1, 1, 0, 0, 0, 1, 1, 0,\n",
      "       1, 1, 1, 0, 0, 1, 1, 0, 0, 0, 1, 1, 0, 1, 0, 0, 1, 1, 1, 0, 0, 1,\n",
      "       0, 1, 0, 0, 0, 1, 1, 0, 0, 1, 1, 1, 1, 0, 1, 1, 1, 0, 1, 0, 0, 1,\n",
      "       0, 1, 1, 1, 1, 1, 1, 0, 1, 1, 1, 0, 0, 0, 1, 1, 1, 0, 0, 1, 0, 0,\n",
      "       0, 0, 0, 1, 1, 1, 0, 0, 0, 0, 1, 0, 1, 0, 0, 1, 1, 1, 1, 1, 1, 1,\n",
      "       0, 0, 1, 0, 1, 0, 0, 0, 1, 1, 0, 1, 0, 1, 1, 0, 0, 0, 1, 0, 1, 1,\n",
      "       0, 1, 1, 1, 0, 1, 0, 1, 0, 1, 1, 1, 0, 1, 1, 0, 1, 1, 1, 0, 0, 1,\n",
      "       0, 0, 1, 1, 0, 0, 0, 1, 0, 1, 1, 1, 1, 1, 0, 0, 1, 1, 0, 1, 0, 1,\n",
      "       1, 0, 0, 0, 0, 0, 0, 1, 1, 0, 1, 1, 1, 0, 1, 1, 0, 0, 0, 0, 0, 0,\n",
      "       1, 0, 1, 0, 1, 1, 1, 1, 0, 1, 1, 0, 1, 1, 0, 1, 0, 0, 0, 0, 0, 1,\n",
      "       1, 0, 0, 0, 0, 1, 0, 1, 1, 0, 0, 1, 1, 1, 1, 1, 1, 1, 1, 1, 0, 0,\n",
      "       0, 1, 0, 1, 0, 0, 1, 0, 1, 0, 1, 1, 1, 0, 1, 0, 1, 1, 1, 0, 1, 1,\n",
      "       0, 0, 1, 1, 1, 0, 1, 0, 1, 0, 0, 1, 1, 1, 0, 0, 1, 0, 0, 1, 0, 0,\n",
      "       0, 1, 0, 0, 1, 0, 0, 0, 0, 1, 1, 0, 1, 0, 0, 1, 1, 0, 1, 0, 1, 1,\n",
      "       0, 1, 1, 1, 0, 0, 1, 0, 0, 0, 0, 0, 0, 1, 0, 0, 0, 1, 0, 1, 1, 0,\n",
      "       1, 1, 1, 1, 1, 1, 0, 1, 0, 0, 1, 0, 1, 1, 0, 0, 1, 1, 1, 0, 0, 1,\n",
      "       1, 1, 0, 0, 1, 1, 1, 0, 1, 0, 0, 0, 1, 1, 0, 1, 1, 0, 1, 0, 0, 1,\n",
      "       1, 0, 0, 1, 1, 1, 1, 1, 1, 1, 0, 0, 1, 0, 1, 0, 1, 1, 1, 1, 0, 0,\n",
      "       1, 0, 0, 1, 1, 0, 1, 0, 0, 0, 1, 0, 0, 0, 0, 0, 0, 0, 1, 0, 0, 1,\n",
      "       1, 1, 0, 1, 1, 0, 0, 1, 1, 0, 1, 0, 1, 0, 0, 0, 1, 1, 0, 0, 0, 0,\n",
      "       1, 0, 1, 1, 1, 0, 0, 1, 1, 0, 1, 1, 0, 0, 1, 0, 0, 0, 1, 1, 1, 0,\n",
      "       0, 0, 0, 1, 0, 0, 1, 1, 0, 0, 1, 1, 1, 0, 0, 0, 1, 1, 0, 0, 0, 1,\n",
      "       0, 1, 1, 0, 0, 1, 0, 0, 1, 0, 1, 1, 1, 0, 0, 1, 0, 0, 0, 1, 1, 1,\n",
      "       0, 0, 1, 0, 0, 0, 0, 1, 1, 0, 0, 0, 1, 0, 0, 1, 0, 0, 0, 0, 1, 0,\n",
      "       0, 0, 0, 1, 1, 1, 1, 0, 0, 1, 0, 1, 1, 0, 0, 0, 0, 0, 0, 1, 1, 0,\n",
      "       1, 0, 0, 1, 0, 1, 1, 1, 1, 1, 0, 1, 0, 0, 0, 1, 0, 1, 0, 1, 0, 1,\n",
      "       0, 1, 0, 1, 0, 1, 0, 1, 1, 1, 0, 0, 1, 1, 0, 0, 1, 1, 0, 0, 1, 1,\n",
      "       1, 1, 0, 0, 1, 1, 0, 1, 1, 1, 0, 1, 1, 1, 0, 0, 1, 1, 0, 0, 0, 0,\n",
      "       1, 1, 0, 1, 0, 0, 0, 0, 1, 1, 0, 0, 1, 0, 1, 0, 1, 0, 1, 0, 1, 0,\n",
      "       1, 1, 1, 0, 0, 0, 0, 1, 0, 1, 1, 1, 0, 1, 0, 0, 1, 0, 0, 1, 0, 1,\n",
      "       0, 1, 1, 1, 1, 1, 0, 0, 0, 1, 1, 0, 0, 0, 1, 1, 0, 1, 1, 0, 0, 0,\n",
      "       1, 0, 1, 1, 1, 0, 0, 0, 0, 1, 1, 1, 0, 0, 0, 0, 0, 0, 0, 0, 0, 0,\n",
      "       1, 0, 0, 0, 0, 0, 1, 1, 1, 0, 1, 1, 1, 0, 0, 0, 1, 1, 0, 0, 0, 0,\n",
      "       0, 0]), array([1, 1, 0, 0, 1, 0, 1, 0, 1, 0, 0, 1, 0, 1, 0, 0, 1, 0, 1, 1, 1, 0,\n",
      "       1, 1, 0, 1, 0, 1, 0, 0, 0, 1, 0, 0, 1, 0, 1, 0, 0, 0, 1, 0, 0, 1,\n",
      "       0, 1, 1, 0, 1, 0, 1, 0, 1, 1, 1, 1, 1, 1, 1, 1, 0, 0, 1, 1, 1, 1,\n",
      "       1, 0, 0, 1, 0, 0, 1, 1, 1, 1, 0, 0, 0, 1, 1, 0, 0, 1, 1, 0, 0, 0,\n",
      "       1, 1, 1, 0, 0, 0, 0, 1, 0, 0, 0, 0, 1, 1, 0, 1, 0, 1, 0, 0, 1, 1,\n",
      "       1, 0, 1, 1, 1, 0, 1, 1, 1, 0, 1, 1, 1, 0, 0, 1, 1, 0, 0, 0, 0, 0,\n",
      "       0, 1, 1, 0, 1, 0, 1, 1, 0, 0, 1, 1, 0, 0, 1, 1, 0, 0, 0, 0, 1, 0,\n",
      "       1, 0, 1, 1, 0, 0, 0, 0, 1, 0, 1, 1, 0, 1, 0, 0, 1, 0, 1, 1, 0, 0,\n",
      "       0, 0, 1, 0, 1, 1, 0, 1, 0, 1, 1, 1, 1, 0, 1, 0, 1, 0, 1, 0, 0, 1,\n",
      "       1, 0, 1, 0, 1, 1, 1, 0, 1, 0, 1, 1, 1, 1, 1, 0, 0, 0, 1, 0, 1, 0,\n",
      "       1, 0, 1, 1, 1, 1, 0, 1, 0, 1, 1, 0, 1, 0, 0, 0, 1, 1, 0, 0, 0, 0,\n",
      "       1, 1, 0, 1, 0, 1, 0, 1]))), 2))\n",
      "promise_y call cached: True\n"
     ]
    }
   ],
   "source": [
    "# the inner promises are shared by corresponding values of X_train and y_train\n",
    "print(f'promise_y called: {inner_promise_y.called}')\n",
    "\n",
    "print(promise_y) # promise_y's first arg is now a fulfilled promise (fulfilled by the call promise_X())\n",
    "\n",
    "print(f'promise_y call cached: {id(inner_promise_y.value) == id(inner_promise_y())}')"
   ]
  },
  {
   "cell_type": "code",
   "execution_count": null,
   "id": "advanced-artist",
   "metadata": {},
   "outputs": [],
   "source": []
  }
 ],
 "metadata": {
  "kernelspec": {
   "display_name": "Python 3",
   "language": "python",
   "name": "python3"
  },
  "language_info": {
   "codemirror_mode": {
    "name": "ipython",
    "version": 3
   },
   "file_extension": ".py",
   "mimetype": "text/x-python",
   "name": "python",
   "nbconvert_exporter": "python",
   "pygments_lexer": "ipython3",
   "version": "3.8.5"
  }
 },
 "nbformat": 4,
 "nbformat_minor": 5
}

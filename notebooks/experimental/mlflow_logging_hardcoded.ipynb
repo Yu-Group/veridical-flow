{
 "cells": [
  {
   "cell_type": "code",
   "execution_count": 6,
   "id": "d7101866",
   "metadata": {},
   "outputs": [
    {
     "name": "stdout",
     "output_type": "stream",
     "text": [
      "The autoreload extension is already loaded. To reload it, use:\n",
      "  %reload_ext autoreload\n"
     ]
    }
   ],
   "source": [
    "'''Modified from sklearn documentation: https://scikit-learn.org/stable/modules/compose.html\n",
    "'''\n",
    "%load_ext autoreload\n",
    "%autoreload 2\n",
    "from functools import partial\n",
    "\n",
    "import mlflow\n",
    "import mlflow.sklearn\n",
    "import numpy as np\n",
    "from sklearn.datasets import make_classification\n",
    "from sklearn.linear_model import LogisticRegression\n",
    "from sklearn.metrics import accuracy_score, balanced_accuracy_score\n",
    "from sklearn.model_selection import train_test_split\n",
    "from sklearn.tree import DecisionTreeClassifier\n",
    "from sklearn.utils import resample\n",
    "\n",
    "from vflow import Vset, init_args  # must install pcsp first (pip install pcsp)\n",
    "\n",
    "np.set_printoptions(threshold=5)  # to limit printing"
   ]
  },
  {
   "cell_type": "code",
   "execution_count": 7,
   "id": "20f946f6",
   "metadata": {
    "scrolled": true
   },
   "outputs": [
    {
     "data": {
      "text/plain": [
       "{(X_test,\n",
       "  X_test,\n",
       "  X_train,\n",
       "  subsampling_0,\n",
       "  X_train,\n",
       "  LR,\n",
       "  Acc): 0.9230769230769231,\n",
       " (X_test,\n",
       "  X_test,\n",
       "  X_train,\n",
       "  subsampling_1,\n",
       "  X_train,\n",
       "  LR,\n",
       "  Acc): 0.9230769230769231,\n",
       " (X_test,\n",
       "  X_test,\n",
       "  X_train,\n",
       "  subsampling_2,\n",
       "  X_train,\n",
       "  LR,\n",
       "  Acc): 0.8461538461538461,\n",
       " (X_test,\n",
       "  X_test,\n",
       "  X_train,\n",
       "  subsampling_0,\n",
       "  X_train,\n",
       "  DT,\n",
       "  Acc): 0.7692307692307693,\n",
       " (X_test,\n",
       "  X_test,\n",
       "  X_train,\n",
       "  subsampling_1,\n",
       "  X_train,\n",
       "  DT,\n",
       "  Acc): 0.8461538461538461,\n",
       " (X_test,\n",
       "  X_test,\n",
       "  X_train,\n",
       "  subsampling_2,\n",
       "  X_train,\n",
       "  DT,\n",
       "  Acc): 0.8461538461538461,\n",
       " (X_test, X_test, X_train, subsampling_0, X_train, LR, Bal_Acc): 0.9,\n",
       " (X_test, X_test, X_train, subsampling_1, X_train, LR, Bal_Acc): 0.9,\n",
       " (X_test, X_test, X_train, subsampling_2, X_train, LR, Bal_Acc): 0.8375,\n",
       " (X_test, X_test, X_train, subsampling_0, X_train, DT, Bal_Acc): 0.7375,\n",
       " (X_test, X_test, X_train, subsampling_1, X_train, DT, Bal_Acc): 0.8,\n",
       " (X_test, X_test, X_train, subsampling_2, X_train, DT, Bal_Acc): 0.8375,\n",
       " '__prev__': (<vflow.vset.Vset at 0x7f3da653a670>,\n",
       "  ('init',),\n",
       "  (<vflow.vset.Vset at 0x7f3da653a6a0>, ('init',)))}"
      ]
     },
     "execution_count": 7,
     "metadata": {},
     "output_type": "execute_result"
    }
   ],
   "source": [
    "np.random.seed(13)\n",
    "\n",
    "X, y = make_classification(n_samples=50, n_features=5)\n",
    "X_train, X_test, y_train, y_test = init_args(train_test_split(X, y, random_state=42),\n",
    "                                             names=['X_train', 'X_test', 'X_train',\n",
    "                                                    'X_test'])  # odd that the names for y_train and y_test must be \"X_train\" and \"X_test\"\n",
    "\n",
    "subsampling_funcs = [partial(resample,\n",
    "                             n_samples=20,\n",
    "                             random_state=i)\n",
    "                     for i in range(3)]\n",
    "\n",
    "subsampling_set = Vset(name='subsampling', modules=subsampling_funcs)\n",
    "X_trains, y_trains = subsampling_set(X_train, y_train)\n",
    "\n",
    "# fit models\n",
    "modeling_set = Vset(name='modeling',\n",
    "                         modules=[LogisticRegression(C=1, max_iter=1000, tol=0.1),\n",
    "                                  DecisionTreeClassifier(min_samples_leaf=1)],\n",
    "                         module_keys=[\"LR\", \"DT\"])\n",
    "\n",
    "_ = modeling_set.fit(X_trains, y_trains)\n",
    "\n",
    "# predict now returns modeling_set.output rather than the result of sep_dicts(output_dict)\n",
    "preds_test = modeling_set.predict(X_test)\n",
    "\n",
    "hard_metrics_set = Vset(name='hard_metrics',\n",
    "                             modules=[accuracy_score, balanced_accuracy_score],\n",
    "                             module_keys=[\"Acc\", \"Bal_Acc\"])\n",
    "\n",
    "hard_metrics = hard_metrics_set.evaluate(y_test, preds_test)\n",
    "hard_metrics"
   ]
  },
  {
   "cell_type": "code",
   "execution_count": 8,
   "id": "0b515d85",
   "metadata": {},
   "outputs": [],
   "source": [
    "def train(C=1, min_samples_leaf=1):\n",
    "    np.random.seed(13)\n",
    "\n",
    "    X, y = make_classification(n_samples=50, n_features=5)\n",
    "    X_train, X_test, y_train, y_test = init_args(train_test_split(X, y, random_state=42),\n",
    "                                                 names=['X_train', 'X_test', 'X_train', 'X_test'])\n",
    "\n",
    "    # fit models\n",
    "    modeling_set = Vset(name='modeling',\n",
    "                             modules=[LogisticRegression(max_iter=1000, tol=0.1),\n",
    "                                      DecisionTreeClassifier(min_samples_leaf=min_samples_leaf)],\n",
    "                             module_keys=[\"LR\", \"DT\"])\n",
    "    _ = modeling_set.fit(X_train, y_train)\n",
    "\n",
    "    preds_test = modeling_set.predict(X_test)\n",
    "\n",
    "    hard_metrics_set = Vset(name='hard_metrics',\n",
    "                                 modules=[accuracy_score, balanced_accuracy_score],\n",
    "                                 module_keys=[\"Acc\", \"Bal_Acc\"])\n",
    "\n",
    "    hard_metrics = hard_metrics_set.evaluate(y_test, preds_test)\n",
    "\n",
    "    for k, v in modeling_set.fitted_vfuncs.items():\n",
    "        if k != '__prev__':\n",
    "            with mlflow.start_run():\n",
    "                # log parameters\n",
    "                mlflow.log_param(\"C\", C)\n",
    "                mlflow.log_param(\"min_samples_leaf\", min_samples_leaf)\n",
    "                mlflow.log_param(\"Model_name\", k[1])\n",
    "\n",
    "                # log metrics\n",
    "                mlflow.log_metric(\"Acc\", hard_metrics[('X_test', (*k, 'X_test'), 'Acc')])\n",
    "                mlflow.log_metric(\"Bal_Acc\", hard_metrics[('X_test', (*k, 'X_test'), 'Bal_Acc')])\n",
    "\n",
    "                # log model\n",
    "                mlflow.sklearn.log_model(v, str(k))"
   ]
  },
  {
   "cell_type": "code",
   "execution_count": 9,
   "id": "be155b9c",
   "metadata": {},
   "outputs": [
    {
     "ename": "KeyError",
     "evalue": "('X_test', (X_train, X_train, LR, 'X_test'), 'Acc')",
     "output_type": "error",
     "traceback": [
      "\u001b[0;31m---------------------------------------------------------------------------\u001b[0m",
      "\u001b[0;31mKeyError\u001b[0m                                  Traceback (most recent call last)",
      "Input \u001b[0;32mIn [9]\u001b[0m, in \u001b[0;36m<module>\u001b[0;34m\u001b[0m\n\u001b[1;32m      1\u001b[0m \u001b[38;5;28;01mfor\u001b[39;00m C \u001b[38;5;129;01min\u001b[39;00m [\u001b[38;5;241m0.1\u001b[39m \u001b[38;5;241m*\u001b[39m i \u001b[38;5;28;01mfor\u001b[39;00m i \u001b[38;5;129;01min\u001b[39;00m \u001b[38;5;28mrange\u001b[39m(\u001b[38;5;241m1\u001b[39m, \u001b[38;5;241m11\u001b[39m)]:\n\u001b[1;32m      2\u001b[0m     \u001b[38;5;28;01mfor\u001b[39;00m min_samples_leaf \u001b[38;5;129;01min\u001b[39;00m \u001b[38;5;28mrange\u001b[39m(\u001b[38;5;241m1\u001b[39m, \u001b[38;5;241m4\u001b[39m):\n\u001b[0;32m----> 3\u001b[0m         \u001b[43mtrain\u001b[49m\u001b[43m(\u001b[49m\u001b[43mC\u001b[49m\u001b[43m,\u001b[49m\u001b[43m \u001b[49m\u001b[43mmin_samples_leaf\u001b[49m\u001b[43m)\u001b[49m\n",
      "Input \u001b[0;32mIn [8]\u001b[0m, in \u001b[0;36mtrain\u001b[0;34m(C, min_samples_leaf)\u001b[0m\n\u001b[1;32m     29\u001b[0m mlflow\u001b[38;5;241m.\u001b[39mlog_param(\u001b[38;5;124m\"\u001b[39m\u001b[38;5;124mModel_name\u001b[39m\u001b[38;5;124m\"\u001b[39m, k[\u001b[38;5;241m1\u001b[39m])\n\u001b[1;32m     31\u001b[0m \u001b[38;5;66;03m# log metrics\u001b[39;00m\n\u001b[0;32m---> 32\u001b[0m mlflow\u001b[38;5;241m.\u001b[39mlog_metric(\u001b[38;5;124m\"\u001b[39m\u001b[38;5;124mAcc\u001b[39m\u001b[38;5;124m\"\u001b[39m, \u001b[43mhard_metrics\u001b[49m\u001b[43m[\u001b[49m\u001b[43m(\u001b[49m\u001b[38;5;124;43m'\u001b[39;49m\u001b[38;5;124;43mX_test\u001b[39;49m\u001b[38;5;124;43m'\u001b[39;49m\u001b[43m,\u001b[49m\u001b[43m \u001b[49m\u001b[43m(\u001b[49m\u001b[38;5;241;43m*\u001b[39;49m\u001b[43mk\u001b[49m\u001b[43m,\u001b[49m\u001b[43m \u001b[49m\u001b[38;5;124;43m'\u001b[39;49m\u001b[38;5;124;43mX_test\u001b[39;49m\u001b[38;5;124;43m'\u001b[39;49m\u001b[43m)\u001b[49m\u001b[43m,\u001b[49m\u001b[43m \u001b[49m\u001b[38;5;124;43m'\u001b[39;49m\u001b[38;5;124;43mAcc\u001b[39;49m\u001b[38;5;124;43m'\u001b[39;49m\u001b[43m)\u001b[49m\u001b[43m]\u001b[49m)\n\u001b[1;32m     33\u001b[0m mlflow\u001b[38;5;241m.\u001b[39mlog_metric(\u001b[38;5;124m\"\u001b[39m\u001b[38;5;124mBal_Acc\u001b[39m\u001b[38;5;124m\"\u001b[39m, hard_metrics[(\u001b[38;5;124m'\u001b[39m\u001b[38;5;124mX_test\u001b[39m\u001b[38;5;124m'\u001b[39m, (\u001b[38;5;241m*\u001b[39mk, \u001b[38;5;124m'\u001b[39m\u001b[38;5;124mX_test\u001b[39m\u001b[38;5;124m'\u001b[39m), \u001b[38;5;124m'\u001b[39m\u001b[38;5;124mBal_Acc\u001b[39m\u001b[38;5;124m'\u001b[39m)])\n\u001b[1;32m     35\u001b[0m \u001b[38;5;66;03m# log model\u001b[39;00m\n",
      "\u001b[0;31mKeyError\u001b[0m: ('X_test', (X_train, X_train, LR, 'X_test'), 'Acc')"
     ]
    }
   ],
   "source": [
    "for C in [0.1 * i for i in range(1, 11)]:\n",
    "    for min_samples_leaf in range(1, 4):\n",
    "        train(C, min_samples_leaf)"
   ]
  },
  {
   "cell_type": "code",
   "execution_count": null,
   "id": "ac097c36",
   "metadata": {},
   "outputs": [],
   "source": [
    "!mlflow ui"
   ]
  }
 ],
 "metadata": {
  "kernelspec": {
   "display_name": "vflow",
   "language": "python",
   "name": "vflow"
  },
  "language_info": {
   "codemirror_mode": {
    "name": "ipython",
    "version": 3
   },
   "file_extension": ".py",
   "mimetype": "text/x-python",
   "name": "python",
   "nbconvert_exporter": "python",
   "pygments_lexer": "ipython3",
   "version": "3.9.9"
  }
 },
 "nbformat": 4,
 "nbformat_minor": 5
}

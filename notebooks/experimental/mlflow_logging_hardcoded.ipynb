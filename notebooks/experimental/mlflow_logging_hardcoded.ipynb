{
 "cells": [
  {
   "cell_type": "code",
   "execution_count": 6,
   "id": "d7101866",
   "metadata": {},
   "outputs": [
    {
     "name": "stdout",
     "output_type": "stream",
     "text": [
      "The autoreload extension is already loaded. To reload it, use:\n",
      "  %reload_ext autoreload\n"
     ]
    }
   ],
   "source": [
    "'''Modified from sklearn documentation: https://scikit-learn.org/stable/modules/compose.html\n",
    "'''\n",
    "%load_ext autoreload\n",
    "%autoreload 2\n",
    "from functools import partial\n",
    "\n",
    "import mlflow\n",
    "import mlflow.sklearn\n",
    "import numpy as np\n",
    "from sklearn.datasets import make_classification\n",
    "from sklearn.linear_model import LogisticRegression\n",
    "from sklearn.metrics import accuracy_score, balanced_accuracy_score\n",
    "from sklearn.model_selection import train_test_split\n",
    "from sklearn.tree import DecisionTreeClassifier\n",
    "from sklearn.utils import resample\n",
    "\n",
    "from vflow import Vset, init_args  # must install pcsp first (pip install pcsp)\n",
    "\n",
    "np.set_printoptions(threshold=5)  # to limit printing"
   ]
  },
  {
   "cell_type": "code",
   "execution_count": 7,
   "id": "20f946f6",
   "metadata": {
    "scrolled": true
   },
   "outputs": [
    {
     "data": {
      "text/plain": [
       "{(X_test,\n",
       "  X_test,\n",
       "  X_train,\n",
       "  subsampling_0,\n",
       "  X_train,\n",
       "  LR,\n",
       "  Acc): 0.9230769230769231,\n",
       " (X_test,\n",
       "  X_test,\n",
       "  X_train,\n",
       "  subsampling_1,\n",
       "  X_train,\n",
       "  LR,\n",
       "  Acc): 0.9230769230769231,\n",
       " (X_test,\n",
       "  X_test,\n",
       "  X_train,\n",
       "  subsampling_2,\n",
       "  X_train,\n",
       "  LR,\n",
       "  Acc): 0.8461538461538461,\n",
       " (X_test,\n",
       "  X_test,\n",
       "  X_train,\n",
       "  subsampling_0,\n",
       "  X_train,\n",
       "  DT,\n",
       "  Acc): 0.7692307692307693,\n",
       " (X_test,\n",
       "  X_test,\n",
       "  X_train,\n",
       "  subsampling_1,\n",
       "  X_train,\n",
       "  DT,\n",
       "  Acc): 0.8461538461538461,\n",
       " (X_test,\n",
       "  X_test,\n",
       "  X_train,\n",
       "  subsampling_2,\n",
       "  X_train,\n",
       "  DT,\n",
       "  Acc): 0.8461538461538461,\n",
       " (X_test, X_test, X_train, subsampling_0, X_train, LR, Bal_Acc): 0.9,\n",
       " (X_test, X_test, X_train, subsampling_1, X_train, LR, Bal_Acc): 0.9,\n",
       " (X_test, X_test, X_train, subsampling_2, X_train, LR, Bal_Acc): 0.8375,\n",
       " (X_test, X_test, X_train, subsampling_0, X_train, DT, Bal_Acc): 0.7375,\n",
       " (X_test, X_test, X_train, subsampling_1, X_train, DT, Bal_Acc): 0.8,\n",
       " (X_test, X_test, X_train, subsampling_2, X_train, DT, Bal_Acc): 0.8375,\n",
       " '__prev__': (<vflow.vset.Vset at 0x12618f908>,\n",
       "  ('init',),\n",
       "  (<vflow.vset.Vset at 0x12618f9e8>, ('init',)))}"
      ]
     },
     "execution_count": 7,
     "metadata": {},
     "output_type": "execute_result"
    }
   ],
   "source": [
    "np.random.seed(13)\n",
    "\n",
    "X, y = make_classification(n_samples=50, n_features=5)\n",
    "X_train, X_test, y_train, y_test = init_args(train_test_split(X, y, random_state=42),\n",
    "                                             names=['X_train', 'X_test', 'X_train',\n",
    "                                                    'X_test'])  # odd that the names for y_train and y_test must be \"X_train\" and \"X_test\"\n",
    "\n",
    "subsampling_funcs = [partial(resample,\n",
    "                             n_samples=20,\n",
    "                             random_state=i)\n",
    "                     for i in range(3)]\n",
    "\n",
    "subsampling_set = Vset(name='subsampling', modules=subsampling_funcs)\n",
    "X_trains, y_trains = subsampling_set(X_train, y_train)\n",
    "\n",
    "# fit models\n",
    "modeling_set = Vset(name='modeling',\n",
    "                         modules=[LogisticRegression(C=1, max_iter=1000, tol=0.1),\n",
    "                                  DecisionTreeClassifier(min_samples_leaf=1)],\n",
    "                         module_keys=[\"LR\", \"DT\"])\n",
    "\n",
    "_ = modeling_set.fit(X_trains, y_trains)\n",
    "\n",
    "# predict now returns modeling_set.output rather than the result of sep_dicts(output_dict)\n",
    "preds_test = modeling_set.predict(X_test)\n",
    "\n",
    "hard_metrics_set = Vset(name='hard_metrics',\n",
    "                             modules=[accuracy_score, balanced_accuracy_score],\n",
    "                             module_keys=[\"Acc\", \"Bal_Acc\"])\n",
    "\n",
    "hard_metrics = hard_metrics_set.evaluate(y_test, preds_test)\n",
    "hard_metrics"
   ]
  },
  {
   "cell_type": "code",
   "execution_count": 10,
   "id": "0b515d85",
   "metadata": {},
   "outputs": [],
   "source": [
    "def train(C=1, min_samples_leaf=1):\n",
    "    np.random.seed(13)\n",
    "\n",
    "    X, y = make_classification(n_samples=50, n_features=5)\n",
    "    X_train, X_test, y_train, y_test = init_args(train_test_split(X, y, random_state=42),\n",
    "                                                 names=['X_train', 'X_test', 'X_train', 'X_test'])\n",
    "\n",
    "    # fit models\n",
    "    modeling_set = Vset(name='modeling',\n",
    "                             modules=[LogisticRegression(max_iter=1000, tol=0.1),\n",
    "                                      DecisionTreeClassifier(min_samples_leaf=min_samples_leaf)],\n",
    "                             module_keys=[\"LR\", \"DT\"])\n",
    "    _ = modeling_set.fit(X_train, y_train)\n",
    "\n",
    "    preds_test = modeling_set.predict(X_test)\n",
    "\n",
    "    hard_metrics_set = Vset(name='hard_metrics',\n",
    "                                 modules=[accuracy_score, balanced_accuracy_score],\n",
    "                                 module_keys=[\"Acc\", \"Bal_Acc\"])\n",
    "\n",
    "    hard_metrics = hard_metrics_set.evaluate(y_test, preds_test)\n",
    "\n",
    "    for k, v in modeling_set.out.items():\n",
    "        if k != '__prev__':\n",
    "            with mlflow.start_run():\n",
    "                # log parameters\n",
    "                mlflow.log_param(\"C\", C)\n",
    "                mlflow.log_param(\"min_samples_leaf\", min_samples_leaf)\n",
    "                mlflow.log_param(\"Model_name\", k[1])\n",
    "\n",
    "                # log metrics\n",
    "                mlflow.log_metric(\"Acc\", hard_metrics[('X_test', (*k, 'X_test'), 'Acc')])\n",
    "                mlflow.log_metric(\"Bal_Acc\", hard_metrics[('X_test', (*k, 'X_test'), 'Bal_Acc')])\n",
    "\n",
    "                # log model\n",
    "                mlflow.sklearn.log_model(v, str(k))"
   ]
  },
  {
   "cell_type": "code",
   "execution_count": 11,
   "id": "be155b9c",
   "metadata": {},
   "outputs": [
    {
     "ename": "KeyError",
     "evalue": "('X_test', (X_train, X_train, LR, 'X_test'), 'Acc')",
     "output_type": "error",
     "traceback": [
      "\u001b[0;31m---------------------------------------------------------------------------\u001b[0m",
      "\u001b[0;31mKeyError\u001b[0m                                  Traceback (most recent call last)",
      "\u001b[0;32m/var/folders/01/fl5q4n5547v1g4z0hw_v_mrc0000gn/T/ipykernel_46866/592470704.py\u001b[0m in \u001b[0;36m<module>\u001b[0;34m\u001b[0m\n\u001b[1;32m      1\u001b[0m \u001b[0;32mfor\u001b[0m \u001b[0mC\u001b[0m \u001b[0;32min\u001b[0m \u001b[0;34m[\u001b[0m\u001b[0;36m0.1\u001b[0m \u001b[0;34m*\u001b[0m \u001b[0mi\u001b[0m \u001b[0;32mfor\u001b[0m \u001b[0mi\u001b[0m \u001b[0;32min\u001b[0m \u001b[0mrange\u001b[0m\u001b[0;34m(\u001b[0m\u001b[0;36m1\u001b[0m\u001b[0;34m,\u001b[0m \u001b[0;36m11\u001b[0m\u001b[0;34m)\u001b[0m\u001b[0;34m]\u001b[0m\u001b[0;34m:\u001b[0m\u001b[0;34m\u001b[0m\u001b[0m\n\u001b[1;32m      2\u001b[0m     \u001b[0;32mfor\u001b[0m \u001b[0mmin_samples_leaf\u001b[0m \u001b[0;32min\u001b[0m \u001b[0mrange\u001b[0m\u001b[0;34m(\u001b[0m\u001b[0;36m1\u001b[0m\u001b[0;34m,\u001b[0m \u001b[0;36m4\u001b[0m\u001b[0;34m)\u001b[0m\u001b[0;34m:\u001b[0m\u001b[0;34m\u001b[0m\u001b[0m\n\u001b[0;32m----> 3\u001b[0;31m         \u001b[0mtrain\u001b[0m\u001b[0;34m(\u001b[0m\u001b[0mC\u001b[0m\u001b[0;34m,\u001b[0m \u001b[0mmin_samples_leaf\u001b[0m\u001b[0;34m)\u001b[0m\u001b[0;34m\u001b[0m\u001b[0m\n\u001b[0m",
      "\u001b[0;32m/var/folders/01/fl5q4n5547v1g4z0hw_v_mrc0000gn/T/ipykernel_46866/4268570449.py\u001b[0m in \u001b[0;36mtrain\u001b[0;34m(C, min_samples_leaf)\u001b[0m\n\u001b[1;32m     30\u001b[0m \u001b[0;34m\u001b[0m\u001b[0m\n\u001b[1;32m     31\u001b[0m                 \u001b[0;31m# log metrics\u001b[0m\u001b[0;34m\u001b[0m\u001b[0;34m\u001b[0m\u001b[0m\n\u001b[0;32m---> 32\u001b[0;31m                 \u001b[0mmlflow\u001b[0m\u001b[0;34m.\u001b[0m\u001b[0mlog_metric\u001b[0m\u001b[0;34m(\u001b[0m\u001b[0;34m\"Acc\"\u001b[0m\u001b[0;34m,\u001b[0m \u001b[0mhard_metrics\u001b[0m\u001b[0;34m[\u001b[0m\u001b[0;34m(\u001b[0m\u001b[0;34m'X_test'\u001b[0m\u001b[0;34m,\u001b[0m \u001b[0;34m(\u001b[0m\u001b[0;34m*\u001b[0m\u001b[0mk\u001b[0m\u001b[0;34m,\u001b[0m \u001b[0;34m'X_test'\u001b[0m\u001b[0;34m)\u001b[0m\u001b[0;34m,\u001b[0m \u001b[0;34m'Acc'\u001b[0m\u001b[0;34m)\u001b[0m\u001b[0;34m]\u001b[0m\u001b[0;34m)\u001b[0m\u001b[0;34m\u001b[0m\u001b[0m\n\u001b[0m\u001b[1;32m     33\u001b[0m                 \u001b[0mmlflow\u001b[0m\u001b[0;34m.\u001b[0m\u001b[0mlog_metric\u001b[0m\u001b[0;34m(\u001b[0m\u001b[0;34m\"Bal_Acc\"\u001b[0m\u001b[0;34m,\u001b[0m \u001b[0mhard_metrics\u001b[0m\u001b[0;34m[\u001b[0m\u001b[0;34m(\u001b[0m\u001b[0;34m'X_test'\u001b[0m\u001b[0;34m,\u001b[0m \u001b[0;34m(\u001b[0m\u001b[0;34m*\u001b[0m\u001b[0mk\u001b[0m\u001b[0;34m,\u001b[0m \u001b[0;34m'X_test'\u001b[0m\u001b[0;34m)\u001b[0m\u001b[0;34m,\u001b[0m \u001b[0;34m'Bal_Acc'\u001b[0m\u001b[0;34m)\u001b[0m\u001b[0;34m]\u001b[0m\u001b[0;34m)\u001b[0m\u001b[0;34m\u001b[0m\u001b[0m\n\u001b[1;32m     34\u001b[0m \u001b[0;34m\u001b[0m\u001b[0m\n",
      "\u001b[0;31mKeyError\u001b[0m: ('X_test', (X_train, X_train, LR, 'X_test'), 'Acc')"
     ]
    }
   ],
   "source": [
    "for C in [0.1 * i for i in range(1, 11)]:\n",
    "    for min_samples_leaf in range(1, 4):\n",
    "        train(C, min_samples_leaf)"
   ]
  },
  {
   "cell_type": "code",
   "execution_count": 5,
   "id": "ac097c36",
   "metadata": {},
   "outputs": [
    {
     "name": "stdout",
     "output_type": "stream",
     "text": [
      "[2021-09-06 15:42:15 -0700] [42936] [INFO] Starting gunicorn 20.1.0\r\n",
      "[2021-09-06 15:42:15 -0700] [42936] [INFO] Listening at: http://127.0.0.1:5000 (42936)\r\n",
      "[2021-09-06 15:42:15 -0700] [42936] [INFO] Using worker: sync\r\n",
      "[2021-09-06 15:42:15 -0700] [42939] [INFO] Booting worker with pid: 42939\r\n"
     ]
    }
   ],
   "source": [
    "!mlflow ui"
   ]
  },
  {
   "cell_type": "code",
   "execution_count": null,
   "id": "a3a4d928",
   "metadata": {},
   "outputs": [],
   "source": []
  }
 ],
 "metadata": {
  "kernelspec": {
   "display_name": "Python 3 (ipykernel)",
   "language": "python",
   "name": "python3"
  },
  "language_info": {
   "codemirror_mode": {
    "name": "ipython",
    "version": 3
   },
   "file_extension": ".py",
   "mimetype": "text/x-python",
   "name": "python",
   "nbconvert_exporter": "python",
   "pygments_lexer": "ipython3",
   "version": "3.7.0"
  }
 },
 "nbformat": 4,
 "nbformat_minor": 5
}

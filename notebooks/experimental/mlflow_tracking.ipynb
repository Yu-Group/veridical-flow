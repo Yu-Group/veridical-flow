{
 "cells": [
  {
   "cell_type": "code",
   "execution_count": 2,
   "id": "monthly-relay",
   "metadata": {},
   "outputs": [],
   "source": [
    "'''Modified from sklearn documentation: https://scikit-learn.org/stable/modules/compose.html\n",
    "'''\n",
    "%load_ext autoreload\n",
    "%autoreload 2\n",
    "from functools import partial\n",
    "\n",
    "import numpy as np\n",
    "from sklearn.datasets import make_classification\n",
    "from sklearn.linear_model import LogisticRegression\n",
    "from sklearn.metrics import accuracy_score, balanced_accuracy_score\n",
    "from sklearn.model_selection import train_test_split\n",
    "from sklearn.tree import DecisionTreeClassifier\n",
    "from sklearn.utils import resample\n",
    "\n",
    "from vflow import Vset, init_args  # must install pcsp first (pip install pcsp)\n",
    "\n",
    "np.set_printoptions(threshold=5)  # to limit printing"
   ]
  },
  {
   "cell_type": "code",
   "execution_count": null,
   "id": "arbitrary-month",
   "metadata": {},
   "outputs": [
    {
     "name": "stdout",
     "output_type": "stream",
     "text": [
      "> \u001b[0;32m/home/james/Dropbox/repos/pcs-pipeline/vflow/vset.py\u001b[0m(94)\u001b[0;36m_apply_func\u001b[0;34m()\u001b[0m\n",
      "\u001b[0;32m     92 \u001b[0;31m            \u001b[0;31m# log smart subkeys as params and value as metric\u001b[0m\u001b[0;34m\u001b[0m\u001b[0;34m\u001b[0m\u001b[0;34m\u001b[0m\u001b[0m\n",
      "\u001b[0m\u001b[0;32m     93 \u001b[0;31m            \u001b[0;32mimport\u001b[0m \u001b[0mpdb\u001b[0m\u001b[0;34m;\u001b[0m \u001b[0mpdb\u001b[0m\u001b[0;34m.\u001b[0m\u001b[0mset_trace\u001b[0m\u001b[0;34m(\u001b[0m\u001b[0;34m)\u001b[0m\u001b[0;34m\u001b[0m\u001b[0;34m\u001b[0m\u001b[0m\n",
      "\u001b[0m\u001b[0;32m---> 94 \u001b[0;31m            \u001b[0;32mfor\u001b[0m \u001b[0mk\u001b[0m\u001b[0;34m,\u001b[0m \u001b[0mv\u001b[0m \u001b[0;32min\u001b[0m \u001b[0mout_dict\u001b[0m\u001b[0;34m.\u001b[0m\u001b[0mitems\u001b[0m\u001b[0;34m(\u001b[0m\u001b[0;34m)\u001b[0m\u001b[0;34m:\u001b[0m\u001b[0;34m\u001b[0m\u001b[0;34m\u001b[0m\u001b[0m\n",
      "\u001b[0m\u001b[0;32m     95 \u001b[0;31m                \u001b[0morigins\u001b[0m \u001b[0;34m=\u001b[0m \u001b[0mnp\u001b[0m\u001b[0;34m.\u001b[0m\u001b[0marray\u001b[0m\u001b[0;34m(\u001b[0m\u001b[0;34m[\u001b[0m\u001b[0msubk\u001b[0m\u001b[0;34m.\u001b[0m\u001b[0morigin\u001b[0m \u001b[0;32mfor\u001b[0m \u001b[0msubk\u001b[0m \u001b[0;32min\u001b[0m \u001b[0mk\u001b[0m\u001b[0;34m]\u001b[0m\u001b[0;34m)\u001b[0m\u001b[0;34m\u001b[0m\u001b[0;34m\u001b[0m\u001b[0m\n",
      "\u001b[0m\u001b[0;32m     96 \u001b[0;31m                \u001b[0;31m# ignore init origins and the last origin (this Vset)\u001b[0m\u001b[0;34m\u001b[0m\u001b[0;34m\u001b[0m\u001b[0;34m\u001b[0m\u001b[0m\n",
      "\u001b[0m\n"
     ]
    },
    {
     "name": "stdin",
     "output_type": "stream",
     "text": [
      "ipdb>  out_dict.items()\n"
     ]
    },
    {
     "name": "stdout",
     "output_type": "stream",
     "text": [
      "dict_items([((X_test, X_test, X_train, subsampling_0, X_train, subsampling_0, LR, Acc), 0.9230769230769231), ((X_test, X_test, X_train, subsampling_0, X_train, subsampling_1, LR, Acc), 0.07692307692307693), ((X_test, X_test, X_train, subsampling_0, X_train, subsampling_2, LR, Acc), 0.8461538461538461), ((X_test, X_test, X_train, subsampling_1, X_train, subsampling_0, LR, Acc), 0.3076923076923077), ((X_test, X_test, X_train, subsampling_1, X_train, subsampling_1, LR, Acc), 0.9230769230769231), ((X_test, X_test, X_train, subsampling_1, X_train, subsampling_2, LR, Acc), 0.15384615384615385), ((X_test, X_test, X_train, subsampling_2, X_train, subsampling_0, LR, Acc), 0.6923076923076923), ((X_test, X_test, X_train, subsampling_2, X_train, subsampling_1, LR, Acc), 0.6153846153846154), ((X_test, X_test, X_train, subsampling_2, X_train, subsampling_2, LR, Acc), 0.8461538461538461), ((X_test, X_test, X_train, subsampling_0, X_train, subsampling_0, DT, Acc), 0.7692307692307693), ((X_test, X_test, X_train, subsampling_0, X_train, subsampling_1, DT, Acc), 0.23076923076923078), ((X_test, X_test, X_train, subsampling_0, X_train, subsampling_2, DT, Acc), 0.6153846153846154), ((X_test, X_test, X_train, subsampling_1, X_train, subsampling_0, DT, Acc), 0.23076923076923078), ((X_test, X_test, X_train, subsampling_1, X_train, subsampling_1, DT, Acc), 0.8461538461538461), ((X_test, X_test, X_train, subsampling_1, X_train, subsampling_2, DT, Acc), 0.3076923076923077), ((X_test, X_test, X_train, subsampling_2, X_train, subsampling_0, DT, Acc), 0.8461538461538461), ((X_test, X_test, X_train, subsampling_2, X_train, subsampling_1, DT, Acc), 0.6153846153846154), ((X_test, X_test, X_train, subsampling_2, X_train, subsampling_2, DT, Acc), 0.8461538461538461), ((X_test, X_test, X_train, subsampling_0, X_train, subsampling_0, LR, Bal_Acc), 0.9), ((X_test, X_test, X_train, subsampling_0, X_train, subsampling_1, LR, Bal_Acc), 0.0625), ((X_test, X_test, X_train, subsampling_0, X_train, subsampling_2, LR, Bal_Acc), 0.8375), ((X_test, X_test, X_train, subsampling_1, X_train, subsampling_0, LR, Bal_Acc), 0.4), ((X_test, X_test, X_train, subsampling_1, X_train, subsampling_1, LR, Bal_Acc), 0.9), ((X_test, X_test, X_train, subsampling_1, X_train, subsampling_2, LR, Bal_Acc), 0.2), ((X_test, X_test, X_train, subsampling_2, X_train, subsampling_0, LR, Bal_Acc), 0.75), ((X_test, X_test, X_train, subsampling_2, X_train, subsampling_1, LR, Bal_Acc), 0.6125), ((X_test, X_test, X_train, subsampling_2, X_train, subsampling_2, LR, Bal_Acc), 0.8375), ((X_test, X_test, X_train, subsampling_0, X_train, subsampling_0, DT, Bal_Acc), 0.7375), ((X_test, X_test, X_train, subsampling_0, X_train, subsampling_1, DT, Bal_Acc), 0.2625), ((X_test, X_test, X_train, subsampling_0, X_train, subsampling_2, DT, Bal_Acc), 0.6875), ((X_test, X_test, X_train, subsampling_1, X_train, subsampling_0, DT, Bal_Acc), 0.3), ((X_test, X_test, X_train, subsampling_1, X_train, subsampling_1, DT, Bal_Acc), 0.8), ((X_test, X_test, X_train, subsampling_1, X_train, subsampling_2, DT, Bal_Acc), 0.4), ((X_test, X_test, X_train, subsampling_2, X_train, subsampling_0, DT, Bal_Acc), 0.8375), ((X_test, X_test, X_train, subsampling_2, X_train, subsampling_1, DT, Bal_Acc), 0.6125), ((X_test, X_test, X_train, subsampling_2, X_train, subsampling_2, DT, Bal_Acc), 0.8375)])\n"
     ]
    },
    {
     "name": "stdin",
     "output_type": "stream",
     "text": [
      "ipdb>  out_dict.keys()\n"
     ]
    },
    {
     "name": "stdout",
     "output_type": "stream",
     "text": [
      "dict_keys([(X_test, X_test, X_train, subsampling_0, X_train, subsampling_0, LR, Acc), (X_test, X_test, X_train, subsampling_0, X_train, subsampling_1, LR, Acc), (X_test, X_test, X_train, subsampling_0, X_train, subsampling_2, LR, Acc), (X_test, X_test, X_train, subsampling_1, X_train, subsampling_0, LR, Acc), (X_test, X_test, X_train, subsampling_1, X_train, subsampling_1, LR, Acc), (X_test, X_test, X_train, subsampling_1, X_train, subsampling_2, LR, Acc), (X_test, X_test, X_train, subsampling_2, X_train, subsampling_0, LR, Acc), (X_test, X_test, X_train, subsampling_2, X_train, subsampling_1, LR, Acc), (X_test, X_test, X_train, subsampling_2, X_train, subsampling_2, LR, Acc), (X_test, X_test, X_train, subsampling_0, X_train, subsampling_0, DT, Acc), (X_test, X_test, X_train, subsampling_0, X_train, subsampling_1, DT, Acc), (X_test, X_test, X_train, subsampling_0, X_train, subsampling_2, DT, Acc), (X_test, X_test, X_train, subsampling_1, X_train, subsampling_0, DT, Acc), (X_test, X_test, X_train, subsampling_1, X_train, subsampling_1, DT, Acc), (X_test, X_test, X_train, subsampling_1, X_train, subsampling_2, DT, Acc), (X_test, X_test, X_train, subsampling_2, X_train, subsampling_0, DT, Acc), (X_test, X_test, X_train, subsampling_2, X_train, subsampling_1, DT, Acc), (X_test, X_test, X_train, subsampling_2, X_train, subsampling_2, DT, Acc), (X_test, X_test, X_train, subsampling_0, X_train, subsampling_0, LR, Bal_Acc), (X_test, X_test, X_train, subsampling_0, X_train, subsampling_1, LR, Bal_Acc), (X_test, X_test, X_train, subsampling_0, X_train, subsampling_2, LR, Bal_Acc), (X_test, X_test, X_train, subsampling_1, X_train, subsampling_0, LR, Bal_Acc), (X_test, X_test, X_train, subsampling_1, X_train, subsampling_1, LR, Bal_Acc), (X_test, X_test, X_train, subsampling_1, X_train, subsampling_2, LR, Bal_Acc), (X_test, X_test, X_train, subsampling_2, X_train, subsampling_0, LR, Bal_Acc), (X_test, X_test, X_train, subsampling_2, X_train, subsampling_1, LR, Bal_Acc), (X_test, X_test, X_train, subsampling_2, X_train, subsampling_2, LR, Bal_Acc), (X_test, X_test, X_train, subsampling_0, X_train, subsampling_0, DT, Bal_Acc), (X_test, X_test, X_train, subsampling_0, X_train, subsampling_1, DT, Bal_Acc), (X_test, X_test, X_train, subsampling_0, X_train, subsampling_2, DT, Bal_Acc), (X_test, X_test, X_train, subsampling_1, X_train, subsampling_0, DT, Bal_Acc), (X_test, X_test, X_train, subsampling_1, X_train, subsampling_1, DT, Bal_Acc), (X_test, X_test, X_train, subsampling_1, X_train, subsampling_2, DT, Bal_Acc), (X_test, X_test, X_train, subsampling_2, X_train, subsampling_0, DT, Bal_Acc), (X_test, X_test, X_train, subsampling_2, X_train, subsampling_1, DT, Bal_Acc), (X_test, X_test, X_train, subsampling_2, X_train, subsampling_2, DT, Bal_Acc)])\n"
     ]
    },
    {
     "name": "stdin",
     "output_type": "stream",
     "text": [
      "ipdb>  tuple(out_dict.keys())\n"
     ]
    },
    {
     "name": "stdout",
     "output_type": "stream",
     "text": [
      "((X_test, X_test, X_train, subsampling_0, X_train, subsampling_0, LR, Acc), (X_test, X_test, X_train, subsampling_0, X_train, subsampling_1, LR, Acc), (X_test, X_test, X_train, subsampling_0, X_train, subsampling_2, LR, Acc), (X_test, X_test, X_train, subsampling_1, X_train, subsampling_0, LR, Acc), (X_test, X_test, X_train, subsampling_1, X_train, subsampling_1, LR, Acc), (X_test, X_test, X_train, subsampling_1, X_train, subsampling_2, LR, Acc), (X_test, X_test, X_train, subsampling_2, X_train, subsampling_0, LR, Acc), (X_test, X_test, X_train, subsampling_2, X_train, subsampling_1, LR, Acc), (X_test, X_test, X_train, subsampling_2, X_train, subsampling_2, LR, Acc), (X_test, X_test, X_train, subsampling_0, X_train, subsampling_0, DT, Acc), (X_test, X_test, X_train, subsampling_0, X_train, subsampling_1, DT, Acc), (X_test, X_test, X_train, subsampling_0, X_train, subsampling_2, DT, Acc), (X_test, X_test, X_train, subsampling_1, X_train, subsampling_0, DT, Acc), (X_test, X_test, X_train, subsampling_1, X_train, subsampling_1, DT, Acc), (X_test, X_test, X_train, subsampling_1, X_train, subsampling_2, DT, Acc), (X_test, X_test, X_train, subsampling_2, X_train, subsampling_0, DT, Acc), (X_test, X_test, X_train, subsampling_2, X_train, subsampling_1, DT, Acc), (X_test, X_test, X_train, subsampling_2, X_train, subsampling_2, DT, Acc), (X_test, X_test, X_train, subsampling_0, X_train, subsampling_0, LR, Bal_Acc), (X_test, X_test, X_train, subsampling_0, X_train, subsampling_1, LR, Bal_Acc), (X_test, X_test, X_train, subsampling_0, X_train, subsampling_2, LR, Bal_Acc), (X_test, X_test, X_train, subsampling_1, X_train, subsampling_0, LR, Bal_Acc), (X_test, X_test, X_train, subsampling_1, X_train, subsampling_1, LR, Bal_Acc), (X_test, X_test, X_train, subsampling_1, X_train, subsampling_2, LR, Bal_Acc), (X_test, X_test, X_train, subsampling_2, X_train, subsampling_0, LR, Bal_Acc), (X_test, X_test, X_train, subsampling_2, X_train, subsampling_1, LR, Bal_Acc), (X_test, X_test, X_train, subsampling_2, X_train, subsampling_2, LR, Bal_Acc), (X_test, X_test, X_train, subsampling_0, X_train, subsampling_0, DT, Bal_Acc), (X_test, X_test, X_train, subsampling_0, X_train, subsampling_1, DT, Bal_Acc), (X_test, X_test, X_train, subsampling_0, X_train, subsampling_2, DT, Bal_Acc), (X_test, X_test, X_train, subsampling_1, X_train, subsampling_0, DT, Bal_Acc), (X_test, X_test, X_train, subsampling_1, X_train, subsampling_1, DT, Bal_Acc), (X_test, X_test, X_train, subsampling_1, X_train, subsampling_2, DT, Bal_Acc), (X_test, X_test, X_train, subsampling_2, X_train, subsampling_0, DT, Bal_Acc), (X_test, X_test, X_train, subsampling_2, X_train, subsampling_1, DT, Bal_Acc), (X_test, X_test, X_train, subsampling_2, X_train, subsampling_2, DT, Bal_Acc))\n"
     ]
    },
    {
     "name": "stdin",
     "output_type": "stream",
     "text": [
      "ipdb>  keys = list(out_dict.keys())\n",
      "ipdb>  keys\n"
     ]
    },
    {
     "name": "stdout",
     "output_type": "stream",
     "text": [
      "[(X_test, X_test, X_train, subsampling_0, X_train, subsampling_0, LR, Acc), (X_test, X_test, X_train, subsampling_0, X_train, subsampling_1, LR, Acc), (X_test, X_test, X_train, subsampling_0, X_train, subsampling_2, LR, Acc), (X_test, X_test, X_train, subsampling_1, X_train, subsampling_0, LR, Acc), (X_test, X_test, X_train, subsampling_1, X_train, subsampling_1, LR, Acc), (X_test, X_test, X_train, subsampling_1, X_train, subsampling_2, LR, Acc), (X_test, X_test, X_train, subsampling_2, X_train, subsampling_0, LR, Acc), (X_test, X_test, X_train, subsampling_2, X_train, subsampling_1, LR, Acc), (X_test, X_test, X_train, subsampling_2, X_train, subsampling_2, LR, Acc), (X_test, X_test, X_train, subsampling_0, X_train, subsampling_0, DT, Acc), (X_test, X_test, X_train, subsampling_0, X_train, subsampling_1, DT, Acc), (X_test, X_test, X_train, subsampling_0, X_train, subsampling_2, DT, Acc), (X_test, X_test, X_train, subsampling_1, X_train, subsampling_0, DT, Acc), (X_test, X_test, X_train, subsampling_1, X_train, subsampling_1, DT, Acc), (X_test, X_test, X_train, subsampling_1, X_train, subsampling_2, DT, Acc), (X_test, X_test, X_train, subsampling_2, X_train, subsampling_0, DT, Acc), (X_test, X_test, X_train, subsampling_2, X_train, subsampling_1, DT, Acc), (X_test, X_test, X_train, subsampling_2, X_train, subsampling_2, DT, Acc), (X_test, X_test, X_train, subsampling_0, X_train, subsampling_0, LR, Bal_Acc), (X_test, X_test, X_train, subsampling_0, X_train, subsampling_1, LR, Bal_Acc), (X_test, X_test, X_train, subsampling_0, X_train, subsampling_2, LR, Bal_Acc), (X_test, X_test, X_train, subsampling_1, X_train, subsampling_0, LR, Bal_Acc), (X_test, X_test, X_train, subsampling_1, X_train, subsampling_1, LR, Bal_Acc), (X_test, X_test, X_train, subsampling_1, X_train, subsampling_2, LR, Bal_Acc), (X_test, X_test, X_train, subsampling_2, X_train, subsampling_0, LR, Bal_Acc), (X_test, X_test, X_train, subsampling_2, X_train, subsampling_1, LR, Bal_Acc), (X_test, X_test, X_train, subsampling_2, X_train, subsampling_2, LR, Bal_Acc), (X_test, X_test, X_train, subsampling_0, X_train, subsampling_0, DT, Bal_Acc), (X_test, X_test, X_train, subsampling_0, X_train, subsampling_1, DT, Bal_Acc), (X_test, X_test, X_train, subsampling_0, X_train, subsampling_2, DT, Bal_Acc), (X_test, X_test, X_train, subsampling_1, X_train, subsampling_0, DT, Bal_Acc), (X_test, X_test, X_train, subsampling_1, X_train, subsampling_1, DT, Bal_Acc), (X_test, X_test, X_train, subsampling_1, X_train, subsampling_2, DT, Bal_Acc), (X_test, X_test, X_train, subsampling_2, X_train, subsampling_0, DT, Bal_Acc), (X_test, X_test, X_train, subsampling_2, X_train, subsampling_1, DT, Bal_Acc), (X_test, X_test, X_train, subsampling_2, X_train, subsampling_2, DT, Bal_Acc)]\n"
     ]
    }
   ],
   "source": [
    "np.random.seed(13)\n",
    "\n",
    "X, y = make_classification(n_samples=50, n_features=5)\n",
    "X_train, X_test, y_train, y_test = init_args(train_test_split(X, y, random_state=42),\n",
    "                                             names=['X_train', 'X_test', 'X_train',\n",
    "                                                    'X_test'])\n",
    "\n",
    "subsampling_funcs = [partial(resample,\n",
    "                             n_samples=20,\n",
    "                             random_state=i)\n",
    "                     for i in range(3)]\n",
    "\n",
    "subsampling_set = Vset(name='subsampling', modules=subsampling_funcs)\n",
    "X_trains, y_trains = subsampling_set(X_train, y_train)\n",
    "\n",
    "# fit models\n",
    "modeling_set = Vset(name='modeling',\n",
    "                    modules=[LogisticRegression(C=1, max_iter=1000, tol=0.1),\n",
    "                             DecisionTreeClassifier(min_samples_leaf=1)],\n",
    "                    module_keys=[\"LR\", \"DT\"])\n",
    "\n",
    "_ = modeling_set.fit(X_trains, y_trains)\n",
    "\n",
    "# predict now returns modeling_set.output rather than the result of sep_dicts(output_dict)\n",
    "preds_test = modeling_set.predict(X_test)\n",
    "\n",
    "hard_metrics_set = Vset(name='hard_metrics',\n",
    "                        modules=[accuracy_score, balanced_accuracy_score],\n",
    "                        module_keys=[\"Acc\", \"Bal_Acc\"],\n",
    "                        tracking_dir='./mlruns')\n",
    "\n",
    "hard_metrics = hard_metrics_set.evaluate(y_test, preds_test)"
   ]
  },
  {
   "cell_type": "code",
   "execution_count": 3,
   "id": "mental-entry",
   "metadata": {},
   "outputs": [
    {
     "name": "stdout",
     "output_type": "stream",
     "text": [
      "[2021-10-11 22:11:25 -0700] [93263] [INFO] Starting gunicorn 20.0.4\n",
      "[2021-10-11 22:11:25 -0700] [93263] [ERROR] Connection in use: ('127.0.0.1', 5000)\n",
      "[2021-10-11 22:11:25 -0700] [93263] [ERROR] Retrying in 1 second.\n",
      "[2021-10-11 22:11:26 -0700] [93263] [ERROR] Connection in use: ('127.0.0.1', 5000)\n",
      "[2021-10-11 22:11:26 -0700] [93263] [ERROR] Retrying in 1 second.\n",
      "[2021-10-11 22:11:27 -0700] [93263] [ERROR] Connection in use: ('127.0.0.1', 5000)\n",
      "[2021-10-11 22:11:27 -0700] [93263] [ERROR] Retrying in 1 second.\n",
      "[2021-10-11 22:11:28 -0700] [93263] [ERROR] Connection in use: ('127.0.0.1', 5000)\n",
      "[2021-10-11 22:11:28 -0700] [93263] [ERROR] Retrying in 1 second.\n",
      "[2021-10-11 22:11:29 -0700] [93263] [ERROR] Connection in use: ('127.0.0.1', 5000)\n",
      "[2021-10-11 22:11:29 -0700] [93263] [ERROR] Retrying in 1 second.\n",
      "[2021-10-11 22:11:30 -0700] [93263] [ERROR] Can't connect to ('127.0.0.1', 5000)\n",
      "Running the mlflow server failed. Please see the logs above for details.\n"
     ]
    }
   ],
   "source": [
    "!mlflow ui"
   ]
  },
  {
   "cell_type": "code",
   "execution_count": null,
   "id": "universal-jenny",
   "metadata": {},
   "outputs": [],
   "source": []
  }
 ],
 "metadata": {
  "kernelspec": {
   "display_name": "Python 3",
   "language": "python",
   "name": "python3"
  },
  "language_info": {
   "codemirror_mode": {
    "name": "ipython",
    "version": 3
   },
   "file_extension": ".py",
   "mimetype": "text/x-python",
   "name": "python",
   "nbconvert_exporter": "python",
   "pygments_lexer": "ipython3",
   "version": "3.8.5"
  }
 },
 "nbformat": 4,
 "nbformat_minor": 5
}

{
 "cells": [
  {
   "cell_type": "code",
   "execution_count": 3,
   "id": "polish-computer",
   "metadata": {},
   "outputs": [
    {
     "name": "stdout",
     "output_type": "stream",
     "text": [
      "The autoreload extension is already loaded. To reload it, use:\n",
      "  %reload_ext autoreload\n"
     ]
    }
   ],
   "source": [
    "%load_ext autoreload\n",
    "%autoreload 2\n",
    "\n",
    "import numpy as np\n",
    "from functools import partial\n",
    "\n",
    "from sklearn.datasets import make_classification\n",
    "from sklearn.model_selection import train_test_split, KFold\n",
    "from sklearn.preprocessing import StandardScaler\n",
    "from sklearn.ensemble import RandomForestClassifier\n",
    "from sklearn.metrics import accuracy_score, balanced_accuracy_score\n",
    "from sklearn.inspection import permutation_importance\n",
    "\n",
    "np.set_printoptions(threshold=5)  # to limit printing\n",
    "\n",
    "from vflow import Vset, dict_to_df, build_vset, filter_vset_by_metric, init_args\n",
    "from vflow.pipeline import build_graph"
   ]
  },
  {
   "cell_type": "code",
   "execution_count": 4,
   "id": "banner-cheat",
   "metadata": {},
   "outputs": [],
   "source": [
    "# initialize data\n",
    "np.random.seed(13)\n",
    "\n",
    "X, y = make_classification(n_samples=500, n_features=5)\n",
    "X_train, X_test, y_train, y_test = train_test_split(X, y, test_size=100)\n",
    "\n",
    "def kfold_wrap(X, y, n_splits=4):\n",
    "    kf = KFold(n_splits=n_splits)\n",
    "    split_gen = kf.split(X)\n",
    "    def yield_fold_k():\n",
    "        train_idx, valid_idx = next(split_gen)\n",
    "        return X[train_idx, :], X[valid_idx, :], y[train_idx], y[valid_idx]\n",
    "    return [yield_fold_k for i in range(n_splits)]\n",
    "\n",
    "# create k-fold splits lazily\n",
    "k_fold_set = Vset(name = 'k_fold', modules=kfold_wrap(X_train, y_train, n_splits=4), lazy=True)\n",
    "\n",
    "X_trains, X_valids, y_trains, y_valids = k_fold_set(n_out=4, keys=['X_train', 'X_valid', 'y_train', 'y_valid'])\n",
    "\n",
    "def clean_data(*Xs, strategy = 'standardize'):\n",
    "    out = []\n",
    "    for X in Xs:\n",
    "        if strategy == 'signlog':\n",
    "            out.append(np.sign(X) * np.log(np.abs(X)))\n",
    "        if strategy == 'standardize':\n",
    "            scaler = StandardScaler()\n",
    "            scaler.fit(X)\n",
    "            out.append(scaler.transform(X))\n",
    "        if strategy == 'none':\n",
    "            out.append(X)\n",
    "    if len(out) == 1:\n",
    "        return out[0]\n",
    "    else:\n",
    "        return out\n",
    "\n",
    "clean_param_dict = {\n",
    "    'strategy': ['none', 'signlog', 'standardize']\n",
    "}\n",
    "data_clean_set = build_vset('data_cleaning', clean_data, param_dict=clean_param_dict, output_matching=True, lazy=True)\n",
    "\n",
    "# X_trains_clean, X_valids_clean = data_clean_set(X_trains, X_valids)\n",
    "X_trains_clean = data_clean_set(X_trains)\n",
    "X_valids_clean = data_clean_set(X_valids)\n",
    "\n",
    "# build modeling Vset\n",
    "rf_param_dict = {\n",
    "    'n_estimators': [100, 200],\n",
    "    'min_samples_split': [2, 10],\n",
    "    'max_features': ['sqrt', 'log2']\n",
    "}\n",
    "rf_set = build_vset('RF', RandomForestClassifier, param_dict=rf_param_dict)"
   ]
  },
  {
   "cell_type": "code",
   "execution_count": 5,
   "id": "saved-combat",
   "metadata": {},
   "outputs": [],
   "source": [
    "rf_set.fit(X_trains_clean, y_trains)\n",
    "preds_valid = rf_set.predict(X_valids_clean)\n",
    "\n",
    "# get metrics\n",
    "binary_metrics_set = Vset(name='binary_metrics',\n",
    "                          modules=[accuracy_score, balanced_accuracy_score],\n",
    "                          module_keys=[\"Acc\", \"Bal_Acc\"])\n",
    "binary_metrics = binary_metrics_set.evaluate(preds_valid, y_valids)"
   ]
  },
  {
   "cell_type": "code",
   "execution_count": 6,
   "id": "quiet-lighting",
   "metadata": {},
   "outputs": [
    {
     "data": {
      "text/html": [
       "<div>\n",
       "<style scoped>\n",
       "    .dataframe tbody tr th:only-of-type {\n",
       "        vertical-align: middle;\n",
       "    }\n",
       "\n",
       "    .dataframe tbody tr th {\n",
       "        vertical-align: top;\n",
       "    }\n",
       "\n",
       "    .dataframe thead th {\n",
       "        text-align: right;\n",
       "    }\n",
       "</style>\n",
       "<table border=\"1\" class=\"dataframe\">\n",
       "  <thead>\n",
       "    <tr style=\"text-align: right;\">\n",
       "      <th></th>\n",
       "      <th>k_fold-1</th>\n",
       "      <th>k_fold</th>\n",
       "      <th>data_cleaning</th>\n",
       "      <th>k_fold-0</th>\n",
       "      <th>k_fold-2</th>\n",
       "      <th>RF</th>\n",
       "      <th>k_fold-3</th>\n",
       "      <th>binary_metrics</th>\n",
       "      <th>out</th>\n",
       "    </tr>\n",
       "  </thead>\n",
       "  <tbody>\n",
       "    <tr>\n",
       "      <th>0</th>\n",
       "      <td>X_valid</td>\n",
       "      <td>k_fold_0</td>\n",
       "      <td>(strategy=none,)</td>\n",
       "      <td>X_train</td>\n",
       "      <td>y_train</td>\n",
       "      <td>(n_estimators=100, min_samples_split=2, max_fe...</td>\n",
       "      <td>y_valid</td>\n",
       "      <td>Acc</td>\n",
       "      <td>0.940000</td>\n",
       "    </tr>\n",
       "    <tr>\n",
       "      <th>1</th>\n",
       "      <td>X_valid</td>\n",
       "      <td>k_fold_1</td>\n",
       "      <td>(strategy=none,)</td>\n",
       "      <td>X_train</td>\n",
       "      <td>y_train</td>\n",
       "      <td>(n_estimators=100, min_samples_split=2, max_fe...</td>\n",
       "      <td>y_valid</td>\n",
       "      <td>Acc</td>\n",
       "      <td>0.900000</td>\n",
       "    </tr>\n",
       "    <tr>\n",
       "      <th>2</th>\n",
       "      <td>X_valid</td>\n",
       "      <td>k_fold_2</td>\n",
       "      <td>(strategy=none,)</td>\n",
       "      <td>X_train</td>\n",
       "      <td>y_train</td>\n",
       "      <td>(n_estimators=100, min_samples_split=2, max_fe...</td>\n",
       "      <td>y_valid</td>\n",
       "      <td>Acc</td>\n",
       "      <td>0.970000</td>\n",
       "    </tr>\n",
       "    <tr>\n",
       "      <th>3</th>\n",
       "      <td>X_valid</td>\n",
       "      <td>k_fold_3</td>\n",
       "      <td>(strategy=none,)</td>\n",
       "      <td>X_train</td>\n",
       "      <td>y_train</td>\n",
       "      <td>(n_estimators=100, min_samples_split=2, max_fe...</td>\n",
       "      <td>y_valid</td>\n",
       "      <td>Acc</td>\n",
       "      <td>0.920000</td>\n",
       "    </tr>\n",
       "    <tr>\n",
       "      <th>4</th>\n",
       "      <td>X_valid</td>\n",
       "      <td>k_fold_0</td>\n",
       "      <td>(strategy=signlog,)</td>\n",
       "      <td>X_train</td>\n",
       "      <td>y_train</td>\n",
       "      <td>(n_estimators=100, min_samples_split=2, max_fe...</td>\n",
       "      <td>y_valid</td>\n",
       "      <td>Acc</td>\n",
       "      <td>0.880000</td>\n",
       "    </tr>\n",
       "    <tr>\n",
       "      <th>...</th>\n",
       "      <td>...</td>\n",
       "      <td>...</td>\n",
       "      <td>...</td>\n",
       "      <td>...</td>\n",
       "      <td>...</td>\n",
       "      <td>...</td>\n",
       "      <td>...</td>\n",
       "      <td>...</td>\n",
       "      <td>...</td>\n",
       "    </tr>\n",
       "    <tr>\n",
       "      <th>187</th>\n",
       "      <td>X_valid</td>\n",
       "      <td>k_fold_3</td>\n",
       "      <td>(strategy=signlog,)</td>\n",
       "      <td>X_train</td>\n",
       "      <td>y_train</td>\n",
       "      <td>(n_estimators=200, min_samples_split=10, max_f...</td>\n",
       "      <td>y_valid</td>\n",
       "      <td>Bal_Acc</td>\n",
       "      <td>0.808523</td>\n",
       "    </tr>\n",
       "    <tr>\n",
       "      <th>188</th>\n",
       "      <td>X_valid</td>\n",
       "      <td>k_fold_0</td>\n",
       "      <td>(strategy=standardize,)</td>\n",
       "      <td>X_train</td>\n",
       "      <td>y_train</td>\n",
       "      <td>(n_estimators=200, min_samples_split=10, max_f...</td>\n",
       "      <td>y_valid</td>\n",
       "      <td>Bal_Acc</td>\n",
       "      <td>0.919711</td>\n",
       "    </tr>\n",
       "    <tr>\n",
       "      <th>189</th>\n",
       "      <td>X_valid</td>\n",
       "      <td>k_fold_1</td>\n",
       "      <td>(strategy=standardize,)</td>\n",
       "      <td>X_train</td>\n",
       "      <td>y_train</td>\n",
       "      <td>(n_estimators=200, min_samples_split=10, max_f...</td>\n",
       "      <td>y_valid</td>\n",
       "      <td>Bal_Acc</td>\n",
       "      <td>0.873745</td>\n",
       "    </tr>\n",
       "    <tr>\n",
       "      <th>190</th>\n",
       "      <td>X_valid</td>\n",
       "      <td>k_fold_2</td>\n",
       "      <td>(strategy=standardize,)</td>\n",
       "      <td>X_train</td>\n",
       "      <td>y_train</td>\n",
       "      <td>(n_estimators=200, min_samples_split=10, max_f...</td>\n",
       "      <td>y_valid</td>\n",
       "      <td>Bal_Acc</td>\n",
       "      <td>0.920368</td>\n",
       "    </tr>\n",
       "    <tr>\n",
       "      <th>191</th>\n",
       "      <td>X_valid</td>\n",
       "      <td>k_fold_3</td>\n",
       "      <td>(strategy=standardize,)</td>\n",
       "      <td>X_train</td>\n",
       "      <td>y_train</td>\n",
       "      <td>(n_estimators=200, min_samples_split=10, max_f...</td>\n",
       "      <td>y_valid</td>\n",
       "      <td>Bal_Acc</td>\n",
       "      <td>0.875812</td>\n",
       "    </tr>\n",
       "  </tbody>\n",
       "</table>\n",
       "<p>192 rows × 9 columns</p>\n",
       "</div>"
      ],
      "text/plain": [
       "    k_fold-1    k_fold            data_cleaning k_fold-0 k_fold-2  \\\n",
       "0    X_valid  k_fold_0         (strategy=none,)  X_train  y_train   \n",
       "1    X_valid  k_fold_1         (strategy=none,)  X_train  y_train   \n",
       "2    X_valid  k_fold_2         (strategy=none,)  X_train  y_train   \n",
       "3    X_valid  k_fold_3         (strategy=none,)  X_train  y_train   \n",
       "4    X_valid  k_fold_0      (strategy=signlog,)  X_train  y_train   \n",
       "..       ...       ...                      ...      ...      ...   \n",
       "187  X_valid  k_fold_3      (strategy=signlog,)  X_train  y_train   \n",
       "188  X_valid  k_fold_0  (strategy=standardize,)  X_train  y_train   \n",
       "189  X_valid  k_fold_1  (strategy=standardize,)  X_train  y_train   \n",
       "190  X_valid  k_fold_2  (strategy=standardize,)  X_train  y_train   \n",
       "191  X_valid  k_fold_3  (strategy=standardize,)  X_train  y_train   \n",
       "\n",
       "                                                    RF k_fold-3  \\\n",
       "0    (n_estimators=100, min_samples_split=2, max_fe...  y_valid   \n",
       "1    (n_estimators=100, min_samples_split=2, max_fe...  y_valid   \n",
       "2    (n_estimators=100, min_samples_split=2, max_fe...  y_valid   \n",
       "3    (n_estimators=100, min_samples_split=2, max_fe...  y_valid   \n",
       "4    (n_estimators=100, min_samples_split=2, max_fe...  y_valid   \n",
       "..                                                 ...      ...   \n",
       "187  (n_estimators=200, min_samples_split=10, max_f...  y_valid   \n",
       "188  (n_estimators=200, min_samples_split=10, max_f...  y_valid   \n",
       "189  (n_estimators=200, min_samples_split=10, max_f...  y_valid   \n",
       "190  (n_estimators=200, min_samples_split=10, max_f...  y_valid   \n",
       "191  (n_estimators=200, min_samples_split=10, max_f...  y_valid   \n",
       "\n",
       "    binary_metrics       out  \n",
       "0              Acc  0.940000  \n",
       "1              Acc  0.900000  \n",
       "2              Acc  0.970000  \n",
       "3              Acc  0.920000  \n",
       "4              Acc  0.880000  \n",
       "..             ...       ...  \n",
       "187        Bal_Acc  0.808523  \n",
       "188        Bal_Acc  0.919711  \n",
       "189        Bal_Acc  0.873745  \n",
       "190        Bal_Acc  0.920368  \n",
       "191        Bal_Acc  0.875812  \n",
       "\n",
       "[192 rows x 9 columns]"
      ]
     },
     "execution_count": 6,
     "metadata": {},
     "output_type": "execute_result"
    }
   ],
   "source": [
    "dict_to_df(binary_metrics)"
   ]
  },
  {
   "cell_type": "code",
   "execution_count": 7,
   "id": "romance-imperial",
   "metadata": {},
   "outputs": [
    {
     "data": {
      "text/plain": [
       "<networkx.classes.digraph.DiGraph at 0x7f98b33c8790>"
      ]
     },
     "execution_count": 7,
     "metadata": {},
     "output_type": "execute_result"
    },
    {
     "data": {
      "image/png": "[encoded data removed]",
      "text/plain": [
       "<Figure size 432x288 with 1 Axes>"
      ]
     },
     "metadata": {},
     "output_type": "display_data"
    }
   ],
   "source": [
    "build_graph(binary_metrics)"
   ]
  },
  {
   "cell_type": "code",
   "execution_count": 11,
   "id": "proper-maker",
   "metadata": {},
   "outputs": [
    {
     "name": "stdout",
     "output_type": "stream",
     "text": [
      "{(('n_estimators=100', 'min_samples_split=2', 'max_features=sqrt'),): <vflow.vfunc.Vfunc object at 0x7f98b331a5b0>, (('n_estimators=100', 'min_samples_split=10', 'max_features=log2'),): <vflow.vfunc.Vfunc object at 0x7f98b319ba60>, (('n_estimators=200', 'min_samples_split=10', 'max_features=log2'),): <vflow.vfunc.Vfunc object at 0x7f98f33c8ca0>}\n",
      "{(('strategy=none',),): <vflow.vfunc.Vfunc object at 0x7f98b31a5670>}\n"
     ]
    }
   ],
   "source": [
    "# prediction check: filter rf_set and data_clean_set\n",
    "filtered_rf_set, filtered_data_clean_set = filter_vset_by_metric(binary_metrics, rf_set, data_clean_set, n_keep=3, filter_on=['Bal_Acc'], group=True)\n",
    "\n",
    "print(filtered_rf_set.vfuncs)\n",
    "print(filtered_data_clean_set.vfuncs)"
   ]
  },
  {
   "cell_type": "code",
   "execution_count": 13,
   "id": "animal-barbados",
   "metadata": {},
   "outputs": [
    {
     "ename": "TypeError",
     "evalue": "float() argument must be a string or a number, not 'dict'",
     "output_type": "error",
     "traceback": [
      "\u001b[0;31m---------------------------------------------------------------------------\u001b[0m",
      "\u001b[0;31mTypeError\u001b[0m                                 Traceback (most recent call last)",
      "Input \u001b[0;32mIn [13]\u001b[0m, in \u001b[0;36m<module>\u001b[0;34m\u001b[0m\n\u001b[1;32m      2\u001b[0m X_train, y_train \u001b[38;5;241m=\u001b[39m init_args((X_train, y_train), [\u001b[38;5;124m'\u001b[39m\u001b[38;5;124mX_train\u001b[39m\u001b[38;5;124m'\u001b[39m, \u001b[38;5;124m'\u001b[39m\u001b[38;5;124my_train\u001b[39m\u001b[38;5;124m'\u001b[39m])\n\u001b[1;32m      3\u001b[0m X_train_clean \u001b[38;5;241m=\u001b[39m filtered_data_clean_set(X_train)\n\u001b[0;32m----> 5\u001b[0m \u001b[43mfiltered_rf_set\u001b[49m\u001b[38;5;241;43m.\u001b[39;49m\u001b[43mfit\u001b[49m\u001b[43m(\u001b[49m\u001b[43mX_train_clean\u001b[49m\u001b[43m,\u001b[49m\u001b[43m \u001b[49m\u001b[43my_train\u001b[49m\u001b[43m)\u001b[49m\n\u001b[1;32m      7\u001b[0m importance_set \u001b[38;5;241m=\u001b[39m build_vset(\u001b[38;5;124m'\u001b[39m\u001b[38;5;124mperm_importance\u001b[39m\u001b[38;5;124m'\u001b[39m,\n\u001b[1;32m      8\u001b[0m                             permutation_importance,\n\u001b[1;32m      9\u001b[0m                             n_repeats\u001b[38;5;241m=\u001b[39m\u001b[38;5;241m30\u001b[39m)\n\u001b[1;32m     11\u001b[0m X_test, y_test \u001b[38;5;241m=\u001b[39m init_args((X_test, y_test), [\u001b[38;5;124m'\u001b[39m\u001b[38;5;124mX_test\u001b[39m\u001b[38;5;124m'\u001b[39m, \u001b[38;5;124m'\u001b[39m\u001b[38;5;124my_test\u001b[39m\u001b[38;5;124m'\u001b[39m])\n",
      "File \u001b[0;32m~/yugroup/veridical-flow/vflow/vset.py:170\u001b[0m, in \u001b[0;36mVset.fit\u001b[0;34m(self, *args)\u001b[0m\n\u001b[1;32m    168\u001b[0m \u001b[38;5;28;01mfor\u001b[39;00m k, v \u001b[38;5;129;01min\u001b[39;00m \u001b[38;5;28mself\u001b[39m\u001b[38;5;241m.\u001b[39mvfuncs\u001b[38;5;241m.\u001b[39mitems():\n\u001b[1;32m    169\u001b[0m     out_dict[k] \u001b[38;5;241m=\u001b[39m v\u001b[38;5;241m.\u001b[39mfit\n\u001b[0;32m--> 170\u001b[0m \u001b[38;5;28mself\u001b[39m\u001b[38;5;241m.\u001b[39mfitted_vfuncs \u001b[38;5;241m=\u001b[39m \u001b[38;5;28;43mself\u001b[39;49m\u001b[38;5;241;43m.\u001b[39;49m\u001b[43m_apply_func\u001b[49m\u001b[43m(\u001b[49m\u001b[38;5;241;43m*\u001b[39;49m\u001b[43margs\u001b[49m\u001b[43m,\u001b[49m\u001b[43m \u001b[49m\u001b[43mout_dict\u001b[49m\u001b[38;5;241;43m=\u001b[39;49m\u001b[43mout_dict\u001b[49m\u001b[43m)\u001b[49m\n\u001b[1;32m    171\u001b[0m prev \u001b[38;5;241m=\u001b[39m \u001b[38;5;28mself\u001b[39m\u001b[38;5;241m.\u001b[39mfitted_vfuncs[PREV_KEY][\u001b[38;5;241m1\u001b[39m:]\n\u001b[1;32m    172\u001b[0m \u001b[38;5;28;01mif\u001b[39;00m \u001b[38;5;28mhasattr\u001b[39m(\u001b[38;5;28mself\u001b[39m, FILTER_PREV_KEY):\n",
      "File \u001b[0;32m~/yugroup/veridical-flow/vflow/vset.py:123\u001b[0m, in \u001b[0;36mVset._apply_func\u001b[0;34m(self, out_dict, *args)\u001b[0m\n\u001b[1;32m    120\u001b[0m     out_dict \u001b[38;5;241m=\u001b[39m deepcopy(\u001b[38;5;28mself\u001b[39m\u001b[38;5;241m.\u001b[39mvfuncs)\n\u001b[1;32m    122\u001b[0m apply_func_cached \u001b[38;5;241m=\u001b[39m \u001b[38;5;28mself\u001b[39m\u001b[38;5;241m.\u001b[39m_memory\u001b[38;5;241m.\u001b[39mcache(_apply_func_cached)\n\u001b[0;32m--> 123\u001b[0m out_dict \u001b[38;5;241m=\u001b[39m \u001b[43mapply_func_cached\u001b[49m\u001b[43m(\u001b[49m\u001b[43mout_dict\u001b[49m\u001b[43m,\u001b[49m\u001b[43m \u001b[49m\u001b[38;5;28;43mself\u001b[39;49m\u001b[38;5;241;43m.\u001b[39;49m\u001b[43m_async\u001b[49m\u001b[43m,\u001b[49m\u001b[43m \u001b[49m\u001b[38;5;28;43mself\u001b[39;49m\u001b[38;5;241;43m.\u001b[39;49m\u001b[43m_lazy\u001b[49m\u001b[43m,\u001b[49m\u001b[43m \u001b[49m\u001b[38;5;241;43m*\u001b[39;49m\u001b[43margs\u001b[49m\u001b[43m)\u001b[49m\n\u001b[1;32m    125\u001b[0m prev \u001b[38;5;241m=\u001b[39m \u001b[38;5;28mtuple\u001b[39m()\n\u001b[1;32m    126\u001b[0m \u001b[38;5;28;01mfor\u001b[39;00m arg \u001b[38;5;129;01min\u001b[39;00m args:\n",
      "File \u001b[0;32m~/.conda/envs/vflow/lib/python3.9/site-packages/joblib/memory.py:349\u001b[0m, in \u001b[0;36mNotMemorizedFunc.__call__\u001b[0;34m(self, *args, **kwargs)\u001b[0m\n\u001b[1;32m    348\u001b[0m \u001b[38;5;28;01mdef\u001b[39;00m \u001b[38;5;21m__call__\u001b[39m(\u001b[38;5;28mself\u001b[39m, \u001b[38;5;241m*\u001b[39margs, \u001b[38;5;241m*\u001b[39m\u001b[38;5;241m*\u001b[39mkwargs):\n\u001b[0;32m--> 349\u001b[0m     \u001b[38;5;28;01mreturn\u001b[39;00m \u001b[38;5;28;43mself\u001b[39;49m\u001b[38;5;241;43m.\u001b[39;49m\u001b[43mfunc\u001b[49m\u001b[43m(\u001b[49m\u001b[38;5;241;43m*\u001b[39;49m\u001b[43margs\u001b[49m\u001b[43m,\u001b[49m\u001b[43m \u001b[49m\u001b[38;5;241;43m*\u001b[39;49m\u001b[38;5;241;43m*\u001b[39;49m\u001b[43mkwargs\u001b[49m\u001b[43m)\u001b[49m\n",
      "File \u001b[0;32m~/yugroup/veridical-flow/vflow/vset.py:305\u001b[0m, in \u001b[0;36m_apply_func_cached\u001b[0;34m(out_dict, is_async, lazy, *args)\u001b[0m\n\u001b[1;32m    302\u001b[0m         \u001b[38;5;28;01mraise\u001b[39;00m \u001b[38;5;167;01mException\u001b[39;00m(\u001b[38;5;124m'\u001b[39m\u001b[38;5;124mNeed to run init_args before calling module_set!\u001b[39m\u001b[38;5;124m'\u001b[39m)\n\u001b[1;32m    304\u001b[0m data_dict \u001b[38;5;241m=\u001b[39m combine_dicts(\u001b[38;5;241m*\u001b[39margs)\n\u001b[0;32m--> 305\u001b[0m out_dict \u001b[38;5;241m=\u001b[39m \u001b[43mapply_modules\u001b[49m\u001b[43m(\u001b[49m\u001b[43mout_dict\u001b[49m\u001b[43m,\u001b[49m\u001b[43m \u001b[49m\u001b[43mdata_dict\u001b[49m\u001b[43m,\u001b[49m\u001b[43m \u001b[49m\u001b[43mlazy\u001b[49m\u001b[43m)\u001b[49m\n\u001b[1;32m    307\u001b[0m \u001b[38;5;28;01mif\u001b[39;00m is_async \u001b[38;5;129;01mand\u001b[39;00m \u001b[38;5;129;01mnot\u001b[39;00m lazy:\n\u001b[1;32m    308\u001b[0m     out_keys \u001b[38;5;241m=\u001b[39m \u001b[38;5;28mlist\u001b[39m(out_dict\u001b[38;5;241m.\u001b[39mkeys())\n",
      "File \u001b[0;32m~/yugroup/veridical-flow/vflow/utils.py:475\u001b[0m, in \u001b[0;36mapply_modules\u001b[0;34m(modules, data_dict, lazy)\u001b[0m\n\u001b[1;32m    472\u001b[0m                 \u001b[38;5;28;01melif\u001b[39;00m \u001b[38;5;28misinstance\u001b[39m(data_list[i], ray\u001b[38;5;241m.\u001b[39mObjectRef):\n\u001b[1;32m    473\u001b[0m                     \u001b[38;5;66;03m# this is not a remote function so get the data\u001b[39;00m\n\u001b[1;32m    474\u001b[0m                     data_list[i] \u001b[38;5;241m=\u001b[39m ray\u001b[38;5;241m.\u001b[39mget(data_list[i])\n\u001b[0;32m--> 475\u001b[0m             out_dict[combined_key] \u001b[38;5;241m=\u001b[39m \u001b[43mfunc\u001b[49m\u001b[43m(\u001b[49m\u001b[38;5;241;43m*\u001b[39;49m\u001b[43mdata_list\u001b[49m\u001b[43m)\u001b[49m\n\u001b[1;32m    477\u001b[0m \u001b[38;5;28;01mreturn\u001b[39;00m out_dict\n",
      "File \u001b[0;32m~/yugroup/veridical-flow/vflow/vfunc.py:23\u001b[0m, in \u001b[0;36mVfunc.fit\u001b[0;34m(self, *args, **kwargs)\u001b[0m\n\u001b[1;32m     20\u001b[0m \u001b[38;5;124;03m\"\"\"This function fits params for this module\u001b[39;00m\n\u001b[1;32m     21\u001b[0m \u001b[38;5;124;03m\"\"\"\u001b[39;00m\n\u001b[1;32m     22\u001b[0m \u001b[38;5;28;01mif\u001b[39;00m \u001b[38;5;28mhasattr\u001b[39m(\u001b[38;5;28mself\u001b[39m\u001b[38;5;241m.\u001b[39mmodule, \u001b[38;5;124m'\u001b[39m\u001b[38;5;124mfit\u001b[39m\u001b[38;5;124m'\u001b[39m):\n\u001b[0;32m---> 23\u001b[0m     \u001b[38;5;28;01mreturn\u001b[39;00m \u001b[38;5;28;43mself\u001b[39;49m\u001b[38;5;241;43m.\u001b[39;49m\u001b[43mmodule\u001b[49m\u001b[38;5;241;43m.\u001b[39;49m\u001b[43mfit\u001b[49m\u001b[43m(\u001b[49m\u001b[38;5;241;43m*\u001b[39;49m\u001b[43margs\u001b[49m\u001b[43m,\u001b[49m\u001b[43m \u001b[49m\u001b[38;5;241;43m*\u001b[39;49m\u001b[38;5;241;43m*\u001b[39;49m\u001b[43mkwargs\u001b[49m\u001b[43m)\u001b[49m\n\u001b[1;32m     24\u001b[0m \u001b[38;5;28;01mreturn\u001b[39;00m \u001b[38;5;28mself\u001b[39m\u001b[38;5;241m.\u001b[39mmodule(\u001b[38;5;241m*\u001b[39margs, \u001b[38;5;241m*\u001b[39m\u001b[38;5;241m*\u001b[39mkwargs)\n",
      "File \u001b[0;32m~/.conda/envs/vflow/lib/python3.9/site-packages/sklearn/ensemble/_forest.py:327\u001b[0m, in \u001b[0;36mBaseForest.fit\u001b[0;34m(self, X, y, sample_weight)\u001b[0m\n\u001b[1;32m    325\u001b[0m \u001b[38;5;28;01mif\u001b[39;00m issparse(y):\n\u001b[1;32m    326\u001b[0m     \u001b[38;5;28;01mraise\u001b[39;00m \u001b[38;5;167;01mValueError\u001b[39;00m(\u001b[38;5;124m\"\u001b[39m\u001b[38;5;124msparse multilabel-indicator for y is not supported.\u001b[39m\u001b[38;5;124m\"\u001b[39m)\n\u001b[0;32m--> 327\u001b[0m X, y \u001b[38;5;241m=\u001b[39m \u001b[38;5;28;43mself\u001b[39;49m\u001b[38;5;241;43m.\u001b[39;49m\u001b[43m_validate_data\u001b[49m\u001b[43m(\u001b[49m\n\u001b[1;32m    328\u001b[0m \u001b[43m    \u001b[49m\u001b[43mX\u001b[49m\u001b[43m,\u001b[49m\u001b[43m \u001b[49m\u001b[43my\u001b[49m\u001b[43m,\u001b[49m\u001b[43m \u001b[49m\u001b[43mmulti_output\u001b[49m\u001b[38;5;241;43m=\u001b[39;49m\u001b[38;5;28;43;01mTrue\u001b[39;49;00m\u001b[43m,\u001b[49m\u001b[43m \u001b[49m\u001b[43maccept_sparse\u001b[49m\u001b[38;5;241;43m=\u001b[39;49m\u001b[38;5;124;43m\"\u001b[39;49m\u001b[38;5;124;43mcsc\u001b[39;49m\u001b[38;5;124;43m\"\u001b[39;49m\u001b[43m,\u001b[49m\u001b[43m \u001b[49m\u001b[43mdtype\u001b[49m\u001b[38;5;241;43m=\u001b[39;49m\u001b[43mDTYPE\u001b[49m\n\u001b[1;32m    329\u001b[0m \u001b[43m\u001b[49m\u001b[43m)\u001b[49m\n\u001b[1;32m    330\u001b[0m \u001b[38;5;28;01mif\u001b[39;00m sample_weight \u001b[38;5;129;01mis\u001b[39;00m \u001b[38;5;129;01mnot\u001b[39;00m \u001b[38;5;28;01mNone\u001b[39;00m:\n\u001b[1;32m    331\u001b[0m     sample_weight \u001b[38;5;241m=\u001b[39m _check_sample_weight(sample_weight, X)\n",
      "File \u001b[0;32m~/.conda/envs/vflow/lib/python3.9/site-packages/sklearn/base.py:581\u001b[0m, in \u001b[0;36mBaseEstimator._validate_data\u001b[0;34m(self, X, y, reset, validate_separately, **check_params)\u001b[0m\n\u001b[1;32m    579\u001b[0m         y \u001b[38;5;241m=\u001b[39m check_array(y, \u001b[38;5;241m*\u001b[39m\u001b[38;5;241m*\u001b[39mcheck_y_params)\n\u001b[1;32m    580\u001b[0m     \u001b[38;5;28;01melse\u001b[39;00m:\n\u001b[0;32m--> 581\u001b[0m         X, y \u001b[38;5;241m=\u001b[39m \u001b[43mcheck_X_y\u001b[49m\u001b[43m(\u001b[49m\u001b[43mX\u001b[49m\u001b[43m,\u001b[49m\u001b[43m \u001b[49m\u001b[43my\u001b[49m\u001b[43m,\u001b[49m\u001b[43m \u001b[49m\u001b[38;5;241;43m*\u001b[39;49m\u001b[38;5;241;43m*\u001b[39;49m\u001b[43mcheck_params\u001b[49m\u001b[43m)\u001b[49m\n\u001b[1;32m    582\u001b[0m     out \u001b[38;5;241m=\u001b[39m X, y\n\u001b[1;32m    584\u001b[0m \u001b[38;5;28;01mif\u001b[39;00m \u001b[38;5;129;01mnot\u001b[39;00m no_val_X \u001b[38;5;129;01mand\u001b[39;00m check_params\u001b[38;5;241m.\u001b[39mget(\u001b[38;5;124m\"\u001b[39m\u001b[38;5;124mensure_2d\u001b[39m\u001b[38;5;124m\"\u001b[39m, \u001b[38;5;28;01mTrue\u001b[39;00m):\n",
      "File \u001b[0;32m~/.conda/envs/vflow/lib/python3.9/site-packages/sklearn/utils/validation.py:964\u001b[0m, in \u001b[0;36mcheck_X_y\u001b[0;34m(X, y, accept_sparse, accept_large_sparse, dtype, order, copy, force_all_finite, ensure_2d, allow_nd, multi_output, ensure_min_samples, ensure_min_features, y_numeric, estimator)\u001b[0m\n\u001b[1;32m    961\u001b[0m \u001b[38;5;28;01mif\u001b[39;00m y \u001b[38;5;129;01mis\u001b[39;00m \u001b[38;5;28;01mNone\u001b[39;00m:\n\u001b[1;32m    962\u001b[0m     \u001b[38;5;28;01mraise\u001b[39;00m \u001b[38;5;167;01mValueError\u001b[39;00m(\u001b[38;5;124m\"\u001b[39m\u001b[38;5;124my cannot be None\u001b[39m\u001b[38;5;124m\"\u001b[39m)\n\u001b[0;32m--> 964\u001b[0m X \u001b[38;5;241m=\u001b[39m \u001b[43mcheck_array\u001b[49m\u001b[43m(\u001b[49m\n\u001b[1;32m    965\u001b[0m \u001b[43m    \u001b[49m\u001b[43mX\u001b[49m\u001b[43m,\u001b[49m\n\u001b[1;32m    966\u001b[0m \u001b[43m    \u001b[49m\u001b[43maccept_sparse\u001b[49m\u001b[38;5;241;43m=\u001b[39;49m\u001b[43maccept_sparse\u001b[49m\u001b[43m,\u001b[49m\n\u001b[1;32m    967\u001b[0m \u001b[43m    \u001b[49m\u001b[43maccept_large_sparse\u001b[49m\u001b[38;5;241;43m=\u001b[39;49m\u001b[43maccept_large_sparse\u001b[49m\u001b[43m,\u001b[49m\n\u001b[1;32m    968\u001b[0m \u001b[43m    \u001b[49m\u001b[43mdtype\u001b[49m\u001b[38;5;241;43m=\u001b[39;49m\u001b[43mdtype\u001b[49m\u001b[43m,\u001b[49m\n\u001b[1;32m    969\u001b[0m \u001b[43m    \u001b[49m\u001b[43morder\u001b[49m\u001b[38;5;241;43m=\u001b[39;49m\u001b[43morder\u001b[49m\u001b[43m,\u001b[49m\n\u001b[1;32m    970\u001b[0m \u001b[43m    \u001b[49m\u001b[43mcopy\u001b[49m\u001b[38;5;241;43m=\u001b[39;49m\u001b[43mcopy\u001b[49m\u001b[43m,\u001b[49m\n\u001b[1;32m    971\u001b[0m \u001b[43m    \u001b[49m\u001b[43mforce_all_finite\u001b[49m\u001b[38;5;241;43m=\u001b[39;49m\u001b[43mforce_all_finite\u001b[49m\u001b[43m,\u001b[49m\n\u001b[1;32m    972\u001b[0m \u001b[43m    \u001b[49m\u001b[43mensure_2d\u001b[49m\u001b[38;5;241;43m=\u001b[39;49m\u001b[43mensure_2d\u001b[49m\u001b[43m,\u001b[49m\n\u001b[1;32m    973\u001b[0m \u001b[43m    \u001b[49m\u001b[43mallow_nd\u001b[49m\u001b[38;5;241;43m=\u001b[39;49m\u001b[43mallow_nd\u001b[49m\u001b[43m,\u001b[49m\n\u001b[1;32m    974\u001b[0m \u001b[43m    \u001b[49m\u001b[43mensure_min_samples\u001b[49m\u001b[38;5;241;43m=\u001b[39;49m\u001b[43mensure_min_samples\u001b[49m\u001b[43m,\u001b[49m\n\u001b[1;32m    975\u001b[0m \u001b[43m    \u001b[49m\u001b[43mensure_min_features\u001b[49m\u001b[38;5;241;43m=\u001b[39;49m\u001b[43mensure_min_features\u001b[49m\u001b[43m,\u001b[49m\n\u001b[1;32m    976\u001b[0m \u001b[43m    \u001b[49m\u001b[43mestimator\u001b[49m\u001b[38;5;241;43m=\u001b[39;49m\u001b[43mestimator\u001b[49m\u001b[43m,\u001b[49m\n\u001b[1;32m    977\u001b[0m \u001b[43m\u001b[49m\u001b[43m)\u001b[49m\n\u001b[1;32m    979\u001b[0m y \u001b[38;5;241m=\u001b[39m _check_y(y, multi_output\u001b[38;5;241m=\u001b[39mmulti_output, y_numeric\u001b[38;5;241m=\u001b[39my_numeric)\n\u001b[1;32m    981\u001b[0m check_consistent_length(X, y)\n",
      "File \u001b[0;32m~/.conda/envs/vflow/lib/python3.9/site-packages/sklearn/utils/validation.py:746\u001b[0m, in \u001b[0;36mcheck_array\u001b[0;34m(array, accept_sparse, accept_large_sparse, dtype, order, copy, force_all_finite, ensure_2d, allow_nd, ensure_min_samples, ensure_min_features, estimator)\u001b[0m\n\u001b[1;32m    744\u001b[0m         array \u001b[38;5;241m=\u001b[39m array\u001b[38;5;241m.\u001b[39mastype(dtype, casting\u001b[38;5;241m=\u001b[39m\u001b[38;5;124m\"\u001b[39m\u001b[38;5;124munsafe\u001b[39m\u001b[38;5;124m\"\u001b[39m, copy\u001b[38;5;241m=\u001b[39m\u001b[38;5;28;01mFalse\u001b[39;00m)\n\u001b[1;32m    745\u001b[0m     \u001b[38;5;28;01melse\u001b[39;00m:\n\u001b[0;32m--> 746\u001b[0m         array \u001b[38;5;241m=\u001b[39m \u001b[43mnp\u001b[49m\u001b[38;5;241;43m.\u001b[39;49m\u001b[43masarray\u001b[49m\u001b[43m(\u001b[49m\u001b[43marray\u001b[49m\u001b[43m,\u001b[49m\u001b[43m \u001b[49m\u001b[43morder\u001b[49m\u001b[38;5;241;43m=\u001b[39;49m\u001b[43morder\u001b[49m\u001b[43m,\u001b[49m\u001b[43m \u001b[49m\u001b[43mdtype\u001b[49m\u001b[38;5;241;43m=\u001b[39;49m\u001b[43mdtype\u001b[49m\u001b[43m)\u001b[49m\n\u001b[1;32m    747\u001b[0m \u001b[38;5;28;01mexcept\u001b[39;00m ComplexWarning \u001b[38;5;28;01mas\u001b[39;00m complex_warning:\n\u001b[1;32m    748\u001b[0m     \u001b[38;5;28;01mraise\u001b[39;00m \u001b[38;5;167;01mValueError\u001b[39;00m(\n\u001b[1;32m    749\u001b[0m         \u001b[38;5;124m\"\u001b[39m\u001b[38;5;124mComplex data not supported\u001b[39m\u001b[38;5;130;01m\\n\u001b[39;00m\u001b[38;5;132;01m{}\u001b[39;00m\u001b[38;5;130;01m\\n\u001b[39;00m\u001b[38;5;124m\"\u001b[39m\u001b[38;5;241m.\u001b[39mformat(array)\n\u001b[1;32m    750\u001b[0m     ) \u001b[38;5;28;01mfrom\u001b[39;00m \u001b[38;5;21;01mcomplex_warning\u001b[39;00m\n",
      "\u001b[0;31mTypeError\u001b[0m: float() argument must be a string or a number, not 'dict'"
     ]
    }
   ],
   "source": [
    "# refit best models to to X_train, y_train\n",
    "X_train, y_train = init_args((X_train, y_train), ['X_train', 'y_train'])\n",
    "X_train_clean = filtered_data_clean_set(X_train)\n",
    "\n",
    "filtered_rf_set.fit(X_train_clean, y_train)\n",
    "\n",
    "importance_set = build_vset('perm_importance',\n",
    "                            permutation_importance,\n",
    "                            n_repeats=30)\n",
    "\n",
    "X_test, y_test = init_args((X_test, y_test), ['X_test', 'y_test'])\n",
    "X_test_clean = filtered_data_clean_set(X_test)\n",
    "\n",
    "importances = importance_set.evaluate(filtered_rf_set.fitted_vfuncs, X_test_clean, y_test)"
   ]
  },
  {
   "cell_type": "code",
   "execution_count": 15,
   "id": "median-principle",
   "metadata": {},
   "outputs": [
    {
     "ename": "NameError",
     "evalue": "name 'importances' is not defined",
     "output_type": "error",
     "traceback": [
      "\u001b[0;31m---------------------------------------------------------------------------\u001b[0m",
      "\u001b[0;31mNameError\u001b[0m                                 Traceback (most recent call last)",
      "Input \u001b[0;32mIn [15]\u001b[0m, in \u001b[0;36m<module>\u001b[0;34m\u001b[0m\n\u001b[0;32m----> 1\u001b[0m dict_to_df(\u001b[43mimportances\u001b[49m)\n",
      "\u001b[0;31mNameError\u001b[0m: name 'importances' is not defined"
     ]
    }
   ],
   "source": [
    "dict_to_df(importances)"
   ]
  },
  {
   "cell_type": "code",
   "execution_count": 14,
   "id": "about-flower",
   "metadata": {},
   "outputs": [
    {
     "ename": "NameError",
     "evalue": "name 'importances' is not defined",
     "output_type": "error",
     "traceback": [
      "\u001b[0;31m---------------------------------------------------------------------------\u001b[0m",
      "\u001b[0;31mNameError\u001b[0m                                 Traceback (most recent call last)",
      "Input \u001b[0;32mIn [14]\u001b[0m, in \u001b[0;36m<module>\u001b[0;34m\u001b[0m\n\u001b[0;32m----> 1\u001b[0m build_graph(\u001b[43mimportances\u001b[49m)\n",
      "\u001b[0;31mNameError\u001b[0m: name 'importances' is not defined"
     ]
    }
   ],
   "source": [
    "build_graph(importances)"
   ]
  },
  {
   "cell_type": "code",
   "execution_count": null,
   "metadata": {},
   "outputs": [],
   "source": []
  }
 ],
 "metadata": {
  "kernelspec": {
   "display_name": "vflow",
   "language": "python",
   "name": "vflow"
  },
  "language_info": {
   "codemirror_mode": {
    "name": "ipython",
    "version": 3
   },
   "file_extension": ".py",
   "mimetype": "text/x-python",
   "name": "python",
   "nbconvert_exporter": "python",
   "pygments_lexer": "ipython3",
   "version": "3.9.9"
  }
 },
 "nbformat": 4,
 "nbformat_minor": 5
}

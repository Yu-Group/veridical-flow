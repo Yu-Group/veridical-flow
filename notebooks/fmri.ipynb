{
 "cells": [
  {
   "cell_type": "code",
   "execution_count": 1,
   "source": [
    "# prepend parent dir to import from local pcsp\n",
    "import sys\n",
    "sys.path.insert(0, '../')"
   ],
   "outputs": [],
   "metadata": {}
  },
  {
   "cell_type": "code",
   "execution_count": 1,
   "source": [
    "%load_ext autoreload\n",
    "%autoreload 2\n",
    "import numpy as np\n",
    "import pandas as pd\n",
    "import matplotlib.pyplot as plt\n",
    "import pcsp\n",
    "from pcsp import PCSPipeline, ModuleSet, Module, init_args, convert\n",
    "from pcsp.pipeline import build_graph\n",
    "from functools import partial\n",
    "from sklearn.linear_model import LogisticRegression, Lasso, LassoCV, LassoLarsCV, LassoLarsIC\n",
    "from sklearn.naive_bayes import GaussianNB\n",
    "from sklearn.ensemble import RandomForestRegressor, RandomForestClassifier\n",
    "import sklearn.utils\n",
    "from sklearn.metrics import accuracy_score, balanced_accuracy_score\n",
    "from sklearn.model_selection import train_test_split, GridSearchCV\n",
    "from irf import irf_utils, irf_jupyter_utils\n",
    "from irf.irf_utils import run_iRF\n",
    "from irf.ensemble import RandomForestClassifierWithWeights\n",
    "from sklearn.inspection import permutation_importance\n",
    "from scipy import stats"
   ],
   "outputs": [],
   "metadata": {}
  },
  {
   "cell_type": "code",
   "execution_count": 2,
   "source": [
    "def top_n_features(X, Y, n):\n",
    "    corr = np.apply_along_axis(lambda x: np.corrcoef(x, Y)[0,1], 0, X)\n",
    "    ind = np.argsort(corr[~np.isnan(corr)])[::-1][:n]\n",
    "    return X[:,ind]"
   ],
   "outputs": [],
   "metadata": {}
  },
  {
   "cell_type": "code",
   "execution_count": 15,
   "source": [
    "# load data\n",
    "X = np.asarray(pd.read_csv(\"../data/fmri/fit_feat.txt\", sep=\" \", error_bad_lines=False))\n",
    "Y = np.asarray(pd.read_csv(\"../data/fmri/resp_dat.txt\", sep=\" \", error_bad_lines=False))\n",
    "X_train, X_test, y_train, y_test = train_test_split(X, Y, test_size=0.33, random_state=14)"
   ],
   "outputs": [],
   "metadata": {}
  },
  {
   "cell_type": "code",
   "execution_count": null,
   "source": [
    "np.random.seed(14)\n",
    "X_train, X_test, y_train, y_test = init_args((X_train, X_test, y_train, y_test), names=['X_train', 'X_test', 'y_train', 'y_test'])\n",
    "\n",
    "# split y_train by voxel and extract top 500 correlated features per voxel\n",
    "voxel_extract_funcs = [partial(lambda x, y, i: (top_n_features(x, y[:,i], 500), y[:,i]), i=i) for i in range(3)]\n",
    "voxel_extract_set = ModuleSet(name='voxel_extract', modules=voxel_extract_funcs)\n",
    "X_trains, y_trains = voxel_extract_set(X_train, y_train)\n",
    "X_tests, y_tests = voxel_extract_set(X_test, y_test)"
   ],
   "outputs": [],
   "metadata": {}
  },
  {
   "cell_type": "code",
   "execution_count": null,
   "source": [
    "# modeling\n",
    "modeling_set = ModuleSet(name='modeling', modules=[LassoCV()], module_keys=[\"Lasso\"])\n",
    "modeling_set.fit(X_trains, y_trains)"
   ],
   "outputs": [],
   "metadata": {}
  },
  {
   "cell_type": "code",
   "execution_count": 23,
   "source": [
    "# predict matches any X_tests key ('X_test', 'y_test', 'voxel_extract_i') with \n",
    "# all modeling_set.out keys ('X_train', 'y_train', 'voxel_extract_j', 'Lasso')\n",
    "preds = modeling_set.predict(X_tests)"
   ],
   "outputs": [],
   "metadata": {}
  },
  {
   "cell_type": "code",
   "execution_count": 25,
   "source": [
    "# evaluate fails to match y_tests key ('X_test', 'y_test', 'voxel_extract_i') with preds key \n",
    "# ((('X_train', 'y_train', 'voxel_extract_i'), ('X_train', 'y_train', 'voxel_extract_i'), 'Lasso'), ('X_test', 'y_test', 'voxel_extract_i'))\n",
    "hard_metrics_set = ModuleSet(name='hard_metrics', modules=[accuracy_score], module_keys=[\"Acc\"])\n",
    "hard_metrics = hard_metrics_set.evaluate(preds, y_tests)"
   ],
   "outputs": [],
   "metadata": {}
  }
 ],
 "metadata": {
  "kernelspec": {
   "name": "python3",
   "display_name": "Python 3.6.13 64-bit ('binyugroup': conda)"
  },
  "language_info": {
   "codemirror_mode": {
    "name": "ipython",
    "version": 3
   },
   "file_extension": ".py",
   "mimetype": "text/x-python",
   "name": "python",
   "nbconvert_exporter": "python",
   "pygments_lexer": "ipython3",
   "version": "3.6.13"
  },
  "interpreter": {
   "hash": "b6ea3c5d93b89d45eb8c11b5f7d77c305a994bf9982dea27fab7e95d8eb92fda"
  }
 },
 "nbformat": 4,
 "nbformat_minor": 5
}
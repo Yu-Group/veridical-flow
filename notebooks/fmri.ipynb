{
 "cells": [
  {
   "cell_type": "code",
   "execution_count": 1,
   "source": [
    "# prepend parent dir to import from local pcsp\n",
    "import sys\n",
    "sys.path.insert(0, '../')"
   ],
   "outputs": [],
   "metadata": {}
  },
  {
   "cell_type": "code",
   "execution_count": 10,
   "source": [
    "%load_ext autoreload\n",
    "%autoreload 2\n",
    "import numpy as np\n",
    "import pandas as pd\n",
    "import matplotlib.pyplot as plt\n",
    "import pcsp\n",
    "from pcsp import PCSPipeline, ModuleSet, Module, init_args, convert\n",
    "from pcsp.pipeline import build_graph\n",
    "from functools import partial\n",
    "from sklearn.linear_model import LinearRegression, Lasso, LassoCV, LassoLarsCV, LassoLarsIC\n",
    "from sklearn.metrics import r2_score, explained_variance_score\n",
    "from sklearn.model_selection import train_test_split\n",
    "from sklearn.utils._testing import ignore_warnings\n",
    "from sklearn.exceptions import ConvergenceWarning\n",
    "from sklearn.decomposition import PCA"
   ],
   "outputs": [
    {
     "output_type": "stream",
     "name": "stdout",
     "text": [
      "The autoreload extension is already loaded. To reload it, use:\n",
      "  %reload_ext autoreload\n"
     ]
    }
   ],
   "metadata": {}
  },
  {
   "cell_type": "code",
   "execution_count": 3,
   "source": [
    "ind = {}\n",
    "def top_n_features(X, Y, n, i):\n",
    "    if i not in ind:\n",
    "        corr = np.abs(np.apply_along_axis(lambda x: np.corrcoef(x, Y[:,i])[0,1], 0, X))\n",
    "        ind[i] = np.argsort(corr[~np.isnan(corr)])[::-1][:n]\n",
    "    return X[:,ind[i]]\n",
    "\n",
    "def pca(X, n):\n",
    "    return PCA(n_components=n, copy=True).fit(X).transform(X)\n"
   ],
   "outputs": [],
   "metadata": {}
  },
  {
   "cell_type": "code",
   "execution_count": 4,
   "source": [
    "# load data\n",
    "X = np.asarray(pd.read_csv(\"../data/fmri/fit_feat.txt\", sep=\" \", error_bad_lines=False))\n",
    "Y = np.asarray(pd.read_csv(\"../data/fmri/resp_dat.txt\", sep=\" \", error_bad_lines=False))"
   ],
   "outputs": [],
   "metadata": {}
  },
  {
   "cell_type": "code",
   "execution_count": 5,
   "source": [
    "np.random.seed(14)\n",
    "X_train, X_test, y_train, y_test = train_test_split(X, Y, test_size=0.33, random_state=14)\n",
    "X_train, X_test, y_train, y_test = init_args((X_train, X_test, y_train, y_test), names=['X_train', 'X_test', 'y_train', 'y_test'])\n",
    "\n",
    "# split y_train by voxel and extract top 500 correlated features per voxel\n",
    "voxel_extract_funcs = [partial(lambda x, y, i: (top_n_features(x, y, 20, i), y[:,i]), i=i) for i in range(20)]\n",
    "voxel_extract_set = ModuleSet(name='voxel_extract', modules=voxel_extract_funcs)\n",
    "X_trains, y_trains = voxel_extract_set(X_train, y_train)\n",
    "X_tests, y_tests = voxel_extract_set(X_test, y_test)"
   ],
   "outputs": [
    {
     "output_type": "stream",
     "name": "stderr",
     "text": [
      "/Users/rush/anaconda3/envs/binyugroup/lib/python3.6/site-packages/numpy/lib/function_base.py:2534: RuntimeWarning: invalid value encountered in true_divide\n",
      "  c /= stddev[:, None]\n",
      "/Users/rush/anaconda3/envs/binyugroup/lib/python3.6/site-packages/numpy/lib/function_base.py:2535: RuntimeWarning: invalid value encountered in true_divide\n",
      "  c /= stddev[None, :]\n"
     ]
    }
   ],
   "metadata": {}
  },
  {
   "cell_type": "code",
   "execution_count": 6,
   "source": [
    "# modeling\n",
    "modeling_set = ModuleSet(name='modeling', modules=[LassoCV()], module_keys=[\"Lasso\"])\n",
    "modeling_set.fit(X_trains, y_trains)"
   ],
   "outputs": [
    {
     "output_type": "execute_result",
     "data": {
      "text/plain": [
       "<pcsp.module_set.ModuleSet at 0x7fbb676aef28>"
      ]
     },
     "metadata": {},
     "execution_count": 6
    }
   ],
   "metadata": {}
  },
  {
   "cell_type": "code",
   "execution_count": 11,
   "source": [
    "# predict matches any X_tests key ('X_test', 'y_test', 'voxel_extract_i') with \n",
    "# all modeling_set.out keys ('X_train', 'y_train', 'voxel_extract_j', 'Lasso')\n",
    "preds = modeling_set.predict(X_trains, match_on=2)\n",
    "# output keys are form (('X_train', 'y_train', 'voxel_extract_0', 'Lasso'), ('X_test', 'y_test', 'voxel_extract_0'))"
   ],
   "outputs": [],
   "metadata": {}
  },
  {
   "cell_type": "code",
   "execution_count": 14,
   "source": [
    "# evaluate fails to match y_tests key ('X_test', 'y_test', 'voxel_extract_i') with preds key \n",
    "# (('X_train', 'y_train', 'voxel_extract_i', 'Lasso'), ('X_test', 'y_test', 'voxel_extract_i'))\n",
    "hard_metrics_set = ModuleSet(name='hard_metrics', modules=[r2_score, explained_variance_score], module_keys=[\"R2\", \"EV\"])\n",
    "hard_metrics = hard_metrics_set.evaluate(y_trains, preds)"
   ],
   "outputs": [],
   "metadata": {}
  },
  {
   "cell_type": "code",
   "execution_count": 15,
   "source": [
    "hard_metrics"
   ],
   "outputs": [
    {
     "output_type": "execute_result",
     "data": {
      "text/plain": [
       "{(('X_train', 'y_train', 'voxel_extract_0', 'Lasso'),\n",
       "  ('X_train', 'y_train', 'voxel_extract_0'),\n",
       "  'R2'): 0.17080031040166133,\n",
       " (('X_train', 'y_train', 'voxel_extract_0', 'Lasso'),\n",
       "  ('X_train', 'y_train', 'voxel_extract_0'),\n",
       "  'EV'): 0.17080031040166122,\n",
       " (('X_train', 'y_train', 'voxel_extract_1', 'Lasso'),\n",
       "  ('X_train', 'y_train', 'voxel_extract_1'),\n",
       "  'R2'): 0.2158212567120792,\n",
       " (('X_train', 'y_train', 'voxel_extract_1', 'Lasso'),\n",
       "  ('X_train', 'y_train', 'voxel_extract_1'),\n",
       "  'EV'): 0.2158212567120792,\n",
       " (('X_train', 'y_train', 'voxel_extract_2', 'Lasso'),\n",
       "  ('X_train', 'y_train', 'voxel_extract_2'),\n",
       "  'R2'): 0.14764006625321402,\n",
       " (('X_train', 'y_train', 'voxel_extract_2', 'Lasso'),\n",
       "  ('X_train', 'y_train', 'voxel_extract_2'),\n",
       "  'EV'): 0.14764006625321413,\n",
       " (('X_train', 'y_train', 'voxel_extract_3', 'Lasso'),\n",
       "  ('X_train', 'y_train', 'voxel_extract_3'),\n",
       "  'R2'): 0.16691584031264028,\n",
       " (('X_train', 'y_train', 'voxel_extract_3', 'Lasso'),\n",
       "  ('X_train', 'y_train', 'voxel_extract_3'),\n",
       "  'EV'): 0.16691584031264028,\n",
       " (('X_train', 'y_train', 'voxel_extract_4', 'Lasso'),\n",
       "  ('X_train', 'y_train', 'voxel_extract_4'),\n",
       "  'R2'): 0.16153956025992644,\n",
       " (('X_train', 'y_train', 'voxel_extract_4', 'Lasso'),\n",
       "  ('X_train', 'y_train', 'voxel_extract_4'),\n",
       "  'EV'): 0.16153956025992644,\n",
       " (('X_train', 'y_train', 'voxel_extract_5', 'Lasso'),\n",
       "  ('X_train', 'y_train', 'voxel_extract_5'),\n",
       "  'R2'): 0.19127329180703512,\n",
       " (('X_train', 'y_train', 'voxel_extract_5', 'Lasso'),\n",
       "  ('X_train', 'y_train', 'voxel_extract_5'),\n",
       "  'EV'): 0.191273291807035,\n",
       " (('X_train', 'y_train', 'voxel_extract_6', 'Lasso'),\n",
       "  ('X_train', 'y_train', 'voxel_extract_6'),\n",
       "  'R2'): 0.21291204785808526,\n",
       " (('X_train', 'y_train', 'voxel_extract_6', 'Lasso'),\n",
       "  ('X_train', 'y_train', 'voxel_extract_6'),\n",
       "  'EV'): 0.21291204785808526,\n",
       " (('X_train', 'y_train', 'voxel_extract_7', 'Lasso'),\n",
       "  ('X_train', 'y_train', 'voxel_extract_7'),\n",
       "  'R2'): 0.21480432868389177,\n",
       " (('X_train', 'y_train', 'voxel_extract_7', 'Lasso'),\n",
       "  ('X_train', 'y_train', 'voxel_extract_7'),\n",
       "  'EV'): 0.21480432868389177,\n",
       " (('X_train', 'y_train', 'voxel_extract_8', 'Lasso'),\n",
       "  ('X_train', 'y_train', 'voxel_extract_8'),\n",
       "  'R2'): 0.23471614544566932,\n",
       " (('X_train', 'y_train', 'voxel_extract_8', 'Lasso'),\n",
       "  ('X_train', 'y_train', 'voxel_extract_8'),\n",
       "  'EV'): 0.23471614544566932,\n",
       " (('X_train', 'y_train', 'voxel_extract_9', 'Lasso'),\n",
       "  ('X_train', 'y_train', 'voxel_extract_9'),\n",
       "  'R2'): 0.03900820283552897,\n",
       " (('X_train', 'y_train', 'voxel_extract_9', 'Lasso'),\n",
       "  ('X_train', 'y_train', 'voxel_extract_9'),\n",
       "  'EV'): 0.03900820283552886,\n",
       " (('X_train', 'y_train', 'voxel_extract_10', 'Lasso'),\n",
       "  ('X_train', 'y_train', 'voxel_extract_10'),\n",
       "  'R2'): 0.05578704411981883,\n",
       " (('X_train', 'y_train', 'voxel_extract_10', 'Lasso'),\n",
       "  ('X_train', 'y_train', 'voxel_extract_10'),\n",
       "  'EV'): 0.05578704411981883,\n",
       " (('X_train', 'y_train', 'voxel_extract_11', 'Lasso'),\n",
       "  ('X_train', 'y_train', 'voxel_extract_11'),\n",
       "  'R2'): 0.14504653339805074,\n",
       " (('X_train', 'y_train', 'voxel_extract_11', 'Lasso'),\n",
       "  ('X_train', 'y_train', 'voxel_extract_11'),\n",
       "  'EV'): 0.14504653339805074,\n",
       " (('X_train', 'y_train', 'voxel_extract_12', 'Lasso'),\n",
       "  ('X_train', 'y_train', 'voxel_extract_12'),\n",
       "  'R2'): 0.08346813158677657,\n",
       " (('X_train', 'y_train', 'voxel_extract_12', 'Lasso'),\n",
       "  ('X_train', 'y_train', 'voxel_extract_12'),\n",
       "  'EV'): 0.08346813158677646,\n",
       " (('X_train', 'y_train', 'voxel_extract_13', 'Lasso'),\n",
       "  ('X_train', 'y_train', 'voxel_extract_13'),\n",
       "  'R2'): 0.05955846193454195,\n",
       " (('X_train', 'y_train', 'voxel_extract_13', 'Lasso'),\n",
       "  ('X_train', 'y_train', 'voxel_extract_13'),\n",
       "  'EV'): 0.05955846193454195,\n",
       " (('X_train', 'y_train', 'voxel_extract_14', 'Lasso'),\n",
       "  ('X_train', 'y_train', 'voxel_extract_14'),\n",
       "  'R2'): 0.17130824593749483,\n",
       " (('X_train', 'y_train', 'voxel_extract_14', 'Lasso'),\n",
       "  ('X_train', 'y_train', 'voxel_extract_14'),\n",
       "  'EV'): 0.1713082459374946,\n",
       " (('X_train', 'y_train', 'voxel_extract_15', 'Lasso'),\n",
       "  ('X_train', 'y_train', 'voxel_extract_15'),\n",
       "  'R2'): 0.014350488697621233,\n",
       " (('X_train', 'y_train', 'voxel_extract_15', 'Lasso'),\n",
       "  ('X_train', 'y_train', 'voxel_extract_15'),\n",
       "  'EV'): 0.014350488697621344,\n",
       " (('X_train', 'y_train', 'voxel_extract_16', 'Lasso'),\n",
       "  ('X_train', 'y_train', 'voxel_extract_16'),\n",
       "  'R2'): 0.08879639498827485,\n",
       " (('X_train', 'y_train', 'voxel_extract_16', 'Lasso'),\n",
       "  ('X_train', 'y_train', 'voxel_extract_16'),\n",
       "  'EV'): 0.08879639498827474,\n",
       " (('X_train', 'y_train', 'voxel_extract_17', 'Lasso'),\n",
       "  ('X_train', 'y_train', 'voxel_extract_17'),\n",
       "  'R2'): 0.1871219143249343,\n",
       " (('X_train', 'y_train', 'voxel_extract_17', 'Lasso'),\n",
       "  ('X_train', 'y_train', 'voxel_extract_17'),\n",
       "  'EV'): 0.18712191432493452,\n",
       " (('X_train', 'y_train', 'voxel_extract_18', 'Lasso'),\n",
       "  ('X_train', 'y_train', 'voxel_extract_18'),\n",
       "  'R2'): 0.1122091425166083,\n",
       " (('X_train', 'y_train', 'voxel_extract_18', 'Lasso'),\n",
       "  ('X_train', 'y_train', 'voxel_extract_18'),\n",
       "  'EV'): 0.1122091425166083,\n",
       " (('X_train', 'y_train', 'voxel_extract_19', 'Lasso'),\n",
       "  ('X_train', 'y_train', 'voxel_extract_19'),\n",
       "  'R2'): 0.026295669857703263,\n",
       " (('X_train', 'y_train', 'voxel_extract_19', 'Lasso'),\n",
       "  ('X_train', 'y_train', 'voxel_extract_19'),\n",
       "  'EV'): 0.026295669857703263,\n",
       " '__prev__': <pcsp.module_set.ModuleSet at 0x7fbb23b9b7f0>}"
      ]
     },
     "metadata": {},
     "execution_count": 15
    }
   ],
   "metadata": {}
  }
 ],
 "metadata": {
  "kernelspec": {
   "name": "python3",
   "display_name": "Python 3.6.13 64-bit ('binyugroup': conda)"
  },
  "language_info": {
   "codemirror_mode": {
    "name": "ipython",
    "version": 3
   },
   "file_extension": ".py",
   "mimetype": "text/x-python",
   "name": "python",
   "nbconvert_exporter": "python",
   "pygments_lexer": "ipython3",
   "version": "3.6.13"
  },
  "interpreter": {
   "hash": "b6ea3c5d93b89d45eb8c11b5f7d77c305a994bf9982dea27fab7e95d8eb92fda"
  }
 },
 "nbformat": 4,
 "nbformat_minor": 5
}
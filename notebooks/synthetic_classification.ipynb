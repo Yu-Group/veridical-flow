{
 "cells": [
  {
   "cell_type": "code",
   "execution_count": 1,
   "metadata": {},
   "outputs": [],
   "source": [
    "# prepend parent dir to import from local pcsp\n",
    "import sys\n",
    "sys.path.insert(0, '../')"
   ]
  },
  {
   "cell_type": "code",
   "execution_count": 2,
   "metadata": {
    "scrolled": true
   },
   "outputs": [],
   "source": [
    "'''Modified from sklearn documentation: https://scikit-learn.org/stable/modules/compose.html\n",
    "'''\n",
    "%load_ext autoreload\n",
    "%autoreload 2\n",
    "import numpy as np\n",
    "import matplotlib.pyplot as plt\n",
    "import pandas as pd\n",
    "import sklearn.datasets\n",
    "from sklearn import preprocessing\n",
    "from sklearn.linear_model import LogisticRegression, Ridge,RidgeCV\n",
    "from sklearn.ensemble import RandomForestRegressor\n",
    "from sklearn.tree import DecisionTreeClassifier, DecisionTreeRegressor\n",
    "from sklearn.metrics import accuracy_score, balanced_accuracy_score, roc_auc_score,r2_score\n",
    "from sklearn.model_selection import train_test_split\n",
    "import sklearn.utils\n",
    "from functools import partial\n",
    "import itertools\n",
    "import networkx as nx\n",
    "np.set_printoptions(threshold=5) # to limit printing\n",
    "\n",
    "import pcsp\n",
    "from pcsp import PCSPipeline, ModuleSet, Module, init_args, sep_dicts # must install pcsp first (pip install pcsp)\n",
    "from pcsp.pipeline import build_graph"
   ]
  },
  {
   "cell_type": "markdown",
   "metadata": {},
   "source": [
    "# basic pipeline"
   ]
  },
  {
   "cell_type": "code",
   "execution_count": 3,
   "metadata": {},
   "outputs": [
    {
     "name": "stderr",
     "output_type": "stream",
     "text": [
      "../pcsp/pipeline.py:112: UserWarning: This figure includes Axes that are not compatible with tight_layout, so results might be incorrect.\n",
      "  plt.tight_layout()\n"
     ]
    },
    {
     "data": {
      "image/png": "[encoded data removed]",
      "text/plain": [
       "<Figure size 432x288 with 1 Axes>"
      ]
     },
     "metadata": {},
     "output_type": "display_data"
    },
    {
     "data": {
      "text/plain": [
       "{('X_test',\n",
       "  'X_train',\n",
       "  'subsampling_0',\n",
       "  'y_train',\n",
       "  'LR',\n",
       "  'y_test',\n",
       "  'Acc'): 0.9230769230769231,\n",
       " ('X_test',\n",
       "  'X_train',\n",
       "  'subsampling_1',\n",
       "  'y_train',\n",
       "  'LR',\n",
       "  'y_test',\n",
       "  'Acc'): 0.9230769230769231,\n",
       " ('X_test',\n",
       "  'X_train',\n",
       "  'subsampling_2',\n",
       "  'y_train',\n",
       "  'LR',\n",
       "  'y_test',\n",
       "  'Acc'): 0.8461538461538461,\n",
       " ('X_test',\n",
       "  'X_train',\n",
       "  'subsampling_0',\n",
       "  'y_train',\n",
       "  'DT',\n",
       "  'y_test',\n",
       "  'Acc'): 0.7692307692307693,\n",
       " ('X_test',\n",
       "  'X_train',\n",
       "  'subsampling_1',\n",
       "  'y_train',\n",
       "  'DT',\n",
       "  'y_test',\n",
       "  'Acc'): 0.8461538461538461,\n",
       " ('X_test',\n",
       "  'X_train',\n",
       "  'subsampling_2',\n",
       "  'y_train',\n",
       "  'DT',\n",
       "  'y_test',\n",
       "  'Acc'): 0.8461538461538461,\n",
       " ('X_test',\n",
       "  'X_train',\n",
       "  'subsampling_0',\n",
       "  'y_train',\n",
       "  'LR',\n",
       "  'y_test',\n",
       "  'Bal_Acc'): 0.9444444444444444,\n",
       " ('X_test',\n",
       "  'X_train',\n",
       "  'subsampling_1',\n",
       "  'y_train',\n",
       "  'LR',\n",
       "  'y_test',\n",
       "  'Bal_Acc'): 0.9444444444444444,\n",
       " ('X_test',\n",
       "  'X_train',\n",
       "  'subsampling_2',\n",
       "  'y_train',\n",
       "  'LR',\n",
       "  'y_test',\n",
       "  'Bal_Acc'): 0.8375,\n",
       " ('X_test',\n",
       "  'X_train',\n",
       "  'subsampling_0',\n",
       "  'y_train',\n",
       "  'DT',\n",
       "  'y_test',\n",
       "  'Bal_Acc'): 0.7638888888888888,\n",
       " ('X_test',\n",
       "  'X_train',\n",
       "  'subsampling_1',\n",
       "  'y_train',\n",
       "  'DT',\n",
       "  'y_test',\n",
       "  'Bal_Acc'): 0.9,\n",
       " ('X_test',\n",
       "  'X_train',\n",
       "  'subsampling_2',\n",
       "  'y_train',\n",
       "  'DT',\n",
       "  'y_test',\n",
       "  'Bal_Acc'): 0.8375,\n",
       " '__match_subkey_ids__': [2],\n",
       " '__prev__': (<pcsp.module_set.ModuleSet at 0x7f41e669d550>,)}"
      ]
     },
     "execution_count": 3,
     "metadata": {},
     "output_type": "execute_result"
    }
   ],
   "source": [
    "# initialize data\n",
    "np.random.seed(13)\n",
    "X, y = sklearn.datasets.make_classification(n_samples=50, n_features=5)\n",
    "X_train, X_test, y_train, y_test = train_test_split(X, y, random_state=42) # ex. with another split?\n",
    "X_train, X_test, y_train, y_test = init_args((X_train, X_test, y_train, y_test),\n",
    "                                             names=['X_train', 'X_test', 'y_train', 'y_test'])  # optionally provide names for each of these\n",
    "\n",
    "# subsample data\n",
    "subsampling_funcs = [partial(sklearn.utils.resample,\n",
    "                             n_samples=20,\n",
    "                             random_state=i)\n",
    "                     for i in range(3)]\n",
    "subsampling_set = ModuleSet(name='subsampling', modules=subsampling_funcs, output_matching=True)\n",
    "\n",
    "X_trains, y_trains = sep_dicts(subsampling_set(X_train, y_train))\n",
    "\n",
    "#fit models\n",
    "modeling_set = ModuleSet(name='modeling',\n",
    "                          modules=[LogisticRegression(max_iter=1000, tol=0.1),\n",
    "                                   DecisionTreeClassifier()],\n",
    "                          module_keys=[\"LR\", \"DT\"])\n",
    "\n",
    "modeling_set.fit(X_trains, y_trains)\n",
    "preds_test = modeling_set.predict(X_test)\n",
    "\n",
    "# get metrics\n",
    "hard_metrics_set = ModuleSet(name='hard_metrics',\n",
    "                              modules=[accuracy_score, balanced_accuracy_score],\n",
    "                              module_keys=[\"Acc\", \"Bal_Acc\"])\n",
    "\n",
    "hard_metrics = hard_metrics_set.evaluate(preds_test, y_test)\n",
    "\n",
    "\n",
    " #inspect the pipeline\n",
    "# for k1, v1 in hard_metrics.items():\n",
    "#     print('output', k1)\n",
    "G = build_graph(hard_metrics, draw=True)\n",
    "plt.show()\n",
    "hard_metrics"
   ]
  },
  {
   "cell_type": "markdown",
   "metadata": {},
   "source": [
    "# feature engineering pipeline\n",
    "**this data set predicts boston house-preices dataset (regression)**"
   ]
  },
  {
   "cell_type": "code",
   "execution_count": 4,
   "metadata": {},
   "outputs": [
    {
     "name": "stderr",
     "output_type": "stream",
     "text": [
      "../pcsp/pipeline.py:112: UserWarning: This figure includes Axes that are not compatible with tight_layout, so results might be incorrect.\n",
      "  plt.tight_layout()\n"
     ]
    },
    {
     "data": {
      "image/png": "[encoded data removed]",
      "text/plain": [
       "<Figure size 432x288 with 1 Axes>"
      ]
     },
     "metadata": {},
     "output_type": "display_data"
    },
    {
     "data": {
      "text/plain": [
       "{('X_train',\n",
       "  'feat_extraction_0',\n",
       "  'X_train',\n",
       "  'y_train',\n",
       "  'DT',\n",
       "  'y_train',\n",
       "  'r2'): 0.998077138036731,\n",
       " ('X_train',\n",
       "  'feat_extraction_1',\n",
       "  'X_train',\n",
       "  'y_train',\n",
       "  'DT',\n",
       "  'y_train',\n",
       "  'r2'): 1.0,\n",
       " ('X_train',\n",
       "  'feat_extraction_0',\n",
       "  'X_train',\n",
       "  'y_train',\n",
       "  'RF',\n",
       "  'y_train',\n",
       "  'r2'): 0.8531972948633552,\n",
       " ('X_train',\n",
       "  'feat_extraction_1',\n",
       "  'X_train',\n",
       "  'y_train',\n",
       "  'RF',\n",
       "  'y_train',\n",
       "  'r2'): 0.9638279339568567,\n",
       " '__match_subkey_ids__': [1],\n",
       " '__prev__': (<pcsp.module_set.ModuleSet at 0x7f41cc492040>,)}"
      ]
     },
     "execution_count": 4,
     "metadata": {},
     "output_type": "execute_result"
    }
   ],
   "source": [
    "# get data as df\n",
    "np.random.seed(13)\n",
    "data = sklearn.datasets.load_boston()\n",
    "df = pd.DataFrame.from_dict(data['data'])\n",
    "df.columns = data['feature_names']\n",
    "y = data['target']\n",
    "X_train, X_test, y_train, y_test = init_args(train_test_split(df, y, random_state=123),\n",
    "                                             names=['X_train', 'X_test', 'y_train', 'y_test'])\n",
    "\n",
    "\n",
    "# feature extraction - extracts two different sets of features from the same data\n",
    "def extract_feats(df: pd.DataFrame, feat_names=['CRIM', 'ZN', 'INDUS', 'CHAS']):\n",
    "    '''extract specific columns from dataframe\n",
    "    '''\n",
    "    return df[feat_names]\n",
    "feat_extraction_funcs = [partial(extract_feats, feat_names=['CRIM', 'ZN', 'INDUS', 'CHAS']),\n",
    "                         partial(extract_feats, feat_names=['CRIM', 'ZN', 'INDUS', 'CHAS', 'NOX', 'RM', 'AGE']),\n",
    "                        ]\n",
    "feat_extraction = ModuleSet(name='feat_extraction', modules=feat_extraction_funcs, output_matching=True)\n",
    "\n",
    "X_feats_train = feat_extraction(X_train)\n",
    "X_feats_test = feat_extraction(X_test)\n",
    "\n",
    "modeling_set = ModuleSet(name='modeling',\n",
    "                         modules=[DecisionTreeRegressor(), RandomForestRegressor()],\n",
    "                         module_keys=[\"DT\", \"RF\"])\n",
    "\n",
    "# how can we properly pass a y here so that it will fit properly?\n",
    "# this runs, but modeling_set.out is empty\n",
    "_ = modeling_set.fit(X_feats_train, y_train)\n",
    "\n",
    "# #get predictions\n",
    "preds_all = modeling_set.predict(X_feats_train)\n",
    "\n",
    "# y_test_dict = {('data_0', 'feat_extraction_0'): y_test['X_test'], ('data_0', 'feat_extraction_1'): y_test['X_test']}\n",
    "\n",
    "#get metrics\n",
    "hard_metrics_set = ModuleSet(name='hard_metrics',\n",
    "                              modules=[r2_score],\n",
    "                             module_keys=[\"r2\"])\n",
    "hard_metrics = hard_metrics_set.evaluate(preds_all, y_train)\n",
    "\n",
    "\n",
    "\n",
    "# inspect the pipeline\n",
    "#for k in hard_metrics:\n",
    "#     print(k, hard_metrics[k])\n",
    "G = build_graph(hard_metrics, draw=True)\n",
    "plt.show()\n",
    "hard_metrics"
   ]
  },
  {
   "cell_type": "code",
   "execution_count": null,
   "metadata": {},
   "outputs": [],
   "source": []
  }
 ],
 "metadata": {
  "interpreter": {
   "hash": "b6ea3c5d93b89d45eb8c11b5f7d77c305a994bf9982dea27fab7e95d8eb92fda"
  },
  "kernelspec": {
   "display_name": "Python 3",
   "language": "python",
   "name": "python3"
  },
  "language_info": {
   "codemirror_mode": {
    "name": "ipython",
    "version": 3
   },
   "file_extension": ".py",
   "mimetype": "text/x-python",
   "name": "python",
   "nbconvert_exporter": "python",
   "pygments_lexer": "ipython3",
   "version": "3.8.5"
  }
 },
 "nbformat": 4,
 "nbformat_minor": 4
}

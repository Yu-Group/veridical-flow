{
 "cells": [
  {
   "cell_type": "code",
   "execution_count": 3,
   "source": [
    "'''Modified from sklearn documentation: https://scikit-learn.org/stable/modules/compose.html\n",
    "'''\n",
    "%load_ext autoreload\n",
    "%autoreload 2\n",
    "import numpy as np\n",
    "import matplotlib.pyplot as plt\n",
    "import pandas as pd\n",
    "import sklearn.datasets\n",
    "from sklearn import preprocessing\n",
    "from sklearn.linear_model import LogisticRegression, Ridge,RidgeCV\n",
    "from sklearn.ensemble import RandomForestRegressor\n",
    "from sklearn.tree import DecisionTreeClassifier, DecisionTreeRegressor\n",
    "from sklearn.metrics import accuracy_score, balanced_accuracy_score, roc_auc_score,r2_score\n",
    "from sklearn.model_selection import train_test_split\n",
    "import sklearn.utils\n",
    "import os\n",
    "import sys\n",
    "from functools import partial\n",
    "import itertools\n",
    "import networkx as nx\n",
    "np.set_printoptions(threshold=5) # to limit printing\n",
    "\n",
    "sys.path.append('../')\n",
    "import pcsp\n",
    "from pcsp import PCSPipeline, ModuleSet, Module, init_args # must install pcsp first (pip install pcsp)\n",
    "from pcsp.pipeline import build_graph"
   ],
   "outputs": [],
   "metadata": {
    "scrolled": true
   }
  },
  {
   "cell_type": "markdown",
   "source": [
    "# basic pipeline"
   ],
   "metadata": {}
  },
  {
   "cell_type": "code",
   "execution_count": 4,
   "source": [
    "# initialize data\n",
    "np.random.seed(13)\n",
    "X, y = sklearn.datasets.make_classification(n_samples=50, n_features=5)\n",
    "X_train, X_test, y_train, y_test = train_test_split(X, y, random_state=42) # ex. with another split?\n",
    "dt = LogisticRegression(max_iter=1000, tol=0.1)\n",
    "dt.fit(X_train, y_train)\n",
    "Z = dt.predict(X_test)\n",
    "print(Z)\n",
    "X_train, X_test, y_train, y_test = init_args((X_train, X_test, y_train, y_test),\n",
    "                                              names=['X_train', 'X_test', 'y_train', 'y_test'])  # optionally provide names for each of these\n",
    "\n",
    "# subsample data\n",
    "subsampling_funcs = [partial(sklearn.utils.resample,\n",
    "                            n_samples=20,\n",
    "                            random_state=i)\n",
    "                     for i in range(3)]\n",
    "subsampling_set = ModuleSet(name='subsampling',\n",
    "                            modules=subsampling_funcs)\n",
    "X_trains, y_trains = subsampling_set(X_train, y_train)\n",
    "\n",
    "#fit models\n",
    "modeling_set = ModuleSet(name='modeling',\n",
    "                          modules=[LogisticRegression(max_iter=1000, tol=0.1),\n",
    "                                   DecisionTreeClassifier()],\n",
    "                          module_keys=[\"LR\", \"DT\"])\n",
    "\n",
    "modeling_set.fit(X_trains, y_trains)\n",
    "preds_test = modeling_set.predict(X_test)\n",
    "\n",
    "# get metrics\n",
    "hard_metrics_set = ModuleSet(name='hard_metrics',\n",
    "                              modules=[accuracy_score, balanced_accuracy_score],\n",
    "                              module_keys=[\"Acc\", \"Bal_Acc\"])\n",
    "\n",
    "hard_metrics = hard_metrics_set.evaluate(preds_test, y_test)\n",
    "\n",
    "\n",
    " #inspect the pipeline\n",
    "# for k1, v1 in hard_metrics.items():\n",
    "#     print('output', k1)\n",
    "G = build_graph(hard_metrics, draw=True)\n",
    "plt.show()\n",
    "hard_metrics"
   ],
   "outputs": [
    {
     "output_type": "stream",
     "name": "stdout",
     "text": [
      "[1 1 1 ... 1 1 0]\n",
      "{('X_train', 'y_train', 'subsampling_0'): array([[-0.30582021, -0.97541273, -1.15871714, -1.35132194, -0.54657674],\n",
      "       [-1.43494529,  1.1326585 , -0.83681009,  0.13067855, -0.84447641],\n",
      "       [-1.43494529,  1.1326585 , -0.83681009,  0.13067855, -0.84447641],\n",
      "       ...,\n",
      "       [-0.2177465 , -1.02788437, -1.09361985, -1.34001946,  0.89179417],\n",
      "       [-0.1629447 , -1.15701078, -1.13084551, -1.44233728,  0.40067367],\n",
      "       [ 1.07469058, -0.93785005,  0.55456857, -0.19937499, -0.88249039]]), ('X_train', 'y_train', 'subsampling_1'): array([[-1.48243722,  0.76640114, -1.1897997 , -0.3226144 ,  0.35136153],\n",
      "       [-0.1629447 , -1.15701078, -1.13084551, -1.44233728,  0.40067367],\n",
      "       [ 1.07469058, -0.93785005,  0.55456857, -0.19937499, -0.88249039],\n",
      "       ...,\n",
      "       [-0.11906892,  1.93190004,  1.41135673,  2.09399849, -0.41926032],\n",
      "       [ 0.06323364, -1.00202171, -0.73023127, -1.08491149, -0.86779981],\n",
      "       [-0.4063791 , -1.53317147, -1.73069344, -2.06431346, -0.7645939 ]]), ('X_train', 'y_train', 'subsampling_2'): array([[-0.21948271,  2.08284284,  1.41055276,  2.18439017, -0.68623644],\n",
      "       [-0.1629447 , -1.15701078, -1.13084551, -1.44233728,  0.40067367],\n",
      "       [-1.47232803,  1.09490649, -0.91280101,  0.05784853,  0.78857048],\n",
      "       ...,\n",
      "       [-0.90695435, -1.89701941, -2.63410913, -2.87897116, -1.01700203],\n",
      "       [-1.35884162,  0.85250676, -0.96974597, -0.12569848, -2.2068671 ],\n",
      "       [-1.08400954,  0.86756978, -0.62255386,  0.11222826, -0.67537506]]), ('X_train', 'y_train', 'subsampling_3'): array([[-1.35884162,  0.85250676, -0.96974597, -0.12569848, -2.2068671 ],\n",
      "       [-1.43494529,  1.1326585 , -0.83681009,  0.13067855, -0.84447641],\n",
      "       [-0.1629447 , -1.15701078, -1.13084551, -1.44233728,  0.40067367],\n",
      "       ...,\n",
      "       [-1.61601535,  0.49442318, -1.57177933, -0.73822631, -0.51644285],\n",
      "       [-1.61601535,  0.49442318, -1.57177933, -0.73822631, -0.51644285],\n",
      "       [-1.22242099,  0.8517753 , -0.80402087, -0.01690056,  0.2283352 ]]), ('X_train', 'y_train', 'subsampling_4'): array([[-0.90695435, -1.89701941, -2.63410913, -2.87897116, -1.01700203],\n",
      "       [-1.22242099,  0.8517753 , -0.80402087, -0.01690056,  0.2283352 ],\n",
      "       [-0.5450493 , -1.81033034, -2.1230552 , -2.48988956,  0.15420459],\n",
      "       ...,\n",
      "       [ 3.28036648, -1.68208958,  2.64394545,  0.72954939, -1.53906412],\n",
      "       [-0.15820991,  3.04177819,  2.25785918,  3.32051891, -0.75988478],\n",
      "       [ 3.28036648, -1.68208958,  2.64394545,  0.72954939, -1.53906412]]), ('X_train', 'y_train', 'subsampling_5'): array([[-0.05369964,  0.56461721,  0.38944096,  0.59680371,  0.1549036 ],\n",
      "       [-0.4063791 , -1.53317147, -1.73069344, -2.06431346, -0.7645939 ],\n",
      "       [ 0.9401976 , -0.83174787,  0.4760899 , -0.18719308,  0.13679032],\n",
      "       ...,\n",
      "       [-0.34405017,  0.0239296 , -0.40016189, -0.2493545 , -1.05465718],\n",
      "       [-0.06355468,  3.14932047,  2.45990218,  3.51847552,  0.27783616],\n",
      "       [-1.47232803,  1.09490649, -0.91280101,  0.05784853,  0.78857048]]), ('X_train', 'y_train', 'subsampling_6'): array([[ 1.24297959, -0.87813293,  0.80784832,  0.00354671,  0.91998513],\n",
      "       [ 1.07469058, -0.93785005,  0.55456857, -0.19937499, -0.88249039],\n",
      "       [-0.05369964,  0.56461721,  0.38944096,  0.59680371,  0.1549036 ],\n",
      "       ...,\n",
      "       [-0.06355468,  3.14932047,  2.45990218,  3.51847552,  0.27783616],\n",
      "       [-0.41226723, -1.02438726, -1.32794826, -1.49237167,  0.40865865],\n",
      "       [-0.03122652, -1.25384759, -1.04828466, -1.44624733,  0.14375578]]), ('X_train', 'y_train', 'subsampling_7'): array([[-1.08400954,  0.86756978, -0.62255386,  0.11222826, -0.67537506],\n",
      "       [-0.29881148, -0.29472443, -0.60174719, -0.5741743 ,  0.99294913],\n",
      "       [-1.43494529,  1.1326585 , -0.83681009,  0.13067855, -0.84447641],\n",
      "       ...,\n",
      "       [-0.24290539, -1.2610587 , -1.3121586 , -1.62452481, -0.52698925],\n",
      "       [-0.90695435, -1.89701941, -2.63410913, -2.87897116, -1.01700203],\n",
      "       [-1.35884162,  0.85250676, -0.96974597, -0.12569848, -2.2068671 ]]), ('X_train', 'y_train', 'subsampling_8'): array([[-1.43494529,  1.1326585 , -0.83681009,  0.13067855, -0.84447641],\n",
      "       [-0.06355468,  3.14932047,  2.45990218,  3.51847552,  0.27783616],\n",
      "       [-0.90695435, -1.89701941, -2.63410913, -2.87897116, -1.01700203],\n",
      "       ...,\n",
      "       [ 1.07469058, -0.93785005,  0.55456857, -0.19937499, -0.88249039],\n",
      "       [-1.08400954,  0.86756978, -0.62255386,  0.11222826, -0.67537506],\n",
      "       [-1.70489766,  1.13784372, -1.16173936, -0.08037683, -0.403129  ]]), ('X_train', 'y_train', 'subsampling_9'): array([[-0.11906892,  1.93190004,  1.41135673,  2.09399849, -0.41926032],\n",
      "       [-1.47232803,  1.09490649, -0.91280101,  0.05784853,  0.78857048],\n",
      "       [-1.22242099,  0.8517753 , -0.80402087, -0.01690056,  0.2283352 ],\n",
      "       ...,\n",
      "       [ 0.46471202,  0.94169877,  1.32526378,  1.4407941 ,  2.3867458 ],\n",
      "       [-0.24290539, -1.2610587 , -1.3121586 , -1.62452481, -0.52698925],\n",
      "       [ 1.07469058, -0.93785005,  0.55456857, -0.19937499, -0.88249039]]), '__prev__': <pcsp.module_set.ModuleSet object at 0x7feb73a46828>}\n",
      "{('X_train', 'y_train', 'subsampling_0'): array([0, 0, 0, ..., 0, 0, 1]), ('X_train', 'y_train', 'subsampling_1'): array([0, 0, 1, ..., 1, 0, 0]), ('X_train', 'y_train', 'subsampling_2'): array([1, 0, 0, ..., 0, 0, 0]), ('X_train', 'y_train', 'subsampling_3'): array([0, 0, 0, ..., 0, 0, 0]), ('X_train', 'y_train', 'subsampling_4'): array([0, 0, 0, ..., 1, 1, 1]), ('X_train', 'y_train', 'subsampling_5'): array([1, 0, 1, ..., 1, 1, 0]), ('X_train', 'y_train', 'subsampling_6'): array([1, 1, 1, ..., 1, 0, 0]), ('X_train', 'y_train', 'subsampling_7'): array([0, 1, 0, ..., 0, 0, 0]), ('X_train', 'y_train', 'subsampling_8'): array([0, 1, 0, ..., 1, 0, 0]), ('X_train', 'y_train', 'subsampling_9'): array([1, 0, 0, ..., 1, 0, 1]), '__prev__': <pcsp.module_set.ModuleSet object at 0x7feb73a46828>}\n"
     ]
    },
    {
     "output_type": "stream",
     "name": "stderr",
     "text": [
      "/Users/rush/anaconda3/envs/binyugroup/lib/python3.6/site-packages/pcsp/pipeline.py:117: UserWarning: This figure includes Axes that are not compatible with tight_layout, so results might be incorrect.\n",
      "  plt.tight_layout()\n"
     ]
    },
    {
     "output_type": "display_data",
     "data": {
      "text/plain": [
       "<Figure size 432x288 with 1 Axes>"
      ],
      "image/png": "[encoded data removed]"
     },
     "metadata": {}
    },
    {
     "output_type": "execute_result",
     "data": {
      "text/plain": [
       "{(('X_train', 'y_train', 'subsampling_0', 'LR', 'X_test'),\n",
       "  'y_test',\n",
       "  'Acc'): 0.9230769230769231,\n",
       " (('X_train', 'y_train', 'subsampling_0', 'LR', 'X_test'),\n",
       "  'y_test',\n",
       "  'Bal_Acc'): 0.9444444444444444,\n",
       " (('X_train', 'y_train', 'subsampling_0', 'DT', 'X_test'),\n",
       "  'y_test',\n",
       "  'Acc'): 0.7692307692307693,\n",
       " (('X_train', 'y_train', 'subsampling_0', 'DT', 'X_test'),\n",
       "  'y_test',\n",
       "  'Bal_Acc'): 0.7638888888888888,\n",
       " (('X_train', 'y_train', 'subsampling_1', 'LR', 'X_test'),\n",
       "  'y_test',\n",
       "  'Acc'): 0.9230769230769231,\n",
       " (('X_train', 'y_train', 'subsampling_1', 'LR', 'X_test'),\n",
       "  'y_test',\n",
       "  'Bal_Acc'): 0.9444444444444444,\n",
       " (('X_train', 'y_train', 'subsampling_1', 'DT', 'X_test'),\n",
       "  'y_test',\n",
       "  'Acc'): 0.8461538461538461,\n",
       " (('X_train', 'y_train', 'subsampling_1', 'DT', 'X_test'),\n",
       "  'y_test',\n",
       "  'Bal_Acc'): 0.9,\n",
       " (('X_train', 'y_train', 'subsampling_2', 'LR', 'X_test'),\n",
       "  'y_test',\n",
       "  'Acc'): 0.8461538461538461,\n",
       " (('X_train', 'y_train', 'subsampling_2', 'LR', 'X_test'),\n",
       "  'y_test',\n",
       "  'Bal_Acc'): 0.8375,\n",
       " (('X_train', 'y_train', 'subsampling_2', 'DT', 'X_test'),\n",
       "  'y_test',\n",
       "  'Acc'): 0.8461538461538461,\n",
       " (('X_train', 'y_train', 'subsampling_2', 'DT', 'X_test'),\n",
       "  'y_test',\n",
       "  'Bal_Acc'): 0.8375,\n",
       " (('X_train', 'y_train', 'subsampling_3', 'LR', 'X_test'),\n",
       "  'y_test',\n",
       "  'Acc'): 0.8461538461538461,\n",
       " (('X_train', 'y_train', 'subsampling_3', 'LR', 'X_test'),\n",
       "  'y_test',\n",
       "  'Bal_Acc'): 0.8375,\n",
       " (('X_train', 'y_train', 'subsampling_3', 'DT', 'X_test'),\n",
       "  'y_test',\n",
       "  'Acc'): 0.8461538461538461,\n",
       " (('X_train', 'y_train', 'subsampling_3', 'DT', 'X_test'),\n",
       "  'y_test',\n",
       "  'Bal_Acc'): 0.8375,\n",
       " (('X_train', 'y_train', 'subsampling_4', 'LR', 'X_test'),\n",
       "  'y_test',\n",
       "  'Acc'): 0.9230769230769231,\n",
       " (('X_train', 'y_train', 'subsampling_4', 'LR', 'X_test'),\n",
       "  'y_test',\n",
       "  'Bal_Acc'): 0.9444444444444444,\n",
       " (('X_train', 'y_train', 'subsampling_4', 'DT', 'X_test'),\n",
       "  'y_test',\n",
       "  'Acc'): 0.9230769230769231,\n",
       " (('X_train', 'y_train', 'subsampling_4', 'DT', 'X_test'),\n",
       "  'y_test',\n",
       "  'Bal_Acc'): 0.9444444444444444,\n",
       " (('X_train', 'y_train', 'subsampling_5', 'LR', 'X_test'),\n",
       "  'y_test',\n",
       "  'Acc'): 0.9230769230769231,\n",
       " (('X_train', 'y_train', 'subsampling_5', 'LR', 'X_test'),\n",
       "  'y_test',\n",
       "  'Bal_Acc'): 0.9444444444444444,\n",
       " (('X_train', 'y_train', 'subsampling_5', 'DT', 'X_test'),\n",
       "  'y_test',\n",
       "  'Acc'): 0.8461538461538461,\n",
       " (('X_train', 'y_train', 'subsampling_5', 'DT', 'X_test'),\n",
       "  'y_test',\n",
       "  'Bal_Acc'): 0.9,\n",
       " (('X_train', 'y_train', 'subsampling_6', 'LR', 'X_test'),\n",
       "  'y_test',\n",
       "  'Acc'): 0.9230769230769231,\n",
       " (('X_train', 'y_train', 'subsampling_6', 'LR', 'X_test'),\n",
       "  'y_test',\n",
       "  'Bal_Acc'): 0.9444444444444444,\n",
       " (('X_train', 'y_train', 'subsampling_6', 'DT', 'X_test'),\n",
       "  'y_test',\n",
       "  'Acc'): 0.8461538461538461,\n",
       " (('X_train', 'y_train', 'subsampling_6', 'DT', 'X_test'),\n",
       "  'y_test',\n",
       "  'Bal_Acc'): 0.9,\n",
       " (('X_train', 'y_train', 'subsampling_7', 'LR', 'X_test'),\n",
       "  'y_test',\n",
       "  'Acc'): 0.9230769230769231,\n",
       " (('X_train', 'y_train', 'subsampling_7', 'LR', 'X_test'),\n",
       "  'y_test',\n",
       "  'Bal_Acc'): 0.9444444444444444,\n",
       " (('X_train', 'y_train', 'subsampling_7', 'DT', 'X_test'),\n",
       "  'y_test',\n",
       "  'Acc'): 0.8461538461538461,\n",
       " (('X_train', 'y_train', 'subsampling_7', 'DT', 'X_test'),\n",
       "  'y_test',\n",
       "  'Bal_Acc'): 0.9,\n",
       " (('X_train', 'y_train', 'subsampling_8', 'LR', 'X_test'),\n",
       "  'y_test',\n",
       "  'Acc'): 0.9230769230769231,\n",
       " (('X_train', 'y_train', 'subsampling_8', 'LR', 'X_test'),\n",
       "  'y_test',\n",
       "  'Bal_Acc'): 0.9444444444444444,\n",
       " (('X_train', 'y_train', 'subsampling_8', 'DT', 'X_test'),\n",
       "  'y_test',\n",
       "  'Acc'): 0.8461538461538461,\n",
       " (('X_train', 'y_train', 'subsampling_8', 'DT', 'X_test'),\n",
       "  'y_test',\n",
       "  'Bal_Acc'): 0.8375,\n",
       " (('X_train', 'y_train', 'subsampling_9', 'LR', 'X_test'),\n",
       "  'y_test',\n",
       "  'Acc'): 0.9230769230769231,\n",
       " (('X_train', 'y_train', 'subsampling_9', 'LR', 'X_test'),\n",
       "  'y_test',\n",
       "  'Bal_Acc'): 0.9444444444444444,\n",
       " (('X_train', 'y_train', 'subsampling_9', 'DT', 'X_test'),\n",
       "  'y_test',\n",
       "  'Acc'): 0.9230769230769231,\n",
       " (('X_train', 'y_train', 'subsampling_9', 'DT', 'X_test'),\n",
       "  'y_test',\n",
       "  'Bal_Acc'): 0.9444444444444444,\n",
       " '__prev__': <pcsp.module_set.ModuleSet at 0x7feb73aab7f0>}"
      ]
     },
     "metadata": {},
     "execution_count": 4
    }
   ],
   "metadata": {}
  },
  {
   "cell_type": "code",
   "execution_count": 3,
   "source": [
    "len(hard_metrics)"
   ],
   "outputs": [
    {
     "output_type": "execute_result",
     "data": {
      "text/plain": [
       "13"
      ]
     },
     "metadata": {},
     "execution_count": 3
    }
   ],
   "metadata": {}
  },
  {
   "cell_type": "markdown",
   "source": [
    "# feature engineering pipeline\n",
    "**this data set predicts boston house-preices dataset (regression)**"
   ],
   "metadata": {}
  },
  {
   "cell_type": "code",
   "execution_count": 4,
   "source": [
    "# get data as df\n",
    "np.random.seed(13)\n",
    "data = sklearn.datasets.load_boston()\n",
    "df = pd.DataFrame.from_dict(data['data'])\n",
    "df.columns = data['feature_names']\n",
    "y = data['target']\n",
    "X_train, X_test, y_train, y_test = init_args(train_test_split(df, y, random_state=123),\n",
    "                                             names=['X_train', 'X_test', 'y_train', 'y_test'])\n",
    "\n",
    "\n",
    "# feature extraction - extracts two different sets of features from the same data\n",
    "def extract_feats(df: pd.DataFrame, feat_names=['CRIM', 'ZN', 'INDUS', 'CHAS']):\n",
    "    '''extract specific columns from dataframe\n",
    "    '''\n",
    "    return df[feat_names]\n",
    "feat_extraction_funcs = [partial(extract_feats, feat_names=['CRIM', 'ZN', 'INDUS', 'CHAS']),\n",
    "                         partial(extract_feats, feat_names=['CRIM', 'ZN', 'INDUS', 'CHAS', 'NOX', 'RM', 'AGE']),\n",
    "                        ]\n",
    "feat_extraction = ModuleSet(name='feat_extraction',\n",
    "                            modules=feat_extraction_funcs)\n",
    "\n",
    "X_feats_train = feat_extraction(X_train)\n",
    "X_feats_test = feat_extraction(X_test)\n",
    "\n",
    "modeling_set = ModuleSet(name='modeling',\n",
    "                         modules=[DecisionTreeRegressor(), RandomForestRegressor()],\n",
    "                         module_keys=[\"DT\", \"RF\"])\n",
    "\n",
    "# how can we properly pass a y here so that it will fit properly?\n",
    "# this runs, but modeling_set.out is empty\n",
    "_ = modeling_set.fit(X_feats_train, y_train)\n",
    "\n",
    "# #get predictions\n",
    "preds_all = modeling_set.predict(X_feats_train)\n",
    "\n",
    "# y_test_dict = {('data_0', 'feat_extraction_0'): y_test['X_test'], ('data_0', 'feat_extraction_1'): y_test['X_test']}\n",
    "\n",
    "#get metrics\n",
    "hard_metrics_set = ModuleSet(name='hard_metrics',\n",
    "                              modules=[r2_score],\n",
    "                             module_keys=[\"r2\"])\n",
    "hard_metrics = hard_metrics_set.evaluate(preds_all, y_train)\n",
    "\n",
    "\n",
    "\n",
    "# inspect the pipeline\n",
    "#for k in hard_metrics:\n",
    "#     print(k, hard_metrics[k])\n",
    "G = build_graph(hard_metrics, draw=True)\n",
    "plt.show()\n",
    "hard_metrics"
   ],
   "outputs": [
    {
     "output_type": "stream",
     "name": "stderr",
     "text": [
      "../pcsp/pipeline.py:117: UserWarning: This figure includes Axes that are not compatible with tight_layout, so results might be incorrect.\n",
      "  plt.tight_layout()\n"
     ]
    },
    {
     "output_type": "display_data",
     "data": {
      "text/plain": [
       "<Figure size 432x288 with 1 Axes>"
      ],
      "image/png": "[encoded data removed]"
     },
     "metadata": {}
    },
    {
     "output_type": "execute_result",
     "data": {
      "text/plain": [
       "{(((('X_train', 'feat_extraction_0'), 'y_train', 'DT'),\n",
       "   ('X_train', 'feat_extraction_0')),\n",
       "  'y_train',\n",
       "  'r2'): 0.998077138036731,\n",
       " (((('X_train', 'feat_extraction_0'), 'y_train', 'RF'),\n",
       "   ('X_train', 'feat_extraction_0')),\n",
       "  'y_train',\n",
       "  'r2'): 0.8543945462831081,\n",
       " (((('X_train', 'feat_extraction_1'), 'y_train', 'DT'),\n",
       "   ('X_train', 'feat_extraction_1')),\n",
       "  'y_train',\n",
       "  'r2'): 1.0,\n",
       " (((('X_train', 'feat_extraction_1'), 'y_train', 'RF'),\n",
       "   ('X_train', 'feat_extraction_1')),\n",
       "  'y_train',\n",
       "  'r2'): 0.9638279339568567,\n",
       " '__prev__': <pcsp.module_set.ModuleSet at 0x7fdc9df45f98>}"
      ]
     },
     "metadata": {},
     "execution_count": 4
    }
   ],
   "metadata": {}
  },
  {
   "cell_type": "code",
   "execution_count": 5,
   "source": [
    "X_feats_train.keys()"
   ],
   "outputs": [
    {
     "output_type": "execute_result",
     "data": {
      "text/plain": [
       "dict_keys([('X_train', 'feat_extraction_0'), ('X_train', 'feat_extraction_1'), '__prev__'])"
      ]
     },
     "metadata": {},
     "execution_count": 5
    }
   ],
   "metadata": {}
  },
  {
   "cell_type": "code",
   "execution_count": 6,
   "source": [
    "X_feats_test.keys()"
   ],
   "outputs": [
    {
     "output_type": "execute_result",
     "data": {
      "text/plain": [
       "dict_keys([('X_test', 'feat_extraction_0'), ('X_test', 'feat_extraction_1'), '__prev__'])"
      ]
     },
     "metadata": {},
     "execution_count": 6
    }
   ],
   "metadata": {}
  },
  {
   "cell_type": "code",
   "execution_count": 7,
   "source": [
    "for k in preds_all.keys():\n",
    "    print(k)"
   ],
   "outputs": [
    {
     "output_type": "stream",
     "name": "stdout",
     "text": [
      "((('X_train', 'feat_extraction_0'), 'y_train', 'DT'), ('X_train', 'feat_extraction_0'))\n",
      "((('X_train', 'feat_extraction_0'), 'y_train', 'RF'), ('X_train', 'feat_extraction_0'))\n",
      "((('X_train', 'feat_extraction_1'), 'y_train', 'DT'), ('X_train', 'feat_extraction_1'))\n",
      "((('X_train', 'feat_extraction_1'), 'y_train', 'RF'), ('X_train', 'feat_extraction_1'))\n",
      "__prev__\n"
     ]
    }
   ],
   "metadata": {}
  },
  {
   "cell_type": "code",
   "execution_count": 8,
   "source": [
    "len(hard_metrics)"
   ],
   "outputs": [
    {
     "output_type": "execute_result",
     "data": {
      "text/plain": [
       "5"
      ]
     },
     "metadata": {},
     "execution_count": 8
    }
   ],
   "metadata": {}
  },
  {
   "cell_type": "code",
   "execution_count": null,
   "source": [],
   "outputs": [],
   "metadata": {}
  }
 ],
 "metadata": {
  "kernelspec": {
   "name": "python3",
   "display_name": "Python 3.6.13 64-bit ('binyugroup': conda)"
  },
  "language_info": {
   "name": "python",
   "version": "3.6.13",
   "mimetype": "text/x-python",
   "codemirror_mode": {
    "name": "ipython",
    "version": 3
   },
   "pygments_lexer": "ipython3",
   "nbconvert_exporter": "python",
   "file_extension": ".py"
  },
  "interpreter": {
   "hash": "b6ea3c5d93b89d45eb8c11b5f7d77c305a994bf9982dea27fab7e95d8eb92fda"
  }
 },
 "nbformat": 4,
 "nbformat_minor": 4
}